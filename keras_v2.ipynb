{
 "cells": [
  {
   "cell_type": "code",
   "execution_count": 1,
   "metadata": {},
   "outputs": [
    {
     "name": "stderr",
     "output_type": "stream",
     "text": [
      "Using TensorFlow backend.\n"
     ]
    }
   ],
   "source": [
    "import matplotlib.pyplot as plt \n",
    "import pandas as pd\n",
    "import math\n",
    "import numpy as np\n",
    "\n",
    "import keras\n",
    "from keras.models import Sequential\n",
    "from keras.layers import Dense, Dropout\n",
    "from keras.layers import Embedding\n",
    "from keras.layers import LSTM\n",
    "from keras.layers import GRU \n",
    "\n",
    "from sklearn.preprocessing import MinMaxScaler\n",
    "from sklearn.metrics import mean_squared_error\n",
    "\n",
    "import psycopg2\n",
    "from sklearn.model_selection import train_test_split\n",
    "\n",
    "from matplotlib import pyplot as plt "
   ]
  },
  {
   "cell_type": "code",
   "execution_count": 2,
   "metadata": {
    "collapsed": true
   },
   "outputs": [],
   "source": [
    "from keras_functions import *"
   ]
  },
  {
   "cell_type": "code",
   "execution_count": 3,
   "metadata": {
    "collapsed": true
   },
   "outputs": [],
   "source": [
    "binvars = get_categorical_variables([\n",
    "    'all_participanttypes',\n",
    "    'all_tags',\n",
    "    'all_language'\n",
    "])"
   ]
  },
  {
   "cell_type": "markdown",
   "metadata": {},
   "source": [
    "# Split users"
   ]
  },
  {
   "cell_type": "code",
   "execution_count": null,
   "metadata": {
    "collapsed": true
   },
   "outputs": [],
   "source": [
    "pd.qcut()"
   ]
  },
  {
   "cell_type": "code",
   "execution_count": 4,
   "metadata": {},
   "outputs": [
    {
     "data": {
      "text/plain": [
       "(array([[[ 0. ,  0. ,  0. , ...,  0. ,  0. ,  0. ],\n",
       "         [ 0. ,  0. ,  0. , ...,  0. ,  0. ,  0. ],\n",
       "         [ 0. ,  0. ,  0. , ...,  0. ,  0. ,  0. ],\n",
       "         ..., \n",
       "         [ 0. ,  0. ,  0. , ...,  0. ,  0. ,  0. ],\n",
       "         [ 0. ,  0. ,  0. , ...,  0. ,  0. ,  0. ],\n",
       "         [ 0. ,  0. ,  0. , ...,  0. ,  0. ,  0. ]],\n",
       " \n",
       "        [[ 0. ,  0. ,  0. , ...,  0. ,  0. ,  0. ],\n",
       "         [ 0. ,  0. ,  0. , ...,  0. ,  0. ,  0. ],\n",
       "         [ 0. ,  0. ,  0. , ...,  0. ,  0. ,  0. ],\n",
       "         ..., \n",
       "         [ 0. ,  0. ,  0. , ...,  0. ,  0. ,  0. ],\n",
       "         [ 0. ,  0. ,  1. , ...,  0. ,  0. ,  0. ],\n",
       "         [ 0. ,  0. ,  1. , ...,  0. ,  0. ,  0. ]],\n",
       " \n",
       "        [[ 0. ,  0. ,  0. , ...,  0. ,  0. ,  0. ],\n",
       "         [ 0. ,  0. ,  0. , ...,  0. ,  0. ,  0. ],\n",
       "         [ 0. ,  0. ,  0. , ...,  0. ,  0. ,  0. ],\n",
       "         ..., \n",
       "         [ 0. ,  0. ,  0. , ...,  0. ,  0. ,  0. ],\n",
       "         [ 0. ,  0. ,  0. , ...,  0. ,  0. ,  0. ],\n",
       "         [ 0. ,  0. ,  0. , ...,  0. ,  0. ,  0. ]],\n",
       " \n",
       "        ..., \n",
       "        [[ 0. ,  0. ,  0. , ...,  0. ,  0. ,  0. ],\n",
       "         [ 0. ,  0. ,  0. , ...,  0. ,  0. ,  0. ],\n",
       "         [ 0. ,  0. ,  0. , ...,  0. ,  0. ,  0. ],\n",
       "         ..., \n",
       "         [ 0. ,  0. ,  0. , ...,  0. ,  0. ,  0. ],\n",
       "         [ 0. ,  0. ,  0. , ...,  0. ,  0. ,  0. ],\n",
       "         [ 0. ,  0. ,  1. , ...,  0. ,  0. ,  0. ]],\n",
       " \n",
       "        [[ 0. ,  0. ,  0. , ...,  0. ,  0. ,  0. ],\n",
       "         [ 0. ,  0. ,  0. , ...,  0. ,  0. ,  0. ],\n",
       "         [ 0. ,  0. ,  0. , ...,  0. ,  0. ,  0. ],\n",
       "         ..., \n",
       "         [ 0. ,  0. ,  1. , ...,  0. ,  0. ,  0. ],\n",
       "         [ 0. ,  0.5,  1. , ...,  0. ,  0. ,  0. ],\n",
       "         [ 0. ,  0. ,  1. , ...,  0. ,  0. ,  0. ]],\n",
       " \n",
       "        [[ 0. ,  0. ,  0. , ...,  0. ,  0. ,  0. ],\n",
       "         [ 0. ,  0. ,  0. , ...,  0. ,  0. ,  0. ],\n",
       "         [ 0. ,  0. ,  0. , ...,  0. ,  0. ,  0. ],\n",
       "         ..., \n",
       "         [ 0. ,  0. ,  0. , ...,  0. ,  0. ,  0. ],\n",
       "         [ 0. ,  0. ,  0. , ...,  0. ,  0. ,  0. ],\n",
       "         [ 0. ,  0. ,  1. , ...,  0. ,  0. ,  0. ]]]),\n",
       " array([ 0.0525    , -0.1475    ,  0.245     , -0.0775    ,  0.1925    ,\n",
       "        -0.015     , -0.08      ,  0.0625    , -0.0875    ,  0.01125   ,\n",
       "        -0.01725   , -0.244     , -0.18      , -0.01666667, -0.03791667,\n",
       "        -0.10083333, -0.04583333]))"
      ]
     },
     "execution_count": 4,
     "metadata": {},
     "output_type": "execute_result"
    }
   ],
   "source": [
    "get_user_data('yj12', binvars=binvars, month=3, maxtimepts=500)"
   ]
  }
 ],
 "metadata": {
  "kernelspec": {
   "display_name": "Python 2",
   "language": "python",
   "name": "python2"
  },
  "language_info": {
   "codemirror_mode": {
    "name": "ipython",
    "version": 2
   },
   "file_extension": ".py",
   "mimetype": "text/x-python",
   "name": "python",
   "nbconvert_exporter": "python",
   "pygments_lexer": "ipython2",
   "version": "2.7.13"
  },
  "toc": {
   "toc_cell": false,
   "toc_number_sections": true,
   "toc_threshold": 6,
   "toc_window_display": false
  }
 },
 "nbformat": 4,
 "nbformat_minor": 2
}
