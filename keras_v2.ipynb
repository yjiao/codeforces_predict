{
 "cells": [
  {
   "cell_type": "code",
   "execution_count": 1,
   "metadata": {},
   "outputs": [
    {
     "name": "stderr",
     "output_type": "stream",
     "text": [
      "Using TensorFlow backend.\n"
     ]
    }
   ],
   "source": [
    "import matplotlib.pyplot as plt \n",
    "import pandas as pd\n",
    "import math\n",
    "import numpy as np\n",
    "\n",
    "import keras\n",
    "from keras.models import Sequential\n",
    "from keras.layers import Dense, Dropout\n",
    "from keras.layers import Embedding\n",
    "from keras.layers import LSTM\n",
    "from keras.layers import GRU \n",
    "\n",
    "from sklearn.preprocessing import MinMaxScaler\n",
    "from sklearn.metrics import mean_squared_error\n",
    "\n",
    "import psycopg2\n",
    "from sklearn.model_selection import train_test_split\n",
    "\n",
    "from matplotlib import pyplot as plt \n",
    "%matplotlib inline\n",
    "plt.rcParams['figure.facecolor'] = 'white'\n",
    "import seaborn as sns\n",
    "\n",
    "import keras_functions\n",
    "from keras_functions import *"
   ]
  },
  {
   "cell_type": "code",
   "execution_count": 2,
   "metadata": {
    "collapsed": true
   },
   "outputs": [],
   "source": [
    "con = psycopg2.connect(database='codeforces', user='Joy')\n",
    "cur = con.cursor()"
   ]
  },
  {
   "cell_type": "code",
   "execution_count": 3,
   "metadata": {
    "collapsed": true
   },
   "outputs": [],
   "source": [
    "binvars = get_categorical_variables([\n",
    "    'all_participanttypes',\n",
    "    'all_tags',\n",
    "    'all_language'\n",
    "])"
   ]
  },
  {
   "cell_type": "markdown",
   "metadata": {},
   "source": [
    "# Initial pipeline"
   ]
  },
  {
   "cell_type": "code",
   "execution_count": 4,
   "metadata": {
    "collapsed": true
   },
   "outputs": [],
   "source": [
    "with open('set_train.txt') as f:\n",
    "    train_handles = [h.strip() for h in f.readlines()]\n",
    "with open('set_test.txt') as f:\n",
    "    test_handles = [h.strip() for h in f.readlines()]"
   ]
  },
  {
   "cell_type": "code",
   "execution_count": 41,
   "metadata": {
    "collapsed": true
   },
   "outputs": [],
   "source": [
    "user_batch = 2#len(test_handles)"
   ]
  },
  {
   "cell_type": "code",
   "execution_count": 96,
   "metadata": {
    "scrolled": true
   },
   "outputs": [],
   "source": [
    "from os.path import exists\n",
    "reload(keras_functions)\n",
    "X = []\n",
    "Y = []\n",
    "maxt = 0\n",
    "lens = [0] * user_batch\n",
    "runsum = 0\n",
    "\n",
    "for i in range(user_batch):\n",
    "    try:\n",
    "        filename = 'rnn_train/' + train_handles[i] + \".csv\"\n",
    "        #if i%100 == 0:\n",
    "        #print i, filename\n",
    "        if not exists(filename):\n",
    "            continue\n",
    "        x, y, t, colnames = keras_functions.get_user_data(train_handles[i], binvars=binvars, month=3, maxtimepts=5000)\n",
    "\n",
    "        if x is None:\n",
    "            continue\n",
    "        maxt = max(t, maxt)\n",
    "        X.append(x)\n",
    "        Y.append(y)\n",
    "        runsum += x.shape[0]\n",
    "        lens[i] = runsum\n",
    "    except:\n",
    "        print \"ERROR AT\", i, filename\n",
    "        break"
   ]
  },
  {
   "cell_type": "code",
   "execution_count": null,
   "metadata": {
    "collapsed": true
   },
   "outputs": [],
   "source": []
  },
  {
   "cell_type": "markdown",
   "metadata": {},
   "source": [
    "# DEBUGGING "
   ]
  },
  {
   "cell_type": "code",
   "execution_count": 97,
   "metadata": {},
   "outputs": [
    {
     "data": {
      "text/plain": [
       "111"
      ]
     },
     "execution_count": 97,
     "metadata": {},
     "output_type": "execute_result"
    }
   ],
   "source": [
    "list(colnames).index('hours_submit_to_solve')"
   ]
  },
  {
   "cell_type": "code",
   "execution_count": 98,
   "metadata": {},
   "outputs": [
    {
     "data": {
      "text/plain": [
       "array(['CONTESTANT', 'GNU C++', 'MEMORY_LIMIT_EXCEEDED', 'OK', 'PRACTICE',\n",
       "       'RUNTIME_ERROR', 'TIME_LIMIT_EXCEEDED', 'VIRTUAL', 'WRONG_ANSWER',\n",
       "       'contestid', 'delta_smoothed_3months', 'newrating', 'oldrating',\n",
       "       'points', 'problem_rating', 'rank', 'smoothed_3months',\n",
       "       'shortest paths', '2-sat', 'greedy', 'meet-in-the-middle',\n",
       "       'matrices', 'number theory', 'constructive algorithms',\n",
       "       'chinese remainder theorem', 'implementation', 'ternary search',\n",
       "       'schedules', 'dsu', 'dfs and similar', 'graph matchings',\n",
       "       'string suffix structures', 'math', 'probabilities', 'fft',\n",
       "       'divide and conquer', 'two pointers', 'trees', 'data structures',\n",
       "       'flows', 'sortings', 'expression parsing', 'dp', 'hashing',\n",
       "       'bitmasks', '*special', 'geometry', 'combinatorics', 'graphs',\n",
       "       'brute force', 'games', 'binary search', 'strings',\n",
       "       'PRESENTATION_ERROR', 'TESTING', 'CRASHED', 'CHALLENGED',\n",
       "       'REJECTED', 'FAILED', 'SKIPPED', 'IDLENESS_LIMIT_EXCEEDED',\n",
       "       'COMPILATION_ERROR', 'PARTIAL', 'GYM', 'OUT_OF_COMPETITION',\n",
       "       'Scala', 'Delphi', 'JavaScript', 'PyPy 2', 'PyPy 3', 'Perl',\n",
       "       'Factor', 'D', 'Mysterious Language', 'FPC', 'Ada', 'F#', 'Java 8',\n",
       "       'Picat', 'Ruby', 'Java 8 ZIP', 'Pike', 'GNU C', 'MS C#', 'Python 2',\n",
       "       'Python 3', 'Secret_171', 'MS C++', 'Kotlin', 'J', 'Ocaml',\n",
       "       'Java 6', 'Go', 'Roco', 'GNU C11', 'Befunge', 'Rust', 'PHP',\n",
       "       'FALSE', 'Mono C#', 'Java 7', 'Tcl', 'Haskell', 'Cobol', 'Io',\n",
       "       'GNU C++0x', 'GNU C++14', 'GNU C++11', 'GNU C++11 ZIP',\n",
       "       'hours_solve_to_contest', 'hours_submit_to_contest',\n",
       "       'hours_submit_to_solve'], dtype=object)"
      ]
     },
     "execution_count": 98,
     "metadata": {},
     "output_type": "execute_result"
    }
   ],
   "source": [
    "colnames"
   ]
  },
  {
   "cell_type": "code",
   "execution_count": 108,
   "metadata": {},
   "outputs": [
    {
     "data": {
      "text/plain": [
       "[240.27944444444444,\n",
       " 243.03,\n",
       " 265.55444444444447,\n",
       " 219.19305555555556,\n",
       " 264.39888888888891,\n",
       " 270.01055555555558,\n",
       " 157.60499999999999,\n",
       " 241.48444444444445,\n",
       " 156.24166666666667,\n",
       " 195.29472222222222,\n",
       " 266.0361111111111,\n",
       " 241.34666666666666,\n",
       " 242.24388888888888,\n",
       " 218.71111111111111,\n",
       " 219.02277777777778,\n",
       " 269.77027777777778,\n",
       " -1.0,\n",
       " 122.39583333333333,\n",
       " 222.07166666666666,\n",
       " 239.85972222222222]"
      ]
     },
     "execution_count": 108,
     "metadata": {},
     "output_type": "execute_result"
    }
   ],
   "source": [
    "list(X[1][0][:20, 107])"
   ]
  },
  {
   "cell_type": "code",
   "execution_count": 65,
   "metadata": {
    "collapsed": true
   },
   "outputs": [
    {
     "data": {
      "text/html": [
       "<div>\n",
       "<style>\n",
       "    .dataframe thead tr:only-child th {\n",
       "        text-align: right;\n",
       "    }\n",
       "\n",
       "    .dataframe thead th {\n",
       "        text-align: left;\n",
       "    }\n",
       "\n",
       "    .dataframe tbody tr th {\n",
       "        vertical-align: top;\n",
       "    }\n",
       "</style>\n",
       "<table border=\"1\" class=\"dataframe\">\n",
       "  <thead>\n",
       "    <tr style=\"text-align: right;\">\n",
       "      <th></th>\n",
       "      <th>hours_solve_to_contest</th>\n",
       "      <th>hours_submit_to_solve</th>\n",
       "    </tr>\n",
       "  </thead>\n",
       "  <tbody>\n",
       "    <tr>\n",
       "      <th>0</th>\n",
       "      <td>240.279444</td>\n",
       "      <td>0.062500</td>\n",
       "    </tr>\n",
       "    <tr>\n",
       "      <th>23</th>\n",
       "      <td>243.030000</td>\n",
       "      <td>0.000000</td>\n",
       "    </tr>\n",
       "    <tr>\n",
       "      <th>24</th>\n",
       "      <td>265.554444</td>\n",
       "      <td>0.108889</td>\n",
       "    </tr>\n",
       "    <tr>\n",
       "      <th>27</th>\n",
       "      <td>219.193056</td>\n",
       "      <td>0.000000</td>\n",
       "    </tr>\n",
       "    <tr>\n",
       "      <th>28</th>\n",
       "      <td>264.398889</td>\n",
       "      <td>0.000000</td>\n",
       "    </tr>\n",
       "    <tr>\n",
       "      <th>30</th>\n",
       "      <td>270.010556</td>\n",
       "      <td>0.194722</td>\n",
       "    </tr>\n",
       "    <tr>\n",
       "      <th>32</th>\n",
       "      <td>157.605000</td>\n",
       "      <td>0.000000</td>\n",
       "    </tr>\n",
       "    <tr>\n",
       "      <th>34</th>\n",
       "      <td>241.484444</td>\n",
       "      <td>0.000000</td>\n",
       "    </tr>\n",
       "    <tr>\n",
       "      <th>35</th>\n",
       "      <td>156.241667</td>\n",
       "      <td>0.000000</td>\n",
       "    </tr>\n",
       "    <tr>\n",
       "      <th>36</th>\n",
       "      <td>195.294722</td>\n",
       "      <td>0.000000</td>\n",
       "    </tr>\n",
       "    <tr>\n",
       "      <th>37</th>\n",
       "      <td>266.036111</td>\n",
       "      <td>0.000000</td>\n",
       "    </tr>\n",
       "    <tr>\n",
       "      <th>40</th>\n",
       "      <td>241.346667</td>\n",
       "      <td>0.056389</td>\n",
       "    </tr>\n",
       "    <tr>\n",
       "      <th>42</th>\n",
       "      <td>242.243889</td>\n",
       "      <td>0.000000</td>\n",
       "    </tr>\n",
       "    <tr>\n",
       "      <th>43</th>\n",
       "      <td>218.711111</td>\n",
       "      <td>0.000000</td>\n",
       "    </tr>\n",
       "    <tr>\n",
       "      <th>46</th>\n",
       "      <td>219.022778</td>\n",
       "      <td>0.000000</td>\n",
       "    </tr>\n",
       "    <tr>\n",
       "      <th>47</th>\n",
       "      <td>269.770278</td>\n",
       "      <td>0.000000</td>\n",
       "    </tr>\n",
       "    <tr>\n",
       "      <th>48</th>\n",
       "      <td>-1.000000</td>\n",
       "      <td>-1.000000</td>\n",
       "    </tr>\n",
       "    <tr>\n",
       "      <th>50</th>\n",
       "      <td>122.395833</td>\n",
       "      <td>0.611944</td>\n",
       "    </tr>\n",
       "    <tr>\n",
       "      <th>22</th>\n",
       "      <td>222.071667</td>\n",
       "      <td>0.000000</td>\n",
       "    </tr>\n",
       "    <tr>\n",
       "      <th>20</th>\n",
       "      <td>239.859722</td>\n",
       "      <td>0.000000</td>\n",
       "    </tr>\n",
       "    <tr>\n",
       "      <th>33</th>\n",
       "      <td>133.537222</td>\n",
       "      <td>0.000000</td>\n",
       "    </tr>\n",
       "    <tr>\n",
       "      <th>67</th>\n",
       "      <td>264.946667</td>\n",
       "      <td>0.000000</td>\n",
       "    </tr>\n",
       "    <tr>\n",
       "      <th>5</th>\n",
       "      <td>242.813611</td>\n",
       "      <td>0.000000</td>\n",
       "    </tr>\n",
       "    <tr>\n",
       "      <th>19</th>\n",
       "      <td>244.956389</td>\n",
       "      <td>0.908056</td>\n",
       "    </tr>\n",
       "    <tr>\n",
       "      <th>8</th>\n",
       "      <td>221.760833</td>\n",
       "      <td>0.000000</td>\n",
       "    </tr>\n",
       "    <tr>\n",
       "      <th>9</th>\n",
       "      <td>156.504722</td>\n",
       "      <td>0.052222</td>\n",
       "    </tr>\n",
       "    <tr>\n",
       "      <th>10</th>\n",
       "      <td>240.514722</td>\n",
       "      <td>0.037222</td>\n",
       "    </tr>\n",
       "    <tr>\n",
       "      <th>11</th>\n",
       "      <td>266.144167</td>\n",
       "      <td>0.000000</td>\n",
       "    </tr>\n",
       "    <tr>\n",
       "      <th>12</th>\n",
       "      <td>265.229167</td>\n",
       "      <td>0.000000</td>\n",
       "    </tr>\n",
       "    <tr>\n",
       "      <th>7</th>\n",
       "      <td>243.643889</td>\n",
       "      <td>0.023889</td>\n",
       "    </tr>\n",
       "    <tr>\n",
       "      <th>4</th>\n",
       "      <td>132.943333</td>\n",
       "      <td>0.000000</td>\n",
       "    </tr>\n",
       "    <tr>\n",
       "      <th>3</th>\n",
       "      <td>266.129167</td>\n",
       "      <td>0.000000</td>\n",
       "    </tr>\n",
       "    <tr>\n",
       "      <th>2</th>\n",
       "      <td>264.116667</td>\n",
       "      <td>0.000000</td>\n",
       "    </tr>\n",
       "    <tr>\n",
       "      <th>15</th>\n",
       "      <td>265.793611</td>\n",
       "      <td>0.000000</td>\n",
       "    </tr>\n",
       "    <tr>\n",
       "      <th>1</th>\n",
       "      <td>264.633056</td>\n",
       "      <td>0.000000</td>\n",
       "    </tr>\n",
       "    <tr>\n",
       "      <th>16</th>\n",
       "      <td>241.931111</td>\n",
       "      <td>0.000000</td>\n",
       "    </tr>\n",
       "    <tr>\n",
       "      <th>18</th>\n",
       "      <td>241.573889</td>\n",
       "      <td>0.000000</td>\n",
       "    </tr>\n",
       "    <tr>\n",
       "      <th>13</th>\n",
       "      <td>243.158611</td>\n",
       "      <td>0.060556</td>\n",
       "    </tr>\n",
       "    <tr>\n",
       "      <th>6</th>\n",
       "      <td>250.316111</td>\n",
       "      <td>0.218611</td>\n",
       "    </tr>\n",
       "    <tr>\n",
       "      <th>45</th>\n",
       "      <td>109.413333</td>\n",
       "      <td>0.000000</td>\n",
       "    </tr>\n",
       "    <tr>\n",
       "      <th>49</th>\n",
       "      <td>108.794167</td>\n",
       "      <td>0.000000</td>\n",
       "    </tr>\n",
       "    <tr>\n",
       "      <th>51</th>\n",
       "      <td>1.840833</td>\n",
       "      <td>0.000000</td>\n",
       "    </tr>\n",
       "    <tr>\n",
       "      <th>21</th>\n",
       "      <td>109.195000</td>\n",
       "      <td>0.000000</td>\n",
       "    </tr>\n",
       "    <tr>\n",
       "      <th>44</th>\n",
       "      <td>109.914722</td>\n",
       "      <td>0.000000</td>\n",
       "    </tr>\n",
       "    <tr>\n",
       "      <th>29</th>\n",
       "      <td>110.276111</td>\n",
       "      <td>0.000000</td>\n",
       "    </tr>\n",
       "    <tr>\n",
       "      <th>25</th>\n",
       "      <td>109.536111</td>\n",
       "      <td>0.023611</td>\n",
       "    </tr>\n",
       "  </tbody>\n",
       "</table>\n",
       "</div>"
      ],
      "text/plain": [
       "    hours_solve_to_contest  hours_submit_to_solve\n",
       "0               240.279444               0.062500\n",
       "23              243.030000               0.000000\n",
       "24              265.554444               0.108889\n",
       "27              219.193056               0.000000\n",
       "28              264.398889               0.000000\n",
       "30              270.010556               0.194722\n",
       "32              157.605000               0.000000\n",
       "34              241.484444               0.000000\n",
       "35              156.241667               0.000000\n",
       "36              195.294722               0.000000\n",
       "37              266.036111               0.000000\n",
       "40              241.346667               0.056389\n",
       "42              242.243889               0.000000\n",
       "43              218.711111               0.000000\n",
       "46              219.022778               0.000000\n",
       "47              269.770278               0.000000\n",
       "48               -1.000000              -1.000000\n",
       "50              122.395833               0.611944\n",
       "22              222.071667               0.000000\n",
       "20              239.859722               0.000000\n",
       "33              133.537222               0.000000\n",
       "67              264.946667               0.000000\n",
       "5               242.813611               0.000000\n",
       "19              244.956389               0.908056\n",
       "8               221.760833               0.000000\n",
       "9               156.504722               0.052222\n",
       "10              240.514722               0.037222\n",
       "11              266.144167               0.000000\n",
       "12              265.229167               0.000000\n",
       "7               243.643889               0.023889\n",
       "4               132.943333               0.000000\n",
       "3               266.129167               0.000000\n",
       "2               264.116667               0.000000\n",
       "15              265.793611               0.000000\n",
       "1               264.633056               0.000000\n",
       "16              241.931111               0.000000\n",
       "18              241.573889               0.000000\n",
       "13              243.158611               0.060556\n",
       "6               250.316111               0.218611\n",
       "45              109.413333               0.000000\n",
       "49              108.794167               0.000000\n",
       "51                1.840833               0.000000\n",
       "21              109.195000               0.000000\n",
       "44              109.914722               0.000000\n",
       "29              110.276111               0.000000\n",
       "25              109.536111               0.023611"
      ]
     },
     "execution_count": 65,
     "metadata": {},
     "output_type": "execute_result"
    }
   ],
   "source": [
    "reload(keras_functions)\n",
    "debug = keras_functions.get_user_data(train_handles[i], binvars=binvars, month=3, maxtimepts=5000)\n",
    "#debug[0][['ratingupdatetimeseconds', 'solvetimeseconds', 'starttimeseconds', 'stoptimeseconds', 'hours_solve_to_contest', 'hours_submit_to_solve']]\n",
    "debug[0][['hours_solve_to_contest', 'hours_submit_to_solve']]"
   ]
  },
  {
   "cell_type": "code",
   "execution_count": 71,
   "metadata": {},
   "outputs": [
    {
     "data": {
      "text/plain": [
       "46"
      ]
     },
     "execution_count": 71,
     "metadata": {},
     "output_type": "execute_result"
    }
   ],
   "source": [
    "maxt"
   ]
  },
  {
   "cell_type": "code",
   "execution_count": null,
   "metadata": {},
   "outputs": [],
   "source": [
    "X_batch = np.concatenate(X, axis=0)"
   ]
  },
  {
   "cell_type": "code",
   "execution_count": null,
   "metadata": {},
   "outputs": [],
   "source": [
    "X_batch.shape"
   ]
  },
  {
   "cell_type": "code",
   "execution_count": null,
   "metadata": {},
   "outputs": [],
   "source": [
    "Y"
   ]
  },
  {
   "cell_type": "code",
   "execution_count": null,
   "metadata": {},
   "outputs": [],
   "source": [
    "epochs = 5"
   ]
  },
  {
   "cell_type": "code",
   "execution_count": null,
   "metadata": {
    "collapsed": true
   },
   "outputs": [],
   "source": [
    "for e in range(epochs):\n",
    "    "
   ]
  }
 ],
 "metadata": {
  "kernelspec": {
   "display_name": "Python 2",
   "language": "python",
   "name": "python2"
  },
  "language_info": {
   "codemirror_mode": {
    "name": "ipython",
    "version": 2
   },
   "file_extension": ".py",
   "mimetype": "text/x-python",
   "name": "python",
   "nbconvert_exporter": "python",
   "pygments_lexer": "ipython2",
   "version": "2.7.13"
  },
  "toc": {
   "toc_cell": false,
   "toc_number_sections": true,
   "toc_threshold": 6,
   "toc_window_display": false
  }
 },
 "nbformat": 4,
 "nbformat_minor": 2
}
