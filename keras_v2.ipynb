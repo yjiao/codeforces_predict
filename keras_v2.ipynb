{
 "cells": [
  {
   "cell_type": "code",
   "execution_count": 9,
   "metadata": {},
   "outputs": [],
   "source": [
    "import matplotlib.pyplot as plt \n",
    "import pandas as pd\n",
    "import math\n",
    "import numpy as np\n",
    "\n",
    "import keras\n",
    "from keras.models import Sequential\n",
    "from keras.layers import Dense, Dropout\n",
    "from keras.layers import Embedding\n",
    "from keras.layers import LSTM\n",
    "from keras.layers import GRU \n",
    "\n",
    "from sklearn.preprocessing import MinMaxScaler\n",
    "from sklearn.metrics import mean_squared_error\n",
    "\n",
    "import psycopg2\n",
    "from sklearn.model_selection import train_test_split\n",
    "\n",
    "from matplotlib import pyplot as plt \n",
    "%matplotlib inline\n",
    "plt.rcParams['figure.facecolor'] = 'white'\n",
    "import seaborn as sns\n",
    "\n",
    "import keras_functions\n",
    "from keras_functions import *"
   ]
  },
  {
   "cell_type": "code",
   "execution_count": 2,
   "metadata": {
    "collapsed": true
   },
   "outputs": [],
   "source": [
    "con = psycopg2.connect(database='codeforces', user='Joy')\n",
    "cur = con.cursor()"
   ]
  },
  {
   "cell_type": "code",
   "execution_count": 3,
   "metadata": {
    "collapsed": true
   },
   "outputs": [],
   "source": [
    "binvars = get_categorical_variables([\n",
    "    'all_participanttypes',\n",
    "    'all_tags',\n",
    "    'all_language'\n",
    "])"
   ]
  },
  {
   "cell_type": "markdown",
   "metadata": {},
   "source": [
    "# Initial pipeline"
   ]
  },
  {
   "cell_type": "code",
   "execution_count": 4,
   "metadata": {
    "collapsed": true
   },
   "outputs": [],
   "source": [
    "with open('set_train.txt') as f:\n",
    "    train_handles = [h.strip() for h in f.readlines()]\n",
    "with open('set_test.txt') as f:\n",
    "    test_handles = [h.strip() for h in f.readlines()]"
   ]
  },
  {
   "cell_type": "code",
   "execution_count": 172,
   "metadata": {
    "collapsed": true
   },
   "outputs": [],
   "source": [
    "user_batch = 10"
   ]
  },
  {
   "cell_type": "code",
   "execution_count": 242,
   "metadata": {
    "collapsed": true
   },
   "outputs": [
    {
     "name": "stdout",
     "output_type": "stream",
     "text": [
      "COMPILATION_ERROR\n",
      "CONTESTANT\n",
      "GNU C\n",
      "GNU C++\n",
      "GNU C++11\n",
      "MEMORY_LIMIT_EXCEEDED\n",
      "MS C++\n",
      "OK\n",
      "PRACTICE\n",
      "RUNTIME_ERROR\n",
      "TIME_LIMIT_EXCEEDED\n",
      "VIRTUAL\n",
      "WRONG_ANSWER\n",
      "contestid\n",
      "newrating\n",
      "oldrating\n",
      "points\n",
      "problem_rating\n",
      "rank\n",
      "smoothed_3months\n",
      "shortest paths\n",
      "2-sat\n",
      "greedy\n",
      "meet-in-the-middle\n",
      "matrices\n",
      "number theory\n",
      "constructive algorithms\n",
      "chinese remainder theorem\n",
      "implementation\n",
      "ternary search\n",
      "schedules\n",
      "dsu\n",
      "dfs and similar\n",
      "graph matchings\n",
      "string suffix structures\n",
      "math\n",
      "probabilities\n",
      "fft\n",
      "divide and conquer\n",
      "two pointers\n",
      "trees\n",
      "data structures\n",
      "flows\n",
      "sortings\n",
      "expression parsing\n",
      "dp\n",
      "hashing\n",
      "bitmasks\n",
      "*special\n",
      "geometry\n",
      "combinatorics\n",
      "graphs\n",
      "brute force\n",
      "games\n",
      "binary search\n",
      "strings\n",
      "PRESENTATION_ERROR\n",
      "TESTING\n",
      "CRASHED\n",
      "CHALLENGED\n",
      "REJECTED\n",
      "FAILED\n",
      "SKIPPED\n",
      "IDLENESS_LIMIT_EXCEEDED\n",
      "PARTIAL\n",
      "GYM\n",
      "OUT_OF_COMPETITION\n",
      "Scala\n",
      "Delphi\n",
      "JavaScript\n",
      "PyPy 2\n",
      "PyPy 3\n",
      "Perl\n",
      "Factor\n",
      "D\n",
      "Mysterious Language\n",
      "FPC\n",
      "Ada\n",
      "F#\n",
      "Java 8\n",
      "Picat\n",
      "Ruby\n",
      "Java 8 ZIP\n",
      "Pike\n",
      "MS C#\n",
      "Python 2\n",
      "Python 3\n",
      "Secret_171\n",
      "Kotlin\n",
      "J\n",
      "Ocaml\n",
      "Java 6\n",
      "Go\n",
      "Roco\n",
      "GNU C11\n",
      "Befunge\n",
      "Rust\n",
      "PHP\n",
      "FALSE\n",
      "Mono C#\n",
      "Java 7\n",
      "Tcl\n",
      "Haskell\n",
      "Cobol\n",
      "Io\n",
      "GNU C++0x\n",
      "GNU C++14\n",
      "GNU C++11 ZIP\n",
      "hours_solve_to_contest\n",
      "hours_submit_to_solve\n"
     ]
    }
   ],
   "source": [
    "for c in x[0].columns:\n",
    "    print c"
   ]
  },
  {
   "cell_type": "code",
   "execution_count": 139,
   "metadata": {},
   "outputs": [
    {
     "ename": "AttributeError",
     "evalue": "'list' object has no attribute 'delta_smoothed_3months'",
     "output_type": "error",
     "traceback": [
      "\u001b[0;31m---------------------------------------------------------------------------\u001b[0m",
      "\u001b[0;31mAttributeError\u001b[0m                            Traceback (most recent call last)",
      "\u001b[0;32m<ipython-input-139-e861c672117d>\u001b[0m in \u001b[0;36m<module>\u001b[0;34m()\u001b[0m\n\u001b[0;32m----> 1\u001b[0;31m \u001b[0mnp\u001b[0m\u001b[0;34m.\u001b[0m\u001b[0many\u001b[0m\u001b[0;34m(\u001b[0m\u001b[0mnp\u001b[0m\u001b[0;34m.\u001b[0m\u001b[0misnan\u001b[0m\u001b[0;34m(\u001b[0m\u001b[0mtest\u001b[0m\u001b[0;34m.\u001b[0m\u001b[0mdelta_smoothed_3months\u001b[0m\u001b[0;34m)\u001b[0m\u001b[0;34m)\u001b[0m\u001b[0;34m\u001b[0m\u001b[0m\n\u001b[0m",
      "\u001b[0;31mAttributeError\u001b[0m: 'list' object has no attribute 'delta_smoothed_3months'"
     ]
    }
   ],
   "source": [
    "#np.any(np.isnan(test.delta_smoothed_3months))"
   ]
  },
  {
   "cell_type": "code",
   "execution_count": 253,
   "metadata": {},
   "outputs": [
    {
     "name": "stdout",
     "output_type": "stream",
     "text": [
      "rnn_train/2difficult4me.csv\n",
      "rnn_train/priyanka_1998.csv\n",
      "rnn_train/vatr.csv\n",
      "rnn_train/shantanushanto.csv\n",
      "rnn_train/KMPArthas.csv\n",
      "rnn_train/914295860.csv\n",
      "rnn_train/diver_ru.csv\n",
      "rnn_train/yangzx1004.csv\n",
      "rnn_train/BigChampion.csv\n",
      "rnn_train/lbn187.csv\n"
     ]
    }
   ],
   "source": [
    "reload(keras_functions)\n",
    "X = []\n",
    "Y = []\n",
    "lens = [0] * user_batch\n",
    "runsum = 0\n",
    "for i in range(user_batch):\n",
    "    filename = 'rnn_train/' + train_handles[i] + \".csv\"\n",
    "    print filename\n",
    "    x, y = keras_functions.get_user_data(train_handles[i], binvars=binvars, month=3, maxtimepts=500)\n",
    "    X.append(x)\n",
    "    Y.append(y)\n",
    "    runsum += x.shape[0]\n",
    "    lens[i] = runsum"
   ]
  },
  {
   "cell_type": "code",
   "execution_count": 254,
   "metadata": {},
   "outputs": [],
   "source": [
    "X_batch = np.concatenate(X, axis=0)"
   ]
  },
  {
   "cell_type": "code",
   "execution_count": 256,
   "metadata": {},
   "outputs": [
    {
     "data": {
      "text/plain": [
       "(161, 500, 109)"
      ]
     },
     "execution_count": 256,
     "metadata": {},
     "output_type": "execute_result"
    }
   ],
   "source": [
    "X_batch.shape"
   ]
  },
  {
   "cell_type": "code",
   "execution_count": 118,
   "metadata": {},
   "outputs": [
    {
     "data": {
      "text/plain": [
       "[array([ nan,  nan,  nan]),\n",
       " array([ nan,  nan,  nan,  nan,  nan,  nan,  nan]),\n",
       " array([-0.09   , -0.09   ,  0.21   , -0.09   , -0.1575 , -0.48   ,\n",
       "         0.14   ,  0.315  ,  0.315  , -0.045  , -0.045  ,  0.10375,  0.35   ]),\n",
       " array([        nan,         nan, -0.1275    , -0.1275    , -0.14178571,\n",
       "        -0.14178571, -0.3775    , -0.29928571, -0.03916667, -0.11208333,\n",
       "        -0.02025   , -0.29928571, -0.04875   ,  0.07625   , -0.14178571,\n",
       "        -0.08783333, -0.08783333, -0.06175   , -0.08783333, -0.11666667,\n",
       "         0.223     ,  0.207     , -0.06708333, -0.06708333,  0.207     ,\n",
       "         0.207     ,  0.06966667,  0.06966667, -0.29928571, -0.29928571,\n",
       "         0.105     ,  0.105     ,  0.07      ,  0.046     ,  0.046     ,\n",
       "        -0.05357143,  0.09544643,  0.03034722,  0.15822222,  0.15822222,\n",
       "         0.20944444,  0.20944444,  0.16      ,  0.165     , -0.05652778,\n",
       "         0.04509091, -0.03607143, -0.066875  , -0.12706349, -0.12706349,\n",
       "         0.01797619, -0.05321429, -0.08952381, -0.0397619 ,  0.05723214,\n",
       "        -0.066875  , -0.00963636,  0.02988889,  0.06861111,  0.00228022,\n",
       "         0.04939394,  0.04939394, -0.10987013, -0.10987013, -0.27875   ,\n",
       "        -0.27875   ,  0.143     , -0.02833333,  0.15404762,  0.06116071,\n",
       "         0.06116071,  0.1495    ,  0.11388889,  0.1495    ,  0.07983333,\n",
       "        -0.00420455, -0.05394231,  0.02961538,  0.04534965,  0.03397727,\n",
       "         0.03759615,  0.03508242, -0.01892857,  0.05076923,  0.03351648,\n",
       "         0.30714286,  0.06607143, -0.22416667, -0.12333333,  0.005     ,\n",
       "         0.105     , -0.10625   ]),\n",
       " array([ nan,  nan]),\n",
       " array([-0.1275    ,         nan,  0.24083333,  0.11291667,  0.11291667,\n",
       "         0.24083333]),\n",
       " array([ 0.028     ,  0.23      ,  0.021     ,  0.04833333,  0.23      ,\n",
       "         0.20125   ,  0.028     ,  0.53125   ,  0.028     ,  0.2075    ,\n",
       "         0.06575   ,  0.06575   ,  0.028     ,  0.028     , -0.10642857,\n",
       "        -0.265     , -0.265     , -0.145     , -0.10625   ,         nan,\n",
       "         0.24      ]),\n",
       " array([ 0.1745    ,  0.1745    ,  0.09583333,  0.14416667,  0.1745    ,\n",
       "         0.09966667,  0.06833333,  0.088125  ,  0.04354167]),\n",
       " array([ nan,  nan]),\n",
       " array([ 0.595     ,  0.595     ,  0.595     ,  0.0625    ,  0.0625    ,\n",
       "         0.11833333])]"
      ]
     },
     "execution_count": 118,
     "metadata": {},
     "output_type": "execute_result"
    }
   ],
   "source": [
    "Y"
   ]
  },
  {
   "cell_type": "code",
   "execution_count": 101,
   "metadata": {},
   "outputs": [],
   "source": [
    "epochs = 5"
   ]
  },
  {
   "cell_type": "code",
   "execution_count": null,
   "metadata": {
    "collapsed": true
   },
   "outputs": [],
   "source": [
    "for e in range(epochs):\n",
    "    "
   ]
  }
 ],
 "metadata": {
  "kernelspec": {
   "display_name": "Python 2",
   "language": "python",
   "name": "python2"
  },
  "language_info": {
   "codemirror_mode": {
    "name": "ipython",
    "version": 2
   },
   "file_extension": ".py",
   "mimetype": "text/x-python",
   "name": "python",
   "nbconvert_exporter": "python",
   "pygments_lexer": "ipython2",
   "version": "2.7.13"
  },
  "toc": {
   "toc_cell": false,
   "toc_number_sections": true,
   "toc_threshold": 6,
   "toc_window_display": false
  }
 },
 "nbformat": 4,
 "nbformat_minor": 2
}
