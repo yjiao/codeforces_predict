{
 "cells": [
  {
   "cell_type": "code",
   "execution_count": 9,
   "metadata": {},
   "outputs": [],
   "source": [
    "import matplotlib.pyplot as plt \n",
    "import pandas as pd\n",
    "import math\n",
    "import numpy as np\n",
    "\n",
    "import keras\n",
    "from keras.models import Sequential\n",
    "from keras.layers import Dense, Dropout\n",
    "from keras.layers import Embedding\n",
    "from keras.layers import LSTM\n",
    "from keras.layers import GRU \n",
    "\n",
    "from sklearn.preprocessing import MinMaxScaler\n",
    "from sklearn.metrics import mean_squared_error\n",
    "\n",
    "import psycopg2\n",
    "from sklearn.model_selection import train_test_split\n",
    "\n",
    "from matplotlib import pyplot as plt \n",
    "%matplotlib inline\n",
    "plt.rcParams['figure.facecolor'] = 'white'\n",
    "import seaborn as sns\n",
    "\n",
    "import keras_functions\n",
    "from keras_functions import *"
   ]
  },
  {
   "cell_type": "code",
   "execution_count": 2,
   "metadata": {
    "collapsed": true
   },
   "outputs": [],
   "source": [
    "con = psycopg2.connect(database='codeforces', user='Joy')\n",
    "cur = con.cursor()"
   ]
  },
  {
   "cell_type": "code",
   "execution_count": 3,
   "metadata": {
    "collapsed": true
   },
   "outputs": [],
   "source": [
    "binvars = get_categorical_variables([\n",
    "    'all_participanttypes',\n",
    "    'all_tags',\n",
    "    'all_language'\n",
    "])"
   ]
  },
  {
   "cell_type": "markdown",
   "metadata": {},
   "source": [
    "# Initial pipeline"
   ]
  },
  {
   "cell_type": "code",
   "execution_count": 4,
   "metadata": {
    "collapsed": true
   },
   "outputs": [],
   "source": [
    "with open('set_train.txt') as f:\n",
    "    train_handles = [h.strip() for h in f.readlines()]\n",
    "with open('set_test.txt') as f:\n",
    "    test_handles = [h.strip() for h in f.readlines()]"
   ]
  },
  {
   "cell_type": "code",
   "execution_count": 5,
   "metadata": {
    "collapsed": true
   },
   "outputs": [],
   "source": [
    "user_batch = 10"
   ]
  },
  {
   "cell_type": "code",
   "execution_count": 75,
   "metadata": {},
   "outputs": [
    {
     "name": "stdout",
     "output_type": "stream",
     "text": [
      "rnn_train/2difficult4me.csv\n",
      "rnn_train/priyanka_1998.csv\n",
      "rnn_train/vatr.csv\n",
      "rnn_train/shantanushanto.csv\n",
      "rnn_train/KMPArthas.csv\n",
      "rnn_train/914295860.csv\n",
      "rnn_train/diver_ru.csv\n",
      "rnn_train/yangzx1004.csv\n",
      "rnn_train/BigChampion.csv\n",
      "rnn_train/lbn187.csv\n"
     ]
    }
   ],
   "source": [
    "reload(keras_functions)\n",
    "dflist = []\n",
    "for i in range(user_batch):\n",
    "    filename = 'rnn_train/' + train_handles[i] + \".csv\"\n",
    "    print filename\n",
    "    dflist.append(keras_functions.get_user_data(train_handles[i], binvars=binvars, month=3, maxtimepts=500))"
   ]
  },
  {
   "cell_type": "code",
   "execution_count": null,
   "metadata": {},
   "outputs": [],
   "source": [
    "user='yj12'\n",
    "month=3\n",
    "maxtimepts = 500\n",
    "# set some parameters for normalization\n",
    "max_change = 200.0\n",
    "\n",
    "# -----------------------------\n",
    "# Load data\n",
    "data = pd.read_csv('rnn_train/%s.csv'%user)\n",
    "\n",
    "# drop the first contest--we don't have a \"real\" change from a null expectation here\n",
    "data.sort_values('ratingupdatetimeseconds', inplace=True)\n",
    "firstcid = data.contestid.values[0]\n",
    "data.drop(data.index[data.contestid == firstcid], axis=0, inplace=True)\n",
    "\n",
    "# -----------------------------\n",
    "# binarize some variables\n",
    "data[binvars] = data[binvars].fillna(value=0)\n",
    "\n",
    "for b in binvars:\n",
    "    data.loc[ data[b] > 0, b] = 1\n",
    "\n",
    "# -----------------------------\n",
    "# remove information for other months\n",
    "df_data = data\n",
    "for m in range(1,6):\n",
    "    if m == month:\n",
    "        continue\n",
    "    name1 = \"delta_smoothed_%dmonths\" % m\n",
    "    name2 = \"smoothed_%dmonths\" % m\n",
    "\n",
    "    df_data.drop([name1, name2], axis=1, inplace=True)"
   ]
  },
  {
   "cell_type": "code",
   "execution_count": null,
   "metadata": {
    "collapsed": true
   },
   "outputs": [],
   "source": [
    "df_train = df_data.drop(['handle', 'index'], axis=1)\n",
    "df_train.fillna(value=0, inplace=True)\n",
    "\n",
    "# -----------------------------\n",
    "# Feature scaling\n",
    "y_column = 'delta_smoothed_%dmonths' % month\n",
    "colnames = list(df_train.columns.values)\n",
    "\n",
    "cids = df_train.contestid\n",
    "\n",
    "scaler = MinMaxScaler(feature_range=(0, 1))\n",
    "df_train_scaled = scaler.fit_transform(df_train)\n",
    "df_train_scaled = pd.DataFrame(df_train_scaled)\n",
    "df_train_scaled.columns = colnames\n",
    "\n",
    "# add back in colnames that should not be scaled\n",
    "df_train_scaled['contestid'] = cids\n",
    "df_train_scaled[y_column] = df_train[y_column]\n",
    "\n",
    "# scale the y column wrt to max change possible\n",
    "df_train_scaled[y_column] /= max_change\n",
    "\n",
    "# -----------------------------\n",
    "# Group by contest\n",
    "groups = df_train_scaled.groupby('contestid')\n",
    "\n",
    "# -----------------------------\n",
    "# create list of inputs for training\n",
    "trainlist = []\n",
    "ylist = []"
   ]
  },
  {
   "cell_type": "code",
   "execution_count": null,
   "metadata": {},
   "outputs": [],
   "source": [
    "for k, v in groups:\n",
    "    v.is_copy = False\n",
    "\n",
    "    v.drop('contestid', axis=1, inplace=True)\n",
    "    y = v.loc[:, y_column].values[0]\n",
    "    v.drop(y_column, inplace=True, axis=1)\n",
    "\n",
    "    trainlist.append(v)\n",
    "    ylist.append(y)\n",
    "\n",
    "ary = np.array(ylist)\n",
    "print len(groups)\n",
    "print trainlist\n",
    "\n"
   ]
  }
 ],
 "metadata": {
  "kernelspec": {
   "display_name": "Python 2",
   "language": "python",
   "name": "python2"
  },
  "language_info": {
   "codemirror_mode": {
    "name": "ipython",
    "version": 2
   },
   "file_extension": ".py",
   "mimetype": "text/x-python",
   "name": "python",
   "nbconvert_exporter": "python",
   "pygments_lexer": "ipython2",
   "version": "2.7.13"
  },
  "toc": {
   "toc_cell": false,
   "toc_number_sections": true,
   "toc_threshold": 6,
   "toc_window_display": false
  }
 },
 "nbformat": 4,
 "nbformat_minor": 2
}
