{
 "cells": [
  {
   "cell_type": "code",
   "execution_count": 1156,
   "metadata": {
    "collapsed": true
   },
   "outputs": [],
   "source": [
    "import matplotlib.pyplot as plt \n",
    "import pandas as pd\n",
    "import math\n",
    "import numpy as np\n",
    "\n",
    "import keras\n",
    "from keras.models import Sequential\n",
    "from keras.layers import Dense, Dropout\n",
    "from keras.layers import Embedding\n",
    "from keras.layers import LSTM\n",
    "from keras.layers import GRU \n",
    "from keras.layers import Merge\n",
    "from keras.layers import Conv1D, GlobalMaxPooling1D\n",
    "from keras.layers import Conv2D, GlobalMaxPooling2D\n",
    "\n",
    "from sklearn.preprocessing import MinMaxScaler\n",
    "from sklearn.preprocessing import StandardScaler\n",
    "from sklearn.metrics import mean_squared_error\n",
    "from sklearn.metrics import r2_score\n",
    "from sklearn.preprocessing import MaxAbsScaler\n",
    "\n",
    "import psycopg2\n",
    "from sklearn.model_selection import train_test_split\n",
    "\n",
    "from matplotlib import pyplot as plt \n",
    "%matplotlib inline\n",
    "plt.rcParams['figure.facecolor'] = 'white'\n",
    "import seaborn as sns\n",
    "\n",
    "import keras_functions\n",
    "from keras_functions import *"
   ]
  },
  {
   "cell_type": "code",
   "execution_count": 3,
   "metadata": {
    "collapsed": true
   },
   "outputs": [],
   "source": [
    "binvars = get_categorical_variables([\n",
    "    'all_participanttypes',\n",
    "    'all_tags',\n",
    "    'all_language'\n",
    "])"
   ]
  },
  {
   "cell_type": "code",
   "execution_count": null,
   "metadata": {
    "collapsed": true
   },
   "outputs": [],
   "source": []
  },
  {
   "cell_type": "markdown",
   "metadata": {},
   "source": [
    "# Initial pipeline"
   ]
  },
  {
   "cell_type": "code",
   "execution_count": 501,
   "metadata": {
    "collapsed": true
   },
   "outputs": [],
   "source": [
    "with open('set_train.txt') as f:\n",
    "    train_handles = [h.strip() for h in f.readlines()]\n",
    "with open('set_test.txt') as f:\n",
    "    test_handles = [h.strip() for h in f.readlines()]\n",
    "with open('set_val.txt') as f:\n",
    "    val_handles = [h.strip() for h in f.readlines()]"
   ]
  },
  {
   "cell_type": "code",
   "execution_count": 910,
   "metadata": {
    "collapsed": true
   },
   "outputs": [],
   "source": [
    "# user columns can be out of order, use tourist's as correct order\n",
    "with open('rnn_train/tourist.csv') as f:\n",
    "    correct_cols = [t.strip() for t in f.readline().split(',')]"
   ]
  },
  {
   "cell_type": "code",
   "execution_count": 409,
   "metadata": {
    "collapsed": true
   },
   "outputs": [],
   "source": [
    "user_batch = 5#len(test_handles)"
   ]
  },
  {
   "cell_type": "code",
   "execution_count": 1110,
   "metadata": {},
   "outputs": [
    {
     "name": "stdout",
     "output_type": "stream",
     "text": [
      "rnn_train/abyssmall.csv\n",
      "rnn_train/razia_sultana.csv\n",
      "rnn_train/ufo.csv\n",
      "rnn_train/williamhu08.csv\n",
      "rnn_train/rdfz_yjy.csv\n",
      "rnn_train/k21.csv\n",
      "rnn_train/rudradevbasak.csv\n",
      "rnn_train/ch_egor.csv\n",
      "rnn_train/FreeMoneyCity.csv\n",
      "rnn_train/Gomhog.csv\n",
      "rnn_train/Life_is_like_a_boat.csv\n",
      "rnn_train/MikhailRubinchik.csv\n",
      "rnn_train/Oleg_Smirnov.csv\n",
      "rnn_train/jiangshibiao.csv\n",
      "rnn_train/Dembel.csv\n",
      "rnn_train/Logic_zys.csv\n",
      "rnn_train/Shayan_Jahan.csv\n",
      "rnn_train/dc..csv\n",
      "rnn_train/wakaka.csv\n",
      "rnn_train/chnluyi.csv\n",
      "rnn_train/Koreyoshi_.csv\n",
      "rnn_train/vlecomte.csv\n",
      "rnn_train/AleksanderBalobanov.csv\n",
      "rnn_train/Gerald.csv\n",
      "rnn_train/hex539.csv\n",
      "rnn_train/lovro.csv\n",
      "rnn_train/MKLOL.csv\n",
      "rnn_train/RNS.csv\n",
      "rnn_train/gskhirtladze.csv\n",
      "rnn_train/jzzhu.csv\n",
      "rnn_train/Ai_AA.csv\n",
      "rnn_train/JeBeK.csv\n",
      "rnn_train/MHR.csv\n",
      "rnn_train/alex256.csv\n",
      "rnn_train/darknstd.csv\n",
      "rnn_train/dragoon.csv\n",
      "rnn_train/feyat.csv\n"
     ]
    },
    {
     "ename": "ValueError",
     "evalue": "too many values to unpack",
     "output_type": "error",
     "traceback": [
      "\u001b[0;31m---------------------------------------------------------------------------\u001b[0m",
      "\u001b[0;31mValueError\u001b[0m                                Traceback (most recent call last)",
      "\u001b[0;32m<ipython-input-1110-8d7018360ef4>\u001b[0m in \u001b[0;36m<module>\u001b[0;34m()\u001b[0m\n\u001b[1;32m      4\u001b[0m \u001b[0;34m\u001b[0m\u001b[0m\n\u001b[1;32m      5\u001b[0m \u001b[0mth\u001b[0m \u001b[0;34m=\u001b[0m \u001b[0;34m[\u001b[0m \u001b[0;34m\"abyssmall\"\u001b[0m\u001b[0;34m,\u001b[0m \u001b[0;34m\"razia_sultana\"\u001b[0m\u001b[0;34m,\u001b[0m \u001b[0;34m\"ufo\"\u001b[0m\u001b[0;34m,\u001b[0m \u001b[0;34m\"williamhu08\"\u001b[0m\u001b[0;34m,\u001b[0m \u001b[0;34m\"rdfz_yjy\"\u001b[0m\u001b[0;34m,\u001b[0m \u001b[0;34m\"k21\"\u001b[0m\u001b[0;34m,\u001b[0m \u001b[0;34m\"rudradevbasak\"\u001b[0m\u001b[0;34m,\u001b[0m \u001b[0;34m\"ch_egor\"\u001b[0m\u001b[0;34m,\u001b[0m \u001b[0;34m\"FreeMoneyCity\"\u001b[0m\u001b[0;34m,\u001b[0m \u001b[0;34m\"Gomhog\"\u001b[0m\u001b[0;34m,\u001b[0m \u001b[0;34m\"Life_is_like_a_boat\"\u001b[0m\u001b[0;34m,\u001b[0m \u001b[0;34m\"MikhailRubinchik\"\u001b[0m\u001b[0;34m,\u001b[0m \u001b[0;34m\"Oleg_Smirnov\"\u001b[0m\u001b[0;34m,\u001b[0m \u001b[0;34m\"jiangshibiao\"\u001b[0m\u001b[0;34m,\u001b[0m \u001b[0;34m\"Dembel\"\u001b[0m\u001b[0;34m,\u001b[0m \u001b[0;34m\"Logic_zys\"\u001b[0m\u001b[0;34m,\u001b[0m \u001b[0;34m\"Shayan_Jahan\"\u001b[0m\u001b[0;34m,\u001b[0m \u001b[0;34m\"dc.\"\u001b[0m\u001b[0;34m,\u001b[0m \u001b[0;34m\"wakaka\"\u001b[0m\u001b[0;34m,\u001b[0m \u001b[0;34m\"chnluyi\"\u001b[0m\u001b[0;34m,\u001b[0m \u001b[0;34m\"Koreyoshi_\"\u001b[0m\u001b[0;34m,\u001b[0m \u001b[0;34m\"vlecomte\"\u001b[0m\u001b[0;34m,\u001b[0m \u001b[0;34m\"AleksanderBalobanov\"\u001b[0m\u001b[0;34m,\u001b[0m \u001b[0;34m\"Gerald\"\u001b[0m\u001b[0;34m,\u001b[0m \u001b[0;34m\"hex539\"\u001b[0m\u001b[0;34m,\u001b[0m \u001b[0;34m\"lovro\"\u001b[0m\u001b[0;34m,\u001b[0m \u001b[0;34m\"MKLOL\"\u001b[0m\u001b[0;34m,\u001b[0m \u001b[0;34m\"RNS\"\u001b[0m\u001b[0;34m,\u001b[0m \u001b[0;34m\"gskhirtladze\"\u001b[0m\u001b[0;34m,\u001b[0m \u001b[0;34m\"jzzhu\"\u001b[0m\u001b[0;34m,\u001b[0m \u001b[0;34m\"Ai_AA\"\u001b[0m\u001b[0;34m,\u001b[0m \u001b[0;34m\"JeBeK\"\u001b[0m\u001b[0;34m,\u001b[0m \u001b[0;34m\"MHR\"\u001b[0m\u001b[0;34m,\u001b[0m \u001b[0;34m\"alex256\"\u001b[0m\u001b[0;34m,\u001b[0m \u001b[0;34m\"darknstd\"\u001b[0m\u001b[0;34m,\u001b[0m \u001b[0;34m\"dragoon\"\u001b[0m\u001b[0;34m,\u001b[0m \u001b[0;34m\"feyat\"\u001b[0m \u001b[0;34m]\u001b[0m\u001b[0;34m\u001b[0m\u001b[0m\n\u001b[0;32m----> 6\u001b[0;31m \u001b[0mX\u001b[0m\u001b[0;34m,\u001b[0m \u001b[0mY\u001b[0m\u001b[0;34m,\u001b[0m \u001b[0mlens_tr\u001b[0m\u001b[0;34m,\u001b[0m \u001b[0mmaxt\u001b[0m \u001b[0;34m=\u001b[0m \u001b[0mkeras_functions\u001b[0m\u001b[0;34m.\u001b[0m\u001b[0mget_train_data\u001b[0m\u001b[0;34m(\u001b[0m\u001b[0mth\u001b[0m\u001b[0;34m,\u001b[0m \u001b[0mbinvars\u001b[0m\u001b[0;34m,\u001b[0m \u001b[0mcorrect_cols\u001b[0m\u001b[0;34m,\u001b[0m \u001b[0mmaxtimepts\u001b[0m\u001b[0;34m)\u001b[0m\u001b[0;34m\u001b[0m\u001b[0m\n\u001b[0m\u001b[1;32m      7\u001b[0m \u001b[0;34m\u001b[0m\u001b[0m\n\u001b[1;32m      8\u001b[0m \u001b[0mXval\u001b[0m\u001b[0;34m,\u001b[0m \u001b[0mYval\u001b[0m\u001b[0;34m,\u001b[0m \u001b[0mlens_val\u001b[0m\u001b[0;34m,\u001b[0m \u001b[0mmaxt\u001b[0m \u001b[0;34m=\u001b[0m \u001b[0mkeras_functions\u001b[0m\u001b[0;34m.\u001b[0m\u001b[0mget_train_data\u001b[0m\u001b[0;34m(\u001b[0m\u001b[0mval_handles\u001b[0m\u001b[0;34m[\u001b[0m\u001b[0;36m0\u001b[0m\u001b[0;34m:\u001b[0m\u001b[0;36m10\u001b[0m\u001b[0;34m]\u001b[0m\u001b[0;34m,\u001b[0m \u001b[0mbinvars\u001b[0m\u001b[0;34m,\u001b[0m \u001b[0mcorrect_cols\u001b[0m\u001b[0;34m,\u001b[0m \u001b[0mmaxtimepts\u001b[0m\u001b[0;34m)\u001b[0m\u001b[0;34m\u001b[0m\u001b[0m\n",
      "\u001b[0;31mValueError\u001b[0m: too many values to unpack"
     ]
    }
   ],
   "source": [
    "from os.path import exists\n",
    "reload(keras_functions)\n",
    "maxtimepts = 500\n",
    "\n",
    "th = [ \"abyssmall\", \"razia_sultana\", \"ufo\", \"williamhu08\", \"rdfz_yjy\", \"k21\", \"rudradevbasak\", \"ch_egor\", \"FreeMoneyCity\", \"Gomhog\", \"Life_is_like_a_boat\", \"MikhailRubinchik\", \"Oleg_Smirnov\", \"jiangshibiao\", \"Dembel\", \"Logic_zys\", \"Shayan_Jahan\", \"dc.\", \"wakaka\", \"chnluyi\", \"Koreyoshi_\", \"vlecomte\", \"AleksanderBalobanov\", \"Gerald\", \"hex539\", \"lovro\", \"MKLOL\", \"RNS\", \"gskhirtladze\", \"jzzhu\", \"Ai_AA\", \"JeBeK\", \"MHR\", \"alex256\", \"darknstd\", \"dragoon\", \"feyat\" ]\n",
    "X, Y, lens_tr, maxt = keras_functions.get_train_data(th, binvars, correct_cols, maxtimepts)\n",
    "\n",
    "Xval, Yval, lens_val, maxt = keras_functions.get_train_data(val_handles[0:10], binvars, correct_cols, maxtimepts)"
   ]
  },
  {
   "cell_type": "code",
   "execution_count": 1111,
   "metadata": {},
   "outputs": [
    {
     "name": "stdout",
     "output_type": "stream",
     "text": [
      "rnn_train/sanket407.csv\n"
     ]
    }
   ],
   "source": [
    "reload(keras_functions)\n",
    "X, Y, lens_tr, maxt, colnames = keras_functions.get_train_data(['sanket407'], binvars, correct_cols, maxtimepts) #jiyutian"
   ]
  },
  {
   "cell_type": "code",
   "execution_count": 1091,
   "metadata": {},
   "outputs": [
    {
     "data": {
      "text/plain": [
       "41"
      ]
     },
     "execution_count": 1091,
     "metadata": {},
     "output_type": "execute_result"
    }
   ],
   "source": [
    "maxt"
   ]
  },
  {
   "cell_type": "code",
   "execution_count": 525,
   "metadata": {},
   "outputs": [
    {
     "name": "stdout",
     "output_type": "stream",
     "text": [
      "rnn_train/123qws.csv\n",
      "rnn_train/613.csv\n",
      "rnn_train/Alona.csv\n",
      "rnn_train/AstroConjecture.csv\n",
      "rnn_train/chipchip3412.csv\n",
      "rnn_train/hmich   .csv\n",
      "rnn_train/mstczuo.csv\n",
      "rnn_train/pandazcy.csv\n",
      "rnn_train/Fefer_Ivan.csv\n",
      "rnn_train/edward_mj.csv\n",
      "rnn_train/jerjeriscute.csv\n",
      "rnn_train/-Wave-.csv\n",
      "rnn_train/Constantius.csv\n",
      "rnn_train/I_dont_have_girlfriend.csv\n",
      "rnn_train/SealView.csv\n",
      "rnn_train/antonkov.csv\n"
     ]
    }
   ],
   "source": [
    "th2 = [ \"123qws\", \"613\", \"Alona\", \"AstroConjecture\", \"chipchip3412\", \"hmich   \", \"mstczuo\", \"pandazcy\", \"Fefer_Ivan\", \"edward_mj\", \"jerjeriscute\", \"-Wave-\", \"Constantius\", \"I_dont_have_girlfriend\", \"SealView\", \"antonkov\" ]\n",
    "Xval, Yval, lens_val, maxt = keras_functions.get_train_data(th2, binvars, correct_cols, maxtimepts)"
   ]
  },
  {
   "cell_type": "code",
   "execution_count": 926,
   "metadata": {},
   "outputs": [
    {
     "data": {
      "text/plain": [
       "46"
      ]
     },
     "execution_count": 926,
     "metadata": {},
     "output_type": "execute_result"
    }
   ],
   "source": [
    "maxt"
   ]
  },
  {
   "cell_type": "markdown",
   "metadata": {},
   "source": [
    "# Scaling\n",
    "RATING MUST BE ON THE SAME SCALE\n"
   ]
  },
  {
   "cell_type": "code",
   "execution_count": 1100,
   "metadata": {
    "run_control": {
     "marked": true
    }
   },
   "outputs": [
    {
     "name": "stdout",
     "output_type": "stream",
     "text": [
      "(6, 500, 109)\n",
      "(3000, 109)\n"
     ]
    }
   ],
   "source": [
    "Xflat = np.concatenate(X)\n",
    "print Xflat.shape\n",
    "Xflat = np.reshape(Xflat, [Xflat.shape[0]*Xflat.shape[1], Xflat.shape[2]])\n",
    "print Xflat.shape\n",
    "#scaler = MaxAbsScaler().fit(Xflat)"
   ]
  },
  {
   "cell_type": "code",
   "execution_count": 1101,
   "metadata": {},
   "outputs": [
    {
     "data": {
      "text/plain": [
       "5000.0"
      ]
     },
     "execution_count": 1101,
     "metadata": {},
     "output_type": "execute_result"
    }
   ],
   "source": [
    "xmax = np.max(Xflat, axis=0)\n",
    "xmax[xmax == 0] = 1\n",
    "xmax[colnames.index('smoothed_3months')]\n",
    "xmax[colnames.index('problem_rating')]"
   ]
  },
  {
   "cell_type": "code",
   "execution_count": 1217,
   "metadata": {},
   "outputs": [],
   "source": [
    "month = 3\n",
    "colnames_rate = ['smoothed_%dmonths'%month, 'oldrating', 'problem_rating']\n",
    "maxrating = 5000.0\n",
    "idx_rate = [colnames.index(c) for c in colnames_rate]\n",
    "xmax[idx_rate] = maxrating"
   ]
  },
  {
   "cell_type": "code",
   "execution_count": 1197,
   "metadata": {},
   "outputs": [
    {
     "data": {
      "text/plain": [
       "array(['CHALLENGED', 'COMPILATION_ERROR', 'IDLENESS_LIMIT_EXCEEDED',\n",
       "       'MEMORY_LIMIT_EXCEEDED', 'OK', 'PRESENTATION_ERROR',\n",
       "       'RUNTIME_ERROR', 'SKIPPED', 'TIME_LIMIT_EXCEEDED', 'WRONG_ANSWER',\n",
       "       'hours_solve_to_contest', 'hours_submit_to_contest',\n",
       "       'hours_submit_to_solve', 'oldrating', 'points', 'problem_rating',\n",
       "       'rank', 'smoothed_3months', 'REJECTED', 'FAILED', 'CRASHED',\n",
       "       'TESTING', 'PARTIAL'], \n",
       "      dtype='|S25')"
      ]
     },
     "execution_count": 1197,
     "metadata": {},
     "output_type": "execute_result"
    }
   ],
   "source": [
    "np.array(colnames)[keepidx]"
   ]
  },
  {
   "cell_type": "code",
   "execution_count": 1213,
   "metadata": {},
   "outputs": [
    {
     "data": {
      "text/plain": [
       "35"
      ]
     },
     "execution_count": 1213,
     "metadata": {},
     "output_type": "execute_result"
    }
   ],
   "source": [
    "colnames.index('smoothed_3months')"
   ]
  },
  {
   "cell_type": "code",
   "execution_count": 1219,
   "metadata": {
    "collapsed": true
   },
   "outputs": [],
   "source": [
    "java = [ 'Java 6', 'Java 8', 'Java 8 ZIP', 'Java 7' ] \n",
    "\n",
    "python = [ 'Python 3', 'Python 2', 'PyPy 2', 'PyPy 3']\n",
    "\n",
    "lowlevel = [\n",
    " 'GNU C++14',\n",
    " 'GNU C',\n",
    " 'MS C++',\n",
    " 'GNU C++',\n",
    " 'GNU C++0x',\n",
    " 'MS C#',\n",
    " 'GNU C11',\n",
    " 'GNU C++11 ZIP',\n",
    " 'GNU C++11',\n",
    " 'Mono C#',\n",
    " 'Delphi',\n",
    "]\n",
    "\n",
    "unconventional = [ 'Haskell', 'Factor', 'Picat', 'Secret_171', 'PHP',\n",
    " 'Tcl', 'Scala', 'Io', 'FPC', 'J', 'Rust', 'JavaScript', 'Ada', 'Go', 'Cobol', 'Befunge',\n",
    " 'Roco', 'Ruby', 'Kotlin', 'F#', 'Perl', 'Pike', 'D', 'Ocaml' ]\n",
    "\n",
    "binvars = ['implementation',\n",
    " 'two pointers',\n",
    " 'data structures',\n",
    " '*special',\n",
    " 'probabilities',\n",
    " 'divide and conquer',\n",
    " 'shortest paths',\n",
    " 'meet-in-the-middle',\n",
    " 'trees',\n",
    " 'matrices',\n",
    " 'graph matchings',\n",
    " 'expression parsing',\n",
    " 'graphs',\n",
    " 'ternary search',\n",
    " 'dfs and similar',\n",
    " 'combinatorics',\n",
    " 'string suffix structures',\n",
    " 'games',\n",
    " 'binary search',\n",
    " '2-sat',\n",
    " 'brute force',\n",
    " 'hashing',\n",
    " 'dsu',\n",
    " 'chinese remainder theorem',\n",
    " 'flows',\n",
    " 'sortings',\n",
    " 'number theory',\n",
    " 'fft',\n",
    " 'greedy',\n",
    " 'schedules',\n",
    " 'math',\n",
    " 'strings',\n",
    " 'bitmasks',\n",
    " 'geometry',\n",
    " 'dp',\n",
    " 'constructive algorithms',\n",
    " 'Mysterious Language',\n",
    " 'FALSE',\n",
    "          ]"
   ]
  },
  {
   "cell_type": "code",
   "execution_count": 1205,
   "metadata": {},
   "outputs": [
    {
     "data": {
      "text/plain": [
       "array(['CHALLENGED', 'COMPILATION_ERROR', 'IDLENESS_LIMIT_EXCEEDED',\n",
       "       'MEMORY_LIMIT_EXCEEDED', 'OK', 'PRESENTATION_ERROR',\n",
       "       'RUNTIME_ERROR', 'SKIPPED', 'TIME_LIMIT_EXCEEDED', 'WRONG_ANSWER',\n",
       "       'hours_solve_to_contest', 'hours_submit_to_contest',\n",
       "       'hours_submit_to_solve', 'oldrating', 'points', 'problem_rating',\n",
       "       'rank', 'smoothed_3months', 'REJECTED', 'FAILED', 'CRASHED',\n",
       "       'TESTING', 'PARTIAL'], \n",
       "      dtype='|S25')"
      ]
     },
     "execution_count": 1205,
     "metadata": {},
     "output_type": "execute_result"
    }
   ],
   "source": [
    "np.array(colnames)[keepidx]"
   ]
  },
  {
   "cell_type": "markdown",
   "metadata": {},
   "source": [
    "# Define model"
   ]
  },
  {
   "cell_type": "code",
   "execution_count": 915,
   "metadata": {
    "collapsed": true
   },
   "outputs": [],
   "source": [
    "reload(keras_functions)\n",
    "batchsize = [1, X[0].shape[1], X[0].shape[2]]\n",
    "gru1 = 10\n",
    "gru2 = 1\n",
    "dense = 10\n",
    "model = keras_functions.create_model([gru1, gru2, dense], batchsize)"
   ]
  },
  {
   "cell_type": "code",
   "execution_count": 649,
   "metadata": {
    "scrolled": true
   },
   "outputs": [
    {
     "name": "stdout",
     "output_type": "stream",
     "text": [
      "_________________________________________________________________\n",
      "Layer (type)                 Output Shape              Param #   \n",
      "=================================================================\n",
      "masking_15 (Masking)         (1, 500, 105)             0         \n",
      "_________________________________________________________________\n",
      "lstm_1 (LSTM)                (1, 10)                   4640      \n",
      "_________________________________________________________________\n",
      "dropout_24 (Dropout)         (1, 10)                   0         \n",
      "_________________________________________________________________\n",
      "dense_21 (Dense)             (1, 1)                    11        \n",
      "=================================================================\n",
      "Total params: 4,651\n",
      "Trainable params: 4,651\n",
      "Non-trainable params: 0\n",
      "_________________________________________________________________\n"
     ]
    }
   ],
   "source": [
    "model.summary()"
   ]
  },
  {
   "cell_type": "code",
   "execution_count": 650,
   "metadata": {
    "collapsed": true
   },
   "outputs": [],
   "source": [
    "optimizer = keras.optimizers.RMSprop(lr=0.01, rho=0.9, epsilon=1e-08, decay=0.0)\n",
    "model.compile(optimizer=optimizer,\n",
    "              loss='mean_squared_error',\n",
    "              metrics=['mae'])"
   ]
  },
  {
   "cell_type": "code",
   "execution_count": 1220,
   "metadata": {},
   "outputs": [
    {
     "name": "stdout",
     "output_type": "stream",
     "text": [
      "28\n",
      "['CHALLENGED' 'COMPILATION_ERROR' 'CONTESTANT' 'GYM'\n",
      " 'IDLENESS_LIMIT_EXCEEDED' 'MEMORY_LIMIT_EXCEEDED' 'OK'\n",
      " 'OUT_OF_COMPETITION' 'PRACTICE' 'PRESENTATION_ERROR' 'RUNTIME_ERROR'\n",
      " 'SKIPPED' 'TIME_LIMIT_EXCEEDED' 'VIRTUAL' 'WRONG_ANSWER'\n",
      " 'hours_solve_to_contest' 'hours_submit_to_contest' 'hours_submit_to_solve'\n",
      " 'oldrating' 'points' 'problem_rating' 'rank' 'smoothed_3months' 'REJECTED'\n",
      " 'FAILED' 'CRASHED' 'TESTING' 'PARTIAL']\n"
     ]
    }
   ],
   "source": [
    "#all_lang = set(all_lang)\n",
    "keepidx = [i for i in range(len(colnames)) if colnames[i] not in binvars]\n",
    "binidx = [i for i in range(len(colnames)) if colnames[i] in binvars]\n",
    "print len(np.array(colnames)[keepidx])\n",
    "print np.array(colnames)[keepidx]"
   ]
  },
  {
   "cell_type": "code",
   "execution_count": 1113,
   "metadata": {},
   "outputs": [
    {
     "name": "stdout",
     "output_type": "stream",
     "text": [
      "['CHALLENGED' 'COMPILATION_ERROR' 'IDLENESS_LIMIT_EXCEEDED'\n",
      " 'MEMORY_LIMIT_EXCEEDED' 'OK' 'PRESENTATION_ERROR' 'RUNTIME_ERROR'\n",
      " 'SKIPPED' 'TIME_LIMIT_EXCEEDED' 'WRONG_ANSWER' 'hours_solve_to_contest'\n",
      " 'hours_submit_to_contest' 'hours_submit_to_solve' 'oldrating' 'points'\n",
      " 'problem_rating' 'rank' 'smoothed_3months' 'REJECTED' 'FAILED' 'CRASHED'\n",
      " 'TESTING' 'PARTIAL']\n"
     ]
    }
   ],
   "source": [
    "print np.array(colnames)[keepidx]"
   ]
  },
  {
   "cell_type": "code",
   "execution_count": 1117,
   "metadata": {
    "run_control": {
     "marked": true
    },
    "scrolled": true
   },
   "outputs": [],
   "source": [
    "maxy = 300.0\n",
    "epochs = 200\n",
    "history = []\n",
    "s = 0\n",
    "model.reset_states()\n",
    "\n",
    "gru1 = 10\n",
    "gru2 = 4\n",
    "dense = 10\n",
    "optimizer = keras.optimizers.RMSprop(lr=0.01, rho=0.9, epsilon=1e-08, decay=0.01)\n",
    "\n",
    "xin = X[s]/xmax\n",
    "xin = xin[:, keepidx]\n",
    "yin = Y[s]/maxy\n",
    "batchsize = xin.shape\n",
    "\n",
    "#model = keras_functions.create_model([gru1, gru2, dense], batchsize)\n",
    "model = Sequential()\n",
    "model.add(Masking(mask_value=0, batch_input_shape = batchsize))\n",
    "\n",
    "model.add(GRU(\n",
    "    gru1,\n",
    "    return_sequences=True,\n",
    "    stateful=False,\n",
    "    batch_input_shape=batchsize,\n",
    "    dropout=0.5,\n",
    "    use_bias=False\n",
    "))\n",
    "\n",
    "model.add(GRU(\n",
    "    gru2,\n",
    "    return_sequences=False,\n",
    "    stateful=True,\n",
    "    batch_input_shape=batchsize,\n",
    "    dropout=0.5,\n",
    "    use_bias=False\n",
    "))\n",
    "\n",
    "model.add(Dense(50, activation='tanh', use_bias=False))\n",
    "model.add(Dropout(0.5))\n",
    "\n",
    "model.add(Dense(1, activation='tanh', use_bias=False))\n",
    "\n",
    "model.compile(optimizer=optimizer,\n",
    "              loss='mean_squared_error',\n",
    "              metrics=['mae'])\n",
    "\n",
    "#history = model.fit(xin, yin, epochs=epochs, shuffle=False, batch_size=batchsize[0])\n",
    "for i in range(epochs):\n",
    "    h = model.fit(xin, yin, epochs=1, shuffle=False, batch_size=batchsize[0], verbose=0)\n",
    "    model.reset_states()\n",
    "    history.append(h)"
   ]
  },
  {
   "cell_type": "code",
   "execution_count": 1223,
   "metadata": {
    "run_control": {
     "marked": false
    }
   },
   "outputs": [
    {
     "data": {
      "text/plain": [
       "[<matplotlib.lines.Line2D at 0x23cfc92d0>]"
      ]
     },
     "execution_count": 1223,
     "metadata": {},
     "output_type": "execute_result"
    },
    {
     "data": {
      "image/png": "[encoded data removed]",
      "text/plain": [
       "<matplotlib.figure.Figure at 0x23cfc9290>"
      ]
     },
     "metadata": {},
     "output_type": "display_data"
    }
   ],
   "source": [
    "plt.rcParams['figure.figsize'] = (10, 5)\n",
    "loss = np.concatenate([h.history['loss'] for h in history])\n",
    "mae = np.concatenate([h.history['mean_absolute_error'] for h in history])\n",
    "#loss = history.history['loss']\n",
    "#mae = history.history['mean_absolute_error']\n",
    "plt.plot(loss)\n",
    "plt.plot(mae)"
   ]
  },
  {
   "cell_type": "code",
   "execution_count": 1224,
   "metadata": {},
   "outputs": [
    {
     "data": {
      "text/plain": [
       "0.78586715406402352"
      ]
     },
     "execution_count": 1224,
     "metadata": {},
     "output_type": "execute_result"
    },
    {
     "data": {
      "image/png": "[encoded data removed]",
      "text/plain": [
       "<matplotlib.figure.Figure at 0x2184dd450>"
      ]
     },
     "metadata": {},
     "output_type": "display_data"
    }
   ],
   "source": [
    "model.reset_states()\n",
    "y_pred = model.predict([xwide, xin], batch_size=X[0].shape[0])\n",
    "\n",
    "y_pred = np.concatenate(y_pred)\n",
    "#y_pred = y_pred.reshape(timesteps)*200.0\n",
    "y_pred = y_pred*maxy\n",
    "\n",
    "plt.rcParams['figure.figsize'] = (5,5)\n",
    "plt.scatter(Y[s], y_pred)\n",
    "ax = plt.gca()\n",
    "diag = max(ax.get_xlim(), ax.get_ylim())\n",
    "ax.plot(diag, diag, ls=\"--\", c=\".3\")\n",
    "ax.plot([0,0], ax.get_ylim(), ls=\"--\", c=\".3\")\n",
    "ax.plot(ax.get_xlim(), [0,0], ls=\"--\", c=\".3\")\n",
    "plt.xlabel('Actual')\n",
    "plt.ylabel('Predicted')\n",
    "\n",
    "r2_score(Y[s], y_pred)"
   ]
  },
  {
   "cell_type": "markdown",
   "metadata": {},
   "source": [
    "# Tall and wide?"
   ]
  },
  {
   "cell_type": "code",
   "execution_count": 1234,
   "metadata": {},
   "outputs": [
    {
     "name": "stdout",
     "output_type": "stream",
     "text": [
      "_________________________________________________________________\n",
      "Layer (type)                 Output Shape              Param #   \n",
      "=================================================================\n",
      "conv1d_48 (Conv1D)           (28, 1, 1)                40501     \n",
      "=================================================================\n",
      "Total params: 40,501\n",
      "Trainable params: 40,501\n",
      "Non-trainable params: 0\n",
      "_________________________________________________________________\n",
      "None\n"
     ]
    }
   ],
   "source": [
    "wide = Sequential()                                                                                                                                     \n",
    "wide.add(Conv1D(\n",
    "    filters=1,\n",
    "    kernel_size=500,\n",
    "    batch_input_shape=xwide.shape,\n",
    "    activation='sigmoid'\n",
    "))  \n",
    "print wide.summary()"
   ]
  },
  {
   "cell_type": "code",
   "execution_count": 1221,
   "metadata": {
    "collapsed": true
   },
   "outputs": [
    {
     "name": "stdout",
     "output_type": "stream",
     "text": [
      "28\n",
      "['CHALLENGED' 'COMPILATION_ERROR' 'CONTESTANT' 'GYM'\n",
      " 'IDLENESS_LIMIT_EXCEEDED' 'MEMORY_LIMIT_EXCEEDED' 'OK'\n",
      " 'OUT_OF_COMPETITION' 'PRACTICE' 'PRESENTATION_ERROR' 'RUNTIME_ERROR'\n",
      " 'SKIPPED' 'TIME_LIMIT_EXCEEDED' 'VIRTUAL' 'WRONG_ANSWER'\n",
      " 'hours_solve_to_contest' 'hours_submit_to_contest' 'hours_submit_to_solve'\n",
      " 'oldrating' 'points' 'problem_rating' 'rank' 'smoothed_3months' 'REJECTED'\n",
      " 'FAILED' 'CRASHED' 'TESTING' 'PARTIAL']\n",
      "(28, 500, 81)\n",
      "(28, 500, 28)\n",
      "_________________________________________________________________\n",
      "Layer (type)                 Output Shape              Param #   \n",
      "=================================================================\n",
      "conv1d_40 (Conv1D)           (28, 1, 10)               405010    \n",
      "_________________________________________________________________\n",
      "global_average_pooling1d_9 ( (28, 10)                  0         \n",
      "=================================================================\n",
      "Total params: 405,010\n",
      "Trainable params: 405,010\n",
      "Non-trainable params: 0\n",
      "_________________________________________________________________\n",
      "None\n",
      "_________________________________________________________________\n",
      "Layer (type)                 Output Shape              Param #   \n",
      "=================================================================\n",
      "masking_111 (Masking)        (28, 500, 28)             0         \n",
      "_________________________________________________________________\n",
      "gru_198 (GRU)                (28, 500, 10)             1140      \n",
      "_________________________________________________________________\n",
      "gru_199 (GRU)                (28, 4)                   168       \n",
      "_________________________________________________________________\n",
      "dense_200 (Dense)            (28, 10)                  40        \n",
      "_________________________________________________________________\n",
      "dropout_125 (Dropout)        (28, 10)                  0         \n",
      "=================================================================\n",
      "Total params: 1,348\n",
      "Trainable params: 1,348\n",
      "Non-trainable params: 0\n",
      "_________________________________________________________________\n",
      "None\n",
      "_________________________________________________________________\n",
      "Layer (type)                 Output Shape              Param #   \n",
      "=================================================================\n",
      "merge_42 (Merge)             (28, 20)                  0         \n",
      "_________________________________________________________________\n",
      "dense_201 (Dense)            (28, 1)                   20        \n",
      "=================================================================\n",
      "Total params: 406,378\n",
      "Trainable params: 406,378\n",
      "Non-trainable params: 0\n",
      "_________________________________________________________________\n",
      "None\n"
     ]
    }
   ],
   "source": [
    "reload(keras_functions)\n",
    "\n",
    "keepidx = [i for i in range(len(colnames)) if colnames[i] not in binvars]\n",
    "binidx = [i for i in range(len(colnames)) if colnames[i] in binvars]\n",
    "print len(np.array(colnames)[keepidx])\n",
    "print np.array(colnames)[keepidx]\n",
    "\n",
    "optimizer = keras.optimizers.RMSprop(lr=0.01, rho=0.9, epsilon=1e-08, decay=0.01)\n",
    "xin = X[s]/xmax\n",
    "xwide = xin[:, :, binidx]\n",
    "xin = xin[:, :, keepidx]\n",
    "\n",
    "print xwide.shape\n",
    "print xin.shape\n",
    "\n",
    "yin = Y[s]/maxy\n",
    "batchsize = xin.shape\n",
    "\n",
    "model = keras_functions.wide_and_deep([10, 4, 10], xwide.shape, xin.shape, verbose=1)\n",
    "\n",
    "# ---------------------------------\n",
    "# Compile model\n",
    "# ---------------------------------\n",
    "model.compile(optimizer=optimizer,\n",
    "              loss='mean_squared_error',\n",
    "              metrics=['mae'])"
   ]
  },
  {
   "cell_type": "code",
   "execution_count": 1222,
   "metadata": {},
   "outputs": [
    {
     "name": "stdout",
     "output_type": "stream",
     "text": [
      "Epoch 1/1\n",
      "12s - loss: 0.0532 - mean_absolute_error: 0.1763\n",
      "Epoch 1/1\n",
      "3s - loss: 0.1740 - mean_absolute_error: 0.3610\n",
      "Epoch 1/1\n",
      "2s - loss: 0.0519 - mean_absolute_error: 0.1915\n",
      "Epoch 1/1\n",
      "2s - loss: 0.0257 - mean_absolute_error: 0.1279\n",
      "Epoch 1/1\n",
      "2s - loss: 0.0343 - mean_absolute_error: 0.1449\n",
      "Epoch 1/1\n",
      "2s - loss: 0.0155 - mean_absolute_error: 0.0965\n",
      "Epoch 1/1\n",
      "2s - loss: 0.0165 - mean_absolute_error: 0.0953\n",
      "Epoch 1/1\n",
      "2s - loss: 0.0196 - mean_absolute_error: 0.1084\n",
      "Epoch 1/1\n",
      "2s - loss: 0.0256 - mean_absolute_error: 0.1292\n",
      "Epoch 1/1\n",
      "2s - loss: 0.0092 - mean_absolute_error: 0.0756\n",
      "Epoch 1/1\n",
      "2s - loss: 0.0106 - mean_absolute_error: 0.0756\n",
      "Epoch 1/1\n",
      "2s - loss: 0.0097 - mean_absolute_error: 0.0770\n",
      "Epoch 1/1\n",
      "2s - loss: 0.0096 - mean_absolute_error: 0.0786\n",
      "Epoch 1/1\n",
      "2s - loss: 0.0070 - mean_absolute_error: 0.0637\n",
      "Epoch 1/1\n",
      "3s - loss: 0.0088 - mean_absolute_error: 0.0704\n",
      "Epoch 1/1\n",
      "3s - loss: 0.0094 - mean_absolute_error: 0.0761\n",
      "Epoch 1/1\n",
      "2s - loss: 0.0093 - mean_absolute_error: 0.0757\n",
      "Epoch 1/1\n",
      "3s - loss: 0.0087 - mean_absolute_error: 0.0730\n",
      "Epoch 1/1\n",
      "3s - loss: 0.0101 - mean_absolute_error: 0.0773\n",
      "Epoch 1/1\n",
      "2s - loss: 0.0074 - mean_absolute_error: 0.0670\n",
      "Epoch 1/1\n",
      "2s - loss: 0.0078 - mean_absolute_error: 0.0665\n",
      "Epoch 1/1\n",
      "3s - loss: 0.0115 - mean_absolute_error: 0.0820\n",
      "Epoch 1/1\n",
      "3s - loss: 0.0068 - mean_absolute_error: 0.0690\n",
      "Epoch 1/1\n",
      "3s - loss: 0.0099 - mean_absolute_error: 0.0769\n",
      "Epoch 1/1\n",
      "3s - loss: 0.0090 - mean_absolute_error: 0.0805\n",
      "Epoch 1/1\n",
      "3s - loss: 0.0086 - mean_absolute_error: 0.0797\n",
      "Epoch 1/1\n",
      "2s - loss: 0.0061 - mean_absolute_error: 0.0657\n",
      "Epoch 1/1\n",
      "3s - loss: 0.0072 - mean_absolute_error: 0.0632\n",
      "Epoch 1/1\n",
      "2s - loss: 0.0071 - mean_absolute_error: 0.0621\n",
      "Epoch 1/1\n",
      "2s - loss: 0.0043 - mean_absolute_error: 0.0509\n",
      "Epoch 1/1\n",
      "3s - loss: 0.0040 - mean_absolute_error: 0.0532\n",
      "Epoch 1/1\n",
      "3s - loss: 0.0037 - mean_absolute_error: 0.0497\n",
      "Epoch 1/1\n",
      "3s - loss: 0.0051 - mean_absolute_error: 0.0611\n",
      "Epoch 1/1\n",
      "3s - loss: 0.0033 - mean_absolute_error: 0.0427\n",
      "Epoch 1/1\n",
      "3s - loss: 0.0036 - mean_absolute_error: 0.0495\n",
      "Epoch 1/1\n",
      "2s - loss: 0.0041 - mean_absolute_error: 0.0486\n",
      "Epoch 1/1\n",
      "3s - loss: 0.0046 - mean_absolute_error: 0.0526\n",
      "Epoch 1/1\n",
      "3s - loss: 0.0058 - mean_absolute_error: 0.0608\n",
      "Epoch 1/1\n",
      "2s - loss: 0.0082 - mean_absolute_error: 0.0752\n",
      "Epoch 1/1\n",
      "3s - loss: 0.0079 - mean_absolute_error: 0.0622\n",
      "Epoch 1/1\n",
      "3s - loss: 0.0069 - mean_absolute_error: 0.0574\n",
      "Epoch 1/1\n",
      "2s - loss: 0.0037 - mean_absolute_error: 0.0492\n",
      "Epoch 1/1\n",
      "3s - loss: 0.0035 - mean_absolute_error: 0.0495\n",
      "Epoch 1/1\n",
      "3s - loss: 0.0036 - mean_absolute_error: 0.0458\n",
      "Epoch 1/1\n",
      "2s - loss: 0.0035 - mean_absolute_error: 0.0509\n",
      "Epoch 1/1\n",
      "3s - loss: 0.0028 - mean_absolute_error: 0.0442\n",
      "Epoch 1/1\n",
      "3s - loss: 0.0023 - mean_absolute_error: 0.0377\n",
      "Epoch 1/1\n",
      "2s - loss: 0.0027 - mean_absolute_error: 0.0421\n",
      "Epoch 1/1\n",
      "3s - loss: 0.0037 - mean_absolute_error: 0.0445\n",
      "Epoch 1/1\n",
      "3s - loss: 0.0029 - mean_absolute_error: 0.0422\n",
      "Epoch 1/1\n",
      "3s - loss: 0.0038 - mean_absolute_error: 0.0506\n",
      "Epoch 1/1\n",
      "3s - loss: 0.0056 - mean_absolute_error: 0.0638\n",
      "Epoch 1/1\n",
      "3s - loss: 0.0059 - mean_absolute_error: 0.0637\n",
      "Epoch 1/1\n",
      "2s - loss: 0.0052 - mean_absolute_error: 0.0589\n",
      "Epoch 1/1\n",
      "2s - loss: 0.0044 - mean_absolute_error: 0.0555\n",
      "Epoch 1/1\n",
      "3s - loss: 0.0032 - mean_absolute_error: 0.0472\n",
      "Epoch 1/1\n",
      "3s - loss: 0.0033 - mean_absolute_error: 0.0474\n",
      "Epoch 1/1\n",
      "2s - loss: 0.0033 - mean_absolute_error: 0.0474\n",
      "Epoch 1/1\n",
      "3s - loss: 0.0031 - mean_absolute_error: 0.0441\n",
      "Epoch 1/1\n",
      "2s - loss: 0.0028 - mean_absolute_error: 0.0421\n",
      "Epoch 1/1\n",
      "2s - loss: 0.0034 - mean_absolute_error: 0.0472\n",
      "Epoch 1/1\n",
      "3s - loss: 0.0032 - mean_absolute_error: 0.0460\n",
      "Epoch 1/1\n",
      "3s - loss: 0.0032 - mean_absolute_error: 0.0481\n",
      "Epoch 1/1\n",
      "3s - loss: 0.0027 - mean_absolute_error: 0.0433\n",
      "Epoch 1/1\n",
      "3s - loss: 0.0028 - mean_absolute_error: 0.0456\n",
      "Epoch 1/1\n",
      "3s - loss: 0.0033 - mean_absolute_error: 0.0451\n",
      "Epoch 1/1\n",
      "3s - loss: 0.0032 - mean_absolute_error: 0.0460\n",
      "Epoch 1/1\n",
      "2s - loss: 0.0034 - mean_absolute_error: 0.0465\n",
      "Epoch 1/1\n",
      "3s - loss: 0.0025 - mean_absolute_error: 0.0392\n",
      "Epoch 1/1\n",
      "3s - loss: 0.0031 - mean_absolute_error: 0.0432\n",
      "Epoch 1/1\n",
      "2s - loss: 0.0029 - mean_absolute_error: 0.0444\n",
      "Epoch 1/1\n",
      "3s - loss: 0.0030 - mean_absolute_error: 0.0443\n",
      "Epoch 1/1\n",
      "3s - loss: 0.0028 - mean_absolute_error: 0.0439\n",
      "Epoch 1/1\n",
      "2s - loss: 0.0034 - mean_absolute_error: 0.0471\n",
      "Epoch 1/1\n",
      "3s - loss: 0.0030 - mean_absolute_error: 0.0456\n",
      "Epoch 1/1\n",
      "3s - loss: 0.0036 - mean_absolute_error: 0.0521\n",
      "Epoch 1/1\n",
      "2s - loss: 0.0033 - mean_absolute_error: 0.0459\n",
      "Epoch 1/1\n",
      "2s - loss: 0.0030 - mean_absolute_error: 0.0463\n",
      "Epoch 1/1\n",
      "3s - loss: 0.0026 - mean_absolute_error: 0.0410\n",
      "Epoch 1/1\n",
      "2s - loss: 0.0025 - mean_absolute_error: 0.0393\n",
      "Epoch 1/1\n",
      "3s - loss: 0.0021 - mean_absolute_error: 0.0346\n",
      "Epoch 1/1\n",
      "2s - loss: 0.0023 - mean_absolute_error: 0.0385\n",
      "Epoch 1/1\n",
      "3s - loss: 0.0027 - mean_absolute_error: 0.0415\n",
      "Epoch 1/1\n",
      "3s - loss: 0.0029 - mean_absolute_error: 0.0443\n",
      "Epoch 1/1\n",
      "3s - loss: 0.0030 - mean_absolute_error: 0.0458\n",
      "Epoch 1/1\n",
      "3s - loss: 0.0031 - mean_absolute_error: 0.0453\n",
      "Epoch 1/1\n",
      "2s - loss: 0.0031 - mean_absolute_error: 0.0467\n",
      "Epoch 1/1\n",
      "3s - loss: 0.0026 - mean_absolute_error: 0.0435\n",
      "Epoch 1/1\n",
      "3s - loss: 0.0022 - mean_absolute_error: 0.0389\n",
      "Epoch 1/1\n",
      "2s - loss: 0.0022 - mean_absolute_error: 0.0363\n",
      "Epoch 1/1\n",
      "3s - loss: 0.0022 - mean_absolute_error: 0.0372\n",
      "Epoch 1/1\n",
      "3s - loss: 0.0021 - mean_absolute_error: 0.0372\n",
      "Epoch 1/1\n",
      "2s - loss: 0.0025 - mean_absolute_error: 0.0412\n",
      "Epoch 1/1\n",
      "3s - loss: 0.0027 - mean_absolute_error: 0.0430\n",
      "Epoch 1/1\n",
      "3s - loss: 0.0034 - mean_absolute_error: 0.0496\n",
      "Epoch 1/1\n",
      "3s - loss: 0.0025 - mean_absolute_error: 0.0406\n",
      "Epoch 1/1\n",
      "3s - loss: 0.0023 - mean_absolute_error: 0.0396\n",
      "Epoch 1/1\n",
      "3s - loss: 0.0029 - mean_absolute_error: 0.0447\n",
      "Epoch 1/1\n",
      "3s - loss: 0.0028 - mean_absolute_error: 0.0466\n",
      "Epoch 1/1\n",
      "3s - loss: 0.0026 - mean_absolute_error: 0.0417\n",
      "Epoch 1/1\n",
      "3s - loss: 0.0028 - mean_absolute_error: 0.0441\n",
      "Epoch 1/1\n",
      "3s - loss: 0.0025 - mean_absolute_error: 0.0408\n",
      "Epoch 1/1\n",
      "2s - loss: 0.0019 - mean_absolute_error: 0.0360\n",
      "Epoch 1/1\n",
      "4s - loss: 0.0022 - mean_absolute_error: 0.0376\n",
      "Epoch 1/1\n",
      "3s - loss: 0.0022 - mean_absolute_error: 0.0386\n",
      "Epoch 1/1\n",
      "3s - loss: 0.0021 - mean_absolute_error: 0.0371\n",
      "Epoch 1/1\n",
      "3s - loss: 0.0024 - mean_absolute_error: 0.0395\n",
      "Epoch 1/1\n",
      "3s - loss: 0.0023 - mean_absolute_error: 0.0377\n",
      "Epoch 1/1\n",
      "2s - loss: 0.0023 - mean_absolute_error: 0.0399\n",
      "Epoch 1/1\n",
      "3s - loss: 0.0029 - mean_absolute_error: 0.0438\n",
      "Epoch 1/1\n",
      "3s - loss: 0.0021 - mean_absolute_error: 0.0383\n",
      "Epoch 1/1\n",
      "2s - loss: 0.0020 - mean_absolute_error: 0.0364\n",
      "Epoch 1/1\n",
      "3s - loss: 0.0021 - mean_absolute_error: 0.0372\n",
      "Epoch 1/1\n",
      "4s - loss: 0.0025 - mean_absolute_error: 0.0404\n",
      "Epoch 1/1\n",
      "3s - loss: 0.0022 - mean_absolute_error: 0.0373\n",
      "Epoch 1/1\n",
      "3s - loss: 0.0022 - mean_absolute_error: 0.0381\n",
      "Epoch 1/1\n",
      "3s - loss: 0.0024 - mean_absolute_error: 0.0387\n",
      "Epoch 1/1\n",
      "3s - loss: 0.0023 - mean_absolute_error: 0.0388\n",
      "Epoch 1/1\n",
      "3s - loss: 0.0025 - mean_absolute_error: 0.0409\n",
      "Epoch 1/1\n",
      "3s - loss: 0.0025 - mean_absolute_error: 0.0413\n",
      "Epoch 1/1\n",
      "3s - loss: 0.0025 - mean_absolute_error: 0.0412\n",
      "Epoch 1/1\n",
      "2s - loss: 0.0021 - mean_absolute_error: 0.0369\n",
      "Epoch 1/1\n",
      "3s - loss: 0.0024 - mean_absolute_error: 0.0399\n",
      "Epoch 1/1\n",
      "3s - loss: 0.0023 - mean_absolute_error: 0.0357\n",
      "Epoch 1/1\n",
      "2s - loss: 0.0021 - mean_absolute_error: 0.0352\n",
      "Epoch 1/1\n",
      "3s - loss: 0.0018 - mean_absolute_error: 0.0318\n",
      "Epoch 1/1\n",
      "3s - loss: 0.0020 - mean_absolute_error: 0.0330\n",
      "Epoch 1/1\n",
      "3s - loss: 0.0019 - mean_absolute_error: 0.0327\n",
      "Epoch 1/1\n",
      "3s - loss: 0.0018 - mean_absolute_error: 0.0320\n",
      "Epoch 1/1\n",
      "3s - loss: 0.0018 - mean_absolute_error: 0.0331\n",
      "Epoch 1/1\n",
      "2s - loss: 0.0018 - mean_absolute_error: 0.0344\n",
      "Epoch 1/1\n",
      "3s - loss: 0.0021 - mean_absolute_error: 0.0378\n",
      "Epoch 1/1\n",
      "3s - loss: 0.0025 - mean_absolute_error: 0.0422\n",
      "Epoch 1/1\n",
      "2s - loss: 0.0027 - mean_absolute_error: 0.0413\n",
      "Epoch 1/1\n",
      "2s - loss: 0.0031 - mean_absolute_error: 0.0447\n",
      "Epoch 1/1\n",
      "3s - loss: 0.0024 - mean_absolute_error: 0.0370\n",
      "Epoch 1/1\n",
      "3s - loss: 0.0021 - mean_absolute_error: 0.0333\n",
      "Epoch 1/1\n",
      "3s - loss: 0.0020 - mean_absolute_error: 0.0333\n",
      "Epoch 1/1\n",
      "2s - loss: 0.0022 - mean_absolute_error: 0.0373\n",
      "Epoch 1/1\n",
      "2s - loss: 0.0022 - mean_absolute_error: 0.0356\n",
      "Epoch 1/1\n",
      "2s - loss: 0.0023 - mean_absolute_error: 0.0393\n",
      "Epoch 1/1\n",
      "3s - loss: 0.0021 - mean_absolute_error: 0.0364\n",
      "Epoch 1/1\n"
     ]
    },
    {
     "name": "stdout",
     "output_type": "stream",
     "text": [
      "2s - loss: 0.0022 - mean_absolute_error: 0.0380\n",
      "Epoch 1/1\n",
      "2s - loss: 0.0021 - mean_absolute_error: 0.0364\n",
      "Epoch 1/1\n",
      "2s - loss: 0.0021 - mean_absolute_error: 0.0375\n",
      "Epoch 1/1\n",
      "3s - loss: 0.0019 - mean_absolute_error: 0.0354\n",
      "Epoch 1/1\n",
      "3s - loss: 0.0022 - mean_absolute_error: 0.0371\n",
      "Epoch 1/1\n",
      "3s - loss: 0.0019 - mean_absolute_error: 0.0346\n",
      "Epoch 1/1\n",
      "2s - loss: 0.0020 - mean_absolute_error: 0.0353\n",
      "Epoch 1/1\n",
      "3s - loss: 0.0022 - mean_absolute_error: 0.0376\n",
      "Epoch 1/1\n",
      "3s - loss: 0.0021 - mean_absolute_error: 0.0360\n",
      "Epoch 1/1\n",
      "2s - loss: 0.0019 - mean_absolute_error: 0.0332\n",
      "Epoch 1/1\n",
      "3s - loss: 0.0020 - mean_absolute_error: 0.0366\n",
      "Epoch 1/1\n",
      "3s - loss: 0.0019 - mean_absolute_error: 0.0345\n",
      "Epoch 1/1\n",
      "3s - loss: 0.0018 - mean_absolute_error: 0.0339\n",
      "Epoch 1/1\n",
      "3s - loss: 0.0017 - mean_absolute_error: 0.0323\n",
      "Epoch 1/1\n",
      "3s - loss: 0.0019 - mean_absolute_error: 0.0353\n",
      "Epoch 1/1\n",
      "3s - loss: 0.0018 - mean_absolute_error: 0.0332\n",
      "Epoch 1/1\n",
      "3s - loss: 0.0022 - mean_absolute_error: 0.0383\n",
      "Epoch 1/1\n",
      "4s - loss: 0.0021 - mean_absolute_error: 0.0380\n",
      "Epoch 1/1\n",
      "3s - loss: 0.0020 - mean_absolute_error: 0.0352\n",
      "Epoch 1/1\n",
      "4s - loss: 0.0022 - mean_absolute_error: 0.0376\n",
      "Epoch 1/1\n",
      "3s - loss: 0.0020 - mean_absolute_error: 0.0350\n",
      "Epoch 1/1\n",
      "3s - loss: 0.0022 - mean_absolute_error: 0.0364\n",
      "Epoch 1/1\n",
      "3s - loss: 0.0028 - mean_absolute_error: 0.0455\n",
      "Epoch 1/1\n",
      "3s - loss: 0.0024 - mean_absolute_error: 0.0406\n",
      "Epoch 1/1\n",
      "3s - loss: 0.0020 - mean_absolute_error: 0.0369\n",
      "Epoch 1/1\n",
      "3s - loss: 0.0018 - mean_absolute_error: 0.0335\n",
      "Epoch 1/1\n",
      "4s - loss: 0.0017 - mean_absolute_error: 0.0313\n",
      "Epoch 1/1\n"
     ]
    },
    {
     "ename": "KeyboardInterrupt",
     "evalue": "",
     "output_type": "error",
     "traceback": [
      "\u001b[0;31m---------------------------------------------------------------------------\u001b[0m",
      "\u001b[0;31mKeyboardInterrupt\u001b[0m                         Traceback (most recent call last)",
      "\u001b[0;32m<ipython-input-1222-e98157e09494>\u001b[0m in \u001b[0;36m<module>\u001b[0;34m()\u001b[0m\n\u001b[1;32m      1\u001b[0m \u001b[0;32mfor\u001b[0m \u001b[0mi\u001b[0m \u001b[0;32min\u001b[0m \u001b[0mrange\u001b[0m\u001b[0;34m(\u001b[0m\u001b[0mepochs\u001b[0m\u001b[0;34m)\u001b[0m\u001b[0;34m:\u001b[0m\u001b[0;34m\u001b[0m\u001b[0m\n\u001b[0;32m----> 2\u001b[0;31m     \u001b[0mh\u001b[0m \u001b[0;34m=\u001b[0m \u001b[0mmodel\u001b[0m\u001b[0;34m.\u001b[0m\u001b[0mfit\u001b[0m\u001b[0;34m(\u001b[0m\u001b[0;34m[\u001b[0m\u001b[0mxwide\u001b[0m\u001b[0;34m,\u001b[0m \u001b[0mxin\u001b[0m\u001b[0;34m]\u001b[0m\u001b[0;34m,\u001b[0m \u001b[0myin\u001b[0m\u001b[0;34m,\u001b[0m \u001b[0mepochs\u001b[0m\u001b[0;34m=\u001b[0m\u001b[0;36m1\u001b[0m\u001b[0;34m,\u001b[0m \u001b[0mshuffle\u001b[0m\u001b[0;34m=\u001b[0m\u001b[0mFalse\u001b[0m\u001b[0;34m,\u001b[0m \u001b[0mbatch_size\u001b[0m\u001b[0;34m=\u001b[0m\u001b[0mbatchsize\u001b[0m\u001b[0;34m[\u001b[0m\u001b[0;36m0\u001b[0m\u001b[0;34m]\u001b[0m\u001b[0;34m,\u001b[0m \u001b[0mverbose\u001b[0m\u001b[0;34m=\u001b[0m\u001b[0;36m2\u001b[0m\u001b[0;34m)\u001b[0m\u001b[0;34m\u001b[0m\u001b[0m\n\u001b[0m\u001b[1;32m      3\u001b[0m     \u001b[0;31m#h = model.fit([xwide, xin], yin, epochs=1, shuffle=False, batch_size=batchsize[0], verbose=2)\u001b[0m\u001b[0;34m\u001b[0m\u001b[0;34m\u001b[0m\u001b[0m\n\u001b[1;32m      4\u001b[0m     \u001b[0mmodel\u001b[0m\u001b[0;34m.\u001b[0m\u001b[0mreset_states\u001b[0m\u001b[0;34m(\u001b[0m\u001b[0;34m)\u001b[0m\u001b[0;34m\u001b[0m\u001b[0m\n\u001b[1;32m      5\u001b[0m     \u001b[0mhistory\u001b[0m\u001b[0;34m.\u001b[0m\u001b[0mappend\u001b[0m\u001b[0;34m(\u001b[0m\u001b[0mh\u001b[0m\u001b[0;34m)\u001b[0m\u001b[0;34m\u001b[0m\u001b[0m\n",
      "\u001b[0;32m/usr/local/lib/python2.7/site-packages/keras/models.pyc\u001b[0m in \u001b[0;36mfit\u001b[0;34m(self, x, y, batch_size, epochs, verbose, callbacks, validation_split, validation_data, shuffle, class_weight, sample_weight, initial_epoch, **kwargs)\u001b[0m\n\u001b[1;32m    854\u001b[0m                               \u001b[0mclass_weight\u001b[0m\u001b[0;34m=\u001b[0m\u001b[0mclass_weight\u001b[0m\u001b[0;34m,\u001b[0m\u001b[0;34m\u001b[0m\u001b[0m\n\u001b[1;32m    855\u001b[0m                               \u001b[0msample_weight\u001b[0m\u001b[0;34m=\u001b[0m\u001b[0msample_weight\u001b[0m\u001b[0;34m,\u001b[0m\u001b[0;34m\u001b[0m\u001b[0m\n\u001b[0;32m--> 856\u001b[0;31m                               initial_epoch=initial_epoch)\n\u001b[0m\u001b[1;32m    857\u001b[0m \u001b[0;34m\u001b[0m\u001b[0m\n\u001b[1;32m    858\u001b[0m     def evaluate(self, x, y, batch_size=32, verbose=1,\n",
      "\u001b[0;32m/usr/local/lib/python2.7/site-packages/keras/engine/training.pyc\u001b[0m in \u001b[0;36mfit\u001b[0;34m(self, x, y, batch_size, epochs, verbose, callbacks, validation_split, validation_data, shuffle, class_weight, sample_weight, initial_epoch, **kwargs)\u001b[0m\n\u001b[1;32m   1496\u001b[0m                               \u001b[0mval_f\u001b[0m\u001b[0;34m=\u001b[0m\u001b[0mval_f\u001b[0m\u001b[0;34m,\u001b[0m \u001b[0mval_ins\u001b[0m\u001b[0;34m=\u001b[0m\u001b[0mval_ins\u001b[0m\u001b[0;34m,\u001b[0m \u001b[0mshuffle\u001b[0m\u001b[0;34m=\u001b[0m\u001b[0mshuffle\u001b[0m\u001b[0;34m,\u001b[0m\u001b[0;34m\u001b[0m\u001b[0m\n\u001b[1;32m   1497\u001b[0m                               \u001b[0mcallback_metrics\u001b[0m\u001b[0;34m=\u001b[0m\u001b[0mcallback_metrics\u001b[0m\u001b[0;34m,\u001b[0m\u001b[0;34m\u001b[0m\u001b[0m\n\u001b[0;32m-> 1498\u001b[0;31m                               initial_epoch=initial_epoch)\n\u001b[0m\u001b[1;32m   1499\u001b[0m \u001b[0;34m\u001b[0m\u001b[0m\n\u001b[1;32m   1500\u001b[0m     \u001b[0;32mdef\u001b[0m \u001b[0mevaluate\u001b[0m\u001b[0;34m(\u001b[0m\u001b[0mself\u001b[0m\u001b[0;34m,\u001b[0m \u001b[0mx\u001b[0m\u001b[0;34m,\u001b[0m \u001b[0my\u001b[0m\u001b[0;34m,\u001b[0m \u001b[0mbatch_size\u001b[0m\u001b[0;34m=\u001b[0m\u001b[0;36m32\u001b[0m\u001b[0;34m,\u001b[0m \u001b[0mverbose\u001b[0m\u001b[0;34m=\u001b[0m\u001b[0;36m1\u001b[0m\u001b[0;34m,\u001b[0m \u001b[0msample_weight\u001b[0m\u001b[0;34m=\u001b[0m\u001b[0mNone\u001b[0m\u001b[0;34m)\u001b[0m\u001b[0;34m:\u001b[0m\u001b[0;34m\u001b[0m\u001b[0m\n",
      "\u001b[0;32m/usr/local/lib/python2.7/site-packages/keras/engine/training.pyc\u001b[0m in \u001b[0;36m_fit_loop\u001b[0;34m(self, f, ins, out_labels, batch_size, epochs, verbose, callbacks, val_f, val_ins, shuffle, callback_metrics, initial_epoch)\u001b[0m\n\u001b[1;32m   1150\u001b[0m                 \u001b[0mbatch_logs\u001b[0m\u001b[0;34m[\u001b[0m\u001b[0;34m'size'\u001b[0m\u001b[0;34m]\u001b[0m \u001b[0;34m=\u001b[0m \u001b[0mlen\u001b[0m\u001b[0;34m(\u001b[0m\u001b[0mbatch_ids\u001b[0m\u001b[0;34m)\u001b[0m\u001b[0;34m\u001b[0m\u001b[0m\n\u001b[1;32m   1151\u001b[0m                 \u001b[0mcallbacks\u001b[0m\u001b[0;34m.\u001b[0m\u001b[0mon_batch_begin\u001b[0m\u001b[0;34m(\u001b[0m\u001b[0mbatch_index\u001b[0m\u001b[0;34m,\u001b[0m \u001b[0mbatch_logs\u001b[0m\u001b[0;34m)\u001b[0m\u001b[0;34m\u001b[0m\u001b[0m\n\u001b[0;32m-> 1152\u001b[0;31m                 \u001b[0mouts\u001b[0m \u001b[0;34m=\u001b[0m \u001b[0mf\u001b[0m\u001b[0;34m(\u001b[0m\u001b[0mins_batch\u001b[0m\u001b[0;34m)\u001b[0m\u001b[0;34m\u001b[0m\u001b[0m\n\u001b[0m\u001b[1;32m   1153\u001b[0m                 \u001b[0;32mif\u001b[0m \u001b[0;32mnot\u001b[0m \u001b[0misinstance\u001b[0m\u001b[0;34m(\u001b[0m\u001b[0mouts\u001b[0m\u001b[0;34m,\u001b[0m \u001b[0mlist\u001b[0m\u001b[0;34m)\u001b[0m\u001b[0;34m:\u001b[0m\u001b[0;34m\u001b[0m\u001b[0m\n\u001b[1;32m   1154\u001b[0m                     \u001b[0mouts\u001b[0m \u001b[0;34m=\u001b[0m \u001b[0;34m[\u001b[0m\u001b[0mouts\u001b[0m\u001b[0;34m]\u001b[0m\u001b[0;34m\u001b[0m\u001b[0m\n",
      "\u001b[0;32m/usr/local/lib/python2.7/site-packages/keras/backend/tensorflow_backend.pyc\u001b[0m in \u001b[0;36m__call__\u001b[0;34m(self, inputs)\u001b[0m\n\u001b[1;32m   2227\u001b[0m         \u001b[0msession\u001b[0m \u001b[0;34m=\u001b[0m \u001b[0mget_session\u001b[0m\u001b[0;34m(\u001b[0m\u001b[0;34m)\u001b[0m\u001b[0;34m\u001b[0m\u001b[0m\n\u001b[1;32m   2228\u001b[0m         updated = session.run(self.outputs + [self.updates_op],\n\u001b[0;32m-> 2229\u001b[0;31m                               feed_dict=feed_dict)\n\u001b[0m\u001b[1;32m   2230\u001b[0m         \u001b[0;32mreturn\u001b[0m \u001b[0mupdated\u001b[0m\u001b[0;34m[\u001b[0m\u001b[0;34m:\u001b[0m\u001b[0mlen\u001b[0m\u001b[0;34m(\u001b[0m\u001b[0mself\u001b[0m\u001b[0;34m.\u001b[0m\u001b[0moutputs\u001b[0m\u001b[0;34m)\u001b[0m\u001b[0;34m]\u001b[0m\u001b[0;34m\u001b[0m\u001b[0m\n\u001b[1;32m   2231\u001b[0m \u001b[0;34m\u001b[0m\u001b[0m\n",
      "\u001b[0;32m/usr/local/lib/python2.7/site-packages/tensorflow/python/client/session.pyc\u001b[0m in \u001b[0;36mrun\u001b[0;34m(self, fetches, feed_dict, options, run_metadata)\u001b[0m\n\u001b[1;32m    776\u001b[0m     \u001b[0;32mtry\u001b[0m\u001b[0;34m:\u001b[0m\u001b[0;34m\u001b[0m\u001b[0m\n\u001b[1;32m    777\u001b[0m       result = self._run(None, fetches, feed_dict, options_ptr,\n\u001b[0;32m--> 778\u001b[0;31m                          run_metadata_ptr)\n\u001b[0m\u001b[1;32m    779\u001b[0m       \u001b[0;32mif\u001b[0m \u001b[0mrun_metadata\u001b[0m\u001b[0;34m:\u001b[0m\u001b[0;34m\u001b[0m\u001b[0m\n\u001b[1;32m    780\u001b[0m         \u001b[0mproto_data\u001b[0m \u001b[0;34m=\u001b[0m \u001b[0mtf_session\u001b[0m\u001b[0;34m.\u001b[0m\u001b[0mTF_GetBuffer\u001b[0m\u001b[0;34m(\u001b[0m\u001b[0mrun_metadata_ptr\u001b[0m\u001b[0;34m)\u001b[0m\u001b[0;34m\u001b[0m\u001b[0m\n",
      "\u001b[0;32m/usr/local/lib/python2.7/site-packages/tensorflow/python/client/session.pyc\u001b[0m in \u001b[0;36m_run\u001b[0;34m(self, handle, fetches, feed_dict, options, run_metadata)\u001b[0m\n\u001b[1;32m    980\u001b[0m     \u001b[0;32mif\u001b[0m \u001b[0mfinal_fetches\u001b[0m \u001b[0;32mor\u001b[0m \u001b[0mfinal_targets\u001b[0m\u001b[0;34m:\u001b[0m\u001b[0;34m\u001b[0m\u001b[0m\n\u001b[1;32m    981\u001b[0m       results = self._do_run(handle, final_targets, final_fetches,\n\u001b[0;32m--> 982\u001b[0;31m                              feed_dict_string, options, run_metadata)\n\u001b[0m\u001b[1;32m    983\u001b[0m     \u001b[0;32melse\u001b[0m\u001b[0;34m:\u001b[0m\u001b[0;34m\u001b[0m\u001b[0m\n\u001b[1;32m    984\u001b[0m       \u001b[0mresults\u001b[0m \u001b[0;34m=\u001b[0m \u001b[0;34m[\u001b[0m\u001b[0;34m]\u001b[0m\u001b[0;34m\u001b[0m\u001b[0m\n",
      "\u001b[0;32m/usr/local/lib/python2.7/site-packages/tensorflow/python/client/session.pyc\u001b[0m in \u001b[0;36m_do_run\u001b[0;34m(self, handle, target_list, fetch_list, feed_dict, options, run_metadata)\u001b[0m\n\u001b[1;32m   1030\u001b[0m     \u001b[0;32mif\u001b[0m \u001b[0mhandle\u001b[0m \u001b[0;32mis\u001b[0m \u001b[0mNone\u001b[0m\u001b[0;34m:\u001b[0m\u001b[0;34m\u001b[0m\u001b[0m\n\u001b[1;32m   1031\u001b[0m       return self._do_call(_run_fn, self._session, feed_dict, fetch_list,\n\u001b[0;32m-> 1032\u001b[0;31m                            target_list, options, run_metadata)\n\u001b[0m\u001b[1;32m   1033\u001b[0m     \u001b[0;32melse\u001b[0m\u001b[0;34m:\u001b[0m\u001b[0;34m\u001b[0m\u001b[0m\n\u001b[1;32m   1034\u001b[0m       return self._do_call(_prun_fn, self._session, handle, feed_dict,\n",
      "\u001b[0;32m/usr/local/lib/python2.7/site-packages/tensorflow/python/client/session.pyc\u001b[0m in \u001b[0;36m_do_call\u001b[0;34m(self, fn, *args)\u001b[0m\n\u001b[1;32m   1037\u001b[0m   \u001b[0;32mdef\u001b[0m \u001b[0m_do_call\u001b[0m\u001b[0;34m(\u001b[0m\u001b[0mself\u001b[0m\u001b[0;34m,\u001b[0m \u001b[0mfn\u001b[0m\u001b[0;34m,\u001b[0m \u001b[0;34m*\u001b[0m\u001b[0margs\u001b[0m\u001b[0;34m)\u001b[0m\u001b[0;34m:\u001b[0m\u001b[0;34m\u001b[0m\u001b[0m\n\u001b[1;32m   1038\u001b[0m     \u001b[0;32mtry\u001b[0m\u001b[0;34m:\u001b[0m\u001b[0;34m\u001b[0m\u001b[0m\n\u001b[0;32m-> 1039\u001b[0;31m       \u001b[0;32mreturn\u001b[0m \u001b[0mfn\u001b[0m\u001b[0;34m(\u001b[0m\u001b[0;34m*\u001b[0m\u001b[0margs\u001b[0m\u001b[0;34m)\u001b[0m\u001b[0;34m\u001b[0m\u001b[0m\n\u001b[0m\u001b[1;32m   1040\u001b[0m     \u001b[0;32mexcept\u001b[0m \u001b[0merrors\u001b[0m\u001b[0;34m.\u001b[0m\u001b[0mOpError\u001b[0m \u001b[0;32mas\u001b[0m \u001b[0me\u001b[0m\u001b[0;34m:\u001b[0m\u001b[0;34m\u001b[0m\u001b[0m\n\u001b[1;32m   1041\u001b[0m       \u001b[0mmessage\u001b[0m \u001b[0;34m=\u001b[0m \u001b[0mcompat\u001b[0m\u001b[0;34m.\u001b[0m\u001b[0mas_text\u001b[0m\u001b[0;34m(\u001b[0m\u001b[0me\u001b[0m\u001b[0;34m.\u001b[0m\u001b[0mmessage\u001b[0m\u001b[0;34m)\u001b[0m\u001b[0;34m\u001b[0m\u001b[0m\n",
      "\u001b[0;32m/usr/local/lib/python2.7/site-packages/tensorflow/python/client/session.pyc\u001b[0m in \u001b[0;36m_run_fn\u001b[0;34m(session, feed_dict, fetch_list, target_list, options, run_metadata)\u001b[0m\n\u001b[1;32m   1019\u001b[0m         return tf_session.TF_Run(session, options,\n\u001b[1;32m   1020\u001b[0m                                  \u001b[0mfeed_dict\u001b[0m\u001b[0;34m,\u001b[0m \u001b[0mfetch_list\u001b[0m\u001b[0;34m,\u001b[0m \u001b[0mtarget_list\u001b[0m\u001b[0;34m,\u001b[0m\u001b[0;34m\u001b[0m\u001b[0m\n\u001b[0;32m-> 1021\u001b[0;31m                                  status, run_metadata)\n\u001b[0m\u001b[1;32m   1022\u001b[0m \u001b[0;34m\u001b[0m\u001b[0m\n\u001b[1;32m   1023\u001b[0m     \u001b[0;32mdef\u001b[0m \u001b[0m_prun_fn\u001b[0m\u001b[0;34m(\u001b[0m\u001b[0msession\u001b[0m\u001b[0;34m,\u001b[0m \u001b[0mhandle\u001b[0m\u001b[0;34m,\u001b[0m \u001b[0mfeed_dict\u001b[0m\u001b[0;34m,\u001b[0m \u001b[0mfetch_list\u001b[0m\u001b[0;34m)\u001b[0m\u001b[0;34m:\u001b[0m\u001b[0;34m\u001b[0m\u001b[0m\n",
      "\u001b[0;31mKeyboardInterrupt\u001b[0m: "
     ]
    }
   ],
   "source": [
    "for i in range(epochs):\n",
    "    h = model.fit([xwide, xin], yin, epochs=1, shuffle=False, batch_size=batchsize[0], verbose=2)\n",
    "    #h = model.fit([xwide, xin], yin, epochs=1, shuffle=False, batch_size=batchsize[0], verbose=2)\n",
    "    model.reset_states()\n",
    "    history.append(h)"
   ]
  }
 ],
 "metadata": {
  "kernelspec": {
   "display_name": "Python 2",
   "language": "python",
   "name": "python2"
  },
  "language_info": {
   "codemirror_mode": {
    "name": "ipython",
    "version": 2
   },
   "file_extension": ".py",
   "mimetype": "text/x-python",
   "name": "python",
   "nbconvert_exporter": "python",
   "pygments_lexer": "ipython2",
   "version": "2.7.13"
  },
  "toc": {
   "toc_cell": false,
   "toc_number_sections": true,
   "toc_threshold": 6,
   "toc_window_display": true
  }
 },
 "nbformat": 4,
 "nbformat_minor": 2
}
