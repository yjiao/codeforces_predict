{
 "cells": [
  {
   "cell_type": "markdown",
   "metadata": {},
   "source": [
    "http://machinelearningmastery.com/time-series-prediction-lstm-recurrent-neural-networks-python-keras/"
   ]
  },
  {
   "cell_type": "code",
   "execution_count": 544,
   "metadata": {
    "collapsed": true
   },
   "outputs": [],
   "source": [
    "from tensorflow.contrib import keras\n",
    "import tensorflow as tf\n",
    "\n",
    "import matplotlib.pyplot as plt\n",
    "import pandas as pd\n",
    "import math\n",
    "import numpy as np\n",
    "\n",
    "import keras\n",
    "from keras.models import Sequential\n",
    "from keras.layers import Dense\n",
    "from keras.layers import LSTM\n",
    "\n",
    "from sklearn.preprocessing import MinMaxScaler\n",
    "from sklearn.metrics import mean_squared_error\n",
    "\n",
    "import psycopg2\n",
    "from sklearn.model_selection import train_test_split"
   ]
  },
  {
   "cell_type": "code",
   "execution_count": 545,
   "metadata": {
    "collapsed": true
   },
   "outputs": [],
   "source": [
    "# fix random seed for reproducibility\n",
    "np.random.seed(7)"
   ]
  },
  {
   "cell_type": "markdown",
   "metadata": {},
   "source": [
    "# Load data"
   ]
  },
  {
   "cell_type": "code",
   "execution_count": 546,
   "metadata": {
    "collapsed": true
   },
   "outputs": [],
   "source": [
    "data = pd.read_csv('rnn_train/chenmark.csv')\n",
    "\n",
    "# drop the first contest--too much variance\n",
    "data.sort_values('ratingupdatetimeseconds', inplace=True)\n",
    "firstcid = data.contestid.values[0]\n",
    "\n",
    "#data.reset_index(inplace=True)\n",
    "data.drop(data.index[data.contestid == firstcid], axis=0, inplace=True)"
   ]
  },
  {
   "cell_type": "code",
   "execution_count": 547,
   "metadata": {
    "collapsed": true
   },
   "outputs": [],
   "source": [
    "con = psycopg2.connect(database='codeforces', user='Joy')\n",
    "cur = con.cursor()"
   ]
  },
  {
   "cell_type": "markdown",
   "metadata": {},
   "source": [
    "## binarize some variables"
   ]
  },
  {
   "cell_type": "code",
   "execution_count": 548,
   "metadata": {
    "collapsed": true
   },
   "outputs": [],
   "source": [
    "cur.execute(\"select * from all_participanttypes\", con)\n",
    "all_part = [c[1] for c in cur.fetchall()]\n",
    "\n",
    "cur.execute(\"select * from all_tags\", con)\n",
    "all_tags = [c[1] for c in cur.fetchall()]\n",
    "\n",
    "cur.execute(\"select * from all_language\", con)\n",
    "all_lang = [c[1] for c in cur.fetchall()]\n",
    "\n",
    "#cur.execute(\"select * from all_verdicts\", con)\n",
    "#all_verd = [c[1] for c in cur.fetchall()]"
   ]
  },
  {
   "cell_type": "code",
   "execution_count": 549,
   "metadata": {
    "collapsed": true
   },
   "outputs": [],
   "source": [
    "# set binary columns to binary, some of them were counts by mistake\n",
    "bin_vars = all_part + all_tags + all_lang\n",
    "data[bin_vars] = data[bin_vars].fillna(value=0)\n",
    "\n",
    "for b in bin_vars:\n",
    "    data.loc[ data[b] > 0, b] = 1"
   ]
  },
  {
   "cell_type": "code",
   "execution_count": 550,
   "metadata": {
    "run_control": {
     "marked": true
    }
   },
   "outputs": [
    {
     "data": {
      "text/html": [
       "<div>\n",
       "<style>\n",
       "    .dataframe thead tr:only-child th {\n",
       "        text-align: right;\n",
       "    }\n",
       "\n",
       "    .dataframe thead th {\n",
       "        text-align: left;\n",
       "    }\n",
       "\n",
       "    .dataframe tbody tr th {\n",
       "        vertical-align: top;\n",
       "    }\n",
       "</style>\n",
       "<table border=\"1\" class=\"dataframe\">\n",
       "  <thead>\n",
       "    <tr style=\"text-align: right;\">\n",
       "      <th></th>\n",
       "      <th>CHALLENGED</th>\n",
       "      <th>COMPILATION_ERROR</th>\n",
       "      <th>CONTESTANT</th>\n",
       "      <th>CRASHED</th>\n",
       "      <th>GNU C++</th>\n",
       "      <th>GNU C++11</th>\n",
       "      <th>GYM</th>\n",
       "      <th>MEMORY_LIMIT_EXCEEDED</th>\n",
       "      <th>MS C++</th>\n",
       "      <th>Mysterious Language</th>\n",
       "      <th>...</th>\n",
       "      <th>FALSE</th>\n",
       "      <th>Mono C#</th>\n",
       "      <th>Java 7</th>\n",
       "      <th>Tcl</th>\n",
       "      <th>Haskell</th>\n",
       "      <th>Cobol</th>\n",
       "      <th>Io</th>\n",
       "      <th>GNU C++0x</th>\n",
       "      <th>GNU C++14</th>\n",
       "      <th>GNU C++11 ZIP</th>\n",
       "    </tr>\n",
       "  </thead>\n",
       "  <tbody>\n",
       "    <tr>\n",
       "      <th>142</th>\n",
       "      <td>NaN</td>\n",
       "      <td>NaN</td>\n",
       "      <td>1.0</td>\n",
       "      <td>NaN</td>\n",
       "      <td>1.0</td>\n",
       "      <td>0.0</td>\n",
       "      <td>0.0</td>\n",
       "      <td>NaN</td>\n",
       "      <td>0.0</td>\n",
       "      <td>0.0</td>\n",
       "      <td>...</td>\n",
       "      <td>0.0</td>\n",
       "      <td>0.0</td>\n",
       "      <td>0.0</td>\n",
       "      <td>0.0</td>\n",
       "      <td>0.0</td>\n",
       "      <td>0.0</td>\n",
       "      <td>0.0</td>\n",
       "      <td>0.0</td>\n",
       "      <td>0.0</td>\n",
       "      <td>0.0</td>\n",
       "    </tr>\n",
       "    <tr>\n",
       "      <th>137</th>\n",
       "      <td>NaN</td>\n",
       "      <td>NaN</td>\n",
       "      <td>1.0</td>\n",
       "      <td>NaN</td>\n",
       "      <td>1.0</td>\n",
       "      <td>0.0</td>\n",
       "      <td>0.0</td>\n",
       "      <td>NaN</td>\n",
       "      <td>0.0</td>\n",
       "      <td>0.0</td>\n",
       "      <td>...</td>\n",
       "      <td>0.0</td>\n",
       "      <td>0.0</td>\n",
       "      <td>0.0</td>\n",
       "      <td>0.0</td>\n",
       "      <td>0.0</td>\n",
       "      <td>0.0</td>\n",
       "      <td>0.0</td>\n",
       "      <td>0.0</td>\n",
       "      <td>0.0</td>\n",
       "      <td>0.0</td>\n",
       "    </tr>\n",
       "    <tr>\n",
       "      <th>143</th>\n",
       "      <td>NaN</td>\n",
       "      <td>NaN</td>\n",
       "      <td>1.0</td>\n",
       "      <td>NaN</td>\n",
       "      <td>1.0</td>\n",
       "      <td>0.0</td>\n",
       "      <td>0.0</td>\n",
       "      <td>NaN</td>\n",
       "      <td>0.0</td>\n",
       "      <td>0.0</td>\n",
       "      <td>...</td>\n",
       "      <td>0.0</td>\n",
       "      <td>0.0</td>\n",
       "      <td>0.0</td>\n",
       "      <td>0.0</td>\n",
       "      <td>0.0</td>\n",
       "      <td>0.0</td>\n",
       "      <td>0.0</td>\n",
       "      <td>0.0</td>\n",
       "      <td>0.0</td>\n",
       "      <td>0.0</td>\n",
       "    </tr>\n",
       "    <tr>\n",
       "      <th>145</th>\n",
       "      <td>NaN</td>\n",
       "      <td>NaN</td>\n",
       "      <td>1.0</td>\n",
       "      <td>NaN</td>\n",
       "      <td>1.0</td>\n",
       "      <td>0.0</td>\n",
       "      <td>0.0</td>\n",
       "      <td>NaN</td>\n",
       "      <td>0.0</td>\n",
       "      <td>0.0</td>\n",
       "      <td>...</td>\n",
       "      <td>0.0</td>\n",
       "      <td>0.0</td>\n",
       "      <td>0.0</td>\n",
       "      <td>0.0</td>\n",
       "      <td>0.0</td>\n",
       "      <td>0.0</td>\n",
       "      <td>0.0</td>\n",
       "      <td>0.0</td>\n",
       "      <td>0.0</td>\n",
       "      <td>0.0</td>\n",
       "    </tr>\n",
       "    <tr>\n",
       "      <th>146</th>\n",
       "      <td>NaN</td>\n",
       "      <td>NaN</td>\n",
       "      <td>1.0</td>\n",
       "      <td>NaN</td>\n",
       "      <td>1.0</td>\n",
       "      <td>0.0</td>\n",
       "      <td>0.0</td>\n",
       "      <td>NaN</td>\n",
       "      <td>0.0</td>\n",
       "      <td>0.0</td>\n",
       "      <td>...</td>\n",
       "      <td>0.0</td>\n",
       "      <td>0.0</td>\n",
       "      <td>0.0</td>\n",
       "      <td>0.0</td>\n",
       "      <td>0.0</td>\n",
       "      <td>0.0</td>\n",
       "      <td>0.0</td>\n",
       "      <td>0.0</td>\n",
       "      <td>0.0</td>\n",
       "      <td>0.0</td>\n",
       "    </tr>\n",
       "  </tbody>\n",
       "</table>\n",
       "<p>5 rows × 123 columns</p>\n",
       "</div>"
      ],
      "text/plain": [
       "     CHALLENGED  COMPILATION_ERROR  CONTESTANT  CRASHED  GNU C++  GNU C++11  \\\n",
       "142         NaN                NaN         1.0      NaN      1.0        0.0   \n",
       "137         NaN                NaN         1.0      NaN      1.0        0.0   \n",
       "143         NaN                NaN         1.0      NaN      1.0        0.0   \n",
       "145         NaN                NaN         1.0      NaN      1.0        0.0   \n",
       "146         NaN                NaN         1.0      NaN      1.0        0.0   \n",
       "\n",
       "     GYM  MEMORY_LIMIT_EXCEEDED  MS C++  Mysterious Language      ...        \\\n",
       "142  0.0                    NaN     0.0                  0.0      ...         \n",
       "137  0.0                    NaN     0.0                  0.0      ...         \n",
       "143  0.0                    NaN     0.0                  0.0      ...         \n",
       "145  0.0                    NaN     0.0                  0.0      ...         \n",
       "146  0.0                    NaN     0.0                  0.0      ...         \n",
       "\n",
       "     FALSE  Mono C#  Java 7  Tcl  Haskell  Cobol   Io  GNU C++0x  GNU C++14  \\\n",
       "142    0.0      0.0     0.0  0.0      0.0    0.0  0.0        0.0        0.0   \n",
       "137    0.0      0.0     0.0  0.0      0.0    0.0  0.0        0.0        0.0   \n",
       "143    0.0      0.0     0.0  0.0      0.0    0.0  0.0        0.0        0.0   \n",
       "145    0.0      0.0     0.0  0.0      0.0    0.0  0.0        0.0        0.0   \n",
       "146    0.0      0.0     0.0  0.0      0.0    0.0  0.0        0.0        0.0   \n",
       "\n",
       "     GNU C++11 ZIP  \n",
       "142            0.0  \n",
       "137            0.0  \n",
       "143            0.0  \n",
       "145            0.0  \n",
       "146            0.0  \n",
       "\n",
       "[5 rows x 123 columns]"
      ]
     },
     "execution_count": 550,
     "metadata": {},
     "output_type": "execute_result"
    }
   ],
   "source": [
    "data.head()"
   ]
  },
  {
   "cell_type": "code",
   "execution_count": 551,
   "metadata": {},
   "outputs": [
    {
     "name": "stdout",
     "output_type": "stream",
     "text": [
      "CHALLENGED\n",
      "COMPILATION_ERROR\n",
      "CONTESTANT\n",
      "CRASHED\n",
      "GNU C++\n",
      "GNU C++11\n",
      "GYM\n",
      "MEMORY_LIMIT_EXCEEDED\n",
      "MS C++\n",
      "Mysterious Language\n",
      "OK\n",
      "OUT_OF_COMPETITION\n",
      "PARTIAL\n",
      "PRACTICE\n",
      "PyPy 2\n",
      "Python 2\n",
      "REJECTED\n",
      "RUNTIME_ERROR\n",
      "SKIPPED\n",
      "TIME_LIMIT_EXCEEDED\n",
      "VIRTUAL\n",
      "WRONG_ANSWER\n",
      "contestid\n",
      "delta_smoothed_1months\n",
      "delta_smoothed_2months\n",
      "delta_smoothed_3months\n",
      "delta_smoothed_4months\n",
      "delta_smoothed_5months\n",
      "handle\n",
      "index\n",
      "newrating\n",
      "oldrating\n",
      "points\n",
      "problem_rating\n",
      "rank\n",
      "ratingupdatetimeseconds\n",
      "smoothed_1months\n",
      "smoothed_2months\n",
      "smoothed_3months\n",
      "smoothed_4months\n",
      "smoothed_5months\n",
      "solvetimeseconds\n",
      "starttimeseconds\n",
      "stoptimeseconds\n",
      "shortest paths\n",
      "2-sat\n",
      "greedy\n",
      "meet-in-the-middle\n",
      "matrices\n",
      "number theory\n",
      "constructive algorithms\n",
      "chinese remainder theorem\n",
      "implementation\n",
      "ternary search\n",
      "schedules\n",
      "dsu\n",
      "dfs and similar\n",
      "graph matchings\n",
      "string suffix structures\n",
      "math\n",
      "probabilities\n",
      "fft\n",
      "divide and conquer\n",
      "two pointers\n",
      "trees\n",
      "data structures\n",
      "flows\n",
      "sortings\n",
      "expression parsing\n",
      "dp\n",
      "hashing\n",
      "bitmasks\n",
      "*special\n",
      "geometry\n",
      "combinatorics\n",
      "graphs\n",
      "brute force\n",
      "games\n",
      "binary search\n",
      "strings\n",
      "PRESENTATION_ERROR\n",
      "TESTING\n",
      "FAILED\n",
      "IDLENESS_LIMIT_EXCEEDED\n",
      "Scala\n",
      "Delphi\n",
      "JavaScript\n",
      "PyPy 3\n",
      "Perl\n",
      "Factor\n",
      "D\n",
      "FPC\n",
      "Ada\n",
      "F#\n",
      "Java 8\n",
      "Picat\n",
      "Ruby\n",
      "Java 8 ZIP\n",
      "Pike\n",
      "GNU C\n",
      "MS C#\n",
      "Python 3\n",
      "Secret_171\n",
      "Kotlin\n",
      "J\n",
      "Ocaml\n",
      "Java 6\n",
      "Go\n",
      "Roco\n",
      "GNU C11\n",
      "Befunge\n",
      "Rust\n",
      "PHP\n",
      "FALSE\n",
      "Mono C#\n",
      "Java 7\n",
      "Tcl\n",
      "Haskell\n",
      "Cobol\n",
      "Io\n",
      "GNU C++0x\n",
      "GNU C++14\n",
      "GNU C++11 ZIP\n"
     ]
    }
   ],
   "source": [
    "for c in data.columns:\n",
    "    print c"
   ]
  },
  {
   "cell_type": "markdown",
   "metadata": {},
   "source": [
    "##  Remove unnecessary columns"
   ]
  },
  {
   "cell_type": "code",
   "execution_count": 552,
   "metadata": {
    "collapsed": true
   },
   "outputs": [],
   "source": [
    "month = 3"
   ]
  },
  {
   "cell_type": "code",
   "execution_count": 553,
   "metadata": {
    "collapsed": true
   },
   "outputs": [],
   "source": [
    "df_data = data\n",
    "for m in range(1,6):\n",
    "    if m == month:\n",
    "        continue\n",
    "    name1 = \"delta_smoothed_%dmonths\" % m\n",
    "    name2 = \"smoothed_%dmonths\" % m\n",
    "    \n",
    "    df_data.drop([name1, name2], axis=1, inplace=True)\n",
    "\n",
    "df_train = df_data.drop(['handle', 'index'], axis=1)"
   ]
  },
  {
   "cell_type": "code",
   "execution_count": 554,
   "metadata": {
    "collapsed": true
   },
   "outputs": [],
   "source": [
    "df_train.fillna(value=0, inplace=True)"
   ]
  },
  {
   "cell_type": "markdown",
   "metadata": {},
   "source": [
    "## Feature scaling and grouping by contest"
   ]
  },
  {
   "cell_type": "code",
   "execution_count": 555,
   "metadata": {
    "collapsed": true
   },
   "outputs": [],
   "source": [
    "colname = 'delta_smoothed_%dmonths' % month\n",
    "cols = list(df_train.columns.values)\n",
    "colidx = cols.index(colname)\n",
    "\n",
    "cids = df_train.contestid\n",
    "\n",
    "scaler = MinMaxScaler(feature_range=(0, 1))\n",
    "df_train_scaled = scaler.fit_transform(df_train)\n",
    "df_train_scaled = pd.DataFrame(df_train_scaled)\n",
    "df_train_scaled.columns = cols\n",
    "\n",
    "# add back in cols that should not be scaled\n",
    "df_train_scaled['contestid'] = cids\n",
    "df_train_scaled[colname] = df_train[colname]"
   ]
  },
  {
   "cell_type": "code",
   "execution_count": 556,
   "metadata": {
    "collapsed": true
   },
   "outputs": [],
   "source": [
    "groups = df_train_scaled.groupby('contestid')"
   ]
  },
  {
   "cell_type": "code",
   "execution_count": 557,
   "metadata": {
    "collapsed": true,
    "scrolled": false
   },
   "outputs": [],
   "source": [
    "trainlist = []\n",
    "ylist = []\n",
    "bins = range(-200, 200, 20)\n",
    "\n",
    "for k, v in groups:\n",
    "    base = [0] * (len(bins) + 1)\n",
    "    v.is_copy = False\n",
    "    \n",
    "    v.drop('contestid', axis=1, inplace=True)\n",
    "    y = v.loc[:, colname].values[0]\n",
    "    v.drop(colname, inplace=True, axis=1)\n",
    "    \n",
    "    trainlist.append(v)\n",
    "    ylist.append(y)"
   ]
  },
  {
   "cell_type": "code",
   "execution_count": 558,
   "metadata": {},
   "outputs": [
    {
     "data": {
      "text/plain": [
       "(-23.699999999999999, 65.314285709999993)"
      ]
     },
     "execution_count": 558,
     "metadata": {},
     "output_type": "execute_result"
    }
   ],
   "source": [
    "min(ylist), max(ylist)"
   ]
  },
  {
   "cell_type": "code",
   "execution_count": 559,
   "metadata": {},
   "outputs": [
    {
     "data": {
      "text/plain": [
       "[[0, 0, 0, 0, 0, 0, 0, 0, 0, 0, 1, 0, 0, 0, 0, 0, 0, 0, 0, 0, 0],\n",
       " [0, 0, 0, 0, 0, 0, 0, 0, 0, 0, 1, 0, 0, 0, 0, 0, 0, 0, 0, 0, 0],\n",
       " [0, 0, 0, 0, 0, 0, 0, 0, 0, 0, 0, 0, 1, 0, 0, 0, 0, 0, 0, 0, 0],\n",
       " [0, 0, 0, 0, 0, 0, 0, 0, 0, 0, 0, 1, 0, 0, 0, 0, 0, 0, 0, 0, 0],\n",
       " [0, 0, 0, 0, 0, 0, 0, 0, 0, 0, 0, 1, 0, 0, 0, 0, 0, 0, 0, 0, 0],\n",
       " [0, 0, 0, 0, 0, 0, 0, 0, 0, 0, 0, 1, 0, 0, 0, 0, 0, 0, 0, 0, 0],\n",
       " [0, 0, 0, 0, 0, 0, 0, 0, 0, 0, 1, 0, 0, 0, 0, 0, 0, 0, 0, 0, 0],\n",
       " [0, 0, 0, 0, 0, 0, 0, 0, 0, 0, 0, 1, 0, 0, 0, 0, 0, 0, 0, 0, 0],\n",
       " [0, 0, 0, 0, 0, 0, 0, 0, 0, 0, 0, 1, 0, 0, 0, 0, 0, 0, 0, 0, 0],\n",
       " [0, 0, 0, 0, 0, 0, 0, 0, 0, 0, 1, 0, 0, 0, 0, 0, 0, 0, 0, 0, 0],\n",
       " [0, 0, 0, 0, 0, 0, 0, 0, 0, 0, 1, 0, 0, 0, 0, 0, 0, 0, 0, 0, 0],\n",
       " [0, 0, 0, 0, 0, 0, 0, 0, 0, 0, 1, 0, 0, 0, 0, 0, 0, 0, 0, 0, 0],\n",
       " [0, 0, 0, 0, 0, 0, 0, 0, 0, 0, 0, 1, 0, 0, 0, 0, 0, 0, 0, 0, 0],\n",
       " [0, 0, 0, 0, 0, 0, 0, 0, 0, 0, 0, 1, 0, 0, 0, 0, 0, 0, 0, 0, 0],\n",
       " [0, 0, 0, 0, 0, 0, 0, 0, 0, 0, 0, 0, 1, 0, 0, 0, 0, 0, 0, 0, 0],\n",
       " [0, 0, 0, 0, 0, 0, 0, 0, 0, 0, 0, 0, 0, 1, 0, 0, 0, 0, 0, 0, 0],\n",
       " [0, 0, 0, 0, 0, 0, 0, 0, 0, 0, 0, 0, 0, 1, 0, 0, 0, 0, 0, 0, 0],\n",
       " [0, 0, 0, 0, 0, 0, 0, 0, 0, 0, 0, 0, 1, 0, 0, 0, 0, 0, 0, 0, 0],\n",
       " [0, 0, 0, 0, 0, 0, 0, 0, 0, 0, 0, 0, 1, 0, 0, 0, 0, 0, 0, 0, 0],\n",
       " [0, 0, 0, 0, 0, 0, 0, 0, 0, 0, 0, 0, 1, 0, 0, 0, 0, 0, 0, 0, 0],\n",
       " [0, 0, 0, 0, 0, 0, 0, 0, 0, 0, 0, 0, 1, 0, 0, 0, 0, 0, 0, 0, 0],\n",
       " [0, 0, 0, 0, 0, 0, 0, 0, 0, 1, 0, 0, 0, 0, 0, 0, 0, 0, 0, 0, 0],\n",
       " [0, 0, 0, 0, 0, 0, 0, 0, 0, 0, 1, 0, 0, 0, 0, 0, 0, 0, 0, 0, 0],\n",
       " [0, 0, 0, 0, 0, 0, 0, 0, 0, 0, 1, 0, 0, 0, 0, 0, 0, 0, 0, 0, 0],\n",
       " [0, 0, 0, 0, 0, 0, 0, 0, 0, 0, 0, 0, 1, 0, 0, 0, 0, 0, 0, 0, 0],\n",
       " [0, 0, 0, 0, 0, 0, 0, 0, 0, 0, 0, 1, 0, 0, 0, 0, 0, 0, 0, 0, 0],\n",
       " [0, 0, 0, 0, 0, 0, 0, 0, 0, 0, 0, 1, 0, 0, 0, 0, 0, 0, 0, 0, 0],\n",
       " [0, 0, 0, 0, 0, 0, 0, 0, 0, 0, 1, 0, 0, 0, 0, 0, 0, 0, 0, 0, 0],\n",
       " [0, 0, 0, 0, 0, 0, 0, 0, 0, 0, 1, 0, 0, 0, 0, 0, 0, 0, 0, 0, 0],\n",
       " [0, 0, 0, 0, 0, 0, 0, 0, 0, 0, 0, 0, 1, 0, 0, 0, 0, 0, 0, 0, 0],\n",
       " [0, 0, 0, 0, 0, 0, 0, 0, 0, 0, 1, 0, 0, 0, 0, 0, 0, 0, 0, 0, 0],\n",
       " [0, 0, 0, 0, 0, 0, 0, 0, 0, 0, 1, 0, 0, 0, 0, 0, 0, 0, 0, 0, 0],\n",
       " [0, 0, 0, 0, 0, 0, 0, 0, 0, 0, 1, 0, 0, 0, 0, 0, 0, 0, 0, 0, 0],\n",
       " [0, 0, 0, 0, 0, 0, 0, 0, 0, 0, 0, 0, 1, 0, 0, 0, 0, 0, 0, 0, 0],\n",
       " [0, 0, 0, 0, 0, 0, 0, 0, 0, 0, 0, 1, 0, 0, 0, 0, 0, 0, 0, 0, 0],\n",
       " [0, 0, 0, 0, 0, 0, 0, 0, 0, 0, 1, 0, 0, 0, 0, 0, 0, 0, 0, 0, 0],\n",
       " [0, 0, 0, 0, 0, 0, 0, 0, 0, 0, 0, 0, 1, 0, 0, 0, 0, 0, 0, 0, 0],\n",
       " [0, 0, 0, 0, 0, 0, 0, 0, 0, 0, 1, 0, 0, 0, 0, 0, 0, 0, 0, 0, 0],\n",
       " [0, 0, 0, 0, 0, 0, 0, 0, 0, 0, 0, 1, 0, 0, 0, 0, 0, 0, 0, 0, 0],\n",
       " [0, 0, 0, 0, 0, 0, 0, 0, 0, 0, 0, 0, 1, 0, 0, 0, 0, 0, 0, 0, 0],\n",
       " [0, 0, 0, 0, 0, 0, 0, 0, 0, 0, 0, 1, 0, 0, 0, 0, 0, 0, 0, 0, 0],\n",
       " [0, 0, 0, 0, 0, 0, 0, 0, 0, 0, 0, 0, 1, 0, 0, 0, 0, 0, 0, 0, 0],\n",
       " [0, 0, 0, 0, 0, 0, 0, 0, 0, 0, 0, 0, 0, 1, 0, 0, 0, 0, 0, 0, 0],\n",
       " [0, 0, 0, 0, 0, 0, 0, 0, 0, 0, 0, 0, 0, 0, 1, 0, 0, 0, 0, 0, 0],\n",
       " [0, 0, 0, 0, 0, 0, 0, 0, 0, 0, 1, 0, 0, 0, 0, 0, 0, 0, 0, 0, 0],\n",
       " [0, 0, 0, 0, 0, 0, 0, 0, 0, 0, 1, 0, 0, 0, 0, 0, 0, 0, 0, 0, 0],\n",
       " [0, 0, 0, 0, 0, 0, 0, 0, 0, 0, 1, 0, 0, 0, 0, 0, 0, 0, 0, 0, 0],\n",
       " [0, 0, 0, 0, 0, 0, 0, 0, 0, 0, 1, 0, 0, 0, 0, 0, 0, 0, 0, 0, 0],\n",
       " [0, 0, 0, 0, 0, 0, 0, 0, 0, 0, 1, 0, 0, 0, 0, 0, 0, 0, 0, 0, 0],\n",
       " [0, 0, 0, 0, 0, 0, 0, 0, 0, 0, 0, 1, 0, 0, 0, 0, 0, 0, 0, 0, 0],\n",
       " [0, 0, 0, 0, 0, 0, 0, 0, 0, 0, 0, 1, 0, 0, 0, 0, 0, 0, 0, 0, 0],\n",
       " [0, 0, 0, 0, 0, 0, 0, 0, 0, 0, 0, 1, 0, 0, 0, 0, 0, 0, 0, 0, 0],\n",
       " [0, 0, 0, 0, 0, 0, 0, 0, 0, 0, 0, 1, 0, 0, 0, 0, 0, 0, 0, 0, 0],\n",
       " [0, 0, 0, 0, 0, 0, 0, 0, 0, 0, 1, 0, 0, 0, 0, 0, 0, 0, 0, 0, 0],\n",
       " [0, 0, 0, 0, 0, 0, 0, 0, 0, 0, 0, 1, 0, 0, 0, 0, 0, 0, 0, 0, 0],\n",
       " [0, 0, 0, 0, 0, 0, 0, 0, 0, 0, 0, 1, 0, 0, 0, 0, 0, 0, 0, 0, 0],\n",
       " [0, 0, 0, 0, 0, 0, 0, 0, 0, 0, 1, 0, 0, 0, 0, 0, 0, 0, 0, 0, 0],\n",
       " [0, 0, 0, 0, 0, 0, 0, 0, 0, 0, 0, 1, 0, 0, 0, 0, 0, 0, 0, 0, 0],\n",
       " [0, 0, 0, 0, 0, 0, 0, 0, 0, 0, 1, 0, 0, 0, 0, 0, 0, 0, 0, 0, 0],\n",
       " [0, 0, 0, 0, 0, 0, 0, 0, 0, 0, 1, 0, 0, 0, 0, 0, 0, 0, 0, 0, 0],\n",
       " [0, 0, 0, 0, 0, 0, 0, 0, 0, 1, 0, 0, 0, 0, 0, 0, 0, 0, 0, 0, 0],\n",
       " [0, 0, 0, 0, 0, 0, 0, 0, 0, 0, 0, 1, 0, 0, 0, 0, 0, 0, 0, 0, 0],\n",
       " [0, 0, 0, 0, 0, 0, 0, 0, 0, 0, 0, 1, 0, 0, 0, 0, 0, 0, 0, 0, 0],\n",
       " [0, 0, 0, 0, 0, 0, 0, 0, 0, 0, 0, 0, 0, 1, 0, 0, 0, 0, 0, 0, 0],\n",
       " [0, 0, 0, 0, 0, 0, 0, 0, 0, 0, 0, 1, 0, 0, 0, 0, 0, 0, 0, 0, 0],\n",
       " [0, 0, 0, 0, 0, 0, 0, 0, 0, 0, 1, 0, 0, 0, 0, 0, 0, 0, 0, 0, 0],\n",
       " [0, 0, 0, 0, 0, 0, 0, 0, 0, 0, 1, 0, 0, 0, 0, 0, 0, 0, 0, 0, 0],\n",
       " [0, 0, 0, 0, 0, 0, 0, 0, 0, 0, 1, 0, 0, 0, 0, 0, 0, 0, 0, 0, 0],\n",
       " [0, 0, 0, 0, 0, 0, 0, 0, 0, 0, 1, 0, 0, 0, 0, 0, 0, 0, 0, 0, 0],\n",
       " [0, 0, 0, 0, 0, 0, 0, 0, 0, 0, 0, 1, 0, 0, 0, 0, 0, 0, 0, 0, 0],\n",
       " [0, 0, 0, 0, 0, 0, 0, 0, 0, 0, 1, 0, 0, 0, 0, 0, 0, 0, 0, 0, 0],\n",
       " [0, 0, 0, 0, 0, 0, 0, 0, 0, 0, 1, 0, 0, 0, 0, 0, 0, 0, 0, 0, 0],\n",
       " [0, 0, 0, 0, 0, 0, 0, 0, 0, 0, 0, 1, 0, 0, 0, 0, 0, 0, 0, 0, 0],\n",
       " [0, 0, 0, 0, 0, 0, 0, 0, 0, 0, 0, 1, 0, 0, 0, 0, 0, 0, 0, 0, 0],\n",
       " [0, 0, 0, 0, 0, 0, 0, 0, 0, 0, 0, 1, 0, 0, 0, 0, 0, 0, 0, 0, 0],\n",
       " [0, 0, 0, 0, 0, 0, 0, 0, 0, 0, 0, 1, 0, 0, 0, 0, 0, 0, 0, 0, 0],\n",
       " [0, 0, 0, 0, 0, 0, 0, 0, 0, 0, 0, 1, 0, 0, 0, 0, 0, 0, 0, 0, 0],\n",
       " [0, 0, 0, 0, 0, 0, 0, 0, 0, 0, 0, 1, 0, 0, 0, 0, 0, 0, 0, 0, 0],\n",
       " [0, 0, 0, 0, 0, 0, 0, 0, 0, 0, 0, 1, 0, 0, 0, 0, 0, 0, 0, 0, 0],\n",
       " [0, 0, 0, 0, 0, 0, 0, 0, 0, 0, 0, 0, 1, 0, 0, 0, 0, 0, 0, 0, 0],\n",
       " [0, 0, 0, 0, 0, 0, 0, 0, 0, 0, 0, 1, 0, 0, 0, 0, 0, 0, 0, 0, 0],\n",
       " [0, 0, 0, 0, 0, 0, 0, 0, 0, 0, 0, 0, 1, 0, 0, 0, 0, 0, 0, 0, 0],\n",
       " [0, 0, 0, 0, 0, 0, 0, 0, 0, 0, 1, 0, 0, 0, 0, 0, 0, 0, 0, 0, 0],\n",
       " [0, 0, 0, 0, 0, 0, 0, 0, 0, 0, 0, 1, 0, 0, 0, 0, 0, 0, 0, 0, 0],\n",
       " [0, 0, 0, 0, 0, 0, 0, 0, 0, 0, 1, 0, 0, 0, 0, 0, 0, 0, 0, 0, 0],\n",
       " [0, 0, 0, 0, 0, 0, 0, 0, 0, 0, 1, 0, 0, 0, 0, 0, 0, 0, 0, 0, 0],\n",
       " [0, 0, 0, 0, 0, 0, 0, 0, 0, 0, 0, 1, 0, 0, 0, 0, 0, 0, 0, 0, 0],\n",
       " [0, 0, 0, 0, 0, 0, 0, 0, 0, 0, 0, 1, 0, 0, 0, 0, 0, 0, 0, 0, 0]]"
      ]
     },
     "execution_count": 559,
     "metadata": {},
     "output_type": "execute_result"
    }
   ],
   "source": [
    "yvecs = [ [0] * (len(bins) + 1) for i in range(len(ylist))]\n",
    "idx1 = np.digitize(ylist, bins=bins)\n",
    "\n",
    "for i, j in enumerate(idx1):\n",
    "    yvecs[i][j] = 1\n",
    "#yvecs"
   ]
  },
  {
   "cell_type": "code",
   "execution_count": 560,
   "metadata": {
    "collapsed": true
   },
   "outputs": [],
   "source": [
    "ary = np.array(yvecs)"
   ]
  },
  {
   "cell_type": "code",
   "execution_count": 561,
   "metadata": {},
   "outputs": [
    {
     "data": {
      "text/plain": [
       "(88, 88)"
      ]
     },
     "execution_count": 561,
     "metadata": {},
     "output_type": "execute_result"
    }
   ],
   "source": [
    "len(trainlist), len(ylist)"
   ]
  },
  {
   "cell_type": "markdown",
   "metadata": {},
   "source": [
    "## Pad X values"
   ]
  },
  {
   "cell_type": "code",
   "execution_count": 562,
   "metadata": {},
   "outputs": [],
   "source": [
    "# TODO: need to make this \"universal\" across all users\n",
    "maxtimepts = max([len(t) for t in trainlist])\n",
    "size = trainlist[0].shape[1]\n",
    "\n",
    "for i in range(len(trainlist)):\n",
    "    gap = maxtimepts - len(trainlist[i])\n",
    "    for j in range(gap):\n",
    "        nullrow = [0] * size\n",
    "        trainlist[i].loc[-j-1] = nullrow\n",
    "    trainlist[i].sort_index(inplace = True)"
   ]
  },
  {
   "cell_type": "code",
   "execution_count": 563,
   "metadata": {},
   "outputs": [
    {
     "name": "stdout",
     "output_type": "stream",
     "text": [
      "88\n"
     ]
    },
    {
     "data": {
      "text/plain": [
       "[(41, 111),\n",
       " (41, 111),\n",
       " (41, 111),\n",
       " (41, 111),\n",
       " (41, 111),\n",
       " (41, 111),\n",
       " (41, 111),\n",
       " (41, 111),\n",
       " (41, 111),\n",
       " (41, 111),\n",
       " (41, 111),\n",
       " (41, 111),\n",
       " (41, 111),\n",
       " (41, 111),\n",
       " (41, 111),\n",
       " (41, 111),\n",
       " (41, 111),\n",
       " (41, 111),\n",
       " (41, 111),\n",
       " (41, 111),\n",
       " (41, 111),\n",
       " (41, 111),\n",
       " (41, 111),\n",
       " (41, 111),\n",
       " (41, 111),\n",
       " (41, 111),\n",
       " (41, 111),\n",
       " (41, 111),\n",
       " (41, 111),\n",
       " (41, 111),\n",
       " (41, 111),\n",
       " (41, 111),\n",
       " (41, 111),\n",
       " (41, 111),\n",
       " (41, 111),\n",
       " (41, 111),\n",
       " (41, 111),\n",
       " (41, 111),\n",
       " (41, 111),\n",
       " (41, 111),\n",
       " (41, 111),\n",
       " (41, 111),\n",
       " (41, 111),\n",
       " (41, 111),\n",
       " (41, 111),\n",
       " (41, 111),\n",
       " (41, 111),\n",
       " (41, 111),\n",
       " (41, 111),\n",
       " (41, 111),\n",
       " (41, 111),\n",
       " (41, 111),\n",
       " (41, 111),\n",
       " (41, 111),\n",
       " (41, 111),\n",
       " (41, 111),\n",
       " (41, 111),\n",
       " (41, 111),\n",
       " (41, 111),\n",
       " (41, 111),\n",
       " (41, 111),\n",
       " (41, 111),\n",
       " (41, 111),\n",
       " (41, 111),\n",
       " (41, 111),\n",
       " (41, 111),\n",
       " (41, 111),\n",
       " (41, 111),\n",
       " (41, 111),\n",
       " (41, 111),\n",
       " (41, 111),\n",
       " (41, 111),\n",
       " (41, 111),\n",
       " (41, 111),\n",
       " (41, 111),\n",
       " (41, 111),\n",
       " (41, 111),\n",
       " (41, 111),\n",
       " (41, 111),\n",
       " (41, 111),\n",
       " (41, 111),\n",
       " (41, 111),\n",
       " (41, 111),\n",
       " (41, 111),\n",
       " (41, 111),\n",
       " (41, 111),\n",
       " (41, 111),\n",
       " (41, 111)]"
      ]
     },
     "execution_count": 563,
     "metadata": {},
     "output_type": "execute_result"
    }
   ],
   "source": [
    "print len(trainlist)\n",
    "[t.shape for t in trainlist]"
   ]
  },
  {
   "cell_type": "code",
   "execution_count": 564,
   "metadata": {},
   "outputs": [],
   "source": [
    "dfx = pd.concat(trainlist)\n",
    "dfx.reset_index(inplace=True, drop=True)"
   ]
  },
  {
   "cell_type": "code",
   "execution_count": 565,
   "metadata": {},
   "outputs": [],
   "source": [
    "arx = np.array(dfx)\n",
    "arx = np.reshape(arx, (len(trainlist), maxtimepts, 111))"
   ]
  },
  {
   "cell_type": "markdown",
   "metadata": {},
   "source": [
    "# Set up keras model\n",
    "https://keras.io/layers/recurrent/\n",
    "https://keras.io/getting-started/sequential-model-guide/\n",
    "\n",
    "```keras.layers.recurrent.Recurrent(return_sequences=False, go_backwards=False, stateful=False, unroll=False, implementation=0)```\n",
    "* ```weights```: list of Numpy arrays to set as initial weights. The list should have 3 elements, of shapes: [(input_dim, output_dim), (output_dim, output_dim), (output_dim,)].\n",
    "* ```return_sequences```: Boolean. Whether to return the last output in the output sequence, or the full sequence.\n",
    "* ```go_backwards```: Boolean (default False). If True, process the input sequence backwards and return the reversed sequence.\n",
    "* ```stateful```: Boolean (default False). If True, the last state for each sample at index i in a batch will be used as initial state for the sample of index i in the following batch.\n",
    "* ```unroll```: Boolean (default False). If True, the network will be unrolled, else a symbolic loop will be used. Unrolling can speed-up a RNN, although it tends to be more memory-intensive. Unrolling is only suitable for short sequences.\n",
    "* ```implementation```: one of {0, 1, or 2}. If set to 0, the RNN will use an implementation that uses fewer, larger matrix products, thus running faster on CPU but consuming more memory. If set to 1, the RNN will use more matrix products, but smaller ones, thus running slower (may actually be faster on GPU) while consuming less memory. If set to 2 (LSTM/GRU only), the RNN will combine the input gate, the forget gate and the output gate into a single matrix, enabling more time-efficient parallelization on the GPU.\n",
    "    * Note: RNN dropout must be shared for all gates, resulting in a slightly reduced regularization.\n",
    "* ```input_dim```: dimensionality of the input (integer). This argument (or alternatively, the keyword argument input_shape) is required when using this layer as the first layer in a model.\n",
    "* ```input_length```: Length of input sequences, to be specified when it is constant. This argument is required if you are going to connect  Flatten then Dense layers upstream (without it, the shape of the dense outputs cannot be computed). Note that if the recurrent layer is not the first layer in your model, you would need to specify the input length at the level of the first layer (e.g. via the input_shape argument)\n",
    "\n",
    "**Note on using statefulness in RNNs**\n",
    "\n",
    "You can set RNN layers to be 'stateful', which means that the states computed for the samples in one batch will be reused as initial states for the samples in the next batch. This assumes a one-to-one mapping between samples in different successive batches.\n",
    "\n",
    "To enable statefulness:\n",
    "- specify ```stateful=True``` in the layer constructor. \n",
    "- specify a fixed batch size for your model, by passing if sequential model:  ```batch_input_shape=(...)``` to the first layer in your model.\n",
    "else for functional model with 1 or more Input layers:  ```batch_shape=(...)``` to all the first layers in your model.\n",
    "This is the expected shape of your inputs including the batch size. It should be a tuple of integers, e.g. (32, 10, 100).\n",
    "- specify ```shuffle=False``` when calling ```fit()```.\n",
    "\n",
    "To reset the states of your model, call ```.reset_states()``` on either a specific layer, or on your entire model."
   ]
  },
  {
   "cell_type": "code",
   "execution_count": 566,
   "metadata": {
    "collapsed": true
   },
   "outputs": [],
   "source": [
    "from keras.layers import Dense, Dropout\n",
    "from keras.layers import Embedding\n",
    "from keras.layers import LSTM\n",
    "from keras.layers import GRU"
   ]
  },
  {
   "cell_type": "code",
   "execution_count": 567,
   "metadata": {
    "run_control": {
     "marked": true
    }
   },
   "outputs": [
    {
     "name": "stdout",
     "output_type": "stream",
     "text": [
      "41 111 20\n"
     ]
    }
   ],
   "source": [
    "maxtimepts = max([len(t) for t in trainlist])\n",
    "size = trainlist[0].shape[1]\n",
    "\n",
    "print maxtimepts, size, len(bins)"
   ]
  },
  {
   "cell_type": "code",
   "execution_count": 578,
   "metadata": {
    "scrolled": true
   },
   "outputs": [],
   "source": [
    "## as the first layer in a Sequential model\n",
    "#model = Sequential()\n",
    "#model.add(LSTM(32, input_shape=(10, 64)))\n",
    "## now model.output_shape == (None, 32)\n",
    "## note: `None` is the batch dimension.\n",
    "#\n",
    "## for subsequent layers, no need to specify the input size:\n",
    "#model.add(LSTM(16))\n",
    "\n",
    "# to stack recurrent layers, you must use return_sequences=True\n",
    "# on any recurrent layer that feeds into another recurrent layer.\n",
    "# note that you only need to specify the input size on the first layer.\n",
    "model = Sequential()\n",
    "#model.add(Embedding(max_features, output_dim=256))\n",
    "\n",
    "batch_input_shape = (len(trainlist), maxtimepts, size)\n",
    "model.add(LSTM(128, return_sequences=False, stateful=True, batch_input_shape=batch_input_shape))\n",
    "model.add(Dropout(0.5))\n",
    "#model.add(LSTM(32, return_sequences=False, stateful=True))\n",
    "#model.add(Dropout(0.5))\n",
    "model.add(Dense(len(bins) + 1, activation='softmax'))"
   ]
  },
  {
   "cell_type": "code",
   "execution_count": 579,
   "metadata": {},
   "outputs": [
    {
     "name": "stdout",
     "output_type": "stream",
     "text": [
      "(88, 41, 111)\n",
      "(88, 21)\n"
     ]
    }
   ],
   "source": [
    "print batch_input_shape\n",
    "print model.output_shape"
   ]
  },
  {
   "cell_type": "code",
   "execution_count": 580,
   "metadata": {
    "collapsed": true
   },
   "outputs": [],
   "source": [
    "# For a multi-class classification problem\n",
    "model.compile(optimizer='rmsprop',\n",
    "              loss='categorical_crossentropy',\n",
    "              metrics=['accuracy'])"
   ]
  },
  {
   "cell_type": "code",
   "execution_count": 581,
   "metadata": {},
   "outputs": [
    {
     "name": "stdout",
     "output_type": "stream",
     "text": [
      "(88, 41, 111)\n",
      "(88, 21)\n"
     ]
    }
   ],
   "source": [
    "print arx.shape\n",
    "print ary.shape"
   ]
  },
  {
   "cell_type": "code",
   "execution_count": 582,
   "metadata": {
    "scrolled": true
   },
   "outputs": [
    {
     "name": "stdout",
     "output_type": "stream",
     "text": [
      "Epoch 1/50\n",
      "88/88 [==============================] - 2s - loss: 3.0733 - acc: 0.0341\n",
      "Epoch 2/50\n",
      "88/88 [==============================] - 0s - loss: 2.8021 - acc: 0.2955\n",
      "Epoch 3/50\n",
      "88/88 [==============================] - 0s - loss: 2.5991 - acc: 0.3295\n",
      "Epoch 4/50\n",
      "88/88 [==============================] - 0s - loss: 2.3190 - acc: 0.3409\n",
      "Epoch 5/50\n",
      "88/88 [==============================] - 0s - loss: 1.8551 - acc: 0.3068\n",
      "Epoch 6/50\n",
      "88/88 [==============================] - 0s - loss: 1.5734 - acc: 0.3636\n",
      "Epoch 7/50\n",
      "88/88 [==============================] - 0s - loss: 1.5980 - acc: 0.3295\n",
      "Epoch 8/50\n",
      "88/88 [==============================] - 0s - loss: 1.4263 - acc: 0.3864\n",
      "Epoch 9/50\n",
      "88/88 [==============================] - 0s - loss: 1.4788 - acc: 0.3636\n",
      "Epoch 10/50\n",
      "88/88 [==============================] - 0s - loss: 1.5355 - acc: 0.3977\n",
      "Epoch 11/50\n",
      "88/88 [==============================] - 0s - loss: 1.4345 - acc: 0.3295\n",
      "Epoch 12/50\n",
      "88/88 [==============================] - 0s - loss: 1.4585 - acc: 0.3977\n",
      "Epoch 13/50\n",
      "88/88 [==============================] - 0s - loss: 1.5198 - acc: 0.3523\n",
      "Epoch 14/50\n",
      "88/88 [==============================] - 0s - loss: 1.5029 - acc: 0.3864\n",
      "Epoch 15/50\n",
      "88/88 [==============================] - 0s - loss: 1.3842 - acc: 0.4545\n",
      "Epoch 16/50\n",
      "88/88 [==============================] - 0s - loss: 1.4397 - acc: 0.4205\n",
      "Epoch 17/50\n",
      "88/88 [==============================] - 0s - loss: 1.4076 - acc: 0.4091\n",
      "Epoch 18/50\n",
      "88/88 [==============================] - 0s - loss: 1.4696 - acc: 0.3636\n",
      "Epoch 19/50\n",
      "88/88 [==============================] - 0s - loss: 1.3585 - acc: 0.4205\n",
      "Epoch 20/50\n",
      "88/88 [==============================] - 0s - loss: 1.4216 - acc: 0.3636\n",
      "Epoch 21/50\n",
      "88/88 [==============================] - 0s - loss: 1.3569 - acc: 0.4091\n",
      "Epoch 22/50\n",
      "88/88 [==============================] - 0s - loss: 1.4597 - acc: 0.3977\n",
      "Epoch 23/50\n",
      "88/88 [==============================] - 0s - loss: 1.3264 - acc: 0.4091\n",
      "Epoch 24/50\n",
      "88/88 [==============================] - 0s - loss: 1.3646 - acc: 0.4205\n",
      "Epoch 25/50\n",
      "88/88 [==============================] - 0s - loss: 1.3198 - acc: 0.5455\n",
      "Epoch 26/50\n",
      "88/88 [==============================] - 0s - loss: 1.3773 - acc: 0.4545\n",
      "Epoch 27/50\n",
      "88/88 [==============================] - 0s - loss: 1.3530 - acc: 0.3750\n",
      "Epoch 28/50\n",
      "88/88 [==============================] - 0s - loss: 1.3244 - acc: 0.3977\n",
      "Epoch 29/50\n",
      "88/88 [==============================] - 0s - loss: 1.3502 - acc: 0.3636\n",
      "Epoch 30/50\n",
      "88/88 [==============================] - 0s - loss: 1.4893 - acc: 0.3295\n",
      "Epoch 31/50\n",
      "88/88 [==============================] - 0s - loss: 1.3951 - acc: 0.3977\n",
      "Epoch 32/50\n",
      "88/88 [==============================] - 0s - loss: 1.3426 - acc: 0.3864\n",
      "Epoch 33/50\n",
      "88/88 [==============================] - 0s - loss: 1.4513 - acc: 0.3409\n",
      "Epoch 34/50\n",
      "88/88 [==============================] - 0s - loss: 1.3981 - acc: 0.2955\n",
      "Epoch 35/50\n",
      "88/88 [==============================] - 0s - loss: 1.3827 - acc: 0.3636\n",
      "Epoch 36/50\n",
      "88/88 [==============================] - 0s - loss: 1.3074 - acc: 0.3977\n",
      "Epoch 37/50\n",
      "88/88 [==============================] - 0s - loss: 1.3333 - acc: 0.3636\n",
      "Epoch 38/50\n",
      "88/88 [==============================] - 0s - loss: 1.3012 - acc: 0.4432\n",
      "Epoch 39/50\n",
      "88/88 [==============================] - 0s - loss: 1.3468 - acc: 0.3750\n",
      "Epoch 40/50\n",
      "88/88 [==============================] - 0s - loss: 1.3093 - acc: 0.4091\n",
      "Epoch 41/50\n",
      "88/88 [==============================] - 0s - loss: 1.3276 - acc: 0.4545\n",
      "Epoch 42/50\n",
      "88/88 [==============================] - 0s - loss: 1.2813 - acc: 0.3977\n",
      "Epoch 43/50\n",
      "88/88 [==============================] - 0s - loss: 1.2929 - acc: 0.3864\n",
      "Epoch 44/50\n",
      "88/88 [==============================] - 0s - loss: 1.3394 - acc: 0.3977\n",
      "Epoch 45/50\n",
      "88/88 [==============================] - 0s - loss: 1.3074 - acc: 0.3977\n",
      "Epoch 46/50\n",
      "88/88 [==============================] - 0s - loss: 1.2611 - acc: 0.4886\n",
      "Epoch 47/50\n",
      "88/88 [==============================] - 0s - loss: 1.2787 - acc: 0.4318\n",
      "Epoch 48/50\n",
      "88/88 [==============================] - 0s - loss: 1.2700 - acc: 0.5114\n",
      "Epoch 49/50\n",
      "88/88 [==============================] - 0s - loss: 1.2582 - acc: 0.4659\n",
      "Epoch 50/50\n",
      "88/88 [==============================] - 0s - loss: 1.2916 - acc: 0.4659\n"
     ]
    },
    {
     "data": {
      "text/plain": [
       "<keras.callbacks.History at 0x13153d910>"
      ]
     },
     "execution_count": 582,
     "metadata": {},
     "output_type": "execute_result"
    }
   ],
   "source": [
    "model.fit(arx, ary, epochs=50, batch_size=len(trainlist))\n",
    "#score = model.evaluate(x_test, y_test, batch_size=len(trainlist))"
   ]
  },
  {
   "cell_type": "code",
   "execution_count": null,
   "metadata": {
    "collapsed": true
   },
   "outputs": [],
   "source": []
  },
  {
   "cell_type": "markdown",
   "metadata": {
    "heading_collapsed": true
   },
   "source": [
    "# Junk"
   ]
  },
  {
   "cell_type": "code",
   "execution_count": 224,
   "metadata": {
    "collapsed": true,
    "hidden": true
   },
   "outputs": [
    {
     "name": "stdout",
     "output_type": "stream",
     "text": [
      "Epoch 1/10\n",
      "1000/1000 [==============================] - 4s - loss: 2.3257 - acc: 0.0960     \n",
      "Epoch 2/10\n",
      "1000/1000 [==============================] - 0s - loss: 2.3010 - acc: 0.1080     - ETA: 0s - loss: 2.3050 - acc: 0.10\n",
      "Epoch 3/10\n",
      "1000/1000 [==============================] - 0s - loss: 2.2916 - acc: 0.1280       \n",
      "Epoch 4/10\n",
      "1000/1000 [==============================] - 0s - loss: 2.2832 - acc: 0.1400     \n",
      "Epoch 5/10\n",
      "1000/1000 [==============================] - 0s - loss: 2.2743 - acc: 0.1520     \n",
      "Epoch 6/10\n",
      "1000/1000 [==============================] - 0s - loss: 2.2680 - acc: 0.1650     \n",
      "Epoch 7/10\n",
      "1000/1000 [==============================] - 0s - loss: 2.2594 - acc: 0.1730     \n",
      "Epoch 8/10\n",
      "1000/1000 [==============================] - 0s - loss: 2.2527 - acc: 0.1740     \n",
      "Epoch 9/10\n",
      "1000/1000 [==============================] - 0s - loss: 2.2473 - acc: 0.1850     \n",
      "Epoch 10/10\n",
      "1000/1000 [==============================] - 0s - loss: 2.2401 - acc: 0.1830     \n"
     ]
    },
    {
     "data": {
      "text/plain": [
       "<keras.callbacks.History at 0x11ed77fd0>"
      ]
     },
     "execution_count": 224,
     "metadata": {},
     "output_type": "execute_result"
    }
   ],
   "source": [
    "# For a single-input model with 10 classes (categorical classification):\n",
    "\n",
    "model = Sequential()\n",
    "model.add(Dense(32, activation='relu', input_dim=100))\n",
    "model.add(Dense(10, activation='softmax'))\n",
    "model.compile(optimizer='rmsprop',\n",
    "              loss='categorical_crossentropy',\n",
    "              metrics=['accuracy'])\n",
    "\n",
    "# Generate dummy data\n",
    "import numpy as np\n",
    "data = np.random.random((1000, 100))\n",
    "labels = np.random.randint(10, size=(1000, 1))\n",
    "\n",
    "# Convert labels to categorical one-hot encoding\n",
    "one_hot_labels = keras.utils.to_categorical(labels, num_classes=10)\n",
    "\n",
    "# Train the model, iterating on the data in batches of 32 samples\n",
    "model.fit(data, one_hot_labels, epochs=10, batch_size=32)"
   ]
  },
  {
   "cell_type": "code",
   "execution_count": 13,
   "metadata": {
    "collapsed": true,
    "hidden": true
   },
   "outputs": [
    {
     "name": "stdout",
     "output_type": "stream",
     "text": [
      "Successfully downloaded train-images-idx3-ubyte.gz 9912422 bytes.\n",
      "Extracting /tmp/data/train-images-idx3-ubyte.gz\n",
      "Successfully downloaded train-labels-idx1-ubyte.gz 28881 bytes.\n",
      "Extracting /tmp/data/train-labels-idx1-ubyte.gz\n",
      "Successfully downloaded t10k-images-idx3-ubyte.gz 1648877 bytes.\n",
      "Extracting /tmp/data/t10k-images-idx3-ubyte.gz\n",
      "Successfully downloaded t10k-labels-idx1-ubyte.gz 4542 bytes.\n",
      "Extracting /tmp/data/t10k-labels-idx1-ubyte.gz\n",
      "Iter 1280, Minibatch Loss= 2.090559, Training Accuracy= 0.24219\n",
      "Iter 2560, Minibatch Loss= 1.680801, Training Accuracy= 0.39844\n",
      "Iter 3840, Minibatch Loss= 1.353599, Training Accuracy= 0.49219\n",
      "Iter 5120, Minibatch Loss= 1.229820, Training Accuracy= 0.57031\n",
      "Iter 6400, Minibatch Loss= 1.041029, Training Accuracy= 0.64062\n",
      "Iter 7680, Minibatch Loss= 0.937305, Training Accuracy= 0.69531\n",
      "Iter 8960, Minibatch Loss= 0.710454, Training Accuracy= 0.72656\n",
      "Iter 10240, Minibatch Loss= 0.571756, Training Accuracy= 0.84375\n",
      "Iter 11520, Minibatch Loss= 0.564859, Training Accuracy= 0.82812\n",
      "Iter 12800, Minibatch Loss= 0.432062, Training Accuracy= 0.88281\n",
      "Iter 14080, Minibatch Loss= 0.421861, Training Accuracy= 0.87500\n",
      "Iter 15360, Minibatch Loss= 0.367138, Training Accuracy= 0.86719\n",
      "Iter 16640, Minibatch Loss= 0.456024, Training Accuracy= 0.87500\n",
      "Iter 17920, Minibatch Loss= 0.537776, Training Accuracy= 0.84375\n",
      "Iter 19200, Minibatch Loss= 0.413507, Training Accuracy= 0.83594\n",
      "Iter 20480, Minibatch Loss= 0.407764, Training Accuracy= 0.82812\n",
      "Iter 21760, Minibatch Loss= 0.310379, Training Accuracy= 0.87500\n",
      "Iter 23040, Minibatch Loss= 0.347418, Training Accuracy= 0.89844\n",
      "Iter 24320, Minibatch Loss= 0.323128, Training Accuracy= 0.87500\n",
      "Iter 25600, Minibatch Loss= 0.316683, Training Accuracy= 0.91406\n",
      "Iter 26880, Minibatch Loss= 0.203228, Training Accuracy= 0.92969\n",
      "Iter 28160, Minibatch Loss= 0.271395, Training Accuracy= 0.90625\n",
      "Iter 29440, Minibatch Loss= 0.285487, Training Accuracy= 0.90625\n",
      "Iter 30720, Minibatch Loss= 0.254858, Training Accuracy= 0.93750\n",
      "Iter 32000, Minibatch Loss= 0.201062, Training Accuracy= 0.93750\n",
      "Iter 33280, Minibatch Loss= 0.177602, Training Accuracy= 0.96875\n",
      "Iter 34560, Minibatch Loss= 0.216345, Training Accuracy= 0.93750\n",
      "Iter 35840, Minibatch Loss= 0.180034, Training Accuracy= 0.94531\n",
      "Iter 37120, Minibatch Loss= 0.198506, Training Accuracy= 0.92188\n",
      "Iter 38400, Minibatch Loss= 0.195790, Training Accuracy= 0.92969\n",
      "Iter 39680, Minibatch Loss= 0.105841, Training Accuracy= 0.96875\n",
      "Iter 40960, Minibatch Loss= 0.291270, Training Accuracy= 0.93750\n",
      "Iter 42240, Minibatch Loss= 0.142573, Training Accuracy= 0.96875\n",
      "Iter 43520, Minibatch Loss= 0.176773, Training Accuracy= 0.92188\n",
      "Iter 44800, Minibatch Loss= 0.252339, Training Accuracy= 0.92188\n",
      "Iter 46080, Minibatch Loss= 0.155071, Training Accuracy= 0.95312\n",
      "Iter 47360, Minibatch Loss= 0.165568, Training Accuracy= 0.96094\n",
      "Iter 48640, Minibatch Loss= 0.170596, Training Accuracy= 0.92188\n",
      "Iter 49920, Minibatch Loss= 0.167398, Training Accuracy= 0.93750\n",
      "Iter 51200, Minibatch Loss= 0.181336, Training Accuracy= 0.94531\n",
      "Iter 52480, Minibatch Loss= 0.119596, Training Accuracy= 0.96094\n",
      "Iter 53760, Minibatch Loss= 0.148900, Training Accuracy= 0.92969\n",
      "Iter 55040, Minibatch Loss= 0.240501, Training Accuracy= 0.92969\n",
      "Iter 56320, Minibatch Loss= 0.177877, Training Accuracy= 0.96875\n",
      "Iter 57600, Minibatch Loss= 0.261799, Training Accuracy= 0.91406\n",
      "Iter 58880, Minibatch Loss= 0.163161, Training Accuracy= 0.93750\n",
      "Iter 60160, Minibatch Loss= 0.187381, Training Accuracy= 0.93750\n",
      "Iter 61440, Minibatch Loss= 0.154509, Training Accuracy= 0.94531\n",
      "Iter 62720, Minibatch Loss= 0.192258, Training Accuracy= 0.95312\n",
      "Iter 64000, Minibatch Loss= 0.168498, Training Accuracy= 0.95312\n",
      "Iter 65280, Minibatch Loss= 0.213515, Training Accuracy= 0.92969\n",
      "Iter 66560, Minibatch Loss= 0.208743, Training Accuracy= 0.95312\n",
      "Iter 67840, Minibatch Loss= 0.158352, Training Accuracy= 0.95312\n",
      "Iter 69120, Minibatch Loss= 0.075048, Training Accuracy= 0.97656\n",
      "Iter 70400, Minibatch Loss= 0.112927, Training Accuracy= 0.95312\n",
      "Iter 71680, Minibatch Loss= 0.132778, Training Accuracy= 0.96094\n",
      "Iter 72960, Minibatch Loss= 0.072853, Training Accuracy= 0.97656\n",
      "Iter 74240, Minibatch Loss= 0.099017, Training Accuracy= 0.97656\n",
      "Iter 75520, Minibatch Loss= 0.122713, Training Accuracy= 0.96094\n",
      "Iter 76800, Minibatch Loss= 0.113816, Training Accuracy= 0.97656\n",
      "Iter 78080, Minibatch Loss= 0.135227, Training Accuracy= 0.92969\n",
      "Iter 79360, Minibatch Loss= 0.123757, Training Accuracy= 0.94531\n",
      "Iter 80640, Minibatch Loss= 0.133235, Training Accuracy= 0.96094\n",
      "Iter 81920, Minibatch Loss= 0.208105, Training Accuracy= 0.94531\n",
      "Iter 83200, Minibatch Loss= 0.064377, Training Accuracy= 0.98438\n",
      "Iter 84480, Minibatch Loss= 0.124484, Training Accuracy= 0.96094\n",
      "Iter 85760, Minibatch Loss= 0.140094, Training Accuracy= 0.95312\n",
      "Iter 87040, Minibatch Loss= 0.085213, Training Accuracy= 0.96875\n",
      "Iter 88320, Minibatch Loss= 0.074183, Training Accuracy= 0.97656\n",
      "Iter 89600, Minibatch Loss= 0.065423, Training Accuracy= 0.97656\n",
      "Iter 90880, Minibatch Loss= 0.082192, Training Accuracy= 0.98438\n",
      "Iter 92160, Minibatch Loss= 0.053418, Training Accuracy= 0.98438\n",
      "Iter 93440, Minibatch Loss= 0.059600, Training Accuracy= 0.98438\n",
      "Iter 94720, Minibatch Loss= 0.143425, Training Accuracy= 0.94531\n",
      "Iter 96000, Minibatch Loss= 0.210756, Training Accuracy= 0.95312\n",
      "Iter 97280, Minibatch Loss= 0.132850, Training Accuracy= 0.95312\n",
      "Iter 98560, Minibatch Loss= 0.113217, Training Accuracy= 0.95312\n",
      "Iter 99840, Minibatch Loss= 0.116832, Training Accuracy= 0.94531\n",
      "Optimization Finished!\n",
      "Testing Accuracy: 0.984375\n"
     ]
    }
   ],
   "source": [
    "'''\n",
    "A Recurrent Neural Network (LSTM) implementation example using TensorFlow library.\n",
    "This example is using the MNIST database of handwritten digits (http://yann.lecun.com/exdb/mnist/)\n",
    "Long Short Term Memory paper: http://deeplearning.cs.cmu.edu/pdfs/Hochreiter97_lstm.pdf\n",
    "Author: Aymeric Damien\n",
    "Project: https://github.com/aymericdamien/TensorFlow-Examples/\n",
    "'''\n",
    "\n",
    "from __future__ import print_function\n",
    "\n",
    "import tensorflow as tf\n",
    "from tensorflow.contrib import rnn\n",
    "\n",
    "# Import MNIST data\n",
    "from tensorflow.examples.tutorials.mnist import input_data\n",
    "mnist = input_data.read_data_sets(\"/tmp/data/\", one_hot=True)\n",
    "\n",
    "'''\n",
    "To classify images using a recurrent neural network, we consider every image\n",
    "row as a sequence of pixels. Because MNIST image shape is 28*28px, we will then\n",
    "handle 28 sequences of 28 steps for every sample.\n",
    "'''\n",
    "\n",
    "# Parameters\n",
    "learning_rate = 0.001\n",
    "training_iters = 100000\n",
    "batch_size = 128\n",
    "display_step = 10\n",
    "\n",
    "# Network Parameters\n",
    "n_input = 28 # MNIST data input (img shape: 28*28)\n",
    "n_steps = 28 # timesteps\n",
    "n_hidden = 128 # hidden layer num of features\n",
    "n_classes = 10 # MNIST total classes (0-9 digits)\n",
    "\n",
    "# tf Graph input\n",
    "x = tf.placeholder(\"float\", [None, n_steps, n_input])\n",
    "y = tf.placeholder(\"float\", [None, n_classes])\n",
    "\n",
    "# Define weights\n",
    "weights = {\n",
    "    'out': tf.Variable(tf.random_normal([n_hidden, n_classes]))\n",
    "}\n",
    "biases = {\n",
    "    'out': tf.Variable(tf.random_normal([n_classes]))\n",
    "}\n",
    "\n",
    "\n",
    "def RNN(x, weights, biases):\n",
    "\n",
    "    # Prepare data shape to match `rnn` function requirements\n",
    "    # Current data input shape: (batch_size, n_steps, n_input)\n",
    "    # Required shape: 'n_steps' tensors list of shape (batch_size, n_input)\n",
    "\n",
    "    # Unstack to get a list of 'n_steps' tensors of shape (batch_size, n_input)\n",
    "    x = tf.unstack(x, n_steps, 1)\n",
    "\n",
    "    # Define a lstm cell with tensorflow\n",
    "    lstm_cell = rnn.BasicLSTMCell(n_hidden, forget_bias=1.0)\n",
    "\n",
    "    # Get lstm cell output\n",
    "    outputs, states = rnn.static_rnn(lstm_cell, x, dtype=tf.float32)\n",
    "\n",
    "    # Linear activation, using rnn inner loop last output\n",
    "    return tf.matmul(outputs[-1], weights['out']) + biases['out']\n",
    "\n",
    "pred = RNN(x, weights, biases)\n",
    "\n",
    "# Define loss and optimizer\n",
    "cost = tf.reduce_mean(tf.nn.softmax_cross_entropy_with_logits(logits=pred, labels=y))\n",
    "optimizer = tf.train.AdamOptimizer(learning_rate=learning_rate).minimize(cost)\n",
    "\n",
    "# Evaluate model\n",
    "correct_pred = tf.equal(tf.argmax(pred,1), tf.argmax(y,1))\n",
    "accuracy = tf.reduce_mean(tf.cast(correct_pred, tf.float32))\n",
    "\n",
    "# Initializing the variables\n",
    "init = tf.global_variables_initializer()\n",
    "\n",
    "# Launch the graph\n",
    "with tf.Session() as sess:\n",
    "    sess.run(init)\n",
    "    step = 1\n",
    "    # Keep training until reach max iterations\n",
    "    while step * batch_size < training_iters:\n",
    "        batch_x, batch_y = mnist.train.next_batch(batch_size)\n",
    "        # Reshape data to get 28 seq of 28 elements\n",
    "        batch_x = batch_x.reshape((batch_size, n_steps, n_input))\n",
    "        # Run optimization op (backprop)\n",
    "        sess.run(optimizer, feed_dict={x: batch_x, y: batch_y})\n",
    "        if step % display_step == 0:\n",
    "            # Calculate batch accuracy\n",
    "            acc = sess.run(accuracy, feed_dict={x: batch_x, y: batch_y})\n",
    "            # Calculate batch loss\n",
    "            loss = sess.run(cost, feed_dict={x: batch_x, y: batch_y})\n",
    "            print(\"Iter \" + str(step*batch_size) + \", Minibatch Loss= \" + \\\n",
    "                  \"{:.6f}\".format(loss) + \", Training Accuracy= \" + \\\n",
    "                  \"{:.5f}\".format(acc))\n",
    "        step += 1\n",
    "    print(\"Optimization Finished!\")\n",
    "\n",
    "    # Calculate accuracy for 128 mnist test images\n",
    "    test_len = 128\n",
    "    test_data = mnist.test.images[:test_len].reshape((-1, n_steps, n_input))\n",
    "    test_label = mnist.test.labels[:test_len]\n",
    "    print(\"Testing Accuracy:\", \\\n",
    "        sess.run(accuracy, feed_dict={x: test_data, y: test_label}))"
   ]
  },
  {
   "cell_type": "markdown",
   "metadata": {
    "hidden": true
   },
   "source": [
    "## Split dataset (not relevant yet)"
   ]
  },
  {
   "cell_type": "code",
   "execution_count": null,
   "metadata": {
    "collapsed": true,
    "hidden": true
   },
   "outputs": [],
   "source": [
    "X_train, X_test, y_train, y_test = train_test_split(df_X, df_Y, test_size=0.33)"
   ]
  },
  {
   "cell_type": "code",
   "execution_count": null,
   "metadata": {
    "collapsed": true,
    "hidden": true
   },
   "outputs": [],
   "source": [
    "print X_train.shape\n",
    "print y_train.shape"
   ]
  }
 ],
 "metadata": {
  "kernelspec": {
   "display_name": "Python 2",
   "language": "python",
   "name": "python2"
  },
  "language_info": {
   "codemirror_mode": {
    "name": "ipython",
    "version": 2
   },
   "file_extension": ".py",
   "mimetype": "text/x-python",
   "name": "python",
   "nbconvert_exporter": "python",
   "pygments_lexer": "ipython2",
   "version": "2.7.13"
  },
  "toc": {
   "toc_cell": false,
   "toc_number_sections": true,
   "toc_threshold": 6,
   "toc_window_display": true
  }
 },
 "nbformat": 4,
 "nbformat_minor": 2
}
