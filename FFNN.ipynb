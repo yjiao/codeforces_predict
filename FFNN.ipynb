{
 "cells": [
  {
   "cell_type": "code",
   "execution_count": 226,
   "metadata": {},
   "outputs": [],
   "source": [
    "import matplotlib.pyplot as plt \n",
    "import pandas as pd\n",
    "import math\n",
    "import numpy as np\n",
    "from glob import glob\n",
    "\n",
    "import keras\n",
    "from keras.models import Sequential\n",
    "from keras.layers import Dense, Dropout\n",
    "\n",
    "from sklearn.metrics import r2_score\n",
    "\n",
    "from matplotlib import pyplot as plt \n",
    "%matplotlib inline\n",
    "plt.rcParams['figure.facecolor'] = 'white'\n",
    "import seaborn as sns"
   ]
  },
  {
   "cell_type": "code",
   "execution_count": 227,
   "metadata": {},
   "outputs": [],
   "source": [
    "files = glob('ols_train/*.csv')\n",
    "alldata = []\n",
    "for h in files:\n",
    "    try:\n",
    "        t = pd.read_csv(h, engine='c')\n",
    "        alldata.append(t)\n",
    "    except:\n",
    "        pass\n",
    "alldata = pd.concat(alldata)"
   ]
  },
  {
   "cell_type": "code",
   "execution_count": 228,
   "metadata": {
    "collapsed": true
   },
   "outputs": [],
   "source": [
    "prev_train = pd.read_csv('training_linear_regression_smooth.csv', engine='c')\n",
    "prev_train.dropna(inplace=True, axis=0)\n",
    "\n",
    "df_smooth = pd.read_csv('user_ratings_smoothed_atleast5contests.csv', engine='c')"
   ]
  },
  {
   "cell_type": "code",
   "execution_count": 229,
   "metadata": {},
   "outputs": [],
   "source": [
    "mergedata = alldata\n",
    "mergedata.set_index(['handle', 'contestid'], inplace=True)\n",
    "prev_train.set_index(['handle', 'contestid'], inplace=True)\n",
    "df_smooth.set_index(['handle', 'contestid'], inplace=True)\n",
    "\n",
    "X = mergedata.join(prev_train)\n",
    "X.reset_index(inplace=True)"
   ]
  },
  {
   "cell_type": "code",
   "execution_count": 352,
   "metadata": {},
   "outputs": [],
   "source": [
    "Y = X['delta_smoothed_3months']\n",
    "dropcols = ['delta_smoothed_3months', 'delta_smoothed_1months', 'delta_smoothed_2months',\n",
    "          'delta_smoothed_4months', 'delta_smoothed_5months', 'handle',\n",
    "          'contestid', 'type', 'ratingupdatetimeseconds', 'starttimeseconds',\n",
    "          'smoothed_2months', 'smoothed_1months', 'smoothed_4months', 'smoothed_5months', 'newrating',\n",
    "           \"level_0\", 'index', 'yval'\n",
    "          ]\n",
    "for d in dropcols:\n",
    "    if d in X.columns:\n",
    "        X.drop(d, inplace=True, axis=1)\n",
    "\n",
    "X['max_timediff'] = np.clip(X['max_timediff'], 0, 365)\n",
    "X['mean_timediff'] = np.clip(X['mean_timediff'], 0, 365)\n",
    "\n",
    "X.fillna(value=0, inplace=True)\n",
    "X['mod_perf'] = X.drdt * X.performance"
   ]
  },
  {
   "cell_type": "code",
   "execution_count": 353,
   "metadata": {},
   "outputs": [
    {
     "name": "stdout",
     "output_type": "stream",
     "text": [
      "_________________________________________________________________\n",
      "Layer (type)                 Output Shape              Param #   \n",
      "=================================================================\n",
      "dense_90 (Dense)             (None, 423139, 10)        1140      \n",
      "_________________________________________________________________\n",
      "dropout_66 (Dropout)         (None, 423139, 10)        0         \n",
      "_________________________________________________________________\n",
      "dense_91 (Dense)             (None, 423139, 10)        100       \n",
      "_________________________________________________________________\n",
      "dropout_67 (Dropout)         (None, 423139, 10)        0         \n",
      "_________________________________________________________________\n",
      "dense_92 (Dense)             (None, 423139, 10)        100       \n",
      "_________________________________________________________________\n",
      "dropout_68 (Dropout)         (None, 423139, 10)        0         \n",
      "_________________________________________________________________\n",
      "dense_93 (Dense)             (None, 423139, 1)         10        \n",
      "=================================================================\n",
      "Total params: 1,350\n",
      "Trainable params: 1,350\n",
      "Non-trainable params: 0\n",
      "_________________________________________________________________\n",
      "None\n"
     ]
    }
   ],
   "source": [
    "model = Sequential()\n",
    "model.add(Dense( 10, activation='tanh', use_bias=False, input_shape = X.shape ))\n",
    "model.add(Dropout(0.2))\n",
    "model.add(Dense( 10, activation='tanh', use_bias=False, input_shape = X.shape ))\n",
    "model.add(Dropout(0.2))\n",
    "model.add(Dense( 10, activation='tanh', use_bias=False, input_shape = X.shape ))\n",
    "model.add(Dropout(0.2))\n",
    "model.add(Dense(1, activation='linear', use_bias=False))\n",
    "\n",
    "print model.summary()"
   ]
  },
  {
   "cell_type": "code",
   "execution_count": 354,
   "metadata": {
    "collapsed": true
   },
   "outputs": [],
   "source": [
    "optimizer = keras.optimizers.adam(lr = 0.01)\n",
    "model.compile(optimizer=optimizer,\n",
    "              loss='mean_absolute_error',\n",
    "              metrics=['mae'])"
   ]
  },
  {
   "cell_type": "code",
   "execution_count": 355,
   "metadata": {},
   "outputs": [],
   "source": [
    "xmax = np.max(X, axis=0)\n",
    "ymax = np.max(Y)"
   ]
  },
  {
   "cell_type": "code",
   "execution_count": 356,
   "metadata": {},
   "outputs": [
    {
     "name": "stdout",
     "output_type": "stream",
     "text": [
      "(1, 423139, 114)\n"
     ]
    }
   ],
   "source": [
    "xin = np.expand_dims(np.array(X), axis=0)\n",
    "xin /= xmax\n",
    "yin = np.expand_dims(np.array(Y), axis=0)\n",
    "yin = np.expand_dims(yin, axis=2)\n",
    "yin /= ymax\n",
    "print xin.shape"
   ]
  },
  {
   "cell_type": "code",
   "execution_count": 359,
   "metadata": {
    "scrolled": true
   },
   "outputs": [
    {
     "name": "stdout",
     "output_type": "stream",
     "text": [
      "Epoch 1/200\n",
      "1/1 [==============================] - 2s - loss: 0.0547 - mean_absolute_error: 0.0547\n",
      "Epoch 2/200\n",
      "1/1 [==============================] - 2s - loss: 0.0538 - mean_absolute_error: 0.0538\n",
      "Epoch 3/200\n",
      "1/1 [==============================] - 2s - loss: 0.0536 - mean_absolute_error: 0.0536\n",
      "Epoch 4/200\n",
      "1/1 [==============================] - 2s - loss: 0.0525 - mean_absolute_error: 0.0525\n",
      "Epoch 5/200\n",
      "1/1 [==============================] - 1s - loss: 0.0509 - mean_absolute_error: 0.0509\n",
      "Epoch 6/200\n",
      "1/1 [==============================] - 1s - loss: 0.0497 - mean_absolute_error: 0.0497\n",
      "Epoch 7/200\n",
      "1/1 [==============================] - 1s - loss: 0.0493 - mean_absolute_error: 0.0493\n",
      "Epoch 8/200\n",
      "1/1 [==============================] - 1s - loss: 0.0488 - mean_absolute_error: 0.0488\n",
      "Epoch 9/200\n",
      "1/1 [==============================] - 1s - loss: 0.0478 - mean_absolute_error: 0.0478\n",
      "Epoch 10/200\n",
      "1/1 [==============================] - 1s - loss: 0.0466 - mean_absolute_error: 0.0466\n",
      "Epoch 11/200\n",
      "1/1 [==============================] - 1s - loss: 0.0462 - mean_absolute_error: 0.0462\n",
      "Epoch 12/200\n",
      "1/1 [==============================] - 1s - loss: 0.0460 - mean_absolute_error: 0.0460\n",
      "Epoch 13/200\n",
      "1/1 [==============================] - 1s - loss: 0.0455 - mean_absolute_error: 0.0455\n",
      "Epoch 14/200\n",
      "1/1 [==============================] - 1s - loss: 0.0448 - mean_absolute_error: 0.0448\n",
      "Epoch 15/200\n",
      "1/1 [==============================] - 2s - loss: 0.0444 - mean_absolute_error: 0.0444\n",
      "Epoch 16/200\n",
      "1/1 [==============================] - 1s - loss: 0.0442 - mean_absolute_error: 0.0442\n",
      "Epoch 17/200\n",
      "1/1 [==============================] - 1s - loss: 0.0440 - mean_absolute_error: 0.0440\n",
      "Epoch 18/200\n",
      "1/1 [==============================] - 1s - loss: 0.0434 - mean_absolute_error: 0.0434\n",
      "Epoch 19/200\n",
      "1/1 [==============================] - 1s - loss: 0.0430 - mean_absolute_error: 0.0430\n",
      "Epoch 20/200\n",
      "1/1 [==============================] - 1s - loss: 0.0429 - mean_absolute_error: 0.0429\n",
      "Epoch 21/200\n",
      "1/1 [==============================] - 1s - loss: 0.0426 - mean_absolute_error: 0.0426\n",
      "Epoch 22/200\n",
      "1/1 [==============================] - 2s - loss: 0.0422 - mean_absolute_error: 0.0422\n",
      "Epoch 23/200\n",
      "1/1 [==============================] - 1s - loss: 0.0420 - mean_absolute_error: 0.0420\n",
      "Epoch 24/200\n",
      "1/1 [==============================] - 1s - loss: 0.0419 - mean_absolute_error: 0.0419\n",
      "Epoch 25/200\n",
      "1/1 [==============================] - 1s - loss: 0.0417 - mean_absolute_error: 0.0417\n",
      "Epoch 26/200\n",
      "1/1 [==============================] - 1s - loss: 0.0414 - mean_absolute_error: 0.0414\n",
      "Epoch 27/200\n",
      "1/1 [==============================] - 1s - loss: 0.0411 - mean_absolute_error: 0.0411\n",
      "Epoch 28/200\n",
      "1/1 [==============================] - 2s - loss: 0.0410 - mean_absolute_error: 0.0410\n",
      "Epoch 29/200\n",
      "1/1 [==============================] - 2s - loss: 0.0408 - mean_absolute_error: 0.0408\n",
      "Epoch 30/200\n",
      "1/1 [==============================] - 1s - loss: 0.0405 - mean_absolute_error: 0.0405\n",
      "Epoch 31/200\n",
      "1/1 [==============================] - 1s - loss: 0.0404 - mean_absolute_error: 0.0404\n",
      "Epoch 32/200\n",
      "1/1 [==============================] - 1s - loss: 0.0402 - mean_absolute_error: 0.0402\n",
      "Epoch 33/200\n",
      "1/1 [==============================] - 1s - loss: 0.0401 - mean_absolute_error: 0.0401\n",
      "Epoch 34/200\n",
      "1/1 [==============================] - 1s - loss: 0.0399 - mean_absolute_error: 0.0399\n",
      "Epoch 35/200\n",
      "1/1 [==============================] - 1s - loss: 0.0398 - mean_absolute_error: 0.0398\n",
      "Epoch 36/200\n",
      "1/1 [==============================] - 1s - loss: 0.0396 - mean_absolute_error: 0.0396\n",
      "Epoch 37/200\n",
      "1/1 [==============================] - 1s - loss: 0.0395 - mean_absolute_error: 0.0395\n",
      "Epoch 38/200\n",
      "1/1 [==============================] - 1s - loss: 0.0393 - mean_absolute_error: 0.0393\n",
      "Epoch 39/200\n",
      "1/1 [==============================] - 1s - loss: 0.0392 - mean_absolute_error: 0.0392\n",
      "Epoch 40/200\n",
      "1/1 [==============================] - 1s - loss: 0.0390 - mean_absolute_error: 0.0390\n",
      "Epoch 41/200\n",
      "1/1 [==============================] - 1s - loss: 0.0389 - mean_absolute_error: 0.0389\n",
      "Epoch 42/200\n",
      "1/1 [==============================] - 1s - loss: 0.0388 - mean_absolute_error: 0.0388\n",
      "Epoch 43/200\n",
      "1/1 [==============================] - 2s - loss: 0.0387 - mean_absolute_error: 0.0387\n",
      "Epoch 44/200\n",
      "1/1 [==============================] - 1s - loss: 0.0386 - mean_absolute_error: 0.0386\n",
      "Epoch 45/200\n",
      "1/1 [==============================] - 2s - loss: 0.0385 - mean_absolute_error: 0.0385\n",
      "Epoch 46/200\n",
      "1/1 [==============================] - 1s - loss: 0.0384 - mean_absolute_error: 0.0384\n",
      "Epoch 47/200\n",
      "1/1 [==============================] - 1s - loss: 0.0383 - mean_absolute_error: 0.0383\n",
      "Epoch 48/200\n",
      "1/1 [==============================] - 1s - loss: 0.0382 - mean_absolute_error: 0.0382\n",
      "Epoch 49/200\n",
      "1/1 [==============================] - 1s - loss: 0.0381 - mean_absolute_error: 0.0381\n",
      "Epoch 50/200\n",
      "1/1 [==============================] - 1s - loss: 0.0380 - mean_absolute_error: 0.0380\n",
      "Epoch 51/200\n",
      "1/1 [==============================] - 1s - loss: 0.0379 - mean_absolute_error: 0.0379\n",
      "Epoch 52/200\n",
      "1/1 [==============================] - 1s - loss: 0.0378 - mean_absolute_error: 0.0378\n",
      "Epoch 53/200\n",
      "1/1 [==============================] - 1s - loss: 0.0377 - mean_absolute_error: 0.0377\n",
      "Epoch 54/200\n",
      "1/1 [==============================] - 1s - loss: 0.0376 - mean_absolute_error: 0.0376\n",
      "Epoch 55/200\n",
      "1/1 [==============================] - 1s - loss: 0.0376 - mean_absolute_error: 0.0376\n",
      "Epoch 56/200\n",
      "1/1 [==============================] - 1s - loss: 0.0375 - mean_absolute_error: 0.0375\n",
      "Epoch 57/200\n",
      "1/1 [==============================] - 2s - loss: 0.0374 - mean_absolute_error: 0.0374\n",
      "Epoch 58/200\n",
      "1/1 [==============================] - 1s - loss: 0.0373 - mean_absolute_error: 0.0373\n",
      "Epoch 59/200\n",
      "1/1 [==============================] - 2s - loss: 0.0372 - mean_absolute_error: 0.0372\n",
      "Epoch 60/200\n",
      "1/1 [==============================] - 1s - loss: 0.0372 - mean_absolute_error: 0.0372\n",
      "Epoch 61/200\n",
      "1/1 [==============================] - 2s - loss: 0.0372 - mean_absolute_error: 0.0372\n",
      "Epoch 62/200\n",
      "1/1 [==============================] - 1s - loss: 0.0370 - mean_absolute_error: 0.0370\n",
      "Epoch 63/200\n",
      "1/1 [==============================] - 1s - loss: 0.0370 - mean_absolute_error: 0.0370\n",
      "Epoch 64/200\n",
      "1/1 [==============================] - 1s - loss: 0.0369 - mean_absolute_error: 0.0369\n",
      "Epoch 65/200\n",
      "1/1 [==============================] - 1s - loss: 0.0369 - mean_absolute_error: 0.0369\n",
      "Epoch 66/200\n",
      "1/1 [==============================] - 1s - loss: 0.0368 - mean_absolute_error: 0.0368\n",
      "Epoch 67/200\n",
      "1/1 [==============================] - 2s - loss: 0.0367 - mean_absolute_error: 0.0367\n",
      "Epoch 68/200\n",
      "1/1 [==============================] - 1s - loss: 0.0367 - mean_absolute_error: 0.0367\n",
      "Epoch 69/200\n",
      "1/1 [==============================] - 1s - loss: 0.0366 - mean_absolute_error: 0.0366\n",
      "Epoch 70/200\n",
      "1/1 [==============================] - 2s - loss: 0.0366 - mean_absolute_error: 0.0366\n",
      "Epoch 71/200\n",
      "1/1 [==============================] - 1s - loss: 0.0365 - mean_absolute_error: 0.0365\n",
      "Epoch 72/200\n",
      "1/1 [==============================] - 1s - loss: 0.0364 - mean_absolute_error: 0.0364\n",
      "Epoch 73/200\n",
      "1/1 [==============================] - 1s - loss: 0.0364 - mean_absolute_error: 0.0364\n",
      "Epoch 74/200\n",
      "1/1 [==============================] - 1s - loss: 0.0364 - mean_absolute_error: 0.0364\n",
      "Epoch 75/200\n",
      "1/1 [==============================] - 1s - loss: 0.0363 - mean_absolute_error: 0.0363\n",
      "Epoch 76/200\n",
      "1/1 [==============================] - 1s - loss: 0.0362 - mean_absolute_error: 0.0362\n",
      "Epoch 77/200\n",
      "1/1 [==============================] - 2s - loss: 0.0361 - mean_absolute_error: 0.0361\n",
      "Epoch 78/200\n",
      "1/1 [==============================] - 1s - loss: 0.0361 - mean_absolute_error: 0.0361\n",
      "Epoch 79/200\n",
      "1/1 [==============================] - 1s - loss: 0.0360 - mean_absolute_error: 0.0360\n",
      "Epoch 80/200\n",
      "1/1 [==============================] - 1s - loss: 0.0360 - mean_absolute_error: 0.0360\n",
      "Epoch 81/200\n",
      "1/1 [==============================] - 1s - loss: 0.0360 - mean_absolute_error: 0.0360\n",
      "Epoch 82/200\n",
      "1/1 [==============================] - 1s - loss: 0.0359 - mean_absolute_error: 0.0359\n",
      "Epoch 83/200\n"
     ]
    },
    {
     "name": "stdout",
     "output_type": "stream",
     "text": [
      "1/1 [==============================] - 1s - loss: 0.0359 - mean_absolute_error: 0.0359\n",
      "Epoch 84/200\n",
      "1/1 [==============================] - 1s - loss: 0.0358 - mean_absolute_error: 0.0358\n",
      "Epoch 85/200\n",
      "1/1 [==============================] - 1s - loss: 0.0358 - mean_absolute_error: 0.0358\n",
      "Epoch 86/200\n",
      "1/1 [==============================] - 1s - loss: 0.0358 - mean_absolute_error: 0.0358\n",
      "Epoch 87/200\n",
      "1/1 [==============================] - 1s - loss: 0.0357 - mean_absolute_error: 0.0357\n",
      "Epoch 88/200\n",
      "1/1 [==============================] - 1s - loss: 0.0356 - mean_absolute_error: 0.0356\n",
      "Epoch 89/200\n",
      "1/1 [==============================] - 1s - loss: 0.0356 - mean_absolute_error: 0.0356\n",
      "Epoch 90/200\n",
      "1/1 [==============================] - 1s - loss: 0.0356 - mean_absolute_error: 0.0356\n",
      "Epoch 91/200\n",
      "1/1 [==============================] - 1s - loss: 0.0356 - mean_absolute_error: 0.0356\n",
      "Epoch 92/200\n",
      "1/1 [==============================] - 1s - loss: 0.0355 - mean_absolute_error: 0.0355\n",
      "Epoch 93/200\n",
      "1/1 [==============================] - 1s - loss: 0.0355 - mean_absolute_error: 0.0355\n",
      "Epoch 94/200\n",
      "1/1 [==============================] - 1s - loss: 0.0354 - mean_absolute_error: 0.0354\n",
      "Epoch 95/200\n",
      "1/1 [==============================] - 1s - loss: 0.0354 - mean_absolute_error: 0.0354\n",
      "Epoch 96/200\n",
      "1/1 [==============================] - 1s - loss: 0.0354 - mean_absolute_error: 0.0354\n",
      "Epoch 97/200\n",
      "1/1 [==============================] - 1s - loss: 0.0353 - mean_absolute_error: 0.0353\n",
      "Epoch 98/200\n",
      "1/1 [==============================] - 1s - loss: 0.0353 - mean_absolute_error: 0.0353\n",
      "Epoch 99/200\n",
      "1/1 [==============================] - 1s - loss: 0.0352 - mean_absolute_error: 0.0352\n",
      "Epoch 100/200\n",
      "1/1 [==============================] - 1s - loss: 0.0352 - mean_absolute_error: 0.0352\n",
      "Epoch 101/200\n",
      "1/1 [==============================] - 1s - loss: 0.0352 - mean_absolute_error: 0.0352\n",
      "Epoch 102/200\n",
      "1/1 [==============================] - 1s - loss: 0.0351 - mean_absolute_error: 0.0351\n",
      "Epoch 103/200\n",
      "1/1 [==============================] - 1s - loss: 0.0351 - mean_absolute_error: 0.0351\n",
      "Epoch 104/200\n",
      "1/1 [==============================] - 1s - loss: 0.0351 - mean_absolute_error: 0.0351\n",
      "Epoch 105/200\n",
      "1/1 [==============================] - 1s - loss: 0.0350 - mean_absolute_error: 0.0350\n",
      "Epoch 106/200\n",
      "1/1 [==============================] - 1s - loss: 0.0350 - mean_absolute_error: 0.0350\n",
      "Epoch 107/200\n",
      "1/1 [==============================] - 1s - loss: 0.0350 - mean_absolute_error: 0.0350\n",
      "Epoch 108/200\n",
      "1/1 [==============================] - 1s - loss: 0.0349 - mean_absolute_error: 0.0349\n",
      "Epoch 109/200\n",
      "1/1 [==============================] - 1s - loss: 0.0349 - mean_absolute_error: 0.0349\n",
      "Epoch 110/200\n",
      "1/1 [==============================] - 1s - loss: 0.0349 - mean_absolute_error: 0.0349\n",
      "Epoch 111/200\n",
      "1/1 [==============================] - 1s - loss: 0.0348 - mean_absolute_error: 0.0348\n",
      "Epoch 112/200\n",
      "1/1 [==============================] - 1s - loss: 0.0348 - mean_absolute_error: 0.0348\n",
      "Epoch 113/200\n",
      "1/1 [==============================] - 1s - loss: 0.0348 - mean_absolute_error: 0.0348\n",
      "Epoch 114/200\n",
      "1/1 [==============================] - 1s - loss: 0.0348 - mean_absolute_error: 0.0348\n",
      "Epoch 115/200\n",
      "1/1 [==============================] - 1s - loss: 0.0347 - mean_absolute_error: 0.0347\n",
      "Epoch 116/200\n",
      "1/1 [==============================] - 1s - loss: 0.0347 - mean_absolute_error: 0.0347\n",
      "Epoch 117/200\n",
      "1/1 [==============================] - 1s - loss: 0.0347 - mean_absolute_error: 0.0347\n",
      "Epoch 118/200\n",
      "1/1 [==============================] - 1s - loss: 0.0346 - mean_absolute_error: 0.0346\n",
      "Epoch 119/200\n",
      "1/1 [==============================] - 1s - loss: 0.0346 - mean_absolute_error: 0.0346\n",
      "Epoch 120/200\n",
      "1/1 [==============================] - 1s - loss: 0.0346 - mean_absolute_error: 0.0346\n",
      "Epoch 121/200\n",
      "1/1 [==============================] - 1s - loss: 0.0345 - mean_absolute_error: 0.0345\n",
      "Epoch 122/200\n",
      "1/1 [==============================] - 1s - loss: 0.0346 - mean_absolute_error: 0.0346\n",
      "Epoch 123/200\n",
      "1/1 [==============================] - 1s - loss: 0.0345 - mean_absolute_error: 0.0345\n",
      "Epoch 124/200\n",
      "1/1 [==============================] - 1s - loss: 0.0345 - mean_absolute_error: 0.0345\n",
      "Epoch 125/200\n",
      "1/1 [==============================] - 1s - loss: 0.0345 - mean_absolute_error: 0.0345\n",
      "Epoch 126/200\n",
      "1/1 [==============================] - 1s - loss: 0.0344 - mean_absolute_error: 0.0344\n",
      "Epoch 127/200\n",
      "1/1 [==============================] - 1s - loss: 0.0344 - mean_absolute_error: 0.0344\n",
      "Epoch 128/200\n",
      "1/1 [==============================] - 1s - loss: 0.0344 - mean_absolute_error: 0.0344\n",
      "Epoch 129/200\n",
      "1/1 [==============================] - 1s - loss: 0.0344 - mean_absolute_error: 0.0344\n",
      "Epoch 130/200\n",
      "1/1 [==============================] - 1s - loss: 0.0343 - mean_absolute_error: 0.0343\n",
      "Epoch 131/200\n",
      "1/1 [==============================] - 1s - loss: 0.0344 - mean_absolute_error: 0.0344\n",
      "Epoch 132/200\n",
      "1/1 [==============================] - 1s - loss: 0.0343 - mean_absolute_error: 0.0343\n",
      "Epoch 133/200\n",
      "1/1 [==============================] - 1s - loss: 0.0343 - mean_absolute_error: 0.0343\n",
      "Epoch 134/200\n",
      "1/1 [==============================] - 1s - loss: 0.0343 - mean_absolute_error: 0.0343\n",
      "Epoch 135/200\n",
      "1/1 [==============================] - 1s - loss: 0.0342 - mean_absolute_error: 0.0342\n",
      "Epoch 136/200\n",
      "1/1 [==============================] - 1s - loss: 0.0342 - mean_absolute_error: 0.0342\n",
      "Epoch 137/200\n",
      "1/1 [==============================] - 1s - loss: 0.0342 - mean_absolute_error: 0.0342\n",
      "Epoch 138/200\n",
      "1/1 [==============================] - 1s - loss: 0.0342 - mean_absolute_error: 0.0342\n",
      "Epoch 139/200\n",
      "1/1 [==============================] - 1s - loss: 0.0342 - mean_absolute_error: 0.0342\n",
      "Epoch 140/200\n",
      "1/1 [==============================] - 1s - loss: 0.0341 - mean_absolute_error: 0.0341\n",
      "Epoch 141/200\n",
      "1/1 [==============================] - 1s - loss: 0.0341 - mean_absolute_error: 0.0341\n",
      "Epoch 142/200\n",
      "1/1 [==============================] - 1s - loss: 0.0341 - mean_absolute_error: 0.0341\n",
      "Epoch 143/200\n",
      "1/1 [==============================] - 1s - loss: 0.0340 - mean_absolute_error: 0.0340\n",
      "Epoch 144/200\n",
      "1/1 [==============================] - 1s - loss: 0.0340 - mean_absolute_error: 0.0340\n",
      "Epoch 145/200\n",
      "1/1 [==============================] - 1s - loss: 0.0340 - mean_absolute_error: 0.0340\n",
      "Epoch 146/200\n",
      "1/1 [==============================] - 1s - loss: 0.0340 - mean_absolute_error: 0.0340\n",
      "Epoch 147/200\n",
      "1/1 [==============================] - 1s - loss: 0.0340 - mean_absolute_error: 0.0340\n",
      "Epoch 148/200\n",
      "1/1 [==============================] - 1s - loss: 0.0340 - mean_absolute_error: 0.0340\n",
      "Epoch 149/200\n",
      "1/1 [==============================] - 1s - loss: 0.0339 - mean_absolute_error: 0.0339\n",
      "Epoch 150/200\n",
      "1/1 [==============================] - 1s - loss: 0.0339 - mean_absolute_error: 0.0339\n",
      "Epoch 151/200\n",
      "1/1 [==============================] - 1s - loss: 0.0339 - mean_absolute_error: 0.0339\n",
      "Epoch 152/200\n",
      "1/1 [==============================] - 1s - loss: 0.0339 - mean_absolute_error: 0.0339\n",
      "Epoch 153/200\n",
      "1/1 [==============================] - 1s - loss: 0.0339 - mean_absolute_error: 0.0339\n",
      "Epoch 154/200\n",
      "1/1 [==============================] - 1s - loss: 0.0339 - mean_absolute_error: 0.0339\n",
      "Epoch 155/200\n",
      "1/1 [==============================] - 1s - loss: 0.0338 - mean_absolute_error: 0.0338\n",
      "Epoch 156/200\n",
      "1/1 [==============================] - 1s - loss: 0.0338 - mean_absolute_error: 0.0338\n",
      "Epoch 157/200\n",
      "1/1 [==============================] - 1s - loss: 0.0338 - mean_absolute_error: 0.0338\n",
      "Epoch 158/200\n",
      "1/1 [==============================] - 1s - loss: 0.0338 - mean_absolute_error: 0.0338\n",
      "Epoch 159/200\n",
      "1/1 [==============================] - 1s - loss: 0.0338 - mean_absolute_error: 0.0338\n",
      "Epoch 160/200\n",
      "1/1 [==============================] - 1s - loss: 0.0338 - mean_absolute_error: 0.0338\n",
      "Epoch 161/200\n",
      "1/1 [==============================] - 1s - loss: 0.0337 - mean_absolute_error: 0.0337\n",
      "Epoch 162/200\n",
      "1/1 [==============================] - 1s - loss: 0.0337 - mean_absolute_error: 0.0337\n",
      "Epoch 163/200\n",
      "1/1 [==============================] - 1s - loss: 0.0337 - mean_absolute_error: 0.0337\n",
      "Epoch 164/200\n"
     ]
    },
    {
     "name": "stdout",
     "output_type": "stream",
     "text": [
      "1/1 [==============================] - 1s - loss: 0.0337 - mean_absolute_error: 0.0337\n",
      "Epoch 165/200\n",
      "1/1 [==============================] - 1s - loss: 0.0337 - mean_absolute_error: 0.0337\n",
      "Epoch 166/200\n",
      "1/1 [==============================] - 1s - loss: 0.0337 - mean_absolute_error: 0.0337\n",
      "Epoch 167/200\n",
      "1/1 [==============================] - 1s - loss: 0.0337 - mean_absolute_error: 0.0337\n",
      "Epoch 168/200\n",
      "1/1 [==============================] - 1s - loss: 0.0336 - mean_absolute_error: 0.0336\n",
      "Epoch 169/200\n",
      "1/1 [==============================] - 1s - loss: 0.0336 - mean_absolute_error: 0.0336\n",
      "Epoch 170/200\n",
      "1/1 [==============================] - 1s - loss: 0.0336 - mean_absolute_error: 0.0336\n",
      "Epoch 171/200\n",
      "1/1 [==============================] - 1s - loss: 0.0336 - mean_absolute_error: 0.0336\n",
      "Epoch 172/200\n",
      "1/1 [==============================] - 1s - loss: 0.0336 - mean_absolute_error: 0.0336\n",
      "Epoch 173/200\n",
      "1/1 [==============================] - 1s - loss: 0.0336 - mean_absolute_error: 0.0336\n",
      "Epoch 174/200\n",
      "1/1 [==============================] - 1s - loss: 0.0335 - mean_absolute_error: 0.0335\n",
      "Epoch 175/200\n",
      "1/1 [==============================] - 1s - loss: 0.0335 - mean_absolute_error: 0.0335\n",
      "Epoch 176/200\n",
      "1/1 [==============================] - 1s - loss: 0.0335 - mean_absolute_error: 0.0335\n",
      "Epoch 177/200\n",
      "1/1 [==============================] - 1s - loss: 0.0335 - mean_absolute_error: 0.0335\n",
      "Epoch 178/200\n",
      "1/1 [==============================] - 1s - loss: 0.0335 - mean_absolute_error: 0.0335\n",
      "Epoch 179/200\n",
      "1/1 [==============================] - 1s - loss: 0.0335 - mean_absolute_error: 0.0335\n",
      "Epoch 180/200\n",
      "1/1 [==============================] - 1s - loss: 0.0335 - mean_absolute_error: 0.0335\n",
      "Epoch 181/200\n",
      "1/1 [==============================] - 1s - loss: 0.0335 - mean_absolute_error: 0.0335\n",
      "Epoch 182/200\n",
      "1/1 [==============================] - 1s - loss: 0.0334 - mean_absolute_error: 0.0334\n",
      "Epoch 183/200\n",
      "1/1 [==============================] - 1s - loss: 0.0334 - mean_absolute_error: 0.0334\n",
      "Epoch 184/200\n",
      "1/1 [==============================] - 1s - loss: 0.0334 - mean_absolute_error: 0.0334\n",
      "Epoch 185/200\n",
      "1/1 [==============================] - 1s - loss: 0.0334 - mean_absolute_error: 0.0334\n",
      "Epoch 186/200\n",
      "1/1 [==============================] - 1s - loss: 0.0334 - mean_absolute_error: 0.0334\n",
      "Epoch 187/200\n",
      "1/1 [==============================] - 1s - loss: 0.0334 - mean_absolute_error: 0.0334\n",
      "Epoch 188/200\n",
      "1/1 [==============================] - 1s - loss: 0.0334 - mean_absolute_error: 0.0334\n",
      "Epoch 189/200\n",
      "1/1 [==============================] - 1s - loss: 0.0334 - mean_absolute_error: 0.0334\n",
      "Epoch 190/200\n",
      "1/1 [==============================] - 1s - loss: 0.0333 - mean_absolute_error: 0.0333\n",
      "Epoch 191/200\n",
      "1/1 [==============================] - 1s - loss: 0.0333 - mean_absolute_error: 0.0333\n",
      "Epoch 192/200\n",
      "1/1 [==============================] - 1s - loss: 0.0333 - mean_absolute_error: 0.0333\n",
      "Epoch 193/200\n",
      "1/1 [==============================] - 1s - loss: 0.0333 - mean_absolute_error: 0.0333\n",
      "Epoch 194/200\n",
      "1/1 [==============================] - 1s - loss: 0.0333 - mean_absolute_error: 0.0333\n",
      "Epoch 195/200\n",
      "1/1 [==============================] - 1s - loss: 0.0333 - mean_absolute_error: 0.0333\n",
      "Epoch 196/200\n",
      "1/1 [==============================] - 1s - loss: 0.0333 - mean_absolute_error: 0.0333\n",
      "Epoch 197/200\n",
      "1/1 [==============================] - 1s - loss: 0.0333 - mean_absolute_error: 0.0333\n",
      "Epoch 198/200\n",
      "1/1 [==============================] - 1s - loss: 0.0332 - mean_absolute_error: 0.0332\n",
      "Epoch 199/200\n",
      "1/1 [==============================] - 1s - loss: 0.0332 - mean_absolute_error: 0.0332\n",
      "Epoch 200/200\n",
      "1/1 [==============================] - 1s - loss: 0.0332 - mean_absolute_error: 0.0332\n"
     ]
    }
   ],
   "source": [
    "#earlystop = keras.callbacks.EarlyStopping(monitor='val_loss', min_delta=.00001, patience=30, verbose=0, mode='auto')\n",
    "\n",
    "history = model.fit(xin, yin, epochs=200, shuffle=False, verbose=1, batch_size=1)"
   ]
  },
  {
   "cell_type": "code",
   "execution_count": 360,
   "metadata": {},
   "outputs": [
    {
     "data": {
      "text/plain": [
       "[<matplotlib.lines.Line2D at 0x12b156a10>]"
      ]
     },
     "execution_count": 360,
     "metadata": {},
     "output_type": "execute_result"
    },
    {
     "data": {
      "image/png": "[encoded data removed]",
      "text/plain": [
       "<matplotlib.figure.Figure at 0x12fa32190>"
      ]
     },
     "metadata": {},
     "output_type": "display_data"
    }
   ],
   "source": [
    "plt.plot(history.history['loss'])"
   ]
  },
  {
   "cell_type": "code",
   "execution_count": 361,
   "metadata": {
    "run_control": {
     "marked": true
    }
   },
   "outputs": [
    {
     "name": "stdout",
     "output_type": "stream",
     "text": [
      "0.0347185533149\n"
     ]
    },
    {
     "data": {
      "image/png": "[encoded data removed]",
      "text/plain": [
       "<matplotlib.figure.Figure at 0x12da30e90>"
      ]
     },
     "metadata": {},
     "output_type": "display_data"
    }
   ],
   "source": [
    "ypred = model.predict(xin)\n",
    "ypred = ypred.squeeze()\n",
    "plt.scatter(yin, ypred, alpha=.3, s=5)\n",
    "ax = plt.gca()\n",
    "diag = max(ax.get_xlim(), ax.get_ylim())\n",
    "ax.plot(diag, diag, ls=\"--\", c=\".3\")\n",
    "ax.plot([0,0], ax.get_ylim(), ls=\"--\", c=\".3\")\n",
    "ax.plot(ax.get_xlim(), [0,0], ls=\"--\", c=\".3\")\n",
    "plt.xlabel('Actual')\n",
    "plt.ylabel('Predicted')\n",
    "print r2_score(yin.squeeze(), ypred)"
   ]
  },
  {
   "cell_type": "code",
   "execution_count": 347,
   "metadata": {},
   "outputs": [
    {
     "name": "stdout",
     "output_type": "stream",
     "text": [
      "_________________________________________________________________\n",
      "Layer (type)                 Output Shape              Param #   \n",
      "=================================================================\n",
      "dense_86 (Dense)             (None, 10)                1150      \n",
      "_________________________________________________________________\n",
      "dropout_63 (Dropout)         (None, 10)                0         \n",
      "_________________________________________________________________\n",
      "dense_87 (Dense)             (None, 10)                100       \n",
      "_________________________________________________________________\n",
      "dropout_64 (Dropout)         (None, 10)                0         \n",
      "_________________________________________________________________\n",
      "dense_88 (Dense)             (None, 10)                100       \n",
      "_________________________________________________________________\n",
      "dropout_65 (Dropout)         (None, 10)                0         \n",
      "_________________________________________________________________\n",
      "dense_89 (Dense)             (None, 1)                 10        \n",
      "=================================================================\n",
      "Total params: 1,360\n",
      "Trainable params: 1,360\n",
      "Non-trainable params: 0\n",
      "_________________________________________________________________\n",
      "None\n"
     ]
    },
    {
     "data": {
      "text/plain": [
       "(1, 423139, 115)"
      ]
     },
     "execution_count": 347,
     "metadata": {},
     "output_type": "execute_result"
    }
   ],
   "source": [
    "weights = model.get_weights()\n",
    "\n",
    "newmodel = Sequential()\n",
    "newmodel.add(Dense( 10, activation='tanh', use_bias=False, input_shape = xin[0][0,:].shape ))\n",
    "newmodel.add(Dropout(0.5))\n",
    "newmodel.add(Dense( 10, activation='tanh', use_bias=False, input_shape = xin[0][0,:].shape ))\n",
    "newmodel.add(Dropout(0.5))\n",
    "newmodel.add(Dense( 10, activation='tanh', use_bias=False, input_shape = xin[0][0,:].shape ))\n",
    "newmodel.add(Dropout(0.5))\n",
    "newmodel.add(Dense(1, activation='linear', use_bias=False))\n",
    "\n",
    "newmodel.set_weights(weights)\n",
    "newmodel.compile(optimizer=optimizer,\n",
    "              loss='mean_squared_error',\n",
    "              metrics=['mae'])\n",
    "print newmodel.summary()\n",
    "xin.shape"
   ]
  },
  {
   "cell_type": "code",
   "execution_count": 348,
   "metadata": {
    "collapsed": true
   },
   "outputs": [],
   "source": [
    "ntests = 20\n",
    "sample = 5\n",
    "minmax = []\n",
    "valtestrange = np.arange(-1, 1.1, 2.0/ntests)\n",
    "allchanges = []\n",
    "for varidx in range(xin.shape[2]):\n",
    "    testinput = xin[0][sample,:]\n",
    "\n",
    "    diffs = []\n",
    "    for i in valtestrange:\n",
    "        localtest = testinput\n",
    "        localtest[varidx] = i\n",
    "        localtest = np.expand_dims(localtest.squeeze(), axis=0)\n",
    "        ylocal = newmodel.predict(localtest).squeeze()\n",
    "        diffs.append(ylocal)\n",
    "    \n",
    "    minmax.append(max(diffs) - min(diffs))\n",
    "    allchanges.append(diffs)\n",
    "   "
   ]
  },
  {
   "cell_type": "code",
   "execution_count": 349,
   "metadata": {},
   "outputs": [
    {
     "data": {
      "text/plain": [
       "<matplotlib.legend.Legend at 0x12887eb50>"
      ]
     },
     "execution_count": 349,
     "metadata": {},
     "output_type": "execute_result"
    },
    {
     "data": {
      "image/png": "[encoded data removed]",
      "text/plain": [
       "<matplotlib.figure.Figure at 0x12d6be990>"
      ]
     },
     "metadata": {},
     "output_type": "display_data"
    }
   ],
   "source": [
    "sigys = np.array(allchanges)\n",
    "sigidx = np.array(minmax) >= 0.1\n",
    "sigys = sigys[sigidx, :]\n",
    "sigys = sigys.squeeze()\n",
    "for i in range(sigys.shape[0]):\n",
    "    plt.plot(sigys[i,:])\n",
    "sigcols = X.columns.values[sigidx]\n",
    "plt.legend(sigcols)"
   ]
  },
  {
   "cell_type": "code",
   "execution_count": 313,
   "metadata": {},
   "outputs": [
    {
     "data": {
      "text/plain": [
       "array(['mean_error_practice', 'mean_solvetime', 'min_probability_practice',\n",
       "       'n_unlikely02', 'total_problems', 'implementation', 'n_wrong_std',\n",
       "       'yval'], dtype=object)"
      ]
     },
     "execution_count": 313,
     "metadata": {},
     "output_type": "execute_result"
    }
   ],
   "source": []
  },
  {
   "cell_type": "code",
   "execution_count": 286,
   "metadata": {},
   "outputs": [
    {
     "data": {
      "text/plain": [
       "array([False, False, False, False, False, False, False, False, False,\n",
       "       False, False, False, False, False, False, False, False, False,\n",
       "       False, False, False, False, False, False, False, False, False,\n",
       "       False, False, False, False, False, False, False, False, False,\n",
       "       False, False, False, False, False, False, False, False, False,\n",
       "       False, False, False, False, False, False, False, False, False,\n",
       "       False, False, False, False, False, False, False, False, False,\n",
       "       False, False, False, False, False, False, False, False, False,\n",
       "       False, False, False, False, False, False, False, False, False,\n",
       "       False, False, False, False, False, False, False, False, False,\n",
       "       False, False, False, False, False, False, False, False, False,\n",
       "       False, False, False, False, False, False, False, False, False,\n",
       "       False, False, False, False, False, False, False], dtype=bool)"
      ]
     },
     "execution_count": 286,
     "metadata": {},
     "output_type": "execute_result"
    }
   ],
   "source": [
    "np.array(minmax) >= 0.2"
   ]
  }
 ],
 "metadata": {
  "kernelspec": {
   "display_name": "Python 2",
   "language": "python",
   "name": "python2"
  },
  "language_info": {
   "codemirror_mode": {
    "name": "ipython",
    "version": 2
   },
   "file_extension": ".py",
   "mimetype": "text/x-python",
   "name": "python",
   "nbconvert_exporter": "python",
   "pygments_lexer": "ipython2",
   "version": "2.7.13"
  },
  "toc": {
   "toc_cell": false,
   "toc_number_sections": true,
   "toc_threshold": 6,
   "toc_window_display": false
  }
 },
 "nbformat": 4,
 "nbformat_minor": 2
}
