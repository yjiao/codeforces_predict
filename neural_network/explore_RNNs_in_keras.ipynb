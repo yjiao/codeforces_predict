{
 "cells": [
  {
   "cell_type": "markdown",
   "metadata": {
    "collapsed": true
   },
   "source": [
    "# Training a recurrent neural network\n",
    "Draft scripts using GRU/ LSTMs on individual user activity streams\n",
    "\n",
    "This is the precursor to the python scripts for training GRUs / LSTMs.\n",
    "\n",
    "Ultimately it was decided that training would take too long, and that, at least for the time frame of this project, ensemble approaches are more advantageous."
   ]
  },
  {
   "cell_type": "code",
   "execution_count": null,
   "metadata": {
    "collapsed": true
   },
   "outputs": [],
   "source": [
    "import matplotlib.pyplot as plt \n",
    "import pandas as pd\n",
    "import math\n",
    "import numpy as np\n",
    "\n",
    "import keras\n",
    "from keras.models import Sequential\n",
    "from keras.layers import Dense, Dropout\n",
    "from keras.layers import Embedding\n",
    "from keras.layers import LSTM\n",
    "from keras.layers import GRU \n",
    "from keras.layers import Merge\n",
    "from keras.layers import Conv1D, GlobalMaxPooling1D\n",
    "from keras.layers import Conv2D, GlobalMaxPooling2D\n",
    "\n",
    "from sklearn.preprocessing import MinMaxScaler\n",
    "from sklearn.preprocessing import StandardScaler\n",
    "from sklearn.metrics import mean_squared_error\n",
    "from sklearn.metrics import r2_score\n",
    "from sklearn.preprocessing import MaxAbsScaler\n",
    "\n",
    "import psycopg2\n",
    "from sklearn.model_selection import train_test_split\n",
    "\n",
    "from matplotlib import pyplot as plt \n",
    "%matplotlib inline\n",
    "plt.rcParams['figure.facecolor'] = 'white'\n",
    "import seaborn as sns\n",
    "\n",
    "import keras_functions\n",
    "from keras_functions import *"
   ]
  },
  {
   "cell_type": "code",
   "execution_count": 1333,
   "metadata": {
    "collapsed": true
   },
   "outputs": [],
   "source": [
    "binvars = get_categorical_variables([\n",
    "    'all_participanttypes',\n",
    "    'all_language'\n",
    "])"
   ]
  },
  {
   "cell_type": "code",
   "execution_count": 1334,
   "metadata": {
    "collapsed": true
   },
   "outputs": [],
   "source": [
    "tags = get_categorical_variables(['all_tags'])"
   ]
  },
  {
   "cell_type": "markdown",
   "metadata": {},
   "source": [
    "# Initial pipeline"
   ]
  },
  {
   "cell_type": "code",
   "execution_count": 501,
   "metadata": {
    "collapsed": true
   },
   "outputs": [],
   "source": [
    "with open('set_train.txt') as f:\n",
    "    train_handles = [h.strip() for h in f.readlines()]\n",
    "with open('set_test.txt') as f:\n",
    "    test_handles = [h.strip() for h in f.readlines()]\n",
    "with open('set_val.txt') as f:\n",
    "    val_handles = [h.strip() for h in f.readlines()]"
   ]
  },
  {
   "cell_type": "code",
   "execution_count": 1335,
   "metadata": {
    "collapsed": true
   },
   "outputs": [],
   "source": [
    "# user columns can be out of order, use tourist's as correct order\n",
    "with open('rnn_train/tourist.csv') as f:\n",
    "    correct_cols = [t.strip() for t in f.readline().split(',')]"
   ]
  },
  {
   "cell_type": "code",
   "execution_count": 1336,
   "metadata": {
    "collapsed": true
   },
   "outputs": [],
   "source": [
    "correct_cols = [c for c in correct_cols if c not in tags]"
   ]
  },
  {
   "cell_type": "code",
   "execution_count": null,
   "metadata": {},
   "outputs": [],
   "source": [
    "from os.path import exists\n",
    "reload(keras_functions)\n",
    "maxtimepts = 200\n",
    "\n",
    "th = [ \"abyssmall\", \"razia_sultana\", \"ufo\", \"williamhu08\", \"rdfz_yjy\", \"k21\", \"rudradevbasak\", \"ch_egor\", \"FreeMoneyCity\", \"Gomhog\", \"Life_is_like_a_boat\", \"MikhailRubinchik\", \"Oleg_Smirnov\", \"jiangshibiao\", \"Dembel\", \"Logic_zys\", \"Shayan_Jahan\", \"dc.\", \"wakaka\", \"chnluyi\", \"Koreyoshi_\", \"vlecomte\", \"AleksanderBalobanov\", \"Gerald\", \"hex539\", \"lovro\", \"MKLOL\", \"RNS\", \"gskhirtladze\", \"jzzhu\", \"Ai_AA\", \"JeBeK\", \"MHR\", \"alex256\", \"darknstd\", \"dragoon\", \"feyat\" ]\n",
    "X, Y, lens_tr, maxt = keras_functions.get_train_data(th, binvars, correct_cols, maxtimepts)\n",
    "\n",
    "#Xval, Yval, lens_val, maxt = keras_functions.get_train_data(val_handles[0:10], binvars, correct_cols, maxtimepts)"
   ]
  },
  {
   "cell_type": "code",
   "execution_count": 1381,
   "metadata": {},
   "outputs": [
    {
     "name": "stdout",
     "output_type": "stream",
     "text": [
      "rnn_train/sanket407.csv\n"
     ]
    }
   ],
   "source": [
    "reload(keras_functions)\n",
    "maxtimepts = 200\n",
    "X, Y, lens_tr, maxt, colnames = keras_functions.get_train_data(['sanket407'], binvars, correct_cols, maxtimepts) #jiyutian"
   ]
  },
  {
   "cell_type": "markdown",
   "metadata": {},
   "source": [
    "# Scaling\n",
    "For NN, feature scaling is extremely important\n"
   ]
  },
  {
   "cell_type": "code",
   "execution_count": 1383,
   "metadata": {
    "run_control": {
     "marked": true
    }
   },
   "outputs": [
    {
     "name": "stdout",
     "output_type": "stream",
     "text": [
      "(28, 200, 16)\n",
      "(5600, 16)\n"
     ]
    }
   ],
   "source": [
    "Xflat = np.concatenate(X)\n",
    "print Xflat.shape\n",
    "Xflat = np.reshape(Xflat, [Xflat.shape[0]*Xflat.shape[1], Xflat.shape[2]])\n",
    "print Xflat.shape\n",
    "#scaler = MaxAbsScaler().fit(Xflat)"
   ]
  },
  {
   "cell_type": "code",
   "execution_count": 525,
   "metadata": {},
   "outputs": [
    {
     "name": "stdout",
     "output_type": "stream",
     "text": [
      "rnn_train/123qws.csv\n",
      "rnn_train/613.csv\n",
      "rnn_train/Alona.csv\n",
      "rnn_train/AstroConjecture.csv\n",
      "rnn_train/chipchip3412.csv\n",
      "rnn_train/hmich   .csv\n",
      "rnn_train/mstczuo.csv\n",
      "rnn_train/pandazcy.csv\n",
      "rnn_train/Fefer_Ivan.csv\n",
      "rnn_train/edward_mj.csv\n",
      "rnn_train/jerjeriscute.csv\n",
      "rnn_train/-Wave-.csv\n",
      "rnn_train/Constantius.csv\n",
      "rnn_train/I_dont_have_girlfriend.csv\n",
      "rnn_train/SealView.csv\n",
      "rnn_train/antonkov.csv\n"
     ]
    }
   ],
   "source": [
    "th2 = [ \"123qws\", \"613\", \"Alona\", \"AstroConjecture\", \"chipchip3412\", \"hmich   \", \"mstczuo\", \"pandazcy\", \"Fefer_Ivan\", \"edward_mj\", \"jerjeriscute\", \"-Wave-\", \"Constantius\", \"I_dont_have_girlfriend\", \"SealView\", \"antonkov\" ]\n",
    "Xval, Yval, lens_val, maxt = keras_functions.get_train_data(th2, binvars, correct_cols, maxtimepts)"
   ]
  },
  {
   "cell_type": "code",
   "execution_count": null,
   "metadata": {},
   "outputs": [],
   "source": [
    "xmax = np.max(Xflat, axis=0)\n",
    "xmax[xmax == 0] = 1"
   ]
  },
  {
   "cell_type": "code",
   "execution_count": 1405,
   "metadata": {
    "collapsed": true
   },
   "outputs": [],
   "source": [
    "month = 3\n",
    "colnames_rate = ['smoothed_%dmonths'%month, 'oldrating', 'problem_rating']\n",
    "maxrating = 5000.0\n",
    "idx_rate = [colnames.index(c) for c in colnames_rate]\n",
    "xmax[idx_rate] = maxrating"
   ]
  },
  {
   "cell_type": "markdown",
   "metadata": {},
   "source": [
    "# Define model"
   ]
  },
  {
   "cell_type": "code",
   "execution_count": 1436,
   "metadata": {
    "scrolled": true
   },
   "outputs": [
    {
     "name": "stdout",
     "output_type": "stream",
     "text": [
      "_________________________________________________________________\n",
      "Layer (type)                 Output Shape              Param #   \n",
      "=================================================================\n",
      "masking_134 (Masking)        (28, 200, 16)             0         \n",
      "_________________________________________________________________\n",
      "gru_241 (GRU)                (28, 200, 6)              396       \n",
      "_________________________________________________________________\n",
      "gru_242 (GRU)                (28, 3)                   81        \n",
      "_________________________________________________________________\n",
      "dense_235 (Dense)            (28, 50)                  150       \n",
      "_________________________________________________________________\n",
      "dropout_144 (Dropout)        (28, 50)                  0         \n",
      "_________________________________________________________________\n",
      "dense_236 (Dense)            (28, 1)                   50        \n",
      "=================================================================\n",
      "Total params: 677\n",
      "Trainable params: 677\n",
      "Non-trainable params: 0\n",
      "_________________________________________________________________\n"
     ]
    }
   ],
   "source": [
    "reload(keras_functions)\n",
    "batchsize = X[0].shape\n",
    "gru1 = 6\n",
    "gru2 = 3\n",
    "dense = 50\n",
    "model = keras_functions.create_model([gru1, gru2, dense], batchsize)\n",
    "model.summary()"
   ]
  },
  {
   "cell_type": "code",
   "execution_count": 1440,
   "metadata": {
    "collapsed": true
   },
   "outputs": [],
   "source": [
    "optimizer = keras.optimizers.RMSprop(lr=0.01, decay=0.05)\n",
    "model.compile(optimizer=optimizer,\n",
    "              loss='mean_squared_error',\n",
    "              metrics=['mae'])"
   ]
  },
  {
   "cell_type": "markdown",
   "metadata": {},
   "source": [
    "Train on one person--see if this works at all"
   ]
  },
  {
   "cell_type": "code",
   "execution_count": 1438,
   "metadata": {
    "run_control": {
     "marked": true
    },
    "scrolled": true
   },
   "outputs": [
    {
     "name": "stdout",
     "output_type": "stream",
     "text": [
      "Epoch 1/1\n",
      "28/28 [==============================] - 10s - loss: 0.0260 - mean_absolute_error: 0.1239\n",
      "Epoch 1/1\n",
      "28/28 [==============================] - 0s - loss: 0.0600 - mean_absolute_error: 0.1853\n",
      "Epoch 1/1\n",
      "28/28 [==============================] - 0s - loss: 0.0142 - mean_absolute_error: 0.0903\n",
      "Epoch 1/1\n",
      "28/28 [==============================] - 0s - loss: 0.0178 - mean_absolute_error: 0.1068\n",
      "Epoch 1/1\n",
      "28/28 [==============================] - 0s - loss: 0.0096 - mean_absolute_error: 0.0761\n",
      "Epoch 1/1\n",
      "28/28 [==============================] - 0s - loss: 0.0130 - mean_absolute_error: 0.0848\n",
      "Epoch 1/1\n",
      "28/28 [==============================] - 1s - loss: 0.0133 - mean_absolute_error: 0.0950\n",
      "Epoch 1/1\n",
      "28/28 [==============================] - 0s - loss: 0.0105 - mean_absolute_error: 0.0826\n",
      "Epoch 1/1\n",
      "28/28 [==============================] - 0s - loss: 0.0098 - mean_absolute_error: 0.0757\n",
      "Epoch 1/1\n",
      "28/28 [==============================] - 0s - loss: 0.0172 - mean_absolute_error: 0.0857\n",
      "Epoch 1/1\n",
      "28/28 [==============================] - 0s - loss: 0.0137 - mean_absolute_error: 0.0847\n",
      "Epoch 1/1\n",
      "28/28 [==============================] - 0s - loss: 0.0105 - mean_absolute_error: 0.0806\n",
      "Epoch 1/1\n",
      "28/28 [==============================] - 0s - loss: 0.0129 - mean_absolute_error: 0.0913\n",
      "Epoch 1/1\n",
      "28/28 [==============================] - 1s - loss: 0.0084 - mean_absolute_error: 0.0754\n",
      "Epoch 1/1\n",
      "28/28 [==============================] - 1s - loss: 0.0128 - mean_absolute_error: 0.0917\n",
      "Epoch 1/1\n",
      "28/28 [==============================] - 0s - loss: 0.0132 - mean_absolute_error: 0.0884\n",
      "Epoch 1/1\n",
      "28/28 [==============================] - 0s - loss: 0.0090 - mean_absolute_error: 0.0755\n",
      "Epoch 1/1\n",
      "28/28 [==============================] - 0s - loss: 0.0110 - mean_absolute_error: 0.0865\n",
      "Epoch 1/1\n",
      "28/28 [==============================] - 0s - loss: 0.0139 - mean_absolute_error: 0.0972\n",
      "Epoch 1/1\n",
      "28/28 [==============================] - 0s - loss: 0.0101 - mean_absolute_error: 0.0817\n",
      "Epoch 1/1\n",
      "28/28 [==============================] - 0s - loss: 0.0068 - mean_absolute_error: 0.0641\n",
      "Epoch 1/1\n",
      "28/28 [==============================] - 0s - loss: 0.0100 - mean_absolute_error: 0.0819\n",
      "Epoch 1/1\n",
      "28/28 [==============================] - 0s - loss: 0.0064 - mean_absolute_error: 0.0640\n",
      "Epoch 1/1\n",
      "28/28 [==============================] - 0s - loss: 0.0079 - mean_absolute_error: 0.0650\n",
      "Epoch 1/1\n",
      "28/28 [==============================] - 0s - loss: 0.0098 - mean_absolute_error: 0.0747\n",
      "Epoch 1/1\n",
      "28/28 [==============================] - 0s - loss: 0.0104 - mean_absolute_error: 0.0798\n",
      "Epoch 1/1\n",
      "28/28 [==============================] - 0s - loss: 0.0088 - mean_absolute_error: 0.0757\n",
      "Epoch 1/1\n",
      "28/28 [==============================] - 0s - loss: 0.0098 - mean_absolute_error: 0.0768\n",
      "Epoch 1/1\n",
      "28/28 [==============================] - 0s - loss: 0.0068 - mean_absolute_error: 0.0615\n",
      "Epoch 1/1\n",
      "28/28 [==============================] - 0s - loss: 0.0080 - mean_absolute_error: 0.0725\n",
      "Epoch 1/1\n",
      "28/28 [==============================] - 0s - loss: 0.0136 - mean_absolute_error: 0.0904\n",
      "Epoch 1/1\n",
      "28/28 [==============================] - 0s - loss: 0.0117 - mean_absolute_error: 0.0826\n",
      "Epoch 1/1\n",
      "28/28 [==============================] - 1s - loss: 0.0072 - mean_absolute_error: 0.0642\n",
      "Epoch 1/1\n",
      "28/28 [==============================] - 0s - loss: 0.0079 - mean_absolute_error: 0.0729\n",
      "Epoch 1/1\n",
      "28/28 [==============================] - 1s - loss: 0.0082 - mean_absolute_error: 0.0745\n",
      "Epoch 1/1\n",
      "28/28 [==============================] - 1s - loss: 0.0081 - mean_absolute_error: 0.0746\n",
      "Epoch 1/1\n",
      "28/28 [==============================] - 0s - loss: 0.0077 - mean_absolute_error: 0.0713\n",
      "Epoch 1/1\n",
      "28/28 [==============================] - 0s - loss: 0.0106 - mean_absolute_error: 0.0843\n",
      "Epoch 1/1\n",
      "28/28 [==============================] - 1s - loss: 0.0086 - mean_absolute_error: 0.0733\n",
      "Epoch 1/1\n",
      "28/28 [==============================] - 1s - loss: 0.0138 - mean_absolute_error: 0.0806\n",
      "Epoch 1/1\n",
      "28/28 [==============================] - 1s - loss: 0.0080 - mean_absolute_error: 0.0702\n",
      "Epoch 1/1\n",
      "28/28 [==============================] - 1s - loss: 0.0097 - mean_absolute_error: 0.0735\n",
      "Epoch 1/1\n",
      "28/28 [==============================] - 1s - loss: 0.0082 - mean_absolute_error: 0.0696\n",
      "Epoch 1/1\n",
      "28/28 [==============================] - 1s - loss: 0.0072 - mean_absolute_error: 0.0659\n",
      "Epoch 1/1\n",
      "28/28 [==============================] - 1s - loss: 0.0102 - mean_absolute_error: 0.0767\n",
      "Epoch 1/1\n",
      "28/28 [==============================] - 1s - loss: 0.0078 - mean_absolute_error: 0.0683\n",
      "Epoch 1/1\n",
      "28/28 [==============================] - 1s - loss: 0.0109 - mean_absolute_error: 0.0811\n",
      "Epoch 1/1\n",
      "28/28 [==============================] - 0s - loss: 0.0083 - mean_absolute_error: 0.0722\n",
      "Epoch 1/1\n",
      "28/28 [==============================] - 1s - loss: 0.0070 - mean_absolute_error: 0.0650\n",
      "Epoch 1/1\n",
      "28/28 [==============================] - 1s - loss: 0.0092 - mean_absolute_error: 0.0771\n",
      "Epoch 1/1\n",
      "28/28 [==============================] - 1s - loss: 0.0092 - mean_absolute_error: 0.0744\n",
      "Epoch 1/1\n",
      "28/28 [==============================] - 1s - loss: 0.0078 - mean_absolute_error: 0.0685\n",
      "Epoch 1/1\n",
      "28/28 [==============================] - 0s - loss: 0.0090 - mean_absolute_error: 0.0714\n",
      "Epoch 1/1\n",
      "28/28 [==============================] - 1s - loss: 0.0088 - mean_absolute_error: 0.0684\n",
      "Epoch 1/1\n",
      "28/28 [==============================] - 1s - loss: 0.0070 - mean_absolute_error: 0.0597\n",
      "Epoch 1/1\n",
      "28/28 [==============================] - 0s - loss: 0.0067 - mean_absolute_error: 0.0648\n",
      "Epoch 1/1\n",
      "28/28 [==============================] - 1s - loss: 0.0077 - mean_absolute_error: 0.0704\n",
      "Epoch 1/1\n",
      "28/28 [==============================] - 0s - loss: 0.0079 - mean_absolute_error: 0.0707\n",
      "Epoch 1/1\n",
      "28/28 [==============================] - 0s - loss: 0.0073 - mean_absolute_error: 0.0628\n",
      "Epoch 1/1\n",
      "28/28 [==============================] - 1s - loss: 0.0073 - mean_absolute_error: 0.0661\n",
      "Epoch 1/1\n",
      "28/28 [==============================] - 0s - loss: 0.0078 - mean_absolute_error: 0.0691\n",
      "Epoch 1/1\n",
      "28/28 [==============================] - 0s - loss: 0.0072 - mean_absolute_error: 0.0651\n",
      "Epoch 1/1\n",
      "28/28 [==============================] - 1s - loss: 0.0058 - mean_absolute_error: 0.0589\n",
      "Epoch 1/1\n",
      "28/28 [==============================] - 1s - loss: 0.0088 - mean_absolute_error: 0.0704\n",
      "Epoch 1/1\n",
      "28/28 [==============================] - 1s - loss: 0.0077 - mean_absolute_error: 0.0678\n",
      "Epoch 1/1\n",
      "28/28 [==============================] - 1s - loss: 0.0103 - mean_absolute_error: 0.0836\n",
      "Epoch 1/1\n",
      "28/28 [==============================] - 1s - loss: 0.0075 - mean_absolute_error: 0.0679\n",
      "Epoch 1/1\n",
      "28/28 [==============================] - 1s - loss: 0.0071 - mean_absolute_error: 0.0684\n",
      "Epoch 1/1\n",
      "28/28 [==============================] - 0s - loss: 0.0075 - mean_absolute_error: 0.0649\n",
      "Epoch 1/1\n",
      "28/28 [==============================] - 1s - loss: 0.0091 - mean_absolute_error: 0.0724\n",
      "Epoch 1/1\n",
      "28/28 [==============================] - 1s - loss: 0.0079 - mean_absolute_error: 0.0713\n",
      "Epoch 1/1\n",
      "28/28 [==============================] - 1s - loss: 0.0055 - mean_absolute_error: 0.0549\n",
      "Epoch 1/1\n",
      "28/28 [==============================] - 1s - loss: 0.0064 - mean_absolute_error: 0.0645\n",
      "Epoch 1/1\n",
      "28/28 [==============================] - 0s - loss: 0.0078 - mean_absolute_error: 0.0680\n",
      "Epoch 1/1\n",
      "28/28 [==============================] - 0s - loss: 0.0055 - mean_absolute_error: 0.0576\n",
      "Epoch 1/1\n",
      "28/28 [==============================] - 0s - loss: 0.0063 - mean_absolute_error: 0.0623\n",
      "Epoch 1/1\n",
      "28/28 [==============================] - 1s - loss: 0.0047 - mean_absolute_error: 0.0539\n",
      "Epoch 1/1\n",
      "28/28 [==============================] - 0s - loss: 0.0071 - mean_absolute_error: 0.0699\n",
      "Epoch 1/1\n",
      "28/28 [==============================] - 0s - loss: 0.0069 - mean_absolute_error: 0.0623\n",
      "Epoch 1/1\n",
      "28/28 [==============================] - 0s - loss: 0.0083 - mean_absolute_error: 0.0669\n",
      "Epoch 1/1\n",
      "28/28 [==============================] - 0s - loss: 0.0070 - mean_absolute_error: 0.0659\n",
      "Epoch 1/1\n",
      "28/28 [==============================] - 0s - loss: 0.0092 - mean_absolute_error: 0.0708\n",
      "Epoch 1/1\n",
      "28/28 [==============================] - 0s - loss: 0.0045 - mean_absolute_error: 0.0528\n",
      "Epoch 1/1\n",
      "28/28 [==============================] - 0s - loss: 0.0098 - mean_absolute_error: 0.0735\n",
      "Epoch 1/1\n",
      "28/28 [==============================] - 0s - loss: 0.0076 - mean_absolute_error: 0.0698\n",
      "Epoch 1/1\n",
      "28/28 [==============================] - 0s - loss: 0.0081 - mean_absolute_error: 0.0731\n",
      "Epoch 1/1\n",
      "28/28 [==============================] - 0s - loss: 0.0088 - mean_absolute_error: 0.0743\n",
      "Epoch 1/1\n",
      "28/28 [==============================] - 0s - loss: 0.0062 - mean_absolute_error: 0.0572\n",
      "Epoch 1/1\n",
      "28/28 [==============================] - 0s - loss: 0.0072 - mean_absolute_error: 0.0685\n",
      "Epoch 1/1\n",
      "28/28 [==============================] - 0s - loss: 0.0178 - mean_absolute_error: 0.0867\n",
      "Epoch 1/1\n",
      "28/28 [==============================] - 0s - loss: 0.0088 - mean_absolute_error: 0.0770\n",
      "Epoch 1/1\n",
      "28/28 [==============================] - 0s - loss: 0.0073 - mean_absolute_error: 0.0709\n",
      "Epoch 1/1\n",
      "28/28 [==============================] - 0s - loss: 0.0070 - mean_absolute_error: 0.0657\n",
      "Epoch 1/1\n",
      "28/28 [==============================] - 1s - loss: 0.0098 - mean_absolute_error: 0.0711\n",
      "Epoch 1/1\n",
      "28/28 [==============================] - 0s - loss: 0.0081 - mean_absolute_error: 0.0701\n",
      "Epoch 1/1\n",
      "28/28 [==============================] - 1s - loss: 0.0074 - mean_absolute_error: 0.0688\n",
      "Epoch 1/1\n",
      "28/28 [==============================] - 1s - loss: 0.0066 - mean_absolute_error: 0.0621\n",
      "Epoch 1/1\n",
      "28/28 [==============================] - 1s - loss: 0.0088 - mean_absolute_error: 0.0668\n",
      "Epoch 1/1\n",
      "28/28 [==============================] - 1s - loss: 0.0062 - mean_absolute_error: 0.0621\n",
      "Epoch 1/1\n",
      "28/28 [==============================] - 1s - loss: 0.0073 - mean_absolute_error: 0.0624\n"
     ]
    }
   ],
   "source": [
    "history = []\n",
    "epochs = 100\n",
    "ymax = 300.0\n",
    "\n",
    "xin = X[0]/xmax\n",
    "yin = Y[0]/ymax\n",
    "\n",
    "for i in range(epochs):\n",
    "    h = model.fit(xin, yin, epochs=1, shuffle=False, batch_size=batchsize[0], verbose=1)\n",
    "    model.reset_states()\n",
    "    history.append(h)"
   ]
  },
  {
   "cell_type": "code",
   "execution_count": 1441,
   "metadata": {
    "run_control": {
     "marked": false
    }
   },
   "outputs": [
    {
     "data": {
      "text/plain": [
       "[<matplotlib.lines.Line2D at 0x202f7a2d0>]"
      ]
     },
     "execution_count": 1441,
     "metadata": {},
     "output_type": "execute_result"
    },
    {
     "data": {
      "image/png": "[encoded data removed]",
      "text/plain": [
       "<matplotlib.figure.Figure at 0x253c2bf10>"
      ]
     },
     "metadata": {},
     "output_type": "display_data"
    }
   ],
   "source": [
    "plt.rcParams['figure.figsize'] = (10, 5)\n",
    "loss = np.concatenate([h.history['loss'] for h in history])\n",
    "mae = np.concatenate([h.history['mean_absolute_error'] for h in history])\n",
    "#loss = history.history['loss']\n",
    "#mae = history.history['mean_absolute_error']\n",
    "plt.plot(loss)\n",
    "plt.plot(mae)"
   ]
  },
  {
   "cell_type": "code",
   "execution_count": 1442,
   "metadata": {},
   "outputs": [
    {
     "data": {
      "text/plain": [
       "0.2073123730514338"
      ]
     },
     "execution_count": 1442,
     "metadata": {},
     "output_type": "execute_result"
    },
    {
     "data": {
      "image/png": "[encoded data removed]",
      "text/plain": [
       "<matplotlib.figure.Figure at 0x254d19dd0>"
      ]
     },
     "metadata": {},
     "output_type": "display_data"
    }
   ],
   "source": [
    "model.reset_states()\n",
    "y_pred = model.predict(xin, batch_size=X[0].shape[0])\n",
    "\n",
    "y_pred = np.concatenate(y_pred)\n",
    "y_pred = y_pred*ymax\n",
    "\n",
    "plt.rcParams['figure.figsize'] = (8,8)\n",
    "plt.scatter(Y[s], y_pred)\n",
    "ax = plt.gca()\n",
    "diag = max(ax.get_xlim(), ax.get_ylim())\n",
    "ax.plot(diag, diag, ls=\"--\", c=\".3\")\n",
    "ax.plot([0,0], ax.get_ylim(), ls=\"--\", c=\".3\")\n",
    "ax.plot(ax.get_xlim(), [0,0], ls=\"--\", c=\".3\")\n",
    "plt.xlabel('Actual')\n",
    "plt.ylabel('Predicted')\n",
    "\n",
    "r2_score(Y[s], y_pred)"
   ]
  },
  {
   "cell_type": "code",
   "execution_count": 1448,
   "metadata": {},
   "outputs": [
    {
     "data": {
      "text/html": [
       "<div>\n",
       "<style>\n",
       "    .dataframe thead tr:only-child th {\n",
       "        text-align: right;\n",
       "    }\n",
       "\n",
       "    .dataframe thead th {\n",
       "        text-align: left;\n",
       "    }\n",
       "\n",
       "    .dataframe tbody tr th {\n",
       "        vertical-align: top;\n",
       "    }\n",
       "</style>\n",
       "<table border=\"1\" class=\"dataframe\">\n",
       "  <thead>\n",
       "    <tr style=\"text-align: right;\">\n",
       "      <th></th>\n",
       "      <th>OK</th>\n",
       "      <th>hours_solve_to_contest</th>\n",
       "      <th>hours_submit_to_contest</th>\n",
       "      <th>hours_submit_to_solve</th>\n",
       "      <th>oldrating</th>\n",
       "      <th>points</th>\n",
       "      <th>problem_rating</th>\n",
       "      <th>rank</th>\n",
       "      <th>smoothed_3months</th>\n",
       "      <th>java</th>\n",
       "      <th>lowlevel</th>\n",
       "      <th>python</th>\n",
       "      <th>otherlang</th>\n",
       "      <th>errors</th>\n",
       "      <th>wrong</th>\n",
       "      <th>practice</th>\n",
       "    </tr>\n",
       "  </thead>\n",
       "  <tbody>\n",
       "    <tr>\n",
       "      <th>0</th>\n",
       "      <td>3.0</td>\n",
       "      <td>15220.209722</td>\n",
       "      <td>15220.330833</td>\n",
       "      <td>11329.624167</td>\n",
       "      <td>5000.0</td>\n",
       "      <td>3000.0</td>\n",
       "      <td>5000.0</td>\n",
       "      <td>4545.0</td>\n",
       "      <td>5000.0</td>\n",
       "      <td>1.0</td>\n",
       "      <td>2.0</td>\n",
       "      <td>1.0</td>\n",
       "      <td>1.0</td>\n",
       "      <td>7.0</td>\n",
       "      <td>27.0</td>\n",
       "      <td>2.0</td>\n",
       "    </tr>\n",
       "  </tbody>\n",
       "</table>\n",
       "</div>"
      ],
      "text/plain": [
       "    OK   hours_solve_to_contest   hours_submit_to_contest  \\\n",
       "0  3.0             15220.209722              15220.330833   \n",
       "\n",
       "    hours_submit_to_solve   oldrating   points   problem_rating    rank  \\\n",
       "0            11329.624167      5000.0   3000.0           5000.0  4545.0   \n",
       "\n",
       "    smoothed_3months   java   lowlevel   python   otherlang   errors   wrong  \\\n",
       "0             5000.0    1.0        2.0      1.0         1.0      7.0    27.0   \n",
       "\n",
       "    practice  \n",
       "0        2.0  "
      ]
     },
     "execution_count": 1448,
     "metadata": {},
     "output_type": "execute_result"
    }
   ],
   "source": [
    "pd.read_csv('test')"
   ]
  },
  {
   "cell_type": "code",
   "execution_count": 1470,
   "metadata": {},
   "outputs": [
    {
     "name": "stdout",
     "output_type": "stream",
     "text": [
      "[[ 10.          10.          10.        ]\n",
      " [ 10.          10.           0.01194444]\n",
      " [ 10.          10.           0.        ]\n",
      " [  0.          10.           0.        ]\n",
      " [  0.          10.           0.        ]\n",
      " [ 10.          10.           0.        ]\n",
      " [  0.          10.           0.        ]\n",
      " [  1.75972222   1.75972222   0.        ]\n",
      " [  0.           0.71138889   0.        ]]\n",
      "[[ 10.          10.          10.        ]\n",
      " [ 10.          10.           0.01194444]\n",
      " [ 10.          10.           0.        ]\n",
      " [  0.          10.           0.        ]\n",
      " [  0.          10.           0.        ]\n",
      " [ 10.          10.           0.        ]\n",
      " [  0.          10.           0.        ]\n",
      " [  1.75972222   1.75972222   0.        ]\n",
      " [  0.           0.71138889   0.        ]]\n"
     ]
    }
   ],
   "source": [
    "idx = [i for i in range(len(colnames)) if 'hours' in colnames[i]]\n",
    "np.array(colnames)[idx]\n",
    "maxtime = 24 * 30 * 6\n",
    "maxtime = 10\n",
    "print np.clip(X[0][4][1:10, idx], 0, maxtime)\n",
    "print np.clip(X[0][4][1:10, idx], 0, maxtime)"
   ]
  },
  {
   "cell_type": "markdown",
   "metadata": {},
   "source": [
    "# Train RNN on all users in train set"
   ]
  },
  {
   "cell_type": "code",
   "execution_count": 4,
   "metadata": {},
   "outputs": [
    {
     "name": "stdout",
     "output_type": "stream",
     "text": [
      "[100.0, 4320.0, 4320.0, 4320.0, 5000.0, 3000.0, 5000.0, 5000.0, 100.0, 100.0, 100.0, 100.0, 100.0, 100.0, 100.0]\n"
     ]
    }
   ],
   "source": [
    "from train_model import *\n",
    "# ------------------------------------------\n",
    "# parameters\n",
    "# ------------------------------------------\n",
    "month = 3 \n",
    "tags = set(['implementation', 'two pointers', 'data structures', '*special', 'probabilities', 'divide and conquer', 'shortest paths', 'meet-in-the-middle', 'trees', 'matrices', 'graph matchings', 'expression parsing', 'graphs', 'ternary search', 'dfs and similar', 'combinatorics', 'string suffix structures', 'games', 'binary search', '2-sat', 'brute force', 'hashing', 'dsu', 'chinese remainder theorem', 'flows', 'sortings', 'number theory', 'fft', 'greedy', 'schedules', 'math', 'strings', 'bitmasks', 'geometry', 'dp', 'constructive algorithms'])\n",
    "ymax = 500.0\n",
    "maxrating = 5000.0\n",
    "maxpoints = 3000.0\n",
    "maxtimepts = 100\n",
    "maxtime = 24 * 30 * month * 2 \n",
    "path = 'rnn_train/' \n",
    "\n",
    "# ------------------------------------------                                                                                                             \n",
    "# Get list of handles in train/ test/ val\n",
    "# ------------------------------------------\n",
    "with open('set_val.txt') as f: \n",
    "    val_handles = [h.strip() for h in f.readlines()]\n",
    "\n",
    "\n",
    "# user columns can be out of order, use tourist's as correct order\n",
    "with open(path + 'tourist.csv') as f:\n",
    "    correct_cols = [t.strip() for t in f.readline().split(',')]\n",
    "    correct_cols = [c for c in correct_cols if c not in tags]\n",
    "\n",
    "# ------------------------------------------\n",
    "# Scaling\n",
    "# ------------------------------------------\n",
    "xmax = np.array([\n",
    "        maxtimepts,\n",
    "        maxtime,\n",
    "        maxtime,\n",
    "        maxtime,\n",
    "        maxrating,\n",
    "        maxpoints,\n",
    "        maxrating,\n",
    "        maxrating,\n",
    "        maxtimepts,\n",
    "        maxtimepts,\n",
    "        maxtimepts,\n",
    "        maxtimepts,\n",
    "        maxtimepts,\n",
    "        maxtimepts,\n",
    "        maxtimepts\n",
    "        ])\n",
    "\n",
    "print list(xmax)\n"
   ]
  },
  {
   "cell_type": "code",
   "execution_count": 17,
   "metadata": {},
   "outputs": [
    {
     "name": "stdout",
     "output_type": "stream",
     "text": [
      "rnn_train/markelost.csv\n"
     ]
    }
   ],
   "source": [
    "reload(keras_functions)\n",
    "X, Y, _, _, colnames = keras_functions.get_train_data(['markelost'], binvars, correct_cols, maxtimepts, path, maxtime)\n",
    "\n",
    "batchsize = X[0].shape\n",
    "model = make_model(batchsize)\n",
    "\n",
    "model.load_weights('model_weights.h5')\n",
    "\n",
    "y_pred = model.predict(X[0]/xmax, batch_size=X[0].shape[0])"
   ]
  },
  {
   "cell_type": "code",
   "execution_count": 3,
   "metadata": {},
   "outputs": [
    {
     "data": {
      "text/plain": [
       "(0, 0.3)"
      ]
     },
     "execution_count": 3,
     "metadata": {},
     "output_type": "execute_result"
    },
    {
     "data": {
      "image/png": "[encoded data removed]",
      "text/plain": [
       "<matplotlib.figure.Figure at 0x11bcc4f50>"
      ]
     },
     "metadata": {},
     "output_type": "display_data"
    }
   ],
   "source": [
    "loss = pd.read_csv('training_loss.txt', header=None)\n",
    "plt.rcParams['figure.figsize'] = (10,5)\n",
    "plt.plot(loss[0])\n",
    "plt.ylim(0, .3)"
   ]
  }
 ],
 "metadata": {
  "kernelspec": {
   "display_name": "Python 2",
   "language": "python",
   "name": "python2"
  },
  "language_info": {
   "codemirror_mode": {
    "name": "ipython",
    "version": 2
   },
   "file_extension": ".py",
   "mimetype": "text/x-python",
   "name": "python",
   "nbconvert_exporter": "python",
   "pygments_lexer": "ipython2",
   "version": "2.7.13"
  },
  "toc": {
   "toc_cell": false,
   "toc_number_sections": true,
   "toc_threshold": 6,
   "toc_window_display": false
  }
 },
 "nbformat": 4,
 "nbformat_minor": 2
}
