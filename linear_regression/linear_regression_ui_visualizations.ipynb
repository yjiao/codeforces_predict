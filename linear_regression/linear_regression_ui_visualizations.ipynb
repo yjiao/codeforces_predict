{
 "cells": [
  {
   "cell_type": "markdown",
   "metadata": {
    "collapsed": true
   },
   "source": [
    "# drafts of possible visualizations for UI\n",
    "This notebook contains draft functions for potentially useful visualizations for users\n",
    "of the piecewise linear regression model."
   ]
  },
  {
   "cell_type": "code",
   "execution_count": 53,
   "metadata": {
    "collapsed": true
   },
   "outputs": [],
   "source": [
    "import psycopg2\n",
    "import pandas as pd\n",
    "import numpy as np\n",
    "\n",
    "import pickle\n",
    "from collections import defaultdict\n",
    "\n",
    "from matplotlib import pyplot as plt\n",
    "%matplotlib inline\n",
    "plt.rcParams['figure.facecolor'] = 'white'\n",
    "import seaborn as sns"
   ]
  },
  {
   "cell_type": "markdown",
   "metadata": {},
   "source": [
    "Open a list of who (handle) solved which problems (contest_id = cid, problem_id = pid) on all of codeforces"
   ]
  },
  {
   "cell_type": "code",
   "execution_count": 2,
   "metadata": {
    "collapsed": true
   },
   "outputs": [],
   "source": [
    "with open('handle_cid_pid_keys.txt') as f:\n",
    "    keys = [l.strip().split(',') for l in f.readlines()]"
   ]
  },
  {
   "cell_type": "code",
   "execution_count": 443,
   "metadata": {
    "collapsed": true
   },
   "outputs": [],
   "source": [
    "db = 'codeforces'\n",
    "usr = 'Joy'\n",
    "con = psycopg2.connect(database=db, user=usr)"
   ]
  },
  {
   "cell_type": "markdown",
   "metadata": {},
   "source": [
    "## People who improved vs those who didn't"
   ]
  },
  {
   "cell_type": "markdown",
   "metadata": {},
   "source": [
    "The idea is to split users into different groups by rating blocks. Here we are using codeforces designations of user types (gray, green, teal, etc), so there are some rather verbose lines defining these categories.\n",
    "\n",
    "Ex. green people who never got to blue vs. green people who eventually got to blue"
   ]
  },
  {
   "cell_type": "code",
   "execution_count": 120,
   "metadata": {
    "collapsed": true
   },
   "outputs": [],
   "source": [
    "cutoffs = { \n",
    "        'gray'      : [0, 1199],\n",
    "        'green'     : [1200, 1399],\n",
    "        'teal'      : [1400, 1599],\n",
    "        'lowblue'   : [1600, 1799],\n",
    "        'blue'      : [1700, 1899],\n",
    "        'lowpurple' : [1900, 2099],\n",
    "        'purple'    : [2000, 2199],\n",
    "        'yellow'    : [2200, 2399],\n",
    "        'red'       : [2400, 5000]\n",
    "        }"
   ]
  },
  {
   "cell_type": "code",
   "execution_count": null,
   "metadata": {},
   "outputs": [],
   "source": [
    "lo = 0\n",
    "hi = 1000\n",
    "handlecolorgroups = {}\n",
    "for k, v in cutoffs.iteritems():\n",
    "    handlecolorgroups[k] = pd.read_sql(\"\"\"\n",
    "    SELECT * FROM\n",
    "        (\n",
    "            SELECT handle, COUNT(*) FROM user_rating_smooth\n",
    "                WHERE\n",
    "                    smoothed_3months >= %d\n",
    "                    AND\n",
    "                    smoothed_3months <= %d\n",
    "            GROUP BY handle\n",
    "            HAVING COUNT(*) >= 5\n",
    "        ) as a\n",
    "        INNER JOIN\n",
    "        (\n",
    "            SELECT handle, COUNT(*) FROM user_rating_smooth\n",
    "                WHERE\n",
    "                    smoothed_3months >= %d\n",
    "                    AND\n",
    "                    smoothed_3months <= %d\n",
    "            GROUP BY handle\n",
    "            HAVING COUNT(*) >= 5\n",
    "        ) as b;\n",
    "\n",
    "    \"\"\" % (lo, hi, lo, hi), con)\n"
   ]
  },
  {
   "cell_type": "code",
   "execution_count": 122,
   "metadata": {
    "collapsed": true
   },
   "outputs": [],
   "source": [
    "gray = set(handlecolorgroups['gray'].handle)\n",
    "green = set(handlecolorgroups['green'].handle)\n",
    "teal = set(handlecolorgroups['teal'].handle)\n",
    "lowblue = set(handlecolorgroups['lowblue'].handle)\n",
    "blue = set(handlecolorgroups['blue'].handle)\n",
    "lowpurple = set(handlecolorgroups['lowpurple'].handle)\n",
    "purple = set(handlecolorgroups['purple'].handle)\n",
    "yellow = set(handlecolorgroups['yellow'].handle)\n",
    "red = set(handlecolorgroups['red'].handle)"
   ]
  },
  {
   "cell_type": "markdown",
   "metadata": {},
   "source": [
    "improved users"
   ]
  },
  {
   "cell_type": "code",
   "execution_count": 123,
   "metadata": {
    "collapsed": true
   },
   "outputs": [],
   "source": [
    "gray_imp = gray.intersection(green)\n",
    "green_imp = green.intersection(teal)\n",
    "teal_imp = teal.intersection(blue)\n",
    "blue_imp = blue.intersection(purple)\n",
    "lowblue_imp = blue.intersection(purple)\n",
    "lowpurple_imp = lowpurple.intersection(yellow)\n",
    "purple_imp = purple.intersection(yellow)\n",
    "yellow_imp = yellow.intersection(red)"
   ]
  },
  {
   "cell_type": "markdown",
   "metadata": {},
   "source": [
    "users who did not improve"
   ]
  },
  {
   "cell_type": "code",
   "execution_count": 126,
   "metadata": {
    "collapsed": true
   },
   "outputs": [],
   "source": [
    "gray_non = gray.difference(gray_imp)\n",
    "green_non = green.difference(green_imp)\n",
    "teal_non = teal.difference(teal_imp)\n",
    "lowblue_non = lowblue.difference(lowblue_imp)\n",
    "blue_non = blue.difference(blue_imp)\n",
    "lowpurple_non = lowpurple.difference(lowpurple_imp)\n",
    "purple_non = purple.difference(purple_imp)\n",
    "yellow_non = yellow.difference(yellow_imp)"
   ]
  },
  {
   "cell_type": "code",
   "execution_count": 127,
   "metadata": {
    "collapsed": true,
    "run_control": {
     "marked": true
    }
   },
   "outputs": [],
   "source": [
    "non = [(len(gray_non) + 0.0) / len(gray),\n",
    "       (len(green_non) + 0.0) / len(green),\n",
    "       (len(teal_non) + 0.0) / len(teal),\n",
    "       (len(lowblue_non) + 0.0) / len(lowblue),\n",
    "       (len(blue_non) + 0.0) / len(blue),\n",
    "       (len(lowpurple_non) + 0.0) / len(lowpurple),\n",
    "       (len(purple_non) + 0.0) / len(purple),\n",
    "       (len(yellow_non) + 0.0) / len(yellow)\n",
    "      ]\n",
    "\n",
    "imp = [(len(gray_imp) + 0.0) / len(gray),\n",
    "       (len(green_imp) + 0.0) / len(green),\n",
    "       (len(teal_imp) + 0.0) / len(teal),\n",
    "       (len(lowblue_imp) + 0.0) / len(lowblue),\n",
    "       (len(blue_imp) + 0.0) / len(blue),\n",
    "       (len(lowpurple_imp) + 0.0) / len(lowpurple),\n",
    "       (len(purple_imp) + 0.0) / len(purple),\n",
    "       (len(yellow_imp) + 0.0) / len(yellow)\n",
    "      ]\n"
   ]
  },
  {
   "cell_type": "markdown",
   "metadata": {},
   "source": [
    "Looking at \"transition\" probabilities from one rank to the next, we see that this is pretty much what we would expect given the shape of user rating distributions."
   ]
  },
  {
   "cell_type": "code",
   "execution_count": 130,
   "metadata": {},
   "outputs": [
    {
     "data": {
      "image/png": "[encoded data removed]",
      "text/plain": [
       "<matplotlib.figure.Figure at 0x122151090>"
      ]
     },
     "metadata": {},
     "output_type": "display_data"
    }
   ],
   "source": [
    "colors = { \n",
    "        'gray'  : 'gray',\n",
    "        'green' : 'green',                                                                                                            \n",
    "        'teal'  : 'teal',\n",
    "        'blue'  : 'blue',\n",
    "        'purple': 'purple',\n",
    "        'yellow': 'yellow',\n",
    "        'red'   : 'red'\n",
    "        }\n",
    "\n",
    "\n",
    "plt.rcParams['figure.figsize'] = (10.0, 5.0)\n",
    "plt.plot(non, ls=\"--\", c=\"0\")\n",
    "plt.scatter(range(len(non)), non, c='0')\n",
    "plt.plot(imp, c='0')\n",
    "plt.scatter(range(len(imp)), imp, c='0')\n",
    "plt.ylabel(\"Fraction of people who improve\", fontsize = 16)\n",
    "plt.xlabel(\"User rating\", fontsize = 16)\n",
    "ax = plt.gca()\n",
    "plt.legend([\"Users who do not improve\", \"Users who improve\"], fontsize = 16)\n",
    "import matplotlib.patches as patches\n",
    "ax.add_patch( patches.Rectangle( (-.5, 0), 1, 2, alpha=0.1, color=colors['gray']) )\n",
    "ax.add_patch( patches.Rectangle( (.5, 0), 1, 2, alpha=0.1, color=colors['green']) )\n",
    "ax.add_patch( patches.Rectangle( (1.5, 0), 1, 2, alpha=0.1, color=colors['teal']) )\n",
    "ax.add_patch( patches.Rectangle( (2.5, 0), 1, 2, alpha=0.1, color=colors['blue']) )\n",
    "ax.add_patch( patches.Rectangle( (3.5, 0), 1, 2, alpha=0.1, color=colors['blue']) )\n",
    "ax.add_patch( patches.Rectangle( (4.5, 0), 1, 2, alpha=0.1, color=colors['purple']) )\n",
    "ax.add_patch( patches.Rectangle( (5.5, 0), 1, 2, alpha=0.1, color=colors['purple']) )\n",
    "ax.add_patch( patches.Rectangle( (6.5, 0), 1, 2, alpha=0.1, color=colors['yellow']) )\n",
    "\n",
    "x = range(len(non))\n",
    "labels=['gray to green',\n",
    "        'green to teal',\n",
    "        'teal to lowblue',\n",
    "        'lowblue to blue',\n",
    "        'blue to lowpurple',\n",
    "        'lowpurple to purple',\n",
    "        'purple to yellow',\n",
    "        'yellow to red']\n",
    "plt.xticks(x, labels, rotation='vertical', fontsize=14)\n",
    "\n",
    "#ax.patch.set_facecolor('white')\n",
    "ax.patch.set_alpha(.5)"
   ]
  },
  {
   "cell_type": "markdown",
   "metadata": {},
   "source": [
    "## Model visualizations"
   ]
  },
  {
   "cell_type": "code",
   "execution_count": 448,
   "metadata": {
    "collapsed": true
   },
   "outputs": [],
   "source": [
    "import pickle\n",
    "with open('ols_models_final.pickle') as f:\n",
    "    m = pickle.load(f)\n",
    "\n",
    "df_coef = m['df_coef']"
   ]
  },
  {
   "cell_type": "code",
   "execution_count": 452,
   "metadata": {},
   "outputs": [
    {
     "data": {
      "text/plain": [
       "['models', 'df_coef', 'variables', 'bins', 'xmax']"
      ]
     },
     "execution_count": 452,
     "metadata": {},
     "output_type": "execute_result"
    }
   ],
   "source": [
    "m.keys()"
   ]
  },
  {
   "cell_type": "markdown",
   "metadata": {},
   "source": [
    "```sig_coef``` are coefficients that remained in at least one model after elastic net regularization"
   ]
  },
  {
   "cell_type": "code",
   "execution_count": 304,
   "metadata": {
    "collapsed": true
   },
   "outputs": [],
   "source": [
    "sig_coef = df_coef[m['variables']]"
   ]
  },
  {
   "cell_type": "code",
   "execution_count": 306,
   "metadata": {
    "scrolled": true
   },
   "outputs": [
    {
     "name": "stdout",
     "output_type": "stream",
     "text": [
      "java\n",
      "lowlevel\n",
      "max_probability_contest\n",
      "max_timediff\n",
      "mean_probability_contest\n",
      "mean_probability_practice\n",
      "python\n",
      "smoothed_3months\n",
      "std_probability_contest\n",
      "std_probability_practice\n",
      "tot_solvetime\n",
      "unique_tags_total\n",
      "time_between_mean\n",
      "time_between_std\n",
      "log_max_probability_practice\n",
      "log_mean_probability_practice\n",
      "log_std_probability_contest\n",
      "log_std_probability_practice\n",
      "exp_max_probability_contest\n",
      "exp_max_probability_practice\n",
      "exp_mean_probability_practice\n",
      "exp_performance\n",
      "exp_rank\n",
      "exp_std_probability_practice\n",
      "tanh_java\n",
      "tanh_lowlevel\n",
      "tanh_max_probability_contest\n",
      "tanh_max_ratingdiff_practice\n",
      "tanh_max_solvetime\n",
      "tanh_max_timediff\n",
      "tanh_mean_ratingdiff_practice\n",
      "tanh_n100\n",
      "tanh_oldrating\n",
      "tanh_python\n",
      "tanh_smoothed_3months\n",
      "tanh_std_probability_contest\n",
      "tanh_std_probability_practice\n",
      "tanh_std_ratingdiff_contest \n",
      "tanh_std_ratingdiff_practice\n",
      "tanh_std_timediff\n",
      "tanh_tot_solvetime\n",
      "tanh_total_problems\n",
      "tanh_unique_newtags\n",
      "tanh_unique_tags_total\n",
      "tanh_binary search\n",
      "tanh_bitmasks\n",
      "tanh_combinatorics\n",
      "tanh_constructive algorithms\n",
      "tanh_dp\n",
      "tanh_n_contest\n",
      "tanh_n_harder\n",
      "tanh_rating_diff_mean\n",
      "tanh_rating_diff_std\n",
      "tanh_sortings\n",
      "tanh_strings\n",
      "tanh_time_between_mean\n",
      "tanh_time_between_std\n",
      "tanh_user_rating\n",
      "inv_max_error_practice\n",
      "inv_max_probability_contest\n",
      "inv_max_probability_practice\n",
      "inv_max_wrong_contest\n",
      "inv_max_wrong_practice\n",
      "inv_mean_probability_contest\n",
      "inv_mean_probability_practice\n",
      "inv_mean_wrong_contest\n",
      "inv_n100\n",
      "inv_n200\n",
      "inv_n300\n",
      "inv_n400\n",
      "inv_n500\n",
      "inv_n_solved\n",
      "inv_n_unlikely01\n",
      "inv_n_unlikely02\n",
      "inv_rank\n",
      "inv_std_probability_contest\n",
      "inv_std_probability_practice\n",
      "inv_total_contests\n",
      "inv_total_error_contest\n",
      "inv_total_error_practice\n",
      "inv_total_newtags\n",
      "inv_total_wrong_contest\n",
      "inv_total_wrong_practice\n",
      "inv_unique_newtags\n",
      "inv_binary search\n",
      "inv_bitmasks\n",
      "inv_brute force\n",
      "inv_combinatorics\n",
      "inv_constructive algorithms\n",
      "inv_data structures\n",
      "inv_dfs and similar\n",
      "inv_divide and conquer\n",
      "inv_dp\n",
      "inv_dsu\n",
      "inv_flows\n",
      "inv_games\n",
      "inv_geometry\n",
      "inv_graph matchings\n",
      "inv_graphs\n",
      "inv_greedy\n",
      "inv_hashing\n",
      "inv_implementation\n",
      "inv_math\n",
      "inv_matrices\n",
      "inv_meet-in-the-middle\n",
      "inv_n_contest\n",
      "inv_n_harder\n",
      "inv_n_harder100\n",
      "inv_n_harder50\n",
      "inv_n_harder500\n",
      "inv_n_wrong_std\n",
      "inv_number theory\n",
      "inv_problems_solved\n",
      "inv_shortest paths\n",
      "inv_sortings\n",
      "inv_string suffix structures\n",
      "inv_strings\n",
      "inv_trees\n",
      "inv_two pointers\n",
      "binlow\n",
      "binhigh\n"
     ]
    }
   ],
   "source": [
    "for c in sig_coef.columns:\n",
    "    print c"
   ]
  },
  {
   "cell_type": "markdown",
   "metadata": {},
   "source": [
    "Since ```n_contest``` appears in various forms, let's visualize what it actually looks like in our model"
   ]
  },
  {
   "cell_type": "code",
   "execution_count": 361,
   "metadata": {},
   "outputs": [
    {
     "data": {
      "text/plain": [
       "<matplotlib.collections.PathCollection at 0x122a74210>"
      ]
     },
     "execution_count": 361,
     "metadata": {},
     "output_type": "execute_result"
    },
    {
     "data": {
      "image/png": "[encoded data removed]",
      "text/plain": [
       "<matplotlib.figure.Figure at 0x122a74150>"
      ]
     },
     "metadata": {},
     "output_type": "display_data"
    }
   ],
   "source": [
    "group = 1\n",
    "x = np.arange(5, 10)\n",
    "y = df_coef.tanh_n_contest[group] * np.tanh(x) + df_coef.inv_total_contests[group] * 1.0/x + df_coef.inv_n_contest[group] * 1.0/x\n",
    "y *= 532.75\n",
    "plt.plot(x, y)\n",
    "plt.scatter(x, y)"
   ]
  },
  {
   "cell_type": "code",
   "execution_count": 329,
   "metadata": {},
   "outputs": [
    {
     "data": {
      "text/plain": [
       "<matplotlib.collections.PathCollection at 0x1205110d0>"
      ]
     },
     "execution_count": 329,
     "metadata": {},
     "output_type": "execute_result"
    },
    {
     "data": {
      "image/png": "[encoded data removed]",
      "text/plain": [
       "<matplotlib.figure.Figure at 0x120511590>"
      ]
     },
     "metadata": {},
     "output_type": "display_data"
    }
   ],
   "source": [
    "var = 'max_probability_contest'\n",
    "plt.plot(sig_coef[var])\n",
    "plt.scatter(range(sig_coef.shape[0]), sig_coef[var])"
   ]
  },
  {
   "cell_type": "markdown",
   "metadata": {},
   "source": [
    "Test out what the model looks like for a user with rating 2000"
   ]
  },
  {
   "cell_type": "code",
   "execution_count": 262,
   "metadata": {
    "collapsed": true
   },
   "outputs": [],
   "source": [
    "usr_rate = 2000\n",
    "idx = np.logical_and(df_coef['binlow'] <= usr_rate, df_coef['binhigh'] > usr_rate)"
   ]
  },
  {
   "cell_type": "code",
   "execution_count": 269,
   "metadata": {
    "collapsed": true
   },
   "outputs": [],
   "source": [
    "df_coef.reset_index(drop=True, inplace=True)"
   ]
  },
  {
   "cell_type": "code",
   "execution_count": 272,
   "metadata": {
    "collapsed": true
   },
   "outputs": [],
   "source": [
    "test = df_coef.loc[np.where(idx)[0][0], :]\n",
    "test.is_copy = False\n",
    "test.drop(['binhigh', 'binlow'], inplace=True)\n",
    "sortkey = test.abs().sort_values(ascending=False).index\n",
    "\n",
    "test = test[sortkey]\n",
    "test = test[test != 0]\n",
    "q = \"\"\"\n",
    "select tag from all_tags\n",
    "\"\"\"\n",
    "all_tags = pd.read_sql(q, con)['tag']\n",
    "all_tags = set(all_tags)"
   ]
  },
  {
   "cell_type": "markdown",
   "metadata": {},
   "source": [
    "Which tags are important? What does their total contribution (including nonlinear transformations) look like?"
   ]
  },
  {
   "cell_type": "code",
   "execution_count": 252,
   "metadata": {},
   "outputs": [
    {
     "data": {
      "text/plain": [
       "[('inv_hashing', 2.0),\n",
       " ('inv_geometry', 1.0),\n",
       " ('inv_graphs', 1.0),\n",
       " ('inv_data structures', 1.0),\n",
       " ('inv_combinatorics', -1.0),\n",
       " ('inv_constructive algorithms', 1.0),\n",
       " ('inv_dsu', 1.0),\n",
       " ('inv_math', 1.0),\n",
       " ('inv_dp', 1.0)]"
      ]
     },
     "execution_count": 252,
     "metadata": {},
     "output_type": "execute_result"
    }
   ],
   "source": [
    "tag_coefs = []\n",
    "for t in test.index:\n",
    "    for a in all_tags:\n",
    "        if a in t and round(test[t]*532.75) != 0:\n",
    "            tag_coefs.append((t, round(test[t]*532.75)))\n",
    "            \n",
    "tag_coefs"
   ]
  },
  {
   "cell_type": "code",
   "execution_count": 275,
   "metadata": {
    "collapsed": true
   },
   "outputs": [],
   "source": [
    "X = pd.read_csv('OLStrain_all_normalized_data.csv')"
   ]
  },
  {
   "cell_type": "code",
   "execution_count": 278,
   "metadata": {
    "collapsed": true
   },
   "outputs": [],
   "source": [
    "xmax = np.max(X, axis=0)"
   ]
  },
  {
   "cell_type": "code",
   "execution_count": 280,
   "metadata": {
    "collapsed": true
   },
   "outputs": [],
   "source": [
    "with open('OLS_xmax.pickle', 'w') as f:\n",
    "    pickle.dump(xmax, f)"
   ]
  },
  {
   "cell_type": "code",
   "execution_count": 276,
   "metadata": {
    "collapsed": true
   },
   "outputs": [],
   "source": [
    "xmax = np.max(np.array(X), axis=0)"
   ]
  },
  {
   "cell_type": "code",
   "execution_count": 277,
   "metadata": {},
   "outputs": [
    {
     "data": {
      "text/plain": [
       "457"
      ]
     },
     "execution_count": 277,
     "metadata": {},
     "output_type": "execute_result"
    }
   ],
   "source": [
    "len(xmax)"
   ]
  },
  {
   "cell_type": "code",
   "execution_count": 389,
   "metadata": {
    "collapsed": true
   },
   "outputs": [],
   "source": [
    "vardict = defaultdict(list)\n",
    "\n",
    "mods = ['tanh_', 'log_', 'exp_', 'inv_']\n",
    "for c in df_coef.columns:\n",
    "    #if not any([t in c for t in all_tags]): # if not a tag\n",
    "    found = False\n",
    "    for t in mods:\n",
    "        if t in c:\n",
    "            stem = c.replace(t, '')\n",
    "            vardict[stem].append(t)\n",
    "            found = True\n",
    "    if not found:\n",
    "        vardict[c].append(\"\")"
   ]
  },
  {
   "cell_type": "code",
   "execution_count": 441,
   "metadata": {},
   "outputs": [
    {
     "data": {
      "text/plain": [
       "<matplotlib.legend.Legend at 0x127a29610>"
      ]
     },
     "execution_count": 441,
     "metadata": {},
     "output_type": "execute_result"
    },
    {
     "data": {
      "image/png": "[encoded data removed]",
      "text/plain": [
       "<matplotlib.figure.Figure at 0x127a297d0>"
      ]
     },
     "metadata": {},
     "output_type": "display_data"
    }
   ],
   "source": [
    "with sns.color_palette(\"husl\", 10):\n",
    "    for group in range(10, 20):\n",
    "        name = 'n_solved'\n",
    "\n",
    "        vardict[name]\n",
    "        nx = 20\n",
    "        x = np.arange(1, nx)\n",
    "        y = np.zeros(nx-1)\n",
    "        for v in vardict[name]:\n",
    "            coef = df_coef[v + name][group]\n",
    "            if v == \"tanh_\":\n",
    "                y += np.tanh(x) * coef\n",
    "            if v == \"exp_\":\n",
    "                y += np.exp(x) * coef\n",
    "            if v == \"log_\":\n",
    "                y += np.log(x) * coef\n",
    "            if v == \"inv_\":\n",
    "                y += 1.0/x * coef\n",
    "            if v == \"\":\n",
    "                y += x * coef\n",
    "\n",
    "        y *= 532.75\n",
    "        plt.plot(x, y)\n",
    "        plt.scatter(x, y)\n",
    "plt.legend(range(10, 20))"
   ]
  }
 ],
 "metadata": {
  "kernelspec": {
   "display_name": "Python 2",
   "language": "python",
   "name": "python2"
  },
  "language_info": {
   "codemirror_mode": {
    "name": "ipython",
    "version": 2
   },
   "file_extension": ".py",
   "mimetype": "text/x-python",
   "name": "python",
   "nbconvert_exporter": "python",
   "pygments_lexer": "ipython2",
   "version": "2.7.13"
  },
  "toc": {
   "toc_cell": false,
   "toc_number_sections": true,
   "toc_threshold": 6,
   "toc_window_display": false
  }
 },
 "nbformat": 4,
 "nbformat_minor": 2
}
