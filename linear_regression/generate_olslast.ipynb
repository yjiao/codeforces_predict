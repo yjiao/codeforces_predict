{
 "cells": [
  {
   "cell_type": "markdown",
   "metadata": {
    "collapsed": true
   },
   "source": [
    "# Generate last OLS data\n",
    "For demo, grab the last time point of the user"
   ]
  },
  {
   "cell_type": "code",
   "execution_count": 10,
   "metadata": {
    "collapsed": true
   },
   "outputs": [],
   "source": [
    "with open('OLStrain_all_normalized_data_index.csv') as f:\n",
    "    indices = [t.strip().split(',') for t in f.readlines()]"
   ]
  },
  {
   "cell_type": "code",
   "execution_count": 11,
   "metadata": {
    "collapsed": true
   },
   "outputs": [],
   "source": [
    "indices=indices[1:]\n",
    "\n",
    "indices = map(lambda x: [x[0], int(x[1])], indices)"
   ]
  },
  {
   "cell_type": "code",
   "execution_count": 52,
   "metadata": {
    "collapsed": true,
    "scrolled": true
   },
   "outputs": [],
   "source": [
    "lastlist = []\n",
    "with open('OLStrain_all_normalized_data.csv') as f:\n",
    "    header = f.readline()\n",
    "    lastuser = ''\n",
    "    flag = 0\n",
    "    for i, line in enumerate(f):\n",
    "        try:\n",
    "            if indices[i][0] != lastuser:\n",
    "                lastuser = indices[i][0]\n",
    "                lastlist.append(indices[i][0] + ',' + line)\n",
    "        except:\n",
    "            pass"
   ]
  },
  {
   "cell_type": "code",
   "execution_count": 57,
   "metadata": {
    "collapsed": true
   },
   "outputs": [],
   "source": [
    "with open('OLStrain_all_normalized_data_last.csv', 'w') as f:\n",
    "    f.write(header)\n",
    "    for line in lastlist:\n",
    "        f.write(line)"
   ]
  }
 ],
 "metadata": {
  "kernelspec": {
   "display_name": "Python 2",
   "language": "python",
   "name": "python2"
  },
  "language_info": {
   "codemirror_mode": {
    "name": "ipython",
    "version": 2
   },
   "file_extension": ".py",
   "mimetype": "text/x-python",
   "name": "python",
   "nbconvert_exporter": "python",
   "pygments_lexer": "ipython2",
   "version": "2.7.13"
  },
  "toc": {
   "toc_cell": false,
   "toc_number_sections": true,
   "toc_threshold": 6,
   "toc_window_display": false
  }
 },
 "nbformat": 4,
 "nbformat_minor": 2
}
