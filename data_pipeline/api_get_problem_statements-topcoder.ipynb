{
 "cells": [
  {
   "cell_type": "markdown",
   "metadata": {},
   "source": [
    "# Get problem texts from Topcoder\n",
    "\n",
    "This notebook contains functions to scrape all problem statements from the competitive programming platform, topcoder, since no API is provided.\n",
    "\n",
    "Note that this data was ultimately not included in the codeforces prediction model due to lack of time."
   ]
  },
  {
   "cell_type": "markdown",
   "metadata": {},
   "source": [
    "**Notes**\n",
    "\n",
    "API information:\n",
    "* http://docs.tcapi.apiary.io/#reference/data/top-ranked-srm-members/top-ranked-srm-members\n",
    "\n",
    "Getting data on users:\n",
    "* http://api.topcoder.com/v2/users/yj12/statistics/data/srm\n",
    "\n",
    "Getting list of users:\n",
    "* Note this only goes by 200 at a time\n",
    "* http://www.topcoder.com/tc?cc=&sc=&sd=&cc=&module=AlgoRank&nr=5000&sr=4000"
   ]
  },
  {
   "cell_type": "code",
   "execution_count": 1,
   "metadata": {
    "collapsed": true
   },
   "outputs": [],
   "source": [
    "import requests\n",
    "import bs4\n",
    "from bs4 import BeautifulSoup\n",
    "import re\n",
    "import psycopg2\n",
    "import pandas as pd"
   ]
  },
  {
   "cell_type": "markdown",
   "metadata": {},
   "source": [
    "## Functions"
   ]
  },
  {
   "cell_type": "markdown",
   "metadata": {},
   "source": [
    "### url request"
   ]
  },
  {
   "cell_type": "markdown",
   "metadata": {},
   "source": [
    "#### list of all contests"
   ]
  },
  {
   "cell_type": "code",
   "execution_count": null,
   "metadata": {
    "collapsed": true
   },
   "outputs": [],
   "source": [
    "url = \"https://www.topcoder.com/tc?module=ProblemArchive&sr=0&er=5000&sc=&sd=&class=&cat=&div1l=&div2l=&mind1s=&mind2s=&maxd1s=&maxd2s=&wr=\"\n",
    "r = requests.get(url)\n",
    "with open('TC_questions_list.txt', 'w') as f:\n",
    "    f.write(r.content)"
   ]
  },
  {
   "cell_type": "code",
   "execution_count": 119,
   "metadata": {
    "collapsed": true
   },
   "outputs": [],
   "source": [
    "with open('TC_questions_list.txt') as f:\n",
    "    r = f.readlines()\n",
    "r = ''.join(r)\n",
    "\n",
    "len(r)"
   ]
  },
  {
   "cell_type": "code",
   "execution_count": 6,
   "metadata": {
    "collapsed": true
   },
   "outputs": [],
   "source": [
    "soup = BeautifulSoup(r.content, 'html.parser')\n",
    "\n",
    "soup_problems = soup.findAll('table', {'class': 'paddingTable2'})\n",
    "\n",
    "tr = soup_problems[1].findAll('tr')\n",
    "problem_list = []\n",
    "\n",
    "cnt = 0\n",
    "for t in tr:\n",
    "#    print t.contents\n",
    "    td = t.findAll('td')\n",
    "    row = []\n",
    "    links = []\n",
    "    for d in td:\n",
    "        a = d.find_all('a')\n",
    "        links.extend(a)\n",
    "        \n",
    "        txt = d.text.encode('ascii', 'ignore').strip()\n",
    "        txt = re.sub('\\n[ ]+', ' ', txt)\n",
    "        txt = re.sub('\\. ', '_', txt)\n",
    "        txt = re.sub(' ', '_', txt)\n",
    "        txt = re.sub('%', '', txt)\n",
    "        txt = txt.lower()\n",
    "        row.append(txt)\n",
    "    \n",
    "    href = []\n",
    "    if len(links) == 4:\n",
    "        for a in links:\n",
    "            # problem, round, memberprofile, detail\n",
    "            href.append(a.attrs['href'])\n",
    "    \n",
    "    row.extend(href)\n",
    "    \n",
    "    if len(row) == 12:\n",
    "        row.extend([\n",
    "            'href_problem',\n",
    "            'href_round',\n",
    "            'href_writer',\n",
    "            'href_detail'\n",
    "        ])\n",
    "        \n",
    "    if len(row) != 16:\n",
    "        continue\n",
    "        \n",
    "    \n",
    "    problem_list.append(row)\n",
    "        \n",
    "#    cnt += 1\n",
    "#    if cnt > 5:\n",
    "#        break"
   ]
  },
  {
   "cell_type": "code",
   "execution_count": 121,
   "metadata": {
    "collapsed": true,
    "scrolled": true
   },
   "outputs": [],
   "source": [
    "df_list = pd.DataFrame.from_dict(problem_list[1:])\n",
    "problem_list[0][0] = 0\n",
    "problem_list[0][10] = 10\n",
    "problem_list[0][11] = 11\n",
    "df_list.columns = problem_list[0]\n",
    "df_list.drop([0, 10, 11], axis=1, inplace=True)"
   ]
  },
  {
   "cell_type": "markdown",
   "metadata": {},
   "source": [
    "#### get problem details"
   ]
  },
  {
   "cell_type": "code",
   "execution_count": 123,
   "metadata": {},
   "outputs": [
    {
     "data": {
      "text/html": [
       "<div>\n",
       "<style>\n",
       "    .dataframe thead tr:only-child th {\n",
       "        text-align: right;\n",
       "    }\n",
       "\n",
       "    .dataframe thead th {\n",
       "        text-align: left;\n",
       "    }\n",
       "\n",
       "    .dataframe tbody tr th {\n",
       "        vertical-align: top;\n",
       "    }\n",
       "</style>\n",
       "<table border=\"1\" class=\"dataframe\">\n",
       "  <thead>\n",
       "    <tr style=\"text-align: right;\">\n",
       "      <th></th>\n",
       "      <th>problemname</th>\n",
       "      <th>challenge</th>\n",
       "      <th>date</th>\n",
       "      <th>writer</th>\n",
       "      <th>categories</th>\n",
       "      <th>div_1level</th>\n",
       "      <th>div_1success_rate</th>\n",
       "      <th>div_2level</th>\n",
       "      <th>div_2success_rate</th>\n",
       "      <th>href_problem</th>\n",
       "      <th>href_round</th>\n",
       "      <th>href_writer</th>\n",
       "      <th>href_detail</th>\n",
       "    </tr>\n",
       "  </thead>\n",
       "  <tbody>\n",
       "    <tr>\n",
       "      <th>0</th>\n",
       "      <td>classictowers</td>\n",
       "      <td>srm_715</td>\n",
       "      <td>05.30.2017</td>\n",
       "      <td>lg5293</td>\n",
       "      <td>dynamic_programming</td>\n",
       "      <td>2</td>\n",
       "      <td>68.97</td>\n",
       "      <td></td>\n",
       "      <td></td>\n",
       "      <td>/stat?c=problem_statement&amp;pm=14591</td>\n",
       "      <td>/stat?c=round_overview&amp;rd=16884</td>\n",
       "      <td>/tc?module=MemberProfile&amp;cr=22858920&amp;tab=alg</td>\n",
       "      <td>/tc?module=ProblemDetail&amp;rd=16884&amp;pm=14591</td>\n",
       "    </tr>\n",
       "    <tr>\n",
       "      <th>1</th>\n",
       "      <td>imagecompression</td>\n",
       "      <td>srm_715</td>\n",
       "      <td>05.30.2017</td>\n",
       "      <td>lg5293</td>\n",
       "      <td>string_manipulation</td>\n",
       "      <td></td>\n",
       "      <td></td>\n",
       "      <td>1</td>\n",
       "      <td>77.60</td>\n",
       "      <td>/stat?c=problem_statement&amp;pm=14612</td>\n",
       "      <td>/stat?c=round_overview&amp;rd=16884</td>\n",
       "      <td>/tc?module=MemberProfile&amp;cr=22858920&amp;tab=alg</td>\n",
       "      <td>/tc?module=ProblemDetail&amp;rd=16884&amp;pm=14612</td>\n",
       "    </tr>\n",
       "    <tr>\n",
       "      <th>2</th>\n",
       "      <td>inprepost</td>\n",
       "      <td>srm_715</td>\n",
       "      <td>05.30.2017</td>\n",
       "      <td>lg5293</td>\n",
       "      <td>greedy</td>\n",
       "      <td></td>\n",
       "      <td></td>\n",
       "      <td>3</td>\n",
       "      <td>31.43</td>\n",
       "      <td>/stat?c=problem_statement&amp;pm=14610</td>\n",
       "      <td>/stat?c=round_overview&amp;rd=16884</td>\n",
       "      <td>/tc?module=MemberProfile&amp;cr=22858920&amp;tab=alg</td>\n",
       "      <td>/tc?module=ProblemDetail&amp;rd=16884&amp;pm=14610</td>\n",
       "    </tr>\n",
       "    <tr>\n",
       "      <th>3</th>\n",
       "      <td>maximumrange</td>\n",
       "      <td>srm_715</td>\n",
       "      <td>05.30.2017</td>\n",
       "      <td>lg5293</td>\n",
       "      <td>greedy</td>\n",
       "      <td>1</td>\n",
       "      <td>97.97</td>\n",
       "      <td></td>\n",
       "      <td></td>\n",
       "      <td>/stat?c=problem_statement&amp;pm=14613</td>\n",
       "      <td>/stat?c=round_overview&amp;rd=16884</td>\n",
       "      <td>/tc?module=MemberProfile&amp;cr=22858920&amp;tab=alg</td>\n",
       "      <td>/tc?module=ProblemDetail&amp;rd=16884&amp;pm=14613</td>\n",
       "    </tr>\n",
       "    <tr>\n",
       "      <th>4</th>\n",
       "      <td>maximumrangediv2</td>\n",
       "      <td>srm_715</td>\n",
       "      <td>05.30.2017</td>\n",
       "      <td>lg5293</td>\n",
       "      <td>brute_force,_string_manipulation</td>\n",
       "      <td></td>\n",
       "      <td></td>\n",
       "      <td>2</td>\n",
       "      <td>84.43</td>\n",
       "      <td>/stat?c=problem_statement&amp;pm=14611</td>\n",
       "      <td>/stat?c=round_overview&amp;rd=16884</td>\n",
       "      <td>/tc?module=MemberProfile&amp;cr=22858920&amp;tab=alg</td>\n",
       "      <td>/tc?module=ProblemDetail&amp;rd=16884&amp;pm=14611</td>\n",
       "    </tr>\n",
       "  </tbody>\n",
       "</table>\n",
       "</div>"
      ],
      "text/plain": [
       "        problemname challenge        date  writer  \\\n",
       "0     classictowers   srm_715  05.30.2017  lg5293   \n",
       "1  imagecompression   srm_715  05.30.2017  lg5293   \n",
       "2         inprepost   srm_715  05.30.2017  lg5293   \n",
       "3      maximumrange   srm_715  05.30.2017  lg5293   \n",
       "4  maximumrangediv2   srm_715  05.30.2017  lg5293   \n",
       "\n",
       "                         categories div_1level div_1success_rate div_2level  \\\n",
       "0               dynamic_programming          2             68.97              \n",
       "1               string_manipulation                                       1   \n",
       "2                            greedy                                       3   \n",
       "3                            greedy          1             97.97              \n",
       "4  brute_force,_string_manipulation                                       2   \n",
       "\n",
       "  div_2success_rate                        href_problem  \\\n",
       "0                    /stat?c=problem_statement&pm=14591   \n",
       "1             77.60  /stat?c=problem_statement&pm=14612   \n",
       "2             31.43  /stat?c=problem_statement&pm=14610   \n",
       "3                    /stat?c=problem_statement&pm=14613   \n",
       "4             84.43  /stat?c=problem_statement&pm=14611   \n",
       "\n",
       "                        href_round  \\\n",
       "0  /stat?c=round_overview&rd=16884   \n",
       "1  /stat?c=round_overview&rd=16884   \n",
       "2  /stat?c=round_overview&rd=16884   \n",
       "3  /stat?c=round_overview&rd=16884   \n",
       "4  /stat?c=round_overview&rd=16884   \n",
       "\n",
       "                                    href_writer  \\\n",
       "0  /tc?module=MemberProfile&cr=22858920&tab=alg   \n",
       "1  /tc?module=MemberProfile&cr=22858920&tab=alg   \n",
       "2  /tc?module=MemberProfile&cr=22858920&tab=alg   \n",
       "3  /tc?module=MemberProfile&cr=22858920&tab=alg   \n",
       "4  /tc?module=MemberProfile&cr=22858920&tab=alg   \n",
       "\n",
       "                                  href_detail  \n",
       "0  /tc?module=ProblemDetail&rd=16884&pm=14591  \n",
       "1  /tc?module=ProblemDetail&rd=16884&pm=14612  \n",
       "2  /tc?module=ProblemDetail&rd=16884&pm=14610  \n",
       "3  /tc?module=ProblemDetail&rd=16884&pm=14613  \n",
       "4  /tc?module=ProblemDetail&rd=16884&pm=14611  "
      ]
     },
     "execution_count": 123,
     "metadata": {},
     "output_type": "execute_result"
    }
   ],
   "source": [
    "base_url = \"https://www.topcoder.com/\"\n",
    "\n",
    "df_list.head()"
   ]
  },
  {
   "cell_type": "code",
   "execution_count": 2,
   "metadata": {
    "collapsed": true
   },
   "outputs": [],
   "source": [
    "from time import sleep\n",
    "def getproblemtext(contest, problem):\n",
    "    maxtries = 5\n",
    "    tries = 0\n",
    "    url = 'http://codeforces.com/problemset/problem/' + str(contest) + '/' + str(problem)\n",
    "    print url\n",
    "    \n",
    "    while tries < maxtries:\n",
    "        try:\n",
    "            r = requests.get(url)\n",
    "            return r.content\n",
    "        except:\n",
    "            tries += 1\n",
    "            sleep(5)\n",
    "    print \"ERROR GETTING CONTEST INFO FOR\", contest, problem_data.csv"
   ]
  },
  {
   "cell_type": "markdown",
   "metadata": {
    "heading_collapsed": true
   },
   "source": [
    "### scientific notation -> 0's"
   ]
  },
  {
   "cell_type": "code",
   "execution_count": 245,
   "metadata": {
    "collapsed": true,
    "hidden": true
   },
   "outputs": [],
   "source": [
    "# turn scientific notation into 0s\n",
    "def sci2num(txt):\n",
    "    #txt = txt.encode('utf-8')\n",
    "    exponents = map(int, re.findall('10<sup class=\"upper-index\">(.)</sup>', txt))\n",
    "    for e in exponents:\n",
    "        estr = '10' + ''.join(map(str, [0]*(e-1)))\n",
    "        txt = re.sub('10<sup class=\"upper-index\">' + str(e) + '</sup>', estr, txt)\n",
    "    #return BeautifulSoup(txt, 'html.parser')\n",
    "    return txt\n",
    "\n"
   ]
  },
  {
   "cell_type": "markdown",
   "metadata": {},
   "source": [
    "### Ignore first tag"
   ]
  },
  {
   "cell_type": "code",
   "execution_count": null,
   "metadata": {
    "code_folding": [
     0
    ],
    "collapsed": true
   },
   "outputs": [],
   "source": [
    "def ignore1sttag(bs4obj):\n",
    "    inputlist = []\n",
    "    for cont in bs4obj.contents:\n",
    "        if type(cont) == bs4.NavigableString:\n",
    "            inputlist.append(cont)\n",
    "        elif len(cont.attrs) == 0:\n",
    "            inputlist.append(cont.text)\n",
    "    out = ''.join(inputlist)\n",
    "    return out"
   ]
  },
  {
   "cell_type": "markdown",
   "metadata": {},
   "source": [
    "### parsing"
   ]
  },
  {
   "cell_type": "code",
   "execution_count": 381,
   "metadata": {
    "code_folding": [
     0
    ],
    "collapsed": true
   },
   "outputs": [],
   "source": [
    "def get_problem_dict(contestid, problemid):\n",
    "    r = getproblemtext(contestid, problemid)\n",
    "    r = sci2num(r)\n",
    "\n",
    "    soup = BeautifulSoup(r, 'html.parser')\n",
    "    #print(soup.prettify())\n",
    "\n",
    "    statement = soup.find(\"div\", { \"class\" : \"problem-statement\" })\n",
    "    problem_name = soup.find(\"div\", { \"class\" : \"title\" }).string\n",
    "\n",
    "    tmp = soup.find(\"div\", { \"class\" : \"time-limit\" })\n",
    "    timelimit = tmp.contents[-1]\n",
    "    timelimit = timelimit.split(' ')[0]\n",
    "    timelimit = float(timelimit)\n",
    "\n",
    "    tmp = soup.find(\"div\", { \"class\" : \"memory-limit\" })\n",
    "    memlimit = tmp.contents[-1]\n",
    "    memlimit = memlimit.split(' ')[0]\n",
    "    memlimit = int(memlimit)\n",
    "\n",
    "    children = []\n",
    "    for c in statement.children:\n",
    "        children.append(c)\n",
    "\n",
    "    description = children[1]\n",
    "    assert(len(description.attrs) == 0)\n",
    "    txt_descr = description.text\n",
    "\n",
    "    txt_input = ignore1sttag(children[2])\n",
    "        \n",
    "    txt_output = ignore1sttag(children[3])\n",
    "    \n",
    "    if (len(children) >= 6):\n",
    "        txt_note = ignore1sttag(children[5])\n",
    "    else:\n",
    "        txt_note = ''\n",
    "\n",
    "    assert(children[4].attrs['class'][0] == u'sample-tests')\n",
    "\n",
    "    #print problem_name, '\\n'\n",
    "    #print timelimit, '\\n'\n",
    "    #print memlimit, '\\n'\n",
    "    #print txt_descr, '\\n'\n",
    "    #print txt_input, '\\n'\n",
    "    #print txt_output, '\\n'\n",
    "    #print txt_note, '\\n'\n",
    "\n",
    "    problem_dict = {\n",
    "        'contestid':     contestid,\n",
    "        'problemid':     problemid,\n",
    "        'problemname':   problem_name,\n",
    "        'timelimit' :    timelimit,\n",
    "        'memlimit' :     memlimit,\n",
    "        'txt_descr' :    txt_descr,\n",
    "        'txt_input' :    txt_input,\n",
    "        'txt_output':    txt_output,\n",
    "        'txt_note':      txt_note\n",
    "    }\n",
    "\n",
    "    return problem_dict"
   ]
  },
  {
   "cell_type": "markdown",
   "metadata": {},
   "source": [
    "## Calling functions"
   ]
  },
  {
   "cell_type": "code",
   "execution_count": 327,
   "metadata": {
    "collapsed": true
   },
   "outputs": [],
   "source": [
    "db = 'codeforces'\n",
    "usr = 'Joy'\n",
    "con = psycopg2.connect(database = db, user = usr)\n",
    "cur = con.cursor()"
   ]
  },
  {
   "cell_type": "code",
   "execution_count": 358,
   "metadata": {
    "collapsed": true
   },
   "outputs": [],
   "source": [
    "query = \"\"\"\n",
    "SELECT contestid, problemid FROM problem_info;\n",
    "\"\"\"\n",
    "cur.execute(query)\n",
    "cid_pid = cur.fetchall()\n",
    "df_cid_pid = pd.read_sql(query, con)"
   ]
  },
  {
   "cell_type": "markdown",
   "metadata": {
    "heading_collapsed": true
   },
   "source": [
    "### number of problems in database\n",
    "* total: 4,248\n",
    "* have some tags: 3,021"
   ]
  },
  {
   "cell_type": "code",
   "execution_count": 334,
   "metadata": {
    "hidden": true
   },
   "outputs": [
    {
     "data": {
      "text/plain": [
       "(4248, 2)"
      ]
     },
     "execution_count": 334,
     "metadata": {},
     "output_type": "execute_result"
    }
   ],
   "source": [
    "df_cid_pid.shape"
   ]
  },
  {
   "cell_type": "code",
   "execution_count": 342,
   "metadata": {
    "hidden": true
   },
   "outputs": [
    {
     "data": {
      "text/plain": [
       "3021L"
      ]
     },
     "execution_count": 342,
     "metadata": {},
     "output_type": "execute_result"
    }
   ],
   "source": [
    "con.rollback()\n",
    "\n",
    "query = \"\"\"\n",
    "SELECT COUNT(*) FROM (SELECT DISTINCT contestid, problemid FROM tags) AS temp;\n",
    "\"\"\"\n",
    "cur.execute(query)\n",
    "cur.fetchall()[0][0]"
   ]
  },
  {
   "cell_type": "markdown",
   "metadata": {},
   "source": [
    "### get question texts from CF"
   ]
  },
  {
   "cell_type": "code",
   "execution_count": 362,
   "metadata": {
    "collapsed": true
   },
   "outputs": [],
   "source": [
    "import os.path"
   ]
  },
  {
   "cell_type": "code",
   "execution_count": null,
   "metadata": {},
   "outputs": [],
   "source": [
    "txtlist = []\n",
    "idx = 0\n",
    "last_idx = 48\n",
    "\n",
    "out_file = 'problem_texts.tsv'\n",
    "\n",
    "for cid, pid in cid_pid[last_idx:]:\n",
    "    print last_idx + idx\n",
    "    txtlist.append(get_problem_dict(cid, pid))\n",
    "    \n",
    "    if idx%5==0:\n",
    "        df_out = pd.DataFrame.from_dict(txtlist)\n",
    "        if (os.path.exists(out_file)):\n",
    "            df_out.to_csv(out_file, sep='\\t', header=False, index=False, encoding='utf-8', mode='a')\n",
    "        else:\n",
    "            df_out.to_csv(out_file, sep='\\t', header=True, index=False, encoding='utf-8', mode='w')\n",
    "        txtlist = []\n",
    "        print \"------------------------- written to file\", out_file\n",
    "        \n",
    "    idx+=1;"
   ]
  }
 ],
 "metadata": {
  "kernelspec": {
   "display_name": "Python 2",
   "language": "python",
   "name": "python2"
  },
  "language_info": {
   "codemirror_mode": {
    "name": "ipython",
    "version": 2
   },
   "file_extension": ".py",
   "mimetype": "text/x-python",
   "name": "python",
   "nbconvert_exporter": "python",
   "pygments_lexer": "ipython2",
   "version": "2.7.13"
  },
  "toc": {
   "toc_cell": false,
   "toc_number_sections": true,
   "toc_threshold": 6,
   "toc_window_display": false
  }
 },
 "nbformat": 4,
 "nbformat_minor": 2
}
