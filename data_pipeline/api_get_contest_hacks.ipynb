{
 "cells": [
  {
   "cell_type": "markdown",
   "metadata": {},
   "source": [
    "# API call to hack attempts, insert into SQL database\n",
    "\n",
    "Hack attempts during contest (where one user attempts to break another user's code) are not recorded in the submissions folder, and must be obtained through a separate API call.\n",
    "\n",
    "Hack attempts are important to figure out which users are purposely \"tanking\" their rating. These users typically have double-digit unsuccessful hacking attempts in-contest (which leads to massive penalties).\n",
    "\n",
    "Note this information was ultimately not used in the final model due to time constraints and the small number of users who purposefully lower their own rating."
   ]
  },
  {
   "cell_type": "code",
   "execution_count": null,
   "metadata": {
    "collapsed": true
   },
   "outputs": [],
   "source": [
    "import pandas as pd\n",
    "\n",
    "from sqlalchemy import *\n",
    "from sqlalchemy_utils import database_exists, create_database\n",
    "import psycopg2\n",
    "import pandas as pd\n",
    "\n",
    "dbname = 'codeforces'\n",
    "username = 'Joy'\n",
    "\n",
    "engine = create_engine('postgres://%s@localhost/%s'%(username,dbname))\n",
    "print engine.url\n",
    "\n",
    "## create a database (if it doesn't exist)\n",
    "if not database_exists(engine.url):\n",
    "    create_database(engine.url)\n",
    "print(database_exists(engine.url))"
   ]
  },
  {
   "cell_type": "markdown",
   "metadata": {},
   "source": [
    "## Contest information\n",
    "get contests, only need to run once"
   ]
  },
  {
   "cell_type": "code",
   "execution_count": null,
   "metadata": {
    "collapsed": true
   },
   "outputs": [],
   "source": [
    "# create table with schema\n",
    "metadata = MetaData()\n",
    "#index\tcreationTimeSeconds\tid\tverdict\tghost\tdefender\thacker\tcontestID\tproblemID\tproblemName\n",
    "contests = Table('contests', metadata,\n",
    "    Column('id', Integer, primary_key=True),\n",
    "    Column('durationSeconds', Integer, nullable=False),\n",
    "    Column('relativeTimeSeconds', Integer),\n",
    "    Column('startTimeSeconds', Integer),\n",
    "    Column('frozen', Boolean),\n",
    "    Column('name', String),\n",
    "    Column('type', String),\n",
    "    Column('phase', String)\n",
    ")\n",
    "contests.drop(engine, checkfirst=True)\n",
    "contests.create(engine)\n",
    "\n",
    "url = 'http://codeforces.com/api/contest.list?gym=false'\n",
    "r = requests.get(url).json()['result']\n",
    "df_contests = pd.DataFrame.from_dict(r)\n",
    "#df_contests.to_csv('contests.tsv', sep='\\t', index=False, header=True, encoding='utf')\n",
    "df_contests.to_sql('contests', engine, if_exists='replace')"
   ]
  },
  {
   "cell_type": "markdown",
   "metadata": {},
   "source": [
    "## Get information on hacks"
   ]
  },
  {
   "cell_type": "code",
   "execution_count": null,
   "metadata": {
    "collapsed": true
   },
   "outputs": [],
   "source": [
    "import requests\n",
    "from time import sleep\n",
    "def getContestHacks(contest):\n",
    "    url = 'http://codeforces.com/api/contest.hacks?contestId=' + str(contest)\n",
    "    print url\n",
    "    maxtries = 5\n",
    "    tries = 0\n",
    "    while tries < maxtries:\n",
    "        print \"attempt\", tries\n",
    "        try:\n",
    "            r = requests.get(url).json()\n",
    "            if r['status'] == 'FAILED':\n",
    "                print r['comment']\n",
    "                return\n",
    "            r = r['result']\n",
    "            if len(r) > 0:\n",
    "                return pd.DataFrame.from_dict(r)\n",
    "            else:\n",
    "                return\n",
    "        except:\n",
    "            print \"error, attempt\", tries\n",
    "            tries += 1\n",
    "            sleep(5)\n",
    "    print \"ERROR GETTING HACK INFO FOR CONTEST\", contest"
   ]
  },
  {
   "cell_type": "markdown",
   "metadata": {
    "heading_collapsed": true
   },
   "source": [
    "### Create table schema for hacks"
   ]
  },
  {
   "cell_type": "code",
   "execution_count": null,
   "metadata": {
    "collapsed": true,
    "hidden": true
   },
   "outputs": [],
   "source": [
    "# create table with schema\n",
    "metadata = MetaData()\n",
    "#index\tcreationTimeSeconds\tid\tverdict\tghost\tdefender\thacker\tcontestID\tproblemID\tproblemName\n",
    "hacks = Table('hacks', metadata,\n",
    "    Column('id', Integer, primary_key=True),\n",
    "    Column('creationTimeSeconds', Integer, nullable=False),\n",
    "    Column('verdict', String),\n",
    "    Column('ghost', Boolean),\n",
    "    Column('defender', String),\n",
    "    Column('hacker', String),\n",
    "    Column('contestID', String),\n",
    "    Column('problemID', String),\n",
    "    Column('problemName', String)\n",
    ")\n",
    "hacks.drop(engine, checkfirst=True)\n",
    "hacks.create(engine)"
   ]
  },
  {
   "cell_type": "markdown",
   "metadata": {},
   "source": [
    "### request information on hacks"
   ]
  },
  {
   "cell_type": "code",
   "execution_count": null,
   "metadata": {
    "scrolled": true
   },
   "outputs": [],
   "source": [
    "contest_ids = df_contests.id\n",
    "last_idx = 443\n",
    "\n",
    "for i, cid in enumerate(contest_ids[last_idx:]):\n",
    "    print last_idx + i, cid\n",
    "    df_hack = getContestHacks(cid)\n",
    "    \n",
    "    if df_hack is None:\n",
    "        continue\n",
    "    \n",
    "    # format resulting dataframe\n",
    "    ghost = df_hack.defender.apply(lambda x: x['ghost'])\n",
    "    defender = df_hack.defender.apply(lambda x: x['members'][0]['handle'])\n",
    "    hacker = df_hack.hacker.apply(lambda x: x['members'][0]['handle'])\n",
    "    contestID = df_hack.problem.apply(lambda x: x['contestId'])\n",
    "    problemID = df_hack.problem.apply(lambda x: x['index'])\n",
    "    problemName = df_hack.problem.apply(lambda x: x['name'])\n",
    "    \n",
    "    df_hack.drop(['defender', 'hacker', 'judgeProtocol', 'problem', 'test'], inplace=True, axis=1)\n",
    "    df_hack['ghost'] = ghost\n",
    "    df_hack['defender'] = defender\n",
    "    df_hack['hacker'] = hacker\n",
    "    df_hack['contestID'] = contestID\n",
    "    df_hack['problemID'] = problemID\n",
    "    df_hack['problemName'] = problemName\n",
    "    \n",
    "    print \"writing to sql...\"\n",
    "    df_hack.to_sql('hacks', engine, if_exists='append', index=False)"
   ]
  },
  {
   "cell_type": "markdown",
   "metadata": {},
   "source": [
    "## Test connection"
   ]
  },
  {
   "cell_type": "code",
   "execution_count": null,
   "metadata": {
    "collapsed": true
   },
   "outputs": [],
   "source": [
    "# connect:\n",
    "con = psycopg2.connect(database = dbname, user = username)\n",
    "cur = con.cursor()"
   ]
  },
  {
   "cell_type": "markdown",
   "metadata": {},
   "source": [
    "###  show all tables"
   ]
  },
  {
   "cell_type": "code",
   "execution_count": null,
   "metadata": {},
   "outputs": [],
   "source": [
    "cur.execute(\"\"\"\n",
    "SELECT\n",
    "    table_schema || '.' || table_name\n",
    "FROM\n",
    "    information_schema.tables\n",
    "WHERE\n",
    "    table_type = 'BASE TABLE'\n",
    "AND\n",
    "    table_schema NOT IN ('pg_catalog', 'information_schema');\n",
    "    \"\"\")\n",
    "rows = cur.fetchall()\n",
    "for r in rows:\n",
    "    print r"
   ]
  },
  {
   "cell_type": "code",
   "execution_count": null,
   "metadata": {
    "collapsed": true
   },
   "outputs": [],
   "source": [
    "# query:\n",
    "sql_query = \"\"\"\n",
    "SELECT * FROM hacks WHERE verdict='HACK_SUCCESSFUL';\n",
    "\"\"\"\n",
    "df_hack = pd.read_sql_query(sql_query,con)"
   ]
  },
  {
   "cell_type": "code",
   "execution_count": null,
   "metadata": {
    "collapsed": true
   },
   "outputs": [],
   "source": [
    "con.commit()\n",
    "con.close()"
   ]
  }
 ],
 "metadata": {
  "kernelspec": {
   "display_name": "Python 2",
   "language": "python",
   "name": "python2"
  },
  "language_info": {
   "codemirror_mode": {
    "name": "ipython",
    "version": 2
   },
   "file_extension": ".py",
   "mimetype": "text/x-python",
   "name": "python",
   "nbconvert_exporter": "python",
   "pygments_lexer": "ipython2",
   "version": "2.7.13"
  },
  "toc": {
   "toc_cell": false,
   "toc_number_sections": true,
   "toc_section_display": "none",
   "toc_threshold": 6,
   "toc_window_display": false
  }
 },
 "nbformat": 4,
 "nbformat_minor": 2
}
