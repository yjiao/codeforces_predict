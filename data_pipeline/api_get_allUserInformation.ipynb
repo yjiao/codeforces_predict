{
 "cells": [
  {
   "cell_type": "markdown",
   "metadata": {
    "collapsed": true
   },
   "source": [
    "# Get all user submissions via API calls to Codeforces\n",
    "\n",
    "This notebook contains functions for API calls to codeforces to obtain all user submissions\n",
    "(contest and practice) as well as hacks from during contest."
   ]
  },
  {
   "cell_type": "code",
   "execution_count": 1,
   "metadata": {
    "collapsed": true
   },
   "outputs": [],
   "source": [
    "%matplotlib inline\n",
    "\n",
    "import requests\n",
    "import pandas as pd\n",
    "import numpy as np\n",
    "from datetime import datetime\n",
    "\n",
    "import seaborn as sns\n",
    "import matplotlib.pyplot as plt\n",
    "from os import listdir\n",
    "import sys\n",
    "import time"
   ]
  },
  {
   "cell_type": "markdown",
   "metadata": {
    "collapsed": true
   },
   "source": [
    "## Fn: get user submissions"
   ]
  },
  {
   "cell_type": "code",
   "execution_count": 45,
   "metadata": {
    "code_folding": [
     0
    ],
    "collapsed": true
   },
   "outputs": [],
   "source": [
    "def getUserSubmissions(handle):\n",
    "    max_try_count = 5\n",
    "    tries = 0\n",
    "\n",
    "    maxcount = '100000000'\n",
    "    url = 'http://codeforces.com/api/user.status?handle=' + handle + '&from=1&count=' + maxcount\n",
    "\n",
    "    while tries < max_try_count:\n",
    "        try:\n",
    "            r = requests.get(url).json()['result']\n",
    "\n",
    "            arr = []\n",
    "            keys = ['testset', 'passedTestCount', 'author', 'relativeTimeSeconds', \n",
    "                    'language', 'memoryBytes', 'timeMilliseconds', 'problem_name', 'problem_index',\n",
    "                    'problem_tags', 'points', 'contestID', 'verdict', 'id', 'participantType', 'startTimeSeconds']\n",
    "\n",
    "            for rr in r:\n",
    "                temp = dict.fromkeys(keys)\n",
    "                temp['author'] = rr['author']['members'][0]['handle']\n",
    "                temp['startTimeSeconds'] = rr['creationTimeSeconds']\n",
    "                if 'startTimeSeconds' not in rr['author']:\n",
    "                    temp['participantType'] = 'GYM'\n",
    "                else:\n",
    "                    temp['participantType'] = rr['author']['participantType']\n",
    "                temp['id'] = rr['id']\n",
    "                try:\n",
    "                    temp['verdict'] = rr['verdict']\n",
    "                except KeyError:\n",
    "                    print temp\n",
    "                    sys.exit()\n",
    "                temp['contestID'] = rr['contestId']\n",
    "                if 'points' not in rr['problem']:\n",
    "                    temp['points'] = 0\n",
    "                else:\n",
    "                    temp['points'] = rr['problem']['points']\n",
    "                temp['problem_tags'] = rr['problem']['tags']\n",
    "                temp['problem_index'] = rr['problem']['index']\n",
    "                temp['problem_name'] = rr['problem']['name']\n",
    "                temp['timeMilliseconds'] = rr['timeConsumedMillis']\n",
    "                temp['memoryBytes'] = rr['memoryConsumedBytes']\n",
    "                temp['language'] = rr['programmingLanguage']\n",
    "                temp['relativeTimeSeconds'] = rr['relativeTimeSeconds']\n",
    "                temp['passedTestCount'] = rr['passedTestCount']\n",
    "                temp['testset'] = rr['testset']\n",
    "\n",
    "                arr.append(temp)\n",
    "            return pd.DataFrame.from_dict(arr)\n",
    "        except:\n",
    "            print \"error while processing\", url\n",
    "            print \"waiting 10 seconds before trying again\"\n",
    "            time.sleep(10)\n",
    "            tries += 1\n",
    "\n",
    "            if tries > max_try_count:\n",
    "                print \"max tries exceeded, aborting\"\n",
    "                sys.exit()"
   ]
  },
  {
   "cell_type": "markdown",
   "metadata": {
    "collapsed": true
   },
   "source": [
    "## Fn: get user rating history"
   ]
  },
  {
   "cell_type": "code",
   "execution_count": 21,
   "metadata": {
    "code_folding": [],
    "collapsed": true
   },
   "outputs": [],
   "source": [
    "from time import sleep\n",
    "def getUserRatingHistory(handle):\n",
    "    maxtries = 5\n",
    "    tries = 0\n",
    "    while tries < maxtries:\n",
    "        try:\n",
    "            url = 'http://codeforces.com/api/user.rating?handle=' + handle\n",
    "            print url\n",
    "            r = requests.get(url).json()['result']\n",
    "            return pd.DataFrame.from_dict(r)\n",
    "        except:\n",
    "            tries += 1\n",
    "            sleep(5)\n",
    "    print \"ERROR GETTING USER INFO FOR\", handle"
   ]
  },
  {
   "cell_type": "markdown",
   "metadata": {},
   "source": [
    "## Fn: get contest hacks"
   ]
  },
  {
   "cell_type": "code",
   "execution_count": null,
   "metadata": {
    "collapsed": true
   },
   "outputs": [],
   "source": [
    "from time import sleep\n",
    "def getContestHacks(contest):\n",
    "    maxtries = 5\n",
    "    tries = 0\n",
    "    while tries < maxtries:\n",
    "        try:\n",
    "            url = 'http://codeforces.com/api/contest.hacks?contestId=' + contest\n",
    "\n",
    "            r = requests.get(url).json()['result']\n",
    "            return pd.DataFrame.from_dict(r)\n",
    "        except:\n",
    "            tries += 1\n",
    "            sleep(5)\n",
    "    print \"ERROR GETTING USER INFO FOR CONTEST\", contest"
   ]
  },
  {
   "cell_type": "markdown",
   "metadata": {
    "collapsed": true
   },
   "source": [
    "## Fn: get list of users"
   ]
  },
  {
   "cell_type": "code",
   "execution_count": 4,
   "metadata": {
    "collapsed": true,
    "run_control": {
     "marked": true
    }
   },
   "outputs": [],
   "source": [
    "url = 'http://codeforces.com/api/user.ratedList'\n",
    "users = requests.get(url).json()['result']\n",
    "\n",
    "allHandles = []\n",
    "for u in users:\n",
    "    allHandles.append(u['handle'])"
   ]
  },
  {
   "cell_type": "code",
   "execution_count": 5,
   "metadata": {},
   "outputs": [
    {
     "data": {
      "text/plain": [
       "103417"
      ]
     },
     "execution_count": 5,
     "metadata": {},
     "output_type": "execute_result"
    }
   ],
   "source": [
    "len(allHandles)"
   ]
  },
  {
   "cell_type": "markdown",
   "metadata": {},
   "source": [
    "export to file"
   ]
  },
  {
   "cell_type": "code",
   "execution_count": null,
   "metadata": {
    "collapsed": true
   },
   "outputs": [],
   "source": [
    "with open('all_handles.txt', 'w') as f:\n",
    "    for u in allHandles:\n",
    "        f.write(u + '\\n')"
   ]
  },
  {
   "cell_type": "markdown",
   "metadata": {},
   "source": [
    "# API Calls to get user info "
   ]
  },
  {
   "cell_type": "code",
   "execution_count": 39,
   "metadata": {},
   "outputs": [
    {
     "data": {
      "text/plain": [
       "(0, 2000)"
      ]
     },
     "execution_count": 39,
     "metadata": {},
     "output_type": "execute_result"
    },
    {
     "data": {
      "image/png": "[encoded data removed]",
      "text/plain": [
       "<matplotlib.figure.Figure at 0x138676f10>"
      ]
     },
     "metadata": {},
     "output_type": "display_data"
    }
   ],
   "source": [
    "import seaborn as sns\n",
    "sns.distplot(submission_cnts)\n",
    "ax = plt.gca()\n",
    "ax.set_xlim([0, 2000])"
   ]
  },
  {
   "cell_type": "code",
   "execution_count": 48,
   "metadata": {},
   "outputs": [
    {
     "name": "stdout",
     "output_type": "stream",
     "text": [
      "[80502]\n",
      "vbansal027\n"
     ]
    }
   ],
   "source": [
    "lastidx = [i for i,a in enumerate(allHandles) if a=='vbansal027']\n",
    "print lastidx\n",
    "print allHandles[lastidx[0]]"
   ]
  },
  {
   "cell_type": "code",
   "execution_count": null,
   "metadata": {
    "run_control": {
     "marked": true
    }
   },
   "outputs": [],
   "source": [
    "from os.path import exists\n",
    "filename = 'all_submissions.csv'\n",
    "# get user submission history\n",
    "submission_dfs = []\n",
    "submission_cnts = []\n",
    "\n",
    "last_idx = lastidx[0]+1\n",
    "\n",
    "for idx, user in enumerate(allHandles[last_idx:]):\n",
    "    df = getUserSubmissions(user)\n",
    "    submission_cnts.append(df.shape[0])\n",
    "    if len(df) > 50:\n",
    "        submission_dfs.append(df)\n",
    "\n",
    "    if len(submission_dfs) >= 10:\n",
    "        out_df = pd.concat(submission_dfs)\n",
    "        print \"writing\", len(out_df), \"lines to file...\"\n",
    "        out_df.to_csv(filename, index=False, mode='a', header=(not exists(filename)), encoding='utf-8')\n",
    "        submission_dfs = []\n",
    "\n",
    "# save anything left in out_df that's not a multiple of 10\n",
    "out_df = pd.concat(submission_dfs)\n",
    "out_df.to_csv(filename, index=False, mode='a', header=(not exists(filename)), encoding='utf-8')"
   ]
  },
  {
   "cell_type": "code",
   "execution_count": null,
   "metadata": {
    "run_control": {
     "marked": true
    },
    "scrolled": true
   },
   "outputs": [],
   "source": [
    "ratings_dfs = []\n",
    "\n",
    "last_idx = 0\n",
    "# get handles\n",
    "with open('missing_handles.txt') as f:\n",
    "    allHandles = [line.strip() for line in f.readlines()]\n",
    "    \n",
    "# api query\n",
    "for idx, user in enumerate(allHandles[last_idx:]):\n",
    "    df = getUserRatingHistory(user)\n",
    "    \n",
    "    # for now, keep all ratings\n",
    "    ratings_dfs.append(df)\n",
    "    print last_idx + idx, user\n",
    "    print \"ratings_dfs len:\", len(ratings_dfs)\n",
    "    if len(ratings_dfs) >= 10:\n",
    "        out_df = pd.concat(ratings_dfs)\n",
    "        print \"--------------------- writing\", len(out_df), \"lines to file...\"\n",
    "        with open('rating_histories.csv', 'a') as f:\n",
    "            out_df.to_csv(f, index=False, header=False, encoding='utf-8')\n",
    "        ratings_dfs = []\n",
    "\n",
    "# save anything left in out_df that's not a multiple of 10\n",
    "out_df = pd.concat(ratings_dfs)\n",
    "with open('rating_histories.csv', 'a') as f:\n",
    "    out_df.to_csv(f, index=False, header=False, encoding='utf-8')"
   ]
  }
 ],
 "metadata": {
  "kernelspec": {
   "display_name": "Python 2",
   "language": "python",
   "name": "python2"
  },
  "language_info": {
   "codemirror_mode": {
    "name": "ipython",
    "version": 2
   },
   "file_extension": ".py",
   "mimetype": "text/x-python",
   "name": "python",
   "nbconvert_exporter": "python",
   "pygments_lexer": "ipython2",
   "version": "2.7.13"
  },
  "toc": {
   "toc_cell": false,
   "toc_number_sections": true,
   "toc_threshold": 6,
   "toc_window_display": true
  }
 },
 "nbformat": 4,
 "nbformat_minor": 1
}
