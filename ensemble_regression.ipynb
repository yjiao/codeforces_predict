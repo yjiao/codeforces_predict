{
 "cells": [
  {
   "cell_type": "markdown",
   "metadata": {},
   "source": [
    "# Ensemble classification test"
   ]
  },
  {
   "cell_type": "code",
   "execution_count": 1,
   "metadata": {},
   "outputs": [
    {
     "name": "stderr",
     "output_type": "stream",
     "text": [
      "/usr/local/lib/python2.7/site-packages/statsmodels/compat/pandas.py:56: FutureWarning: The pandas.core.datetools module is deprecated and will be removed in a future version. Please use the pandas.tseries module instead.\n",
      "  from pandas.core import datetools\n"
     ]
    }
   ],
   "source": [
    "import pandas as pd\n",
    "import numpy as np\n",
    "from sklearn.ensemble import RandomForestRegressor\n",
    "import ols_functions as of\n",
    "\n",
    "import seaborn as sns\n",
    "from matplotlib import pyplot as plt\n",
    "%matplotlib inline\n",
    "plt.rcParams['figure.figsize'] = (5.0, 5.0)\n",
    "plt.rcParams['figure.facecolor'] = 'white'"
   ]
  },
  {
   "cell_type": "markdown",
   "metadata": {},
   "source": [
    "## import variables previously saved for linear regression\n",
    "Once nice thing about trees is that they don't care about distributions and scaling, so we don't need to do extensive feature scaling here."
   ]
  },
  {
   "cell_type": "code",
   "execution_count": 2,
   "metadata": {
    "collapsed": true
   },
   "outputs": [],
   "source": [
    "reload(of)\n",
    "allX, allY = of.get_data_for_ensemble()"
   ]
  },
  {
   "cell_type": "code",
   "execution_count": 4,
   "metadata": {},
   "outputs": [],
   "source": [
    "allX.fillna(value=0, inplace=True)"
   ]
  },
  {
   "cell_type": "code",
   "execution_count": 6,
   "metadata": {},
   "outputs": [
    {
     "name": "stdout",
     "output_type": "stream",
     "text": [
      "(646441, 111)\n",
      "(646441,)\n"
     ]
    }
   ],
   "source": [
    "print allX.shape\n",
    "print allY.shape"
   ]
  },
  {
   "cell_type": "markdown",
   "metadata": {},
   "source": [
    "## train/test/val data"
   ]
  },
  {
   "cell_type": "code",
   "execution_count": 7,
   "metadata": {
    "collapsed": true
   },
   "outputs": [],
   "source": [
    "with open('set_train.txt') as f:\n",
    "    settrain = [t.strip() for t in f.readlines()]\n",
    "with open('set_test.txt') as f:\n",
    "    settest = [t.strip() for t in f.readlines()]\n",
    "with open('set_val.txt') as f:\n",
    "    setval = [t.strip() for t in f.readlines()]"
   ]
  },
  {
   "cell_type": "code",
   "execution_count": 8,
   "metadata": {
    "collapsed": true
   },
   "outputs": [],
   "source": [
    "df_train = allX.loc[settrain]\n",
    "df_test = allX.loc[settest]\n",
    "df_val = allX.loc[setval]"
   ]
  },
  {
   "cell_type": "code",
   "execution_count": 9,
   "metadata": {},
   "outputs": [
    {
     "name": "stdout",
     "output_type": "stream",
     "text": [
      "(287011, 111)\n",
      "(90826, 111)\n",
      "(123932, 111)\n"
     ]
    }
   ],
   "source": [
    "print df_train.shape\n",
    "print df_val.shape\n",
    "print df_test.shape"
   ]
  },
  {
   "cell_type": "code",
   "execution_count": 13,
   "metadata": {
    "collapsed": true
   },
   "outputs": [],
   "source": [
    "y_train = allY.loc[settrain]\n",
    "y_val = allY.loc[setval]\n",
    "y_test = allY.loc[settest]"
   ]
  },
  {
   "cell_type": "code",
   "execution_count": 16,
   "metadata": {},
   "outputs": [
    {
     "name": "stdout",
     "output_type": "stream",
     "text": [
      "(287011,)\n",
      "(123932,)\n",
      "(90826,)\n"
     ]
    }
   ],
   "source": [
    "print y_train.shape\n",
    "print y_test.shape\n",
    "print y_val.shape"
   ]
  },
  {
   "cell_type": "code",
   "execution_count": 17,
   "metadata": {},
   "outputs": [
    {
     "name": "stdout",
     "output_type": "stream",
     "text": [
      "drdt\n",
      "java\n",
      "lowlevel\n",
      "max_error_contest\n",
      "max_error_practice\n",
      "max_probability_contest\n",
      "max_probability_practice\n",
      "max_ratingdiff_contest\n",
      "max_ratingdiff_practice\n",
      "max_solvetime\n",
      "max_timediff\n",
      "max_wrong_contest\n",
      "max_wrong_practice\n",
      "mean_error_contest\n",
      "mean_error_practice\n",
      "mean_probability_contest\n",
      "mean_probability_practice\n",
      "mean_ratingdiff_contest\n",
      "mean_ratingdiff_practice\n",
      "mean_solvetime\n",
      "mean_timediff\n",
      "mean_wrong_contest\n",
      "mean_wrong_practice\n",
      "min_solvetime\n",
      "min_timediff\n",
      "n100\n",
      "n200\n",
      "n300\n",
      "n400\n",
      "n500\n",
      "n_solved\n",
      "n_unlikely01\n",
      "n_unlikely02\n",
      "newrating\n",
      "performance\n",
      "python\n",
      "rank\n",
      "smoothed_1months\n",
      "smoothed_2months\n",
      "smoothed_3months\n",
      "smoothed_4months\n",
      "smoothed_5months\n",
      "std_error_contest\n",
      "std_error_practice\n",
      "std_probability_contest\n",
      "std_probability_practice\n",
      "std_ratingdiff_contest \n",
      "std_ratingdiff_practice\n",
      "std_solvetime\n",
      "std_timediff\n",
      "std_wrong_contest\n",
      "std_wrong_practice\n",
      "tot_solvetime\n",
      "total_contests\n",
      "total_error_contest\n",
      "total_error_practice\n",
      "total_newtags\n",
      "total_problems\n",
      "total_wrong_contest\n",
      "total_wrong_practice\n",
      "unique_newtags\n",
      "unique_tags_total\n",
      "*special\n",
      "2-sat\n",
      "binary search\n",
      "bitmasks\n",
      "brute force\n",
      "chinese remainder theorem\n",
      "combinatorics\n",
      "constructive algorithms\n",
      "data structures\n",
      "dfs and similar\n",
      "divide and conquer\n",
      "dp\n",
      "dsu\n",
      "expression parsing\n",
      "fft\n",
      "flows\n",
      "games\n",
      "geometry\n",
      "graph matchings\n",
      "graphs\n",
      "greedy\n",
      "hashing\n",
      "implementation\n",
      "math\n",
      "matrices\n",
      "meet-in-the-middle\n",
      "n_contest\n",
      "n_harder\n",
      "n_harder100\n",
      "n_harder50\n",
      "n_harder500\n",
      "n_wrong_mean\n",
      "n_wrong_std\n",
      "number theory\n",
      "probabilities\n",
      "problems_solved\n",
      "rating_diff_mean\n",
      "rating_diff_std\n",
      "schedules\n",
      "shortest paths\n",
      "sortings\n",
      "string suffix structures\n",
      "strings\n",
      "ternary search\n",
      "time_between_mean\n",
      "time_between_std\n",
      "trees\n",
      "two pointers\n",
      "user_rating\n"
     ]
    }
   ],
   "source": [
    "for c in df_train.columns:\n",
    "    print c"
   ]
  },
  {
   "cell_type": "code",
   "execution_count": 13,
   "metadata": {
    "collapsed": true
   },
   "outputs": [],
   "source": [
    "dropidx = np.isnan(yval_train)\n",
    "df_train_ok = df_train[~dropidx]\n",
    "yval_train_ok = yval_train[~dropidx]\n",
    "\n",
    "dropidx = np.isnan(yval_test)\n",
    "df_test_ok = df_test[~dropidx]\n",
    "yval_test_ok = yval_test[~dropidx]\n",
    "\n",
    "dropidx = np.isnan(yval_val)\n",
    "df_val_ok = df_val[~dropidx]\n",
    "yval_val_ok = yval_val[~dropidx]"
   ]
  },
  {
   "cell_type": "markdown",
   "metadata": {},
   "source": [
    "## RF regressor"
   ]
  },
  {
   "cell_type": "code",
   "execution_count": 63,
   "metadata": {
    "collapsed": true
   },
   "outputs": [],
   "source": [
    "rfcf = RandomForestRegressor()\n",
    "\n",
    "model = rfcf.fit(df_val_ok, yval_val_ok)"
   ]
  },
  {
   "cell_type": "code",
   "execution_count": null,
   "metadata": {
    "collapsed": true
   },
   "outputs": [],
   "source": [
    "test = model.decision_path(np.array(df_train_ok)[0,:])"
   ]
  },
  {
   "cell_type": "code",
   "execution_count": 65,
   "metadata": {},
   "outputs": [
    {
     "name": "stdout",
     "output_type": "stream",
     "text": [
      "0.781608653871\n",
      "0.755942054217\n",
      "0.958760314031\n"
     ]
    }
   ],
   "source": [
    "print model.score(df_train_ok, yval_train_ok)\n",
    "print model.score(df_test_ok, yval_test_ok)\n",
    "print model.score(df_val_ok, yval_val_ok)"
   ]
  },
  {
   "cell_type": "code",
   "execution_count": 66,
   "metadata": {},
   "outputs": [
    {
     "data": {
      "text/plain": [
       "<matplotlib.axes._subplots.AxesSubplot at 0x1cb7db450>"
      ]
     },
     "execution_count": 66,
     "metadata": {},
     "output_type": "execute_result"
    },
    {
     "data": {
      "image/png": "[encoded data removed]",
      "text/plain": [
       "<matplotlib.figure.Figure at 0x1ca199bd0>"
      ]
     },
     "metadata": {},
     "output_type": "display_data"
    }
   ],
   "source": [
    "sns.distplot(model.feature_importances_, kde=False)"
   ]
  },
  {
   "cell_type": "code",
   "execution_count": 146,
   "metadata": {
    "collapsed": true
   },
   "outputs": [],
   "source": [
    "imp = pd.Series(model.feature_importances_)\n",
    "imp.index = df_train.columns"
   ]
  },
  {
   "cell_type": "code",
   "execution_count": null,
   "metadata": {
    "collapsed": true
   },
   "outputs": [],
   "source": [
    "imp.sort_values(ascending=False)"
   ]
  },
  {
   "cell_type": "markdown",
   "metadata": {},
   "source": [
    "###  try out LIME"
   ]
  },
  {
   "cell_type": "code",
   "execution_count": 151,
   "metadata": {},
   "outputs": [
    {
     "ename": "KeyboardInterrupt",
     "evalue": "",
     "output_type": "error",
     "traceback": [
      "\u001b[0;31m---------------------------------------------------------------------------\u001b[0m",
      "\u001b[0;31mKeyboardInterrupt\u001b[0m                         Traceback (most recent call last)",
      "\u001b[0;32m<ipython-input-151-0656b2af35db>\u001b[0m in \u001b[0;36m<module>\u001b[0;34m()\u001b[0m\n\u001b[1;32m     14\u001b[0m             \u001b[0mtestin2\u001b[0m\u001b[0;34m[\u001b[0m\u001b[0;36m0\u001b[0m\u001b[0;34m]\u001b[0m\u001b[0;34m[\u001b[0m\u001b[0mvaridx\u001b[0m\u001b[0;34m]\u001b[0m \u001b[0;34m+=\u001b[0m \u001b[0meps\u001b[0m \u001b[0;34m*\u001b[0m \u001b[0mi\u001b[0m\u001b[0;34m\u001b[0m\u001b[0m\n\u001b[1;32m     15\u001b[0m             \u001b[0mx\u001b[0m\u001b[0;34m.\u001b[0m\u001b[0mappend\u001b[0m\u001b[0;34m(\u001b[0m\u001b[0mtestin2\u001b[0m\u001b[0;34m[\u001b[0m\u001b[0;36m0\u001b[0m\u001b[0;34m]\u001b[0m\u001b[0;34m[\u001b[0m\u001b[0mvaridx\u001b[0m\u001b[0;34m]\u001b[0m\u001b[0;34m)\u001b[0m\u001b[0;34m\u001b[0m\u001b[0m\n\u001b[0;32m---> 16\u001b[0;31m             \u001b[0my\u001b[0m\u001b[0;34m.\u001b[0m\u001b[0mappend\u001b[0m\u001b[0;34m(\u001b[0m\u001b[0mrfcf\u001b[0m\u001b[0;34m.\u001b[0m\u001b[0mpredict\u001b[0m\u001b[0;34m(\u001b[0m\u001b[0mtestin2\u001b[0m\u001b[0;34m)\u001b[0m\u001b[0;34m)\u001b[0m\u001b[0;34m\u001b[0m\u001b[0m\n\u001b[0m\u001b[1;32m     17\u001b[0m \u001b[0;34m\u001b[0m\u001b[0m\n\u001b[1;32m     18\u001b[0m         \u001b[0mplt\u001b[0m\u001b[0;34m.\u001b[0m\u001b[0mrcParams\u001b[0m\u001b[0;34m[\u001b[0m\u001b[0;34m'figure.figsize'\u001b[0m\u001b[0;34m]\u001b[0m \u001b[0;34m=\u001b[0m \u001b[0;34m(\u001b[0m\u001b[0;36m15\u001b[0m\u001b[0;34m,\u001b[0m \u001b[0;36m5\u001b[0m\u001b[0;34m)\u001b[0m\u001b[0;34m\u001b[0m\u001b[0m\n",
      "\u001b[0;32m/usr/local/lib/python2.7/site-packages/sklearn/ensemble/forest.pyc\u001b[0m in \u001b[0;36mpredict\u001b[0;34m(self, X)\u001b[0m\n\u001b[1;32m    692\u001b[0m                              \u001b[0mbackend\u001b[0m\u001b[0;34m=\u001b[0m\u001b[0;34m\"threading\"\u001b[0m\u001b[0;34m)\u001b[0m\u001b[0;34m(\u001b[0m\u001b[0;34m\u001b[0m\u001b[0m\n\u001b[1;32m    693\u001b[0m             \u001b[0mdelayed\u001b[0m\u001b[0;34m(\u001b[0m\u001b[0mparallel_helper\u001b[0m\u001b[0;34m)\u001b[0m\u001b[0;34m(\u001b[0m\u001b[0me\u001b[0m\u001b[0;34m,\u001b[0m \u001b[0;34m'predict'\u001b[0m\u001b[0;34m,\u001b[0m \u001b[0mX\u001b[0m\u001b[0;34m,\u001b[0m \u001b[0mcheck_input\u001b[0m\u001b[0;34m=\u001b[0m\u001b[0mFalse\u001b[0m\u001b[0;34m)\u001b[0m\u001b[0;34m\u001b[0m\u001b[0m\n\u001b[0;32m--> 694\u001b[0;31m             for e in self.estimators_)\n\u001b[0m\u001b[1;32m    695\u001b[0m \u001b[0;34m\u001b[0m\u001b[0m\n\u001b[1;32m    696\u001b[0m         \u001b[0;31m# Reduce\u001b[0m\u001b[0;34m\u001b[0m\u001b[0;34m\u001b[0m\u001b[0m\n",
      "\u001b[0;32m/usr/local/lib/python2.7/site-packages/sklearn/externals/joblib/parallel.pyc\u001b[0m in \u001b[0;36m__call__\u001b[0;34m(self, iterable)\u001b[0m\n\u001b[1;32m    766\u001b[0m                 \u001b[0;31m# consumption.\u001b[0m\u001b[0;34m\u001b[0m\u001b[0;34m\u001b[0m\u001b[0m\n\u001b[1;32m    767\u001b[0m                 \u001b[0mself\u001b[0m\u001b[0;34m.\u001b[0m\u001b[0m_iterating\u001b[0m \u001b[0;34m=\u001b[0m \u001b[0mFalse\u001b[0m\u001b[0;34m\u001b[0m\u001b[0m\n\u001b[0;32m--> 768\u001b[0;31m             \u001b[0mself\u001b[0m\u001b[0;34m.\u001b[0m\u001b[0mretrieve\u001b[0m\u001b[0;34m(\u001b[0m\u001b[0;34m)\u001b[0m\u001b[0;34m\u001b[0m\u001b[0m\n\u001b[0m\u001b[1;32m    769\u001b[0m             \u001b[0;31m# Make sure that we get a last message telling us we are done\u001b[0m\u001b[0;34m\u001b[0m\u001b[0;34m\u001b[0m\u001b[0m\n\u001b[1;32m    770\u001b[0m             \u001b[0melapsed_time\u001b[0m \u001b[0;34m=\u001b[0m \u001b[0mtime\u001b[0m\u001b[0;34m.\u001b[0m\u001b[0mtime\u001b[0m\u001b[0;34m(\u001b[0m\u001b[0;34m)\u001b[0m \u001b[0;34m-\u001b[0m \u001b[0mself\u001b[0m\u001b[0;34m.\u001b[0m\u001b[0m_start_time\u001b[0m\u001b[0;34m\u001b[0m\u001b[0m\n",
      "\u001b[0;32m/usr/local/lib/python2.7/site-packages/sklearn/externals/joblib/parallel.pyc\u001b[0m in \u001b[0;36mretrieve\u001b[0;34m(self)\u001b[0m\n\u001b[1;32m    717\u001b[0m                     \u001b[0mensure_ready\u001b[0m \u001b[0;34m=\u001b[0m \u001b[0mself\u001b[0m\u001b[0;34m.\u001b[0m\u001b[0m_managed_backend\u001b[0m\u001b[0;34m\u001b[0m\u001b[0m\n\u001b[1;32m    718\u001b[0m                     \u001b[0mbackend\u001b[0m\u001b[0;34m.\u001b[0m\u001b[0mabort_everything\u001b[0m\u001b[0;34m(\u001b[0m\u001b[0mensure_ready\u001b[0m\u001b[0;34m=\u001b[0m\u001b[0mensure_ready\u001b[0m\u001b[0;34m)\u001b[0m\u001b[0;34m\u001b[0m\u001b[0m\n\u001b[0;32m--> 719\u001b[0;31m                 \u001b[0;32mraise\u001b[0m \u001b[0mexception\u001b[0m\u001b[0;34m\u001b[0m\u001b[0m\n\u001b[0m\u001b[1;32m    720\u001b[0m \u001b[0;34m\u001b[0m\u001b[0m\n\u001b[1;32m    721\u001b[0m     \u001b[0;32mdef\u001b[0m \u001b[0m__call__\u001b[0m\u001b[0;34m(\u001b[0m\u001b[0mself\u001b[0m\u001b[0;34m,\u001b[0m \u001b[0miterable\u001b[0m\u001b[0;34m)\u001b[0m\u001b[0;34m:\u001b[0m\u001b[0;34m\u001b[0m\u001b[0m\n",
      "\u001b[0;31mKeyboardInterrupt\u001b[0m: "
     ]
    },
    {
     "data": {
      "image/png": "[encoded data removed]",
      "text/plain": [
       "<matplotlib.figure.Figure at 0x23e0788d0>"
      ]
     },
     "metadata": {},
     "output_type": "display_data"
    }
   ],
   "source": [
    "import copy\n",
    "\n",
    "varidx = 5\n",
    "nvars = 100\n",
    "with sns.color_palette(\"husl\", nvars):\n",
    "    for varidx in range(nvars):\n",
    "        eps = .1\n",
    "        x = []\n",
    "        y = []\n",
    "        for i in range(-50, 50):\n",
    "            testin = np.array(df_test_ok.iloc[5])\n",
    "            testin = testin.reshape(1, -1)\n",
    "            testin2 = testin.copy()\n",
    "            testin2[0][varidx] += eps * i\n",
    "            x.append(testin2[0][varidx])\n",
    "            y.append(rfcf.predict(testin2))\n",
    "\n",
    "        plt.rcParams['figure.figsize'] = (15, 5)\n",
    "        plt.plot(x, y)\n",
    "        plt.scatter(x, y, s=10)\n",
    "    #    plt.title(df_train_ok.columns[varidx], fontsize=16)\n",
    "plt.legend(df_train_ok.columns[0:nvars])"
   ]
  },
  {
   "cell_type": "code",
   "execution_count": 165,
   "metadata": {},
   "outputs": [
    {
     "data": {
      "image/png": "[encoded data removed]",
      "text/plain": [
       "<matplotlib.figure.Figure at 0x23f1d9b90>"
      ]
     },
     "metadata": {},
     "output_type": "display_data"
    }
   ],
   "source": [
    "eps = 1\n",
    "varidx = np.argwhere(df_test_ok.columns == 'graphs')[0]\n",
    "for j in range(50):\n",
    "    x = []\n",
    "    y = []\n",
    "    for i in range(-10, 10):\n",
    "        testin = np.array(df_test_ok.iloc[j])\n",
    "        testin = testin.reshape(1, -1)\n",
    "        testin2 = testin.copy()\n",
    "        testin2[0][varidx] += eps * i\n",
    "        x.append(testin2[0][varidx])\n",
    "        y.append(rfcf.predict(testin2))\n",
    "\n",
    "    plt.rcParams['figure.figsize'] = (15, 5)\n",
    "    plt.plot(x, y)\n",
    "    plt.scatter(x, y, s=10)"
   ]
  },
  {
   "cell_type": "code",
   "execution_count": 150,
   "metadata": {
    "scrolled": true
   },
   "outputs": [
    {
     "data": {
      "text/plain": [
       "drdt                         0.263730\n",
       "rank                         0.175584\n",
       "total_contests               0.072868\n",
       "mod_perf                     0.068738\n",
       "smoothed_3months             0.059958\n",
       "n_contest                    0.047277\n",
       "oldrating                    0.027988\n",
       "mean_timediff                0.018174\n",
       "max_timediff                 0.017907\n",
       "user_rating                  0.017440\n",
       "std_timediff                 0.017431\n",
       "performance                  0.015570\n",
       "max_probability_contest      0.008878\n",
       "mean_ratingdiff_contest      0.007975\n",
       "std_probability_contest      0.007257\n",
       "total_problems               0.007195\n",
       "std_ratingdiff_contest       0.006658\n",
       "max_ratingdiff_contest       0.006580\n",
       "n_solved                     0.006549\n",
       "mean_probability_contest     0.006059\n",
       "std_solvetime                0.005910\n",
       "max_ratingdiff_practice      0.005751\n",
       "rating_diff_mean             0.005510\n",
       "mean_wrong_contest           0.005398\n",
       "mean_ratingdiff_practice     0.005192\n",
       "mean_probability_practice    0.005168\n",
       "min_timediff                 0.005124\n",
       "std_wrong_contest            0.005117\n",
       "time_between_std             0.004941\n",
       "total_wrong_contest          0.004756\n",
       "                               ...   \n",
       "max_error_contest            0.000429\n",
       "java                         0.000400\n",
       "lowlevel                     0.000400\n",
       "graphs                       0.000390\n",
       "n_harder500                  0.000380\n",
       "dfs and similar              0.000368\n",
       "two pointers                 0.000359\n",
       "dsu                          0.000341\n",
       "geometry                     0.000315\n",
       "hashing                      0.000299\n",
       "games                        0.000289\n",
       "combinatorics                0.000272\n",
       "shortest paths               0.000272\n",
       "binary search                0.000217\n",
       "graph matchings              0.000190\n",
       "meet-in-the-middle           0.000168\n",
       "string suffix structures     0.000160\n",
       "divide and conquer           0.000159\n",
       "trees                        0.000152\n",
       "bitmasks                     0.000151\n",
       "flows                        0.000149\n",
       "probabilities                0.000135\n",
       "*special                     0.000134\n",
       "schedules                    0.000121\n",
       "matrices                     0.000113\n",
       "expression parsing           0.000089\n",
       "ternary search               0.000025\n",
       "chinese remainder theorem    0.000018\n",
       "2-sat                        0.000008\n",
       "fft                          0.000004\n",
       "Length: 108, dtype: float64"
      ]
     },
     "execution_count": 150,
     "metadata": {},
     "output_type": "execute_result"
    }
   ],
   "source": [
    "imp.sort_values(ascending=False)"
   ]
  },
  {
   "cell_type": "markdown",
   "metadata": {},
   "source": [
    "# Use original unsmoothed dataset"
   ]
  },
  {
   "cell_type": "code",
   "execution_count": 166,
   "metadata": {
    "collapsed": true
   },
   "outputs": [],
   "source": [
    "df_rating = pd.read_csv('user_ratings_smoothed.csv')\n",
    "\n",
    "df_rating.set_index(['handle', 'contestid'], inplace=True)"
   ]
  },
  {
   "cell_type": "code",
   "execution_count": 167,
   "metadata": {
    "collapsed": true
   },
   "outputs": [],
   "source": [
    "indices = indices[1:]\n",
    "\n",
    "indices2 = [(x[0], int(x[1])) for x in indices]"
   ]
  },
  {
   "cell_type": "code",
   "execution_count": 168,
   "metadata": {},
   "outputs": [
    {
     "data": {
      "text/plain": [
       "<matplotlib.axes._subplots.AxesSubplot at 0x1cc4ccb90>"
      ]
     },
     "execution_count": 168,
     "metadata": {},
     "output_type": "execute_result"
    },
    {
     "data": {
      "image/png": "[encoded data removed]",
      "text/plain": [
       "<matplotlib.figure.Figure at 0x1cc4e32d0>"
      ]
     },
     "metadata": {},
     "output_type": "display_data"
    }
   ],
   "source": [
    "df_rating_subset = df_rating.loc[indices2, ['oldrating', 'newrating']]\n",
    "df_rating_subset = df_rating_subset.reset_index(level=1)\n",
    "\n",
    "df_delta = df_rating_subset.newrating - df_rating_subset.oldrating\n",
    "\n",
    "sns.distplot(df_delta.dropna(), kde=False)"
   ]
  },
  {
   "cell_type": "code",
   "execution_count": null,
   "metadata": {
    "collapsed": true
   },
   "outputs": [],
   "source": [
    "df_train_ok.is_copy = False\n",
    "df_rating_subset.is_copy = False\n",
    "if 'oldrating' in df_train_ok.columns:\n",
    "    df_train_ok.drop('oldrating', axis=1, inplace=True)\n",
    "df_train_orig = df_train_ok.join(df_rating_subset)"
   ]
  },
  {
   "cell_type": "code",
   "execution_count": null,
   "metadata": {
    "collapsed": true
   },
   "outputs": [],
   "source": [
    "yval_train_orig = df_train_orig.newrating - df_train_orig.oldrating"
   ]
  },
  {
   "cell_type": "code",
   "execution_count": null,
   "metadata": {
    "collapsed": true
   },
   "outputs": [],
   "source": [
    "#df_train_orig.drop(['newrating', 'oldrating'], axis=1, inplace=True)\n",
    "df_train_orig.drop(['newrating', 'oldrating'], axis=1, inplace=True)"
   ]
  },
  {
   "cell_type": "code",
   "execution_count": null,
   "metadata": {
    "collapsed": true
   },
   "outputs": [],
   "source": [
    "rf = RandomForestRegressor()\n",
    "model = rf.fit(df_train_orig, yval_train_orig)"
   ]
  },
  {
   "cell_type": "markdown",
   "metadata": {},
   "source": [
    "# playing around with test sets"
   ]
  },
  {
   "cell_type": "code",
   "execution_count": null,
   "metadata": {
    "collapsed": true
   },
   "outputs": [],
   "source": [
    "df_last = pd.read_csv('OLStrain_all_normalized_data_last.csv')"
   ]
  },
  {
   "cell_type": "code",
   "execution_count": 154,
   "metadata": {},
   "outputs": [
    {
     "name": "stderr",
     "output_type": "stream",
     "text": [
      "/usr/local/lib/python2.7/site-packages/sklearn/utils/validation.py:395: DeprecationWarning: Passing 1d arrays as data is deprecated in 0.17 and will raise ValueError in 0.19. Reshape your data either using X.reshape(-1, 1) if your data has a single feature or X.reshape(1, -1) if it contains a single sample.\n",
      "  DeprecationWarning)\n"
     ]
    },
    {
     "data": {
      "text/plain": [
       "array([-3.08058036])"
      ]
     },
     "execution_count": 154,
     "metadata": {},
     "output_type": "execute_result"
    }
   ],
   "source": [
    "test = df_last.loc['chenmark', df_train.columns]\n",
    "\n",
    "model.predict(test) * 532.75"
   ]
  },
  {
   "cell_type": "code",
   "execution_count": 176,
   "metadata": {},
   "outputs": [
    {
     "data": {
      "text/plain": [
       "0.87794472739190932"
      ]
     },
     "execution_count": 176,
     "metadata": {},
     "output_type": "execute_result"
    }
   ],
   "source": [
    "model.score(df_val_ok, yval_val_ok)"
   ]
  },
  {
   "cell_type": "code",
   "execution_count": 185,
   "metadata": {},
   "outputs": [
    {
     "data": {
      "text/plain": [
       "<matplotlib.collections.PathCollection at 0x3f44148d0>"
      ]
     },
     "execution_count": 185,
     "metadata": {},
     "output_type": "execute_result"
    },
    {
     "data": {
      "image/png": "[encoded data removed]",
      "text/plain": [
       "<matplotlib.figure.Figure at 0x3962b6c10>"
      ]
     },
     "metadata": {},
     "output_type": "display_data"
    }
   ],
   "source": [
    "ypred = model.predict(df_test_ok)\n",
    "\n",
    "plt.scatter(yval_test_ok, ypred, alpha=.2, s=5)"
   ]
  },
  {
   "cell_type": "code",
   "execution_count": 189,
   "metadata": {
    "run_control": {
     "marked": true
    }
   },
   "outputs": [
    {
     "ename": "AttributeError",
     "evalue": "'RandomForestRegressor' object has no attribute 'tree_'",
     "output_type": "error",
     "traceback": [
      "\u001b[0;31m---------------------------------------------------------------------------\u001b[0m",
      "\u001b[0;31mAttributeError\u001b[0m                            Traceback (most recent call last)",
      "\u001b[0;32m<ipython-input-189-2f10272eb04e>\u001b[0m in \u001b[0;36m<module>\u001b[0;34m()\u001b[0m\n\u001b[1;32m      1\u001b[0m \u001b[0mestimator\u001b[0m \u001b[0;34m=\u001b[0m \u001b[0mmodel\u001b[0m\u001b[0;34m\u001b[0m\u001b[0m\n\u001b[0;32m----> 2\u001b[0;31m \u001b[0mn_nodes\u001b[0m \u001b[0;34m=\u001b[0m \u001b[0mestimator\u001b[0m\u001b[0;34m.\u001b[0m\u001b[0mtree_\u001b[0m\u001b[0;34m.\u001b[0m\u001b[0mnode_count\u001b[0m\u001b[0;34m\u001b[0m\u001b[0m\n\u001b[0m\u001b[1;32m      3\u001b[0m \u001b[0mchildren_left\u001b[0m \u001b[0;34m=\u001b[0m \u001b[0mestimator\u001b[0m\u001b[0;34m.\u001b[0m\u001b[0mtree_\u001b[0m\u001b[0;34m.\u001b[0m\u001b[0mchildren_left\u001b[0m\u001b[0;34m\u001b[0m\u001b[0m\n\u001b[1;32m      4\u001b[0m \u001b[0mchildren_right\u001b[0m \u001b[0;34m=\u001b[0m \u001b[0mestimator\u001b[0m\u001b[0;34m.\u001b[0m\u001b[0mtree_\u001b[0m\u001b[0;34m.\u001b[0m\u001b[0mchildren_right\u001b[0m\u001b[0;34m\u001b[0m\u001b[0m\n\u001b[1;32m      5\u001b[0m \u001b[0mfeature\u001b[0m \u001b[0;34m=\u001b[0m \u001b[0mestimator\u001b[0m\u001b[0;34m.\u001b[0m\u001b[0mtree_\u001b[0m\u001b[0;34m.\u001b[0m\u001b[0mfeature\u001b[0m\u001b[0;34m\u001b[0m\u001b[0m\n",
      "\u001b[0;31mAttributeError\u001b[0m: 'RandomForestRegressor' object has no attribute 'tree_'"
     ]
    }
   ],
   "source": [
    "estimator = model\n",
    "n_nodes = estimator.tree_.node_count\n",
    "children_left = estimator.tree_.children_left\n",
    "children_right = estimator.tree_.children_right\n",
    "feature = estimator.tree_.feature\n",
    "threshold = estimator.tree_.threshold"
   ]
  }
 ],
 "metadata": {
  "kernelspec": {
   "display_name": "Python 2",
   "language": "python",
   "name": "python2"
  },
  "language_info": {
   "codemirror_mode": {
    "name": "ipython",
    "version": 2
   },
   "file_extension": ".py",
   "mimetype": "text/x-python",
   "name": "python",
   "nbconvert_exporter": "python",
   "pygments_lexer": "ipython2",
   "version": "2.7.13"
  },
  "toc": {
   "toc_cell": false,
   "toc_number_sections": true,
   "toc_section_display": "none",
   "toc_threshold": 6,
   "toc_window_display": true
  }
 },
 "nbformat": 4,
 "nbformat_minor": 2
}
