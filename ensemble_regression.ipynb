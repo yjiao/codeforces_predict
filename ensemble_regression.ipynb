{
 "cells": [
  {
   "cell_type": "markdown",
   "metadata": {},
   "source": [
    "# Ensemble classification test"
   ]
  },
  {
   "cell_type": "code",
   "execution_count": 18,
   "metadata": {
    "collapsed": true
   },
   "outputs": [],
   "source": [
    "import pandas as pd\n",
    "import numpy as np\n",
    "from sklearn.ensemble import RandomForestRegressor\n",
    "import ols_functions as of\n",
    "\n",
    "import seaborn as sns\n",
    "from matplotlib import pyplot as plt\n",
    "%matplotlib inline\n",
    "plt.rcParams['figure.figsize'] = (5.0, 5.0)\n",
    "plt.rcParams['figure.facecolor'] = 'white'"
   ]
  },
  {
   "cell_type": "markdown",
   "metadata": {},
   "source": [
    "## import variables previously saved for linear regression\n",
    "Once nice thing about trees is that they don't care about distributions and scaling, so we don't need to do extensive feature scaling here."
   ]
  },
  {
   "cell_type": "code",
   "execution_count": 97,
   "metadata": {
    "collapsed": true
   },
   "outputs": [],
   "source": [
    "reload(of)\n",
    "allX, allY = of.get_data_for_ensemble()"
   ]
  },
  {
   "cell_type": "code",
   "execution_count": 98,
   "metadata": {
    "collapsed": true
   },
   "outputs": [],
   "source": [
    "allX.fillna(value=0, inplace=True)"
   ]
  },
  {
   "cell_type": "code",
   "execution_count": 99,
   "metadata": {},
   "outputs": [
    {
     "name": "stdout",
     "output_type": "stream",
     "text": [
      "(763247, 109)\n",
      "(763247,)\n"
     ]
    }
   ],
   "source": [
    "print allX.shape\n",
    "print allY.shape"
   ]
  },
  {
   "cell_type": "markdown",
   "metadata": {},
   "source": [
    "## train/test/val data"
   ]
  },
  {
   "cell_type": "code",
   "execution_count": 100,
   "metadata": {
    "collapsed": true
   },
   "outputs": [],
   "source": [
    "with open('set_train.txt') as f:\n",
    "    settrain = [t.strip() for t in f.readlines()]\n",
    "with open('set_test.txt') as f:\n",
    "    settest = [t.strip() for t in f.readlines()]\n",
    "with open('set_val.txt') as f:\n",
    "    setval = [t.strip() for t in f.readlines()]"
   ]
  },
  {
   "cell_type": "code",
   "execution_count": 101,
   "metadata": {
    "collapsed": true
   },
   "outputs": [],
   "source": [
    "df_train = allX.loc[settrain]\n",
    "df_test = allX.loc[settest]\n",
    "\n",
    "df_val = allX.loc[setval]"
   ]
  },
  {
   "cell_type": "code",
   "execution_count": 102,
   "metadata": {},
   "outputs": [
    {
     "name": "stdout",
     "output_type": "stream",
     "text": [
      "(340769, 109)\n",
      "(108925, 109)\n",
      "(146383, 109)\n"
     ]
    }
   ],
   "source": [
    "print df_train.shape\n",
    "print df_val.shape\n",
    "print df_test.shape"
   ]
  },
  {
   "cell_type": "code",
   "execution_count": 103,
   "metadata": {
    "collapsed": true
   },
   "outputs": [],
   "source": [
    "y_train = allY.loc[settrain]\n",
    "y_val = allY.loc[setval]\n",
    "y_test = allY.loc[settest]"
   ]
  },
  {
   "cell_type": "code",
   "execution_count": 104,
   "metadata": {},
   "outputs": [
    {
     "name": "stdout",
     "output_type": "stream",
     "text": [
      "(340769,)\n",
      "(146383,)\n",
      "(108925,)\n"
     ]
    }
   ],
   "source": [
    "print y_train.shape\n",
    "print y_test.shape\n",
    "print y_val.shape"
   ]
  },
  {
   "cell_type": "code",
   "execution_count": 105,
   "metadata": {
    "scrolled": true
   },
   "outputs": [
    {
     "name": "stdout",
     "output_type": "stream",
     "text": [
      "java\n",
      "lowlevel\n",
      "max_error_contest\n",
      "max_error_practice\n",
      "max_probability_contest\n",
      "max_probability_practice\n",
      "max_ratingdiff_contest\n",
      "max_ratingdiff_practice\n",
      "max_solvetime\n",
      "max_timediff\n",
      "max_wrong_contest\n",
      "max_wrong_practice\n",
      "mean_error_contest\n",
      "mean_error_practice\n",
      "mean_probability_contest\n",
      "mean_probability_practice\n",
      "mean_ratingdiff_contest\n",
      "mean_ratingdiff_practice\n",
      "mean_solvetime\n",
      "mean_timediff\n",
      "mean_wrong_contest\n",
      "mean_wrong_practice\n",
      "min_solvetime\n",
      "min_timediff\n",
      "n100\n",
      "n200\n",
      "n300\n",
      "n400\n",
      "n500\n",
      "n_solved\n",
      "n_unlikely01\n",
      "n_unlikely02\n",
      "oldrating\n",
      "performance\n",
      "python\n",
      "rank\n",
      "smoothed_1months\n",
      "smoothed_2months\n",
      "smoothed_3months\n",
      "smoothed_4months\n",
      "smoothed_5months\n",
      "std_error_contest\n",
      "std_error_practice\n",
      "std_probability_contest\n",
      "std_probability_practice\n",
      "std_ratingdiff_contest \n",
      "std_ratingdiff_practice\n",
      "std_solvetime\n",
      "std_timediff\n",
      "std_wrong_contest\n",
      "std_wrong_practice\n",
      "tot_solvetime\n",
      "total_contests\n",
      "total_error_contest\n",
      "total_error_practice\n",
      "total_newtags\n",
      "total_problems\n",
      "total_wrong_contest\n",
      "total_wrong_practice\n",
      "unique_newtags\n",
      "unique_tags_total\n",
      "*special\n",
      "2-sat\n",
      "binary search\n",
      "bitmasks\n",
      "brute force\n",
      "chinese remainder theorem\n",
      "combinatorics\n",
      "constructive algorithms\n",
      "data structures\n",
      "dfs and similar\n",
      "divide and conquer\n",
      "dp\n",
      "dsu\n",
      "expression parsing\n",
      "fft\n",
      "flows\n",
      "games\n",
      "geometry\n",
      "graph matchings\n",
      "graphs\n",
      "greedy\n",
      "hashing\n",
      "implementation\n",
      "math\n",
      "matrices\n",
      "meet-in-the-middle\n",
      "n_contest\n",
      "n_harder\n",
      "n_harder100\n",
      "n_harder50\n",
      "n_harder500\n",
      "n_wrong_mean\n",
      "n_wrong_std\n",
      "number theory\n",
      "probabilities\n",
      "problems_solved\n",
      "rating_diff_mean\n",
      "rating_diff_std\n",
      "schedules\n",
      "shortest paths\n",
      "sortings\n",
      "string suffix structures\n",
      "strings\n",
      "ternary search\n",
      "time_between_mean\n",
      "time_between_std\n",
      "trees\n",
      "two pointers\n"
     ]
    }
   ],
   "source": [
    "for c in df_train.columns:\n",
    "    print c"
   ]
  },
  {
   "cell_type": "code",
   "execution_count": 13,
   "metadata": {
    "collapsed": true
   },
   "outputs": [],
   "source": [
    "#dropidx = np.isnan(yval_train)\n",
    "#df_train_ok = df_train[~dropidx]\n",
    "#yval_train_ok = yval_train[~dropidx]\n",
    "#\n",
    "#dropidx = np.isnan(yval_test)\n",
    "#df_test_ok = df_test[~dropidx]\n",
    "#yval_test_ok = yval_test[~dropidx]\n",
    "#\n",
    "#dropidx = np.isnan(yval_val)\n",
    "#df_val_ok = df_val[~dropidx]\n",
    "#yval_val_ok = yval_val[~dropidx]"
   ]
  },
  {
   "cell_type": "markdown",
   "metadata": {},
   "source": [
    "## RF regressor"
   ]
  },
  {
   "cell_type": "code",
   "execution_count": 106,
   "metadata": {
    "collapsed": true
   },
   "outputs": [],
   "source": [
    "rf = RandomForestRegressor()\n",
    "\n",
    "model = rf.fit(df_val, y_val)"
   ]
  },
  {
   "cell_type": "code",
   "execution_count": null,
   "metadata": {
    "collapsed": true
   },
   "outputs": [],
   "source": [
    "test = model.decision_path(np.array(df_train_ok)[0,:])"
   ]
  },
  {
   "cell_type": "code",
   "execution_count": 107,
   "metadata": {},
   "outputs": [
    {
     "name": "stdout",
     "output_type": "stream",
     "text": [
      "0.930570791649\n",
      "0.668989841942\n",
      "0.635539042789\n"
     ]
    }
   ],
   "source": [
    "print model.score(df_val, y_val)\n",
    "print model.score(df_train, y_train)\n",
    "print model.score(df_test, y_test)"
   ]
  },
  {
   "cell_type": "code",
   "execution_count": 108,
   "metadata": {},
   "outputs": [
    {
     "data": {
      "text/plain": [
       "<matplotlib.collections.PathCollection at 0x11572d550>"
      ]
     },
     "execution_count": 108,
     "metadata": {},
     "output_type": "execute_result"
    },
    {
     "data": {
      "image/png": "[encoded data removed]",
      "text/plain": [
       "<matplotlib.figure.Figure at 0x1209fa690>"
      ]
     },
     "metadata": {},
     "output_type": "display_data"
    }
   ],
   "source": [
    "plt.scatter(y_val, rf.predict(df_val), s=5, alpha=.3)\n",
    "plt.scatter(y_train, rf.predict(df_train), s=5, alpha=.3)\n",
    "plt.scatter(y_test, rf.predict(df_test), s=5, alpha=.3)"
   ]
  },
  {
   "cell_type": "code",
   "execution_count": 109,
   "metadata": {},
   "outputs": [
    {
     "data": {
      "text/plain": [
       "<matplotlib.axes._subplots.AxesSubplot at 0x1156f0610>"
      ]
     },
     "execution_count": 109,
     "metadata": {},
     "output_type": "execute_result"
    },
    {
     "data": {
      "image/png": "[encoded data removed]",
      "text/plain": [
       "<matplotlib.figure.Figure at 0x11f8aacd0>"
      ]
     },
     "metadata": {},
     "output_type": "display_data"
    }
   ],
   "source": [
    "sns.distplot(model.feature_importances_, kde=False)"
   ]
  },
  {
   "cell_type": "code",
   "execution_count": 110,
   "metadata": {
    "collapsed": true
   },
   "outputs": [],
   "source": [
    "imp = pd.Series(model.feature_importances_)\n",
    "imp.index = df_train.columns"
   ]
  },
  {
   "cell_type": "code",
   "execution_count": 113,
   "metadata": {
    "scrolled": true
   },
   "outputs": [
    {
     "data": {
      "text/plain": [
       "rank                         3.384892e-01\n",
       "oldrating                    1.813374e-01\n",
       "performance                  6.810252e-02\n",
       "smoothed_1months             2.870075e-02\n",
       "total_problems               1.938092e-02\n",
       "n100                         1.363041e-02\n",
       "max_probability_contest      1.361663e-02\n",
       "smoothed_2months             1.356448e-02\n",
       "rating_diff_mean             1.220126e-02\n",
       "mean_wrong_contest           1.123406e-02\n",
       "total_contests               1.031200e-02\n",
       "max_ratingdiff_contest       9.802771e-03\n",
       "mean_probability_contest     9.279909e-03\n",
       "mean_timediff                9.211324e-03\n",
       "std_probability_contest      9.000086e-03\n",
       "mean_ratingdiff_contest      8.843614e-03\n",
       "max_timediff                 8.587547e-03\n",
       "std_ratingdiff_contest       8.503693e-03\n",
       "min_timediff                 8.314311e-03\n",
       "smoothed_5months             8.140049e-03\n",
       "rating_diff_std              7.255336e-03\n",
       "std_timediff                 7.215420e-03\n",
       "mean_ratingdiff_practice     6.865347e-03\n",
       "smoothed_3months             6.822294e-03\n",
       "std_solvetime                6.666864e-03\n",
       "smoothed_4months             6.611980e-03\n",
       "max_ratingdiff_practice      6.408234e-03\n",
       "unique_tags_total            6.327031e-03\n",
       "mean_solvetime               6.167462e-03\n",
       "n_wrong_mean                 5.742339e-03\n",
       "                                 ...     \n",
       "dsu                          8.460326e-04\n",
       "graphs                       8.368124e-04\n",
       "two pointers                 8.093278e-04\n",
       "max_error_practice           7.428116e-04\n",
       "shortest paths               7.365414e-04\n",
       "min_solvetime                6.922873e-04\n",
       "max_error_contest            6.437332e-04\n",
       "lowlevel                     5.998657e-04\n",
       "hashing                      5.549316e-04\n",
       "geometry                     5.488888e-04\n",
       "trees                        5.430759e-04\n",
       "python                       5.378400e-04\n",
       "bitmasks                     5.084998e-04\n",
       "java                         4.955375e-04\n",
       "games                        4.942174e-04\n",
       "expression parsing           4.831065e-04\n",
       "graph matchings              3.686013e-04\n",
       "combinatorics                3.608633e-04\n",
       "probabilities                3.534350e-04\n",
       "matrices                     3.477289e-04\n",
       "divide and conquer           3.244235e-04\n",
       "binary search                3.109246e-04\n",
       "string suffix structures     2.260257e-04\n",
       "schedules                    1.363935e-04\n",
       "meet-in-the-middle           1.319964e-04\n",
       "ternary search               1.256728e-04\n",
       "flows                        9.483133e-05\n",
       "chinese remainder theorem    3.429047e-05\n",
       "fft                          3.874562e-06\n",
       "2-sat                        7.187120e-07\n",
       "Length: 109, dtype: float64"
      ]
     },
     "execution_count": 113,
     "metadata": {},
     "output_type": "execute_result"
    }
   ],
   "source": [
    "imp.sort_values(ascending=False)"
   ]
  },
  {
   "cell_type": "code",
   "execution_count": 114,
   "metadata": {
    "collapsed": true
   },
   "outputs": [],
   "source": [
    "# are we leaking information??\n",
    "dropcols = [\n",
    "    \"rank\",\n",
    "    \"oldrating\",\n",
    "    'smoothed_1months',\n",
    "    'smoothed_2months',\n",
    "    'smoothed_3months',\n",
    "    'smoothed_4months',\n",
    "    'smoothed_5months',\n",
    "]\n",
    "\n",
    "df_small_val = df_val.copy()\n",
    "df_small_val.is_copy = False\n",
    "\n",
    "df_small_test = df_test.copy()\n",
    "df_small_test.is_copy = False\n",
    "\n",
    "df_small_train = df_train.copy()\n",
    "df_small_train.is_copy = False\n",
    "\n",
    "for d in dropcols:\n",
    "    df_small_val.drop(d, axis=1, inplace=True)\n",
    "    df_small_test.drop(d, axis=1, inplace=True)\n",
    "    df_small_train.drop(d, axis=1, inplace=True)\n",
    "    \n",
    "for c in df_small_val.columns:\n",
    "    if \"std\" in c:\n",
    "        df_small_val.drop(c, axis=1, inplace=True)\n",
    "        df_small_test.drop(c, axis=1, inplace=True)\n",
    "        df_small_train.drop(c, axis=1, inplace=True)"
   ]
  },
  {
   "cell_type": "code",
   "execution_count": 58,
   "metadata": {
    "collapsed": true
   },
   "outputs": [
    {
     "data": {
      "text/plain": [
       "Index([u'java', u'lowlevel', u'max_error_contest', u'max_error_practice',\n",
       "       u'max_probability_contest', u'max_probability_practice',\n",
       "       u'max_ratingdiff_contest', u'max_ratingdiff_practice', u'max_solvetime',\n",
       "       u'max_timediff', u'max_wrong_contest', u'max_wrong_practice',\n",
       "       u'mean_error_contest', u'mean_error_practice',\n",
       "       u'mean_probability_contest', u'mean_probability_practice',\n",
       "       u'mean_ratingdiff_contest', u'mean_ratingdiff_practice',\n",
       "       u'mean_solvetime', u'mean_timediff', u'mean_wrong_contest',\n",
       "       u'mean_wrong_practice', u'min_solvetime', u'min_timediff', u'n100',\n",
       "       u'n200', u'n300', u'n400', u'n500', u'n_solved', u'n_unlikely01',\n",
       "       u'n_unlikely02', u'performance', u'python', u'tot_solvetime',\n",
       "       u'total_contests', u'total_error_contest', u'total_error_practice',\n",
       "       u'total_newtags', u'total_problems', u'total_wrong_contest',\n",
       "       u'total_wrong_practice', u'unique_newtags', u'unique_tags_total',\n",
       "       u'*special', u'2-sat', u'binary search', u'bitmasks', u'brute force',\n",
       "       u'chinese remainder theorem', u'combinatorics',\n",
       "       u'constructive algorithms', u'data structures', u'dfs and similar',\n",
       "       u'divide and conquer', u'dp', u'dsu', u'expression parsing', u'fft',\n",
       "       u'flows', u'games', u'geometry', u'graph matchings', u'graphs',\n",
       "       u'greedy', u'hashing', u'implementation', u'math', u'matrices',\n",
       "       u'meet-in-the-middle', u'n_contest', u'n_harder', u'n_harder100',\n",
       "       u'n_harder50', u'n_harder500', u'n_wrong_mean', u'number theory',\n",
       "       u'probabilities', u'problems_solved', u'rating_diff_mean', u'schedules',\n",
       "       u'shortest paths', u'sortings', u'string suffix structures', u'strings',\n",
       "       u'ternary search', u'time_between_mean', u'trees', u'two pointers'],\n",
       "      dtype='object')"
      ]
     },
     "execution_count": 58,
     "metadata": {},
     "output_type": "execute_result"
    }
   ],
   "source": [
    "df_small.columns"
   ]
  },
  {
   "cell_type": "code",
   "execution_count": 115,
   "metadata": {},
   "outputs": [
    {
     "name": "stdout",
     "output_type": "stream",
     "text": [
      "0.873581234424\n",
      "0.624744450396\n",
      "0.445756568286\n"
     ]
    }
   ],
   "source": [
    "smallmodel = rf.fit(df_small_train, y_train)\n",
    "\n",
    "print smallmodel.score(df_small_train, y_train)\n",
    "print smallmodel.score(df_small_val, y_val)\n",
    "print smallmodel.score(df_small_test, y_test)"
   ]
  },
  {
   "cell_type": "code",
   "execution_count": 118,
   "metadata": {
    "scrolled": true
   },
   "outputs": [
    {
     "data": {
      "text/html": [
       "<div>\n",
       "<style>\n",
       "    .dataframe thead tr:only-child th {\n",
       "        text-align: right;\n",
       "    }\n",
       "\n",
       "    .dataframe thead th {\n",
       "        text-align: left;\n",
       "    }\n",
       "\n",
       "    .dataframe tbody tr th {\n",
       "        vertical-align: top;\n",
       "    }\n",
       "</style>\n",
       "<table border=\"1\" class=\"dataframe\">\n",
       "  <thead>\n",
       "    <tr style=\"text-align: right;\">\n",
       "      <th></th>\n",
       "      <th></th>\n",
       "      <th>rank</th>\n",
       "      <th>delta</th>\n",
       "    </tr>\n",
       "    <tr>\n",
       "      <th>handle</th>\n",
       "      <th>contestid</th>\n",
       "      <th></th>\n",
       "      <th></th>\n",
       "    </tr>\n",
       "  </thead>\n",
       "  <tbody>\n",
       "    <tr>\n",
       "      <th rowspan=\"8\" valign=\"top\">-----</th>\n",
       "      <th>90</th>\n",
       "      <td>653</td>\n",
       "      <td>-59</td>\n",
       "    </tr>\n",
       "    <tr>\n",
       "      <th>108</th>\n",
       "      <td>680</td>\n",
       "      <td>-38</td>\n",
       "    </tr>\n",
       "    <tr>\n",
       "      <th>114</th>\n",
       "      <td>810</td>\n",
       "      <td>-43</td>\n",
       "    </tr>\n",
       "    <tr>\n",
       "      <th>118</th>\n",
       "      <td>917</td>\n",
       "      <td>-32</td>\n",
       "    </tr>\n",
       "    <tr>\n",
       "      <th>120</th>\n",
       "      <td>533</td>\n",
       "      <td>-26</td>\n",
       "    </tr>\n",
       "    <tr>\n",
       "      <th>122</th>\n",
       "      <td>1075</td>\n",
       "      <td>-42</td>\n",
       "    </tr>\n",
       "    <tr>\n",
       "      <th>127</th>\n",
       "      <td>521</td>\n",
       "      <td>104</td>\n",
       "    </tr>\n",
       "    <tr>\n",
       "      <th>131</th>\n",
       "      <td>805</td>\n",
       "      <td>59</td>\n",
       "    </tr>\n",
       "    <tr>\n",
       "      <th rowspan=\"12\" valign=\"top\">---Grigor---</th>\n",
       "      <th>6</th>\n",
       "      <td>50</td>\n",
       "      <td>69</td>\n",
       "    </tr>\n",
       "    <tr>\n",
       "      <th>8</th>\n",
       "      <td>194</td>\n",
       "      <td>-57</td>\n",
       "    </tr>\n",
       "    <tr>\n",
       "      <th>10</th>\n",
       "      <td>317</td>\n",
       "      <td>-72</td>\n",
       "    </tr>\n",
       "    <tr>\n",
       "      <th>13</th>\n",
       "      <td>413</td>\n",
       "      <td>-86</td>\n",
       "    </tr>\n",
       "    <tr>\n",
       "      <th>17</th>\n",
       "      <td>186</td>\n",
       "      <td>142</td>\n",
       "    </tr>\n",
       "    <tr>\n",
       "      <th>18</th>\n",
       "      <td>27</td>\n",
       "      <td>97</td>\n",
       "    </tr>\n",
       "    <tr>\n",
       "      <th>19</th>\n",
       "      <td>307</td>\n",
       "      <td>-78</td>\n",
       "    </tr>\n",
       "    <tr>\n",
       "      <th>28</th>\n",
       "      <td>73</td>\n",
       "      <td>128</td>\n",
       "    </tr>\n",
       "    <tr>\n",
       "      <th>30</th>\n",
       "      <td>61</td>\n",
       "      <td>165</td>\n",
       "    </tr>\n",
       "    <tr>\n",
       "      <th>33</th>\n",
       "      <td>59</td>\n",
       "      <td>74</td>\n",
       "    </tr>\n",
       "    <tr>\n",
       "      <th>36</th>\n",
       "      <td>67</td>\n",
       "      <td>-35</td>\n",
       "    </tr>\n",
       "    <tr>\n",
       "      <th>37</th>\n",
       "      <td>56</td>\n",
       "      <td>70</td>\n",
       "    </tr>\n",
       "  </tbody>\n",
       "</table>\n",
       "</div>"
      ],
      "text/plain": [
       "                        rank  delta\n",
       "handle       contestid             \n",
       "-----        90          653    -59\n",
       "             108         680    -38\n",
       "             114         810    -43\n",
       "             118         917    -32\n",
       "             120         533    -26\n",
       "             122        1075    -42\n",
       "             127         521    104\n",
       "             131         805     59\n",
       "---Grigor--- 6            50     69\n",
       "             8           194    -57\n",
       "             10          317    -72\n",
       "             13          413    -86\n",
       "             17          186    142\n",
       "             18           27     97\n",
       "             19          307    -78\n",
       "             28           73    128\n",
       "             30           61    165\n",
       "             33           59     74\n",
       "             36           67    -35\n",
       "             37           56     70"
      ]
     },
     "execution_count": 118,
     "metadata": {},
     "output_type": "execute_result"
    }
   ],
   "source": [
    "example = df_train.copy()\n",
    "example = example[dropcols]\n",
    "example['delta'] = y_train\n",
    "example.head(20)"
   ]
  },
  {
   "cell_type": "code",
   "execution_count": null,
   "metadata": {
    "collapsed": true
   },
   "outputs": [],
   "source": [
    "pd.read_csv('ols_tr---Grigor---.csv ')"
   ]
  },
  {
   "cell_type": "code",
   "execution_count": 119,
   "metadata": {},
   "outputs": [
    {
     "data": {
      "text/plain": [
       "performance                  0.138024\n",
       "oldrating                    0.057156\n",
       "n100                         0.056762\n",
       "max_ratingdiff_contest       0.044812\n",
       "mean_probability_contest     0.041959\n",
       "mean_wrong_contest           0.032279\n",
       "total_contests               0.031168\n",
       "rating_diff_mean             0.029439\n",
       "smoothed_5months             0.023744\n",
       "max_probability_contest      0.023471\n",
       "mean_ratingdiff_contest      0.020882\n",
       "max_timediff                 0.020870\n",
       "smoothed_4months             0.019600\n",
       "max_solvetime                0.019329\n",
       "min_timediff                 0.019187\n",
       "total_problems               0.018660\n",
       "mean_solvetime               0.018407\n",
       "smoothed_3months             0.018307\n",
       "n_wrong_mean                 0.018265\n",
       "mean_timediff                0.017631\n",
       "max_ratingdiff_practice      0.017326\n",
       "smoothed_1months             0.015636\n",
       "time_between_mean            0.015164\n",
       "mean_ratingdiff_practice     0.015153\n",
       "smoothed_2months             0.014899\n",
       "tot_solvetime                0.014361\n",
       "mean_probability_practice    0.013579\n",
       "max_probability_practice     0.013234\n",
       "unique_tags_total            0.011885\n",
       "mean_wrong_practice          0.011814\n",
       "                               ...   \n",
       "graphs                       0.001967\n",
       "dsu                          0.001759\n",
       "dfs and similar              0.001712\n",
       "geometry                     0.001405\n",
       "min_solvetime                0.001322\n",
       "two pointers                 0.001212\n",
       "hashing                      0.001158\n",
       "java                         0.001103\n",
       "lowlevel                     0.001083\n",
       "trees                        0.001061\n",
       "python                       0.001026\n",
       "shortest paths               0.000993\n",
       "*special                     0.000991\n",
       "combinatorics                0.000983\n",
       "games                        0.000886\n",
       "divide and conquer           0.000802\n",
       "matrices                     0.000778\n",
       "bitmasks                     0.000717\n",
       "binary search                0.000712\n",
       "graph matchings              0.000678\n",
       "probabilities                0.000661\n",
       "meet-in-the-middle           0.000435\n",
       "string suffix structures     0.000342\n",
       "expression parsing           0.000329\n",
       "ternary search               0.000321\n",
       "flows                        0.000272\n",
       "schedules                    0.000247\n",
       "fft                          0.000056\n",
       "chinese remainder theorem    0.000051\n",
       "2-sat                        0.000004\n",
       "Length: 95, dtype: float64"
      ]
     },
     "execution_count": 119,
     "metadata": {},
     "output_type": "execute_result"
    }
   ],
   "source": [
    "smallimp = pd.Series(smallmodel.feature_importances_)\n",
    "smallimp.index = df_small_val.columns\n",
    "smallimp.sort_values(ascending=False)"
   ]
  },
  {
   "cell_type": "code",
   "execution_count": 47,
   "metadata": {},
   "outputs": [
    {
     "name": "stdout",
     "output_type": "stream",
     "text": [
      "rank 0.323883393168\n",
      "oldrating 0.250819302525\n",
      "drdt 0.111728229083\n",
      "smoothed_1months 0.0742733834259\n",
      "performance 0.0357937021205\n",
      "total_contests 0.012246328031\n",
      "smoothed_5months 0.0107905325061\n",
      "smoothed_4months 0.0102085212759\n",
      "smoothed_2months 0.00866314312289\n",
      "total_problems 0.00731805042695\n",
      "max_probability_contest 0.00710932468623\n",
      "smoothed_3months 0.0070790302425\n",
      "n_contest 0.0054403499786\n",
      "rating_diff_mean 0.00416954136327\n",
      "mean_timediff 0.00407587144134\n",
      "mean_probability_contest 0.0040121475127\n",
      "mean_ratingdiff_contest 0.00400559812954\n",
      "std_probability_contest 0.00393415052862\n",
      "max_timediff 0.00392764480392\n",
      "max_ratingdiff_contest 0.00392304894495\n",
      "std_ratingdiff_contest  0.00380616393968\n",
      "rating_diff_std 0.00372441257579\n",
      "min_timediff 0.00356323439965\n",
      "mean_wrong_contest 0.00354591052406\n",
      "std_timediff 0.00353854627118\n",
      "time_between_mean 0.00312990334519\n",
      "unique_tags_total 0.00307472670532\n",
      "mean_ratingdiff_practice 0.00298733939993\n",
      "max_probability_practice 0.00288844297419\n",
      "std_wrong_contest 0.00283587081735\n",
      "max_ratingdiff_practice 0.00280846698507\n",
      "n_wrong_mean 0.00276260258257\n",
      "mean_solvetime 0.00260899439567\n",
      "std_solvetime 0.00259651346152\n",
      "time_between_std 0.00254765993844\n",
      "n_wrong_std 0.00250881137592\n",
      "mean_probability_practice 0.00248007904643\n",
      "tot_solvetime 0.00241859462572\n",
      "total_wrong_contest 0.00228752350315\n",
      "n_solved 0.00227284034406\n",
      "mean_wrong_practice 0.00220076644523\n",
      "std_probability_practice 0.00214535898062\n",
      "max_solvetime 0.0020874905334\n",
      "std_ratingdiff_practice 0.00200210709726\n",
      "problems_solved 0.00193416414913\n",
      "implementation 0.00168596803485\n",
      "n100 0.00159834318377\n",
      "std_wrong_practice 0.00148951927573\n",
      "mean_error_practice 0.00128248434443\n",
      "total_wrong_practice 0.00117356794369\n",
      "std_error_practice 0.00116518447582\n",
      "n_harder 0.00112836962637\n",
      "mean_error_contest 0.00112147735218\n",
      "n200 0.00111105658661\n",
      "std_error_contest 0.00108260516596\n",
      "n_unlikely02 0.00105791922843\n",
      "total_newtags 0.00100167168857\n",
      "max_wrong_contest 0.000989240778497\n",
      "dp 0.000985862468705\n",
      "greedy 0.000964152309762\n",
      "math 0.000955766520507\n",
      "n_harder100 0.000939031623811\n",
      "max_wrong_practice 0.000880095160483\n",
      "n_harder50 0.000851115863765\n",
      "strings 0.000786843411285\n",
      "n_unlikely01 0.000772132796047\n",
      "sortings 0.000755040709745\n",
      "n300 0.000743923149533\n",
      "unique_newtags 0.000716866350493\n",
      "brute force 0.000675890094008\n",
      "data structures 0.000619893544169\n",
      "dfs and similar 0.000609920471797\n",
      "constructive algorithms 0.000605996016806\n",
      "n400 0.000566986808524\n",
      "total_error_practice 0.000557858184951\n",
      "n_harder500 0.000546638278064\n",
      "number theory 0.000514875117343\n",
      "total_error_contest 0.000506643494539\n",
      "n500 0.000457527186264\n",
      "max_error_practice 0.000442250726102\n",
      "dsu 0.000439389065585\n",
      "graphs 0.000438641550335\n",
      "*special 0.000409116615359\n",
      "two pointers 0.00037068785367\n",
      "max_error_contest 0.000327140234552\n",
      "geometry 0.000323643400933\n",
      "shortest paths 0.000307903473976\n",
      "trees 0.000299167896315\n",
      "hashing 0.000285897522176\n",
      "combinatorics 0.000278536238399\n",
      "lowlevel 0.000274552893695\n",
      "min_solvetime 0.000272634784107\n",
      "games 0.000265635071689\n",
      "bitmasks 0.000259971410348\n",
      "python 0.000245132019221\n",
      "java 0.000226277044902\n",
      "expression parsing 0.000215253520616\n",
      "probabilities 0.000186432450363\n",
      "binary search 0.000179341957777\n",
      "divide and conquer 0.000169106675941\n",
      "graph matchings 0.000159791851139\n",
      "string suffix structures 0.000133328516367\n",
      "matrices 0.000112614913921\n",
      "ternary search 9.73457807893e-05\n",
      "meet-in-the-middle 8.95397835511e-05\n",
      "flows 6.63817952531e-05\n",
      "schedules 5.14301759649e-05\n",
      "fft 6.94333951101e-06\n",
      "chinese remainder theorem 6.67631330468e-06\n",
      "2-sat 9.50145039208e-07\n"
     ]
    }
   ],
   "source": [
    "impsorted = imp.sort_values(ascending=False)\n",
    "for a, b in zip(impsorted.index, impsorted):\n",
    "    print a, b"
   ]
  },
  {
   "cell_type": "markdown",
   "metadata": {},
   "source": [
    "###  try out LIME"
   ]
  },
  {
   "cell_type": "code",
   "execution_count": 151,
   "metadata": {},
   "outputs": [
    {
     "ename": "KeyboardInterrupt",
     "evalue": "",
     "output_type": "error",
     "traceback": [
      "\u001b[0;31m---------------------------------------------------------------------------\u001b[0m",
      "\u001b[0;31mKeyboardInterrupt\u001b[0m                         Traceback (most recent call last)",
      "\u001b[0;32m<ipython-input-151-0656b2af35db>\u001b[0m in \u001b[0;36m<module>\u001b[0;34m()\u001b[0m\n\u001b[1;32m     14\u001b[0m             \u001b[0mtestin2\u001b[0m\u001b[0;34m[\u001b[0m\u001b[0;36m0\u001b[0m\u001b[0;34m]\u001b[0m\u001b[0;34m[\u001b[0m\u001b[0mvaridx\u001b[0m\u001b[0;34m]\u001b[0m \u001b[0;34m+=\u001b[0m \u001b[0meps\u001b[0m \u001b[0;34m*\u001b[0m \u001b[0mi\u001b[0m\u001b[0;34m\u001b[0m\u001b[0m\n\u001b[1;32m     15\u001b[0m             \u001b[0mx\u001b[0m\u001b[0;34m.\u001b[0m\u001b[0mappend\u001b[0m\u001b[0;34m(\u001b[0m\u001b[0mtestin2\u001b[0m\u001b[0;34m[\u001b[0m\u001b[0;36m0\u001b[0m\u001b[0;34m]\u001b[0m\u001b[0;34m[\u001b[0m\u001b[0mvaridx\u001b[0m\u001b[0;34m]\u001b[0m\u001b[0;34m)\u001b[0m\u001b[0;34m\u001b[0m\u001b[0m\n\u001b[0;32m---> 16\u001b[0;31m             \u001b[0my\u001b[0m\u001b[0;34m.\u001b[0m\u001b[0mappend\u001b[0m\u001b[0;34m(\u001b[0m\u001b[0mrfcf\u001b[0m\u001b[0;34m.\u001b[0m\u001b[0mpredict\u001b[0m\u001b[0;34m(\u001b[0m\u001b[0mtestin2\u001b[0m\u001b[0;34m)\u001b[0m\u001b[0;34m)\u001b[0m\u001b[0;34m\u001b[0m\u001b[0m\n\u001b[0m\u001b[1;32m     17\u001b[0m \u001b[0;34m\u001b[0m\u001b[0m\n\u001b[1;32m     18\u001b[0m         \u001b[0mplt\u001b[0m\u001b[0;34m.\u001b[0m\u001b[0mrcParams\u001b[0m\u001b[0;34m[\u001b[0m\u001b[0;34m'figure.figsize'\u001b[0m\u001b[0;34m]\u001b[0m \u001b[0;34m=\u001b[0m \u001b[0;34m(\u001b[0m\u001b[0;36m15\u001b[0m\u001b[0;34m,\u001b[0m \u001b[0;36m5\u001b[0m\u001b[0;34m)\u001b[0m\u001b[0;34m\u001b[0m\u001b[0m\n",
      "\u001b[0;32m/usr/local/lib/python2.7/site-packages/sklearn/ensemble/forest.pyc\u001b[0m in \u001b[0;36mpredict\u001b[0;34m(self, X)\u001b[0m\n\u001b[1;32m    692\u001b[0m                              \u001b[0mbackend\u001b[0m\u001b[0;34m=\u001b[0m\u001b[0;34m\"threading\"\u001b[0m\u001b[0;34m)\u001b[0m\u001b[0;34m(\u001b[0m\u001b[0;34m\u001b[0m\u001b[0m\n\u001b[1;32m    693\u001b[0m             \u001b[0mdelayed\u001b[0m\u001b[0;34m(\u001b[0m\u001b[0mparallel_helper\u001b[0m\u001b[0;34m)\u001b[0m\u001b[0;34m(\u001b[0m\u001b[0me\u001b[0m\u001b[0;34m,\u001b[0m \u001b[0;34m'predict'\u001b[0m\u001b[0;34m,\u001b[0m \u001b[0mX\u001b[0m\u001b[0;34m,\u001b[0m \u001b[0mcheck_input\u001b[0m\u001b[0;34m=\u001b[0m\u001b[0mFalse\u001b[0m\u001b[0;34m)\u001b[0m\u001b[0;34m\u001b[0m\u001b[0m\n\u001b[0;32m--> 694\u001b[0;31m             for e in self.estimators_)\n\u001b[0m\u001b[1;32m    695\u001b[0m \u001b[0;34m\u001b[0m\u001b[0m\n\u001b[1;32m    696\u001b[0m         \u001b[0;31m# Reduce\u001b[0m\u001b[0;34m\u001b[0m\u001b[0;34m\u001b[0m\u001b[0m\n",
      "\u001b[0;32m/usr/local/lib/python2.7/site-packages/sklearn/externals/joblib/parallel.pyc\u001b[0m in \u001b[0;36m__call__\u001b[0;34m(self, iterable)\u001b[0m\n\u001b[1;32m    766\u001b[0m                 \u001b[0;31m# consumption.\u001b[0m\u001b[0;34m\u001b[0m\u001b[0;34m\u001b[0m\u001b[0m\n\u001b[1;32m    767\u001b[0m                 \u001b[0mself\u001b[0m\u001b[0;34m.\u001b[0m\u001b[0m_iterating\u001b[0m \u001b[0;34m=\u001b[0m \u001b[0mFalse\u001b[0m\u001b[0;34m\u001b[0m\u001b[0m\n\u001b[0;32m--> 768\u001b[0;31m             \u001b[0mself\u001b[0m\u001b[0;34m.\u001b[0m\u001b[0mretrieve\u001b[0m\u001b[0;34m(\u001b[0m\u001b[0;34m)\u001b[0m\u001b[0;34m\u001b[0m\u001b[0m\n\u001b[0m\u001b[1;32m    769\u001b[0m             \u001b[0;31m# Make sure that we get a last message telling us we are done\u001b[0m\u001b[0;34m\u001b[0m\u001b[0;34m\u001b[0m\u001b[0m\n\u001b[1;32m    770\u001b[0m             \u001b[0melapsed_time\u001b[0m \u001b[0;34m=\u001b[0m \u001b[0mtime\u001b[0m\u001b[0;34m.\u001b[0m\u001b[0mtime\u001b[0m\u001b[0;34m(\u001b[0m\u001b[0;34m)\u001b[0m \u001b[0;34m-\u001b[0m \u001b[0mself\u001b[0m\u001b[0;34m.\u001b[0m\u001b[0m_start_time\u001b[0m\u001b[0;34m\u001b[0m\u001b[0m\n",
      "\u001b[0;32m/usr/local/lib/python2.7/site-packages/sklearn/externals/joblib/parallel.pyc\u001b[0m in \u001b[0;36mretrieve\u001b[0;34m(self)\u001b[0m\n\u001b[1;32m    717\u001b[0m                     \u001b[0mensure_ready\u001b[0m \u001b[0;34m=\u001b[0m \u001b[0mself\u001b[0m\u001b[0;34m.\u001b[0m\u001b[0m_managed_backend\u001b[0m\u001b[0;34m\u001b[0m\u001b[0m\n\u001b[1;32m    718\u001b[0m                     \u001b[0mbackend\u001b[0m\u001b[0;34m.\u001b[0m\u001b[0mabort_everything\u001b[0m\u001b[0;34m(\u001b[0m\u001b[0mensure_ready\u001b[0m\u001b[0;34m=\u001b[0m\u001b[0mensure_ready\u001b[0m\u001b[0;34m)\u001b[0m\u001b[0;34m\u001b[0m\u001b[0m\n\u001b[0;32m--> 719\u001b[0;31m                 \u001b[0;32mraise\u001b[0m \u001b[0mexception\u001b[0m\u001b[0;34m\u001b[0m\u001b[0m\n\u001b[0m\u001b[1;32m    720\u001b[0m \u001b[0;34m\u001b[0m\u001b[0m\n\u001b[1;32m    721\u001b[0m     \u001b[0;32mdef\u001b[0m \u001b[0m__call__\u001b[0m\u001b[0;34m(\u001b[0m\u001b[0mself\u001b[0m\u001b[0;34m,\u001b[0m \u001b[0miterable\u001b[0m\u001b[0;34m)\u001b[0m\u001b[0;34m:\u001b[0m\u001b[0;34m\u001b[0m\u001b[0m\n",
      "\u001b[0;31mKeyboardInterrupt\u001b[0m: "
     ]
    },
    {
     "data": {
      "image/png": "[encoded data removed]",
      "text/plain": [
       "<matplotlib.figure.Figure at 0x23e0788d0>"
      ]
     },
     "metadata": {},
     "output_type": "display_data"
    }
   ],
   "source": [
    "import copy\n",
    "\n",
    "varidx = 5\n",
    "nvars = 100\n",
    "with sns.color_palette(\"husl\", nvars):\n",
    "    for varidx in range(nvars):\n",
    "        eps = .1\n",
    "        x = []\n",
    "        y = []\n",
    "        for i in range(-50, 50):\n",
    "            testin = np.array(df_test_ok.iloc[5])\n",
    "            testin = testin.reshape(1, -1)\n",
    "            testin2 = testin.copy()\n",
    "            testin2[0][varidx] += eps * i\n",
    "            x.append(testin2[0][varidx])\n",
    "            y.append(rfcf.predict(testin2))\n",
    "\n",
    "        plt.rcParams['figure.figsize'] = (15, 5)\n",
    "        plt.plot(x, y)\n",
    "        plt.scatter(x, y, s=10)\n",
    "    #    plt.title(df_train_ok.columns[varidx], fontsize=16)\n",
    "plt.legend(df_train_ok.columns[0:nvars])"
   ]
  },
  {
   "cell_type": "code",
   "execution_count": 165,
   "metadata": {},
   "outputs": [
    {
     "data": {
      "image/png": "[encoded data removed]",
      "text/plain": [
       "<matplotlib.figure.Figure at 0x23f1d9b90>"
      ]
     },
     "metadata": {},
     "output_type": "display_data"
    }
   ],
   "source": [
    "eps = 1\n",
    "varidx = np.argwhere(df_test_ok.columns == 'graphs')[0]\n",
    "for j in range(50):\n",
    "    x = []\n",
    "    y = []\n",
    "    for i in range(-10, 10):\n",
    "        testin = np.array(df_test_ok.iloc[j])\n",
    "        testin = testin.reshape(1, -1)\n",
    "        testin2 = testin.copy()\n",
    "        testin2[0][varidx] += eps * i\n",
    "        x.append(testin2[0][varidx])\n",
    "        y.append(rfcf.predict(testin2))\n",
    "\n",
    "    plt.rcParams['figure.figsize'] = (15, 5)\n",
    "    plt.plot(x, y)\n",
    "    plt.scatter(x, y, s=10)"
   ]
  },
  {
   "cell_type": "code",
   "execution_count": 150,
   "metadata": {
    "scrolled": true
   },
   "outputs": [
    {
     "data": {
      "text/plain": [
       "drdt                         0.263730\n",
       "rank                         0.175584\n",
       "total_contests               0.072868\n",
       "mod_perf                     0.068738\n",
       "smoothed_3months             0.059958\n",
       "n_contest                    0.047277\n",
       "oldrating                    0.027988\n",
       "mean_timediff                0.018174\n",
       "max_timediff                 0.017907\n",
       "user_rating                  0.017440\n",
       "std_timediff                 0.017431\n",
       "performance                  0.015570\n",
       "max_probability_contest      0.008878\n",
       "mean_ratingdiff_contest      0.007975\n",
       "std_probability_contest      0.007257\n",
       "total_problems               0.007195\n",
       "std_ratingdiff_contest       0.006658\n",
       "max_ratingdiff_contest       0.006580\n",
       "n_solved                     0.006549\n",
       "mean_probability_contest     0.006059\n",
       "std_solvetime                0.005910\n",
       "max_ratingdiff_practice      0.005751\n",
       "rating_diff_mean             0.005510\n",
       "mean_wrong_contest           0.005398\n",
       "mean_ratingdiff_practice     0.005192\n",
       "mean_probability_practice    0.005168\n",
       "min_timediff                 0.005124\n",
       "std_wrong_contest            0.005117\n",
       "time_between_std             0.004941\n",
       "total_wrong_contest          0.004756\n",
       "                               ...   \n",
       "max_error_contest            0.000429\n",
       "java                         0.000400\n",
       "lowlevel                     0.000400\n",
       "graphs                       0.000390\n",
       "n_harder500                  0.000380\n",
       "dfs and similar              0.000368\n",
       "two pointers                 0.000359\n",
       "dsu                          0.000341\n",
       "geometry                     0.000315\n",
       "hashing                      0.000299\n",
       "games                        0.000289\n",
       "combinatorics                0.000272\n",
       "shortest paths               0.000272\n",
       "binary search                0.000217\n",
       "graph matchings              0.000190\n",
       "meet-in-the-middle           0.000168\n",
       "string suffix structures     0.000160\n",
       "divide and conquer           0.000159\n",
       "trees                        0.000152\n",
       "bitmasks                     0.000151\n",
       "flows                        0.000149\n",
       "probabilities                0.000135\n",
       "*special                     0.000134\n",
       "schedules                    0.000121\n",
       "matrices                     0.000113\n",
       "expression parsing           0.000089\n",
       "ternary search               0.000025\n",
       "chinese remainder theorem    0.000018\n",
       "2-sat                        0.000008\n",
       "fft                          0.000004\n",
       "Length: 108, dtype: float64"
      ]
     },
     "execution_count": 150,
     "metadata": {},
     "output_type": "execute_result"
    }
   ],
   "source": [
    "imp.sort_values(ascending=False)"
   ]
  },
  {
   "cell_type": "markdown",
   "metadata": {},
   "source": [
    "# Use original unsmoothed dataset"
   ]
  },
  {
   "cell_type": "code",
   "execution_count": 166,
   "metadata": {
    "collapsed": true
   },
   "outputs": [],
   "source": [
    "df_rating = pd.read_csv('user_ratings_smoothed.csv')\n",
    "\n",
    "df_rating.set_index(['handle', 'contestid'], inplace=True)"
   ]
  },
  {
   "cell_type": "code",
   "execution_count": 167,
   "metadata": {
    "collapsed": true
   },
   "outputs": [],
   "source": [
    "indices = indices[1:]\n",
    "\n",
    "indices2 = [(x[0], int(x[1])) for x in indices]"
   ]
  },
  {
   "cell_type": "code",
   "execution_count": 168,
   "metadata": {},
   "outputs": [
    {
     "data": {
      "text/plain": [
       "<matplotlib.axes._subplots.AxesSubplot at 0x1cc4ccb90>"
      ]
     },
     "execution_count": 168,
     "metadata": {},
     "output_type": "execute_result"
    },
    {
     "data": {
      "image/png": "[encoded data removed]",
      "text/plain": [
       "<matplotlib.figure.Figure at 0x1cc4e32d0>"
      ]
     },
     "metadata": {},
     "output_type": "display_data"
    }
   ],
   "source": [
    "df_rating_subset = df_rating.loc[indices2, ['oldrating', 'newrating']]\n",
    "df_rating_subset = df_rating_subset.reset_index(level=1)\n",
    "\n",
    "df_delta = df_rating_subset.newrating - df_rating_subset.oldrating\n",
    "\n",
    "sns.distplot(df_delta.dropna(), kde=False)"
   ]
  },
  {
   "cell_type": "code",
   "execution_count": null,
   "metadata": {
    "collapsed": true
   },
   "outputs": [],
   "source": [
    "df_train_ok.is_copy = False\n",
    "df_rating_subset.is_copy = False\n",
    "if 'oldrating' in df_train_ok.columns:\n",
    "    df_train_ok.drop('oldrating', axis=1, inplace=True)\n",
    "df_train_orig = df_train_ok.join(df_rating_subset)"
   ]
  },
  {
   "cell_type": "code",
   "execution_count": null,
   "metadata": {
    "collapsed": true
   },
   "outputs": [],
   "source": [
    "yval_train_orig = df_train_orig.newrating - df_train_orig.oldrating"
   ]
  },
  {
   "cell_type": "code",
   "execution_count": null,
   "metadata": {
    "collapsed": true
   },
   "outputs": [],
   "source": [
    "#df_train_orig.drop(['newrating', 'oldrating'], axis=1, inplace=True)\n",
    "df_train_orig.drop(['newrating', 'oldrating'], axis=1, inplace=True)"
   ]
  },
  {
   "cell_type": "code",
   "execution_count": null,
   "metadata": {
    "collapsed": true
   },
   "outputs": [],
   "source": [
    "rf = RandomForestRegressor()\n",
    "model = rf.fit(df_train_orig, yval_train_orig)"
   ]
  },
  {
   "cell_type": "markdown",
   "metadata": {},
   "source": [
    "# playing around with test sets"
   ]
  },
  {
   "cell_type": "code",
   "execution_count": null,
   "metadata": {
    "collapsed": true
   },
   "outputs": [],
   "source": [
    "df_last = pd.read_csv('OLStrain_all_normalized_data_last.csv')"
   ]
  },
  {
   "cell_type": "code",
   "execution_count": 154,
   "metadata": {},
   "outputs": [
    {
     "name": "stderr",
     "output_type": "stream",
     "text": [
      "/usr/local/lib/python2.7/site-packages/sklearn/utils/validation.py:395: DeprecationWarning: Passing 1d arrays as data is deprecated in 0.17 and will raise ValueError in 0.19. Reshape your data either using X.reshape(-1, 1) if your data has a single feature or X.reshape(1, -1) if it contains a single sample.\n",
      "  DeprecationWarning)\n"
     ]
    },
    {
     "data": {
      "text/plain": [
       "array([-3.08058036])"
      ]
     },
     "execution_count": 154,
     "metadata": {},
     "output_type": "execute_result"
    }
   ],
   "source": [
    "test = df_last.loc['chenmark', df_train.columns]\n",
    "\n",
    "model.predict(test) * 532.75"
   ]
  },
  {
   "cell_type": "code",
   "execution_count": 176,
   "metadata": {},
   "outputs": [
    {
     "data": {
      "text/plain": [
       "0.87794472739190932"
      ]
     },
     "execution_count": 176,
     "metadata": {},
     "output_type": "execute_result"
    }
   ],
   "source": [
    "model.score(df_val_ok, yval_val_ok)"
   ]
  },
  {
   "cell_type": "code",
   "execution_count": 185,
   "metadata": {},
   "outputs": [
    {
     "data": {
      "text/plain": [
       "<matplotlib.collections.PathCollection at 0x3f44148d0>"
      ]
     },
     "execution_count": 185,
     "metadata": {},
     "output_type": "execute_result"
    },
    {
     "data": {
      "image/png": "[encoded data removed]",
      "text/plain": [
       "<matplotlib.figure.Figure at 0x3962b6c10>"
      ]
     },
     "metadata": {},
     "output_type": "display_data"
    }
   ],
   "source": [
    "ypred = model.predict(df_test_ok)\n",
    "\n",
    "plt.scatter(yval_test_ok, ypred, alpha=.2, s=5)"
   ]
  },
  {
   "cell_type": "code",
   "execution_count": 189,
   "metadata": {
    "run_control": {
     "marked": true
    }
   },
   "outputs": [
    {
     "ename": "AttributeError",
     "evalue": "'RandomForestRegressor' object has no attribute 'tree_'",
     "output_type": "error",
     "traceback": [
      "\u001b[0;31m---------------------------------------------------------------------------\u001b[0m",
      "\u001b[0;31mAttributeError\u001b[0m                            Traceback (most recent call last)",
      "\u001b[0;32m<ipython-input-189-2f10272eb04e>\u001b[0m in \u001b[0;36m<module>\u001b[0;34m()\u001b[0m\n\u001b[1;32m      1\u001b[0m \u001b[0mestimator\u001b[0m \u001b[0;34m=\u001b[0m \u001b[0mmodel\u001b[0m\u001b[0;34m\u001b[0m\u001b[0m\n\u001b[0;32m----> 2\u001b[0;31m \u001b[0mn_nodes\u001b[0m \u001b[0;34m=\u001b[0m \u001b[0mestimator\u001b[0m\u001b[0;34m.\u001b[0m\u001b[0mtree_\u001b[0m\u001b[0;34m.\u001b[0m\u001b[0mnode_count\u001b[0m\u001b[0;34m\u001b[0m\u001b[0m\n\u001b[0m\u001b[1;32m      3\u001b[0m \u001b[0mchildren_left\u001b[0m \u001b[0;34m=\u001b[0m \u001b[0mestimator\u001b[0m\u001b[0;34m.\u001b[0m\u001b[0mtree_\u001b[0m\u001b[0;34m.\u001b[0m\u001b[0mchildren_left\u001b[0m\u001b[0;34m\u001b[0m\u001b[0m\n\u001b[1;32m      4\u001b[0m \u001b[0mchildren_right\u001b[0m \u001b[0;34m=\u001b[0m \u001b[0mestimator\u001b[0m\u001b[0;34m.\u001b[0m\u001b[0mtree_\u001b[0m\u001b[0;34m.\u001b[0m\u001b[0mchildren_right\u001b[0m\u001b[0;34m\u001b[0m\u001b[0m\n\u001b[1;32m      5\u001b[0m \u001b[0mfeature\u001b[0m \u001b[0;34m=\u001b[0m \u001b[0mestimator\u001b[0m\u001b[0;34m.\u001b[0m\u001b[0mtree_\u001b[0m\u001b[0;34m.\u001b[0m\u001b[0mfeature\u001b[0m\u001b[0;34m\u001b[0m\u001b[0m\n",
      "\u001b[0;31mAttributeError\u001b[0m: 'RandomForestRegressor' object has no attribute 'tree_'"
     ]
    }
   ],
   "source": [
    "estimator = model\n",
    "n_nodes = estimator.tree_.node_count\n",
    "children_left = estimator.tree_.children_left\n",
    "children_right = estimator.tree_.children_right\n",
    "feature = estimator.tree_.feature\n",
    "threshold = estimator.tree_.threshold"
   ]
  }
 ],
 "metadata": {
  "kernelspec": {
   "display_name": "Python 2",
   "language": "python",
   "name": "python2"
  },
  "language_info": {
   "codemirror_mode": {
    "name": "ipython",
    "version": 2
   },
   "file_extension": ".py",
   "mimetype": "text/x-python",
   "name": "python",
   "nbconvert_exporter": "python",
   "pygments_lexer": "ipython2",
   "version": "2.7.13"
  },
  "toc": {
   "toc_cell": false,
   "toc_number_sections": true,
   "toc_section_display": "block",
   "toc_threshold": 6,
   "toc_window_display": false
  }
 },
 "nbformat": 4,
 "nbformat_minor": 2
}
